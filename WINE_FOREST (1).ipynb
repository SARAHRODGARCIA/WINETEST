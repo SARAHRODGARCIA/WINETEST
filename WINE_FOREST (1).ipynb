{
  "cells": [
    {
      "cell_type": "markdown",
      "metadata": {
        "id": "IOFHTV4LF3E7"
      },
      "source": [
        "# Random Forest - WINE QUALITY\n"
      ]
    },
    {
      "cell_type": "markdown",
      "metadata": {
        "id": "LAPJ-GhhGkpV"
      },
      "source": [
        "Nesta projeto, o objetivo foi trabalhar com uma base de dados de avaliações de vinhos e prever a pontuação dos vinhos utilizando o algoritmo de Random Forest para classificação multiclasse. O projeto demonstra o uso de técnicas de Machine Learning para análise de dados de vinhos, desde a preparação dos dados até a avaliação do modelo.\n",
        "\n",
        "*Objetivos*\n",
        "\n",
        "- Preprocessar a base de dados de vinhos.\n",
        "\n",
        "- Analisar e explorar os dados para identificar padrões relevantes.\n",
        "\n",
        "- Treinar um modelo de Random Forest para prever a pontuação dos vinhos.\n",
        "\n",
        "- Avaliar o desempenho do modelo utilizando métricas apropriadas para classificação multiclasse.\n",
        "\n",
        "- Ajustar hiperparâmetros do modelo para melhorar o desempenho.\n",
        "\n",
        "- Visualizar insights e resultados.\n",
        "\n",
        "\n",
        "Tecnologias Utilizadas: Python 3.x\n",
        "Bibliotecas: pandas, numpy, scikit-learn, matplotlib, seaborn"
      ]
    },
    {
      "cell_type": "code",
      "execution_count": null,
      "metadata": {
        "id": "dPeXI_TxFyjC"
      },
      "outputs": [],
      "source": [
        "from sklearn.ensemble import RandomForestClassifier\n",
        "from sklearn.model_selection import train_test_split\n",
        "from sklearn.metrics import accuracy_score, classification_report, confusion_matrix\n",
        "from sklearn.model_selection import RandomizedSearchCV\n",
        "import pandas as pd\n",
        "import matplotlib.pyplot as plt\n",
        "import seaborn as sns"
      ]
    },
    {
      "cell_type": "code",
      "execution_count": null,
      "metadata": {
        "colab": {
          "base_uri": "https://localhost:8080/",
          "height": 380
        },
        "id": "a8scz-3-HOuW",
        "outputId": "265c1590-c0db-4bc0-f098-ead668c53c76"
      },
      "outputs": [
        {
          "output_type": "execute_result",
          "data": {
            "text/plain": [
              "   fixed acidity  volatile acidity  citric acid  residual sugar  chlorides  \\\n",
              "0            7.4              0.70         0.00             1.9      0.076   \n",
              "1            7.8              0.88         0.00             2.6      0.098   \n",
              "2            7.8              0.76         0.04             2.3      0.092   \n",
              "3           11.2              0.28         0.56             1.9      0.075   \n",
              "4            7.4              0.70         0.00             1.9      0.076   \n",
              "5            7.4              0.66         0.00             1.8      0.075   \n",
              "6            7.9              0.60         0.06             1.6      0.069   \n",
              "7            7.3              0.65         0.00             1.2      0.065   \n",
              "8            7.8              0.58         0.02             2.0      0.073   \n",
              "9            7.5              0.50         0.36             6.1      0.071   \n",
              "\n",
              "   free sulfur dioxide  total sulfur dioxide  density    pH  sulphates  \\\n",
              "0                 11.0                  34.0   0.9978  3.51       0.56   \n",
              "1                 25.0                  67.0   0.9968  3.20       0.68   \n",
              "2                 15.0                  54.0   0.9970  3.26       0.65   \n",
              "3                 17.0                  60.0   0.9980  3.16       0.58   \n",
              "4                 11.0                  34.0   0.9978  3.51       0.56   \n",
              "5                 13.0                  40.0   0.9978  3.51       0.56   \n",
              "6                 15.0                  59.0   0.9964  3.30       0.46   \n",
              "7                 15.0                  21.0   0.9946  3.39       0.47   \n",
              "8                  9.0                  18.0   0.9968  3.36       0.57   \n",
              "9                 17.0                 102.0   0.9978  3.35       0.80   \n",
              "\n",
              "   alcohol  quality  \n",
              "0      9.4        5  \n",
              "1      9.8        5  \n",
              "2      9.8        5  \n",
              "3      9.8        6  \n",
              "4      9.4        5  \n",
              "5      9.4        5  \n",
              "6      9.4        5  \n",
              "7     10.0        7  \n",
              "8      9.5        7  \n",
              "9     10.5        5  "
            ],
            "text/html": [
              "\n",
              "  <div id=\"df-3097587b-0b92-4b53-85ce-76a4e94da413\" class=\"colab-df-container\">\n",
              "    <div>\n",
              "<style scoped>\n",
              "    .dataframe tbody tr th:only-of-type {\n",
              "        vertical-align: middle;\n",
              "    }\n",
              "\n",
              "    .dataframe tbody tr th {\n",
              "        vertical-align: top;\n",
              "    }\n",
              "\n",
              "    .dataframe thead th {\n",
              "        text-align: right;\n",
              "    }\n",
              "</style>\n",
              "<table border=\"1\" class=\"dataframe\">\n",
              "  <thead>\n",
              "    <tr style=\"text-align: right;\">\n",
              "      <th></th>\n",
              "      <th>fixed acidity</th>\n",
              "      <th>volatile acidity</th>\n",
              "      <th>citric acid</th>\n",
              "      <th>residual sugar</th>\n",
              "      <th>chlorides</th>\n",
              "      <th>free sulfur dioxide</th>\n",
              "      <th>total sulfur dioxide</th>\n",
              "      <th>density</th>\n",
              "      <th>pH</th>\n",
              "      <th>sulphates</th>\n",
              "      <th>alcohol</th>\n",
              "      <th>quality</th>\n",
              "    </tr>\n",
              "  </thead>\n",
              "  <tbody>\n",
              "    <tr>\n",
              "      <th>0</th>\n",
              "      <td>7.4</td>\n",
              "      <td>0.70</td>\n",
              "      <td>0.00</td>\n",
              "      <td>1.9</td>\n",
              "      <td>0.076</td>\n",
              "      <td>11.0</td>\n",
              "      <td>34.0</td>\n",
              "      <td>0.9978</td>\n",
              "      <td>3.51</td>\n",
              "      <td>0.56</td>\n",
              "      <td>9.4</td>\n",
              "      <td>5</td>\n",
              "    </tr>\n",
              "    <tr>\n",
              "      <th>1</th>\n",
              "      <td>7.8</td>\n",
              "      <td>0.88</td>\n",
              "      <td>0.00</td>\n",
              "      <td>2.6</td>\n",
              "      <td>0.098</td>\n",
              "      <td>25.0</td>\n",
              "      <td>67.0</td>\n",
              "      <td>0.9968</td>\n",
              "      <td>3.20</td>\n",
              "      <td>0.68</td>\n",
              "      <td>9.8</td>\n",
              "      <td>5</td>\n",
              "    </tr>\n",
              "    <tr>\n",
              "      <th>2</th>\n",
              "      <td>7.8</td>\n",
              "      <td>0.76</td>\n",
              "      <td>0.04</td>\n",
              "      <td>2.3</td>\n",
              "      <td>0.092</td>\n",
              "      <td>15.0</td>\n",
              "      <td>54.0</td>\n",
              "      <td>0.9970</td>\n",
              "      <td>3.26</td>\n",
              "      <td>0.65</td>\n",
              "      <td>9.8</td>\n",
              "      <td>5</td>\n",
              "    </tr>\n",
              "    <tr>\n",
              "      <th>3</th>\n",
              "      <td>11.2</td>\n",
              "      <td>0.28</td>\n",
              "      <td>0.56</td>\n",
              "      <td>1.9</td>\n",
              "      <td>0.075</td>\n",
              "      <td>17.0</td>\n",
              "      <td>60.0</td>\n",
              "      <td>0.9980</td>\n",
              "      <td>3.16</td>\n",
              "      <td>0.58</td>\n",
              "      <td>9.8</td>\n",
              "      <td>6</td>\n",
              "    </tr>\n",
              "    <tr>\n",
              "      <th>4</th>\n",
              "      <td>7.4</td>\n",
              "      <td>0.70</td>\n",
              "      <td>0.00</td>\n",
              "      <td>1.9</td>\n",
              "      <td>0.076</td>\n",
              "      <td>11.0</td>\n",
              "      <td>34.0</td>\n",
              "      <td>0.9978</td>\n",
              "      <td>3.51</td>\n",
              "      <td>0.56</td>\n",
              "      <td>9.4</td>\n",
              "      <td>5</td>\n",
              "    </tr>\n",
              "    <tr>\n",
              "      <th>5</th>\n",
              "      <td>7.4</td>\n",
              "      <td>0.66</td>\n",
              "      <td>0.00</td>\n",
              "      <td>1.8</td>\n",
              "      <td>0.075</td>\n",
              "      <td>13.0</td>\n",
              "      <td>40.0</td>\n",
              "      <td>0.9978</td>\n",
              "      <td>3.51</td>\n",
              "      <td>0.56</td>\n",
              "      <td>9.4</td>\n",
              "      <td>5</td>\n",
              "    </tr>\n",
              "    <tr>\n",
              "      <th>6</th>\n",
              "      <td>7.9</td>\n",
              "      <td>0.60</td>\n",
              "      <td>0.06</td>\n",
              "      <td>1.6</td>\n",
              "      <td>0.069</td>\n",
              "      <td>15.0</td>\n",
              "      <td>59.0</td>\n",
              "      <td>0.9964</td>\n",
              "      <td>3.30</td>\n",
              "      <td>0.46</td>\n",
              "      <td>9.4</td>\n",
              "      <td>5</td>\n",
              "    </tr>\n",
              "    <tr>\n",
              "      <th>7</th>\n",
              "      <td>7.3</td>\n",
              "      <td>0.65</td>\n",
              "      <td>0.00</td>\n",
              "      <td>1.2</td>\n",
              "      <td>0.065</td>\n",
              "      <td>15.0</td>\n",
              "      <td>21.0</td>\n",
              "      <td>0.9946</td>\n",
              "      <td>3.39</td>\n",
              "      <td>0.47</td>\n",
              "      <td>10.0</td>\n",
              "      <td>7</td>\n",
              "    </tr>\n",
              "    <tr>\n",
              "      <th>8</th>\n",
              "      <td>7.8</td>\n",
              "      <td>0.58</td>\n",
              "      <td>0.02</td>\n",
              "      <td>2.0</td>\n",
              "      <td>0.073</td>\n",
              "      <td>9.0</td>\n",
              "      <td>18.0</td>\n",
              "      <td>0.9968</td>\n",
              "      <td>3.36</td>\n",
              "      <td>0.57</td>\n",
              "      <td>9.5</td>\n",
              "      <td>7</td>\n",
              "    </tr>\n",
              "    <tr>\n",
              "      <th>9</th>\n",
              "      <td>7.5</td>\n",
              "      <td>0.50</td>\n",
              "      <td>0.36</td>\n",
              "      <td>6.1</td>\n",
              "      <td>0.071</td>\n",
              "      <td>17.0</td>\n",
              "      <td>102.0</td>\n",
              "      <td>0.9978</td>\n",
              "      <td>3.35</td>\n",
              "      <td>0.80</td>\n",
              "      <td>10.5</td>\n",
              "      <td>5</td>\n",
              "    </tr>\n",
              "  </tbody>\n",
              "</table>\n",
              "</div>\n",
              "    <div class=\"colab-df-buttons\">\n",
              "\n",
              "  <div class=\"colab-df-container\">\n",
              "    <button class=\"colab-df-convert\" onclick=\"convertToInteractive('df-3097587b-0b92-4b53-85ce-76a4e94da413')\"\n",
              "            title=\"Convert this dataframe to an interactive table.\"\n",
              "            style=\"display:none;\">\n",
              "\n",
              "  <svg xmlns=\"http://www.w3.org/2000/svg\" height=\"24px\" viewBox=\"0 -960 960 960\">\n",
              "    <path d=\"M120-120v-720h720v720H120Zm60-500h600v-160H180v160Zm220 220h160v-160H400v160Zm0 220h160v-160H400v160ZM180-400h160v-160H180v160Zm440 0h160v-160H620v160ZM180-180h160v-160H180v160Zm440 0h160v-160H620v160Z\"/>\n",
              "  </svg>\n",
              "    </button>\n",
              "\n",
              "  <style>\n",
              "    .colab-df-container {\n",
              "      display:flex;\n",
              "      gap: 12px;\n",
              "    }\n",
              "\n",
              "    .colab-df-convert {\n",
              "      background-color: #E8F0FE;\n",
              "      border: none;\n",
              "      border-radius: 50%;\n",
              "      cursor: pointer;\n",
              "      display: none;\n",
              "      fill: #1967D2;\n",
              "      height: 32px;\n",
              "      padding: 0 0 0 0;\n",
              "      width: 32px;\n",
              "    }\n",
              "\n",
              "    .colab-df-convert:hover {\n",
              "      background-color: #E2EBFA;\n",
              "      box-shadow: 0px 1px 2px rgba(60, 64, 67, 0.3), 0px 1px 3px 1px rgba(60, 64, 67, 0.15);\n",
              "      fill: #174EA6;\n",
              "    }\n",
              "\n",
              "    .colab-df-buttons div {\n",
              "      margin-bottom: 4px;\n",
              "    }\n",
              "\n",
              "    [theme=dark] .colab-df-convert {\n",
              "      background-color: #3B4455;\n",
              "      fill: #D2E3FC;\n",
              "    }\n",
              "\n",
              "    [theme=dark] .colab-df-convert:hover {\n",
              "      background-color: #434B5C;\n",
              "      box-shadow: 0px 1px 3px 1px rgba(0, 0, 0, 0.15);\n",
              "      filter: drop-shadow(0px 1px 2px rgba(0, 0, 0, 0.3));\n",
              "      fill: #FFFFFF;\n",
              "    }\n",
              "  </style>\n",
              "\n",
              "    <script>\n",
              "      const buttonEl =\n",
              "        document.querySelector('#df-3097587b-0b92-4b53-85ce-76a4e94da413 button.colab-df-convert');\n",
              "      buttonEl.style.display =\n",
              "        google.colab.kernel.accessAllowed ? 'block' : 'none';\n",
              "\n",
              "      async function convertToInteractive(key) {\n",
              "        const element = document.querySelector('#df-3097587b-0b92-4b53-85ce-76a4e94da413');\n",
              "        const dataTable =\n",
              "          await google.colab.kernel.invokeFunction('convertToInteractive',\n",
              "                                                    [key], {});\n",
              "        if (!dataTable) return;\n",
              "\n",
              "        const docLinkHtml = 'Like what you see? Visit the ' +\n",
              "          '<a target=\"_blank\" href=https://colab.research.google.com/notebooks/data_table.ipynb>data table notebook</a>'\n",
              "          + ' to learn more about interactive tables.';\n",
              "        element.innerHTML = '';\n",
              "        dataTable['output_type'] = 'display_data';\n",
              "        await google.colab.output.renderOutput(dataTable, element);\n",
              "        const docLink = document.createElement('div');\n",
              "        docLink.innerHTML = docLinkHtml;\n",
              "        element.appendChild(docLink);\n",
              "      }\n",
              "    </script>\n",
              "  </div>\n",
              "\n",
              "\n",
              "    <div id=\"df-f85b74ca-bee8-4df9-bf82-8784cdcdad1c\">\n",
              "      <button class=\"colab-df-quickchart\" onclick=\"quickchart('df-f85b74ca-bee8-4df9-bf82-8784cdcdad1c')\"\n",
              "                title=\"Suggest charts\"\n",
              "                style=\"display:none;\">\n",
              "\n",
              "<svg xmlns=\"http://www.w3.org/2000/svg\" height=\"24px\"viewBox=\"0 0 24 24\"\n",
              "     width=\"24px\">\n",
              "    <g>\n",
              "        <path d=\"M19 3H5c-1.1 0-2 .9-2 2v14c0 1.1.9 2 2 2h14c1.1 0 2-.9 2-2V5c0-1.1-.9-2-2-2zM9 17H7v-7h2v7zm4 0h-2V7h2v10zm4 0h-2v-4h2v4z\"/>\n",
              "    </g>\n",
              "</svg>\n",
              "      </button>\n",
              "\n",
              "<style>\n",
              "  .colab-df-quickchart {\n",
              "      --bg-color: #E8F0FE;\n",
              "      --fill-color: #1967D2;\n",
              "      --hover-bg-color: #E2EBFA;\n",
              "      --hover-fill-color: #174EA6;\n",
              "      --disabled-fill-color: #AAA;\n",
              "      --disabled-bg-color: #DDD;\n",
              "  }\n",
              "\n",
              "  [theme=dark] .colab-df-quickchart {\n",
              "      --bg-color: #3B4455;\n",
              "      --fill-color: #D2E3FC;\n",
              "      --hover-bg-color: #434B5C;\n",
              "      --hover-fill-color: #FFFFFF;\n",
              "      --disabled-bg-color: #3B4455;\n",
              "      --disabled-fill-color: #666;\n",
              "  }\n",
              "\n",
              "  .colab-df-quickchart {\n",
              "    background-color: var(--bg-color);\n",
              "    border: none;\n",
              "    border-radius: 50%;\n",
              "    cursor: pointer;\n",
              "    display: none;\n",
              "    fill: var(--fill-color);\n",
              "    height: 32px;\n",
              "    padding: 0;\n",
              "    width: 32px;\n",
              "  }\n",
              "\n",
              "  .colab-df-quickchart:hover {\n",
              "    background-color: var(--hover-bg-color);\n",
              "    box-shadow: 0 1px 2px rgba(60, 64, 67, 0.3), 0 1px 3px 1px rgba(60, 64, 67, 0.15);\n",
              "    fill: var(--button-hover-fill-color);\n",
              "  }\n",
              "\n",
              "  .colab-df-quickchart-complete:disabled,\n",
              "  .colab-df-quickchart-complete:disabled:hover {\n",
              "    background-color: var(--disabled-bg-color);\n",
              "    fill: var(--disabled-fill-color);\n",
              "    box-shadow: none;\n",
              "  }\n",
              "\n",
              "  .colab-df-spinner {\n",
              "    border: 2px solid var(--fill-color);\n",
              "    border-color: transparent;\n",
              "    border-bottom-color: var(--fill-color);\n",
              "    animation:\n",
              "      spin 1s steps(1) infinite;\n",
              "  }\n",
              "\n",
              "  @keyframes spin {\n",
              "    0% {\n",
              "      border-color: transparent;\n",
              "      border-bottom-color: var(--fill-color);\n",
              "      border-left-color: var(--fill-color);\n",
              "    }\n",
              "    20% {\n",
              "      border-color: transparent;\n",
              "      border-left-color: var(--fill-color);\n",
              "      border-top-color: var(--fill-color);\n",
              "    }\n",
              "    30% {\n",
              "      border-color: transparent;\n",
              "      border-left-color: var(--fill-color);\n",
              "      border-top-color: var(--fill-color);\n",
              "      border-right-color: var(--fill-color);\n",
              "    }\n",
              "    40% {\n",
              "      border-color: transparent;\n",
              "      border-right-color: var(--fill-color);\n",
              "      border-top-color: var(--fill-color);\n",
              "    }\n",
              "    60% {\n",
              "      border-color: transparent;\n",
              "      border-right-color: var(--fill-color);\n",
              "    }\n",
              "    80% {\n",
              "      border-color: transparent;\n",
              "      border-right-color: var(--fill-color);\n",
              "      border-bottom-color: var(--fill-color);\n",
              "    }\n",
              "    90% {\n",
              "      border-color: transparent;\n",
              "      border-bottom-color: var(--fill-color);\n",
              "    }\n",
              "  }\n",
              "</style>\n",
              "\n",
              "      <script>\n",
              "        async function quickchart(key) {\n",
              "          const quickchartButtonEl =\n",
              "            document.querySelector('#' + key + ' button');\n",
              "          quickchartButtonEl.disabled = true;  // To prevent multiple clicks.\n",
              "          quickchartButtonEl.classList.add('colab-df-spinner');\n",
              "          try {\n",
              "            const charts = await google.colab.kernel.invokeFunction(\n",
              "                'suggestCharts', [key], {});\n",
              "          } catch (error) {\n",
              "            console.error('Error during call to suggestCharts:', error);\n",
              "          }\n",
              "          quickchartButtonEl.classList.remove('colab-df-spinner');\n",
              "          quickchartButtonEl.classList.add('colab-df-quickchart-complete');\n",
              "        }\n",
              "        (() => {\n",
              "          let quickchartButtonEl =\n",
              "            document.querySelector('#df-f85b74ca-bee8-4df9-bf82-8784cdcdad1c button');\n",
              "          quickchartButtonEl.style.display =\n",
              "            google.colab.kernel.accessAllowed ? 'block' : 'none';\n",
              "        })();\n",
              "      </script>\n",
              "    </div>\n",
              "\n",
              "    </div>\n",
              "  </div>\n"
            ],
            "application/vnd.google.colaboratory.intrinsic+json": {
              "type": "dataframe",
              "variable_name": "df",
              "summary": "{\n  \"name\": \"df\",\n  \"rows\": 1599,\n  \"fields\": [\n    {\n      \"column\": \"fixed acidity\",\n      \"properties\": {\n        \"dtype\": \"number\",\n        \"std\": 1.7410963181277006,\n        \"min\": 4.6,\n        \"max\": 15.9,\n        \"num_unique_values\": 96,\n        \"samples\": [\n          5.3,\n          12.7,\n          12.6\n        ],\n        \"semantic_type\": \"\",\n        \"description\": \"\"\n      }\n    },\n    {\n      \"column\": \"volatile acidity\",\n      \"properties\": {\n        \"dtype\": \"number\",\n        \"std\": 0.17905970415353498,\n        \"min\": 0.12,\n        \"max\": 1.58,\n        \"num_unique_values\": 143,\n        \"samples\": [\n          1.025,\n          0.4,\n          0.87\n        ],\n        \"semantic_type\": \"\",\n        \"description\": \"\"\n      }\n    },\n    {\n      \"column\": \"citric acid\",\n      \"properties\": {\n        \"dtype\": \"number\",\n        \"std\": 0.19480113740531785,\n        \"min\": 0.0,\n        \"max\": 1.0,\n        \"num_unique_values\": 80,\n        \"samples\": [\n          0.37,\n          0.0,\n          0.09\n        ],\n        \"semantic_type\": \"\",\n        \"description\": \"\"\n      }\n    },\n    {\n      \"column\": \"residual sugar\",\n      \"properties\": {\n        \"dtype\": \"number\",\n        \"std\": 1.4099280595072805,\n        \"min\": 0.9,\n        \"max\": 15.5,\n        \"num_unique_values\": 91,\n        \"samples\": [\n          11.0,\n          3.0,\n          15.5\n        ],\n        \"semantic_type\": \"\",\n        \"description\": \"\"\n      }\n    },\n    {\n      \"column\": \"chlorides\",\n      \"properties\": {\n        \"dtype\": \"number\",\n        \"std\": 0.047065302010090154,\n        \"min\": 0.012,\n        \"max\": 0.611,\n        \"num_unique_values\": 153,\n        \"samples\": [\n          0.096,\n          0.3429999999999999,\n          0.159\n        ],\n        \"semantic_type\": \"\",\n        \"description\": \"\"\n      }\n    },\n    {\n      \"column\": \"free sulfur dioxide\",\n      \"properties\": {\n        \"dtype\": \"number\",\n        \"std\": 10.46015696980973,\n        \"min\": 1.0,\n        \"max\": 72.0,\n        \"num_unique_values\": 60,\n        \"samples\": [\n          11.0,\n          9.0,\n          32.0\n        ],\n        \"semantic_type\": \"\",\n        \"description\": \"\"\n      }\n    },\n    {\n      \"column\": \"total sulfur dioxide\",\n      \"properties\": {\n        \"dtype\": \"number\",\n        \"std\": 32.89532447829901,\n        \"min\": 6.0,\n        \"max\": 289.0,\n        \"num_unique_values\": 144,\n        \"samples\": [\n          68.0,\n          35.0,\n          101.0\n        ],\n        \"semantic_type\": \"\",\n        \"description\": \"\"\n      }\n    },\n    {\n      \"column\": \"density\",\n      \"properties\": {\n        \"dtype\": \"number\",\n        \"std\": 0.0018873339538425559,\n        \"min\": 0.99007,\n        \"max\": 1.00369,\n        \"num_unique_values\": 436,\n        \"samples\": [\n          0.99974,\n          1.0001,\n          0.99471\n        ],\n        \"semantic_type\": \"\",\n        \"description\": \"\"\n      }\n    },\n    {\n      \"column\": \"pH\",\n      \"properties\": {\n        \"dtype\": \"number\",\n        \"std\": 0.15438646490354266,\n        \"min\": 2.74,\n        \"max\": 4.01,\n        \"num_unique_values\": 89,\n        \"samples\": [\n          3.07,\n          3.0,\n          3.15\n        ],\n        \"semantic_type\": \"\",\n        \"description\": \"\"\n      }\n    },\n    {\n      \"column\": \"sulphates\",\n      \"properties\": {\n        \"dtype\": \"number\",\n        \"std\": 0.16950697959010977,\n        \"min\": 0.33,\n        \"max\": 2.0,\n        \"num_unique_values\": 96,\n        \"samples\": [\n          1.07,\n          1.04,\n          1.18\n        ],\n        \"semantic_type\": \"\",\n        \"description\": \"\"\n      }\n    },\n    {\n      \"column\": \"alcohol\",\n      \"properties\": {\n        \"dtype\": \"number\",\n        \"std\": 1.0656675818473926,\n        \"min\": 8.4,\n        \"max\": 14.9,\n        \"num_unique_values\": 65,\n        \"samples\": [\n          8.5,\n          9.95,\n          9.4\n        ],\n        \"semantic_type\": \"\",\n        \"description\": \"\"\n      }\n    },\n    {\n      \"column\": \"quality\",\n      \"properties\": {\n        \"dtype\": \"number\",\n        \"std\": 0,\n        \"min\": 3,\n        \"max\": 8,\n        \"num_unique_values\": 6,\n        \"samples\": [\n          5,\n          6,\n          3\n        ],\n        \"semantic_type\": \"\",\n        \"description\": \"\"\n      }\n    }\n  ]\n}"
            }
          },
          "metadata": {},
          "execution_count": 2
        }
      ],
      "source": [
        "df = pd.read_csv(\"winequality-red.csv\", delimiter=',')\n",
        "\n",
        "df.head(10)"
      ]
    },
    {
      "cell_type": "markdown",
      "metadata": {
        "id": "H5oJwycvGmBa"
      },
      "source": [
        "**Conhecendo a Base:**\n",
        "\n",
        "Características dos Vinhos (Features)\n",
        "\n",
        "Fixed Acidity: Acidez fixa do vinho.\n",
        "\n",
        "Volatile Acidity: Acidez volátil do vinho.\n",
        "\n",
        "Citric Acid: Quantidade de ácido cítrico no vinho.\n",
        "\n",
        "Residual Sugar: Açúcar residual presente no vinho.\n",
        "\n",
        "Chlorides: Nível de cloretos no vinho.\n",
        "\n",
        "Free Sulfur Dioxide: Dióxido de enxofre livre no vinho.\n",
        "\n",
        "Total Sulfur Dioxide: Quantidade total de dióxido de enxofre no vinho.\n",
        "\n",
        "Density: Densidade do vinho.\n",
        "\n",
        "pH: Nível de pH do vinho.\n",
        "\n",
        "Sulphates: Quantidade de sulfatos no vinho.\n",
        "\n",
        "Alcohol: Teor alcoólico do vinho.\n",
        "\n",
        "\n",
        "\n",
        "**Variável de Saída (Target):**\n",
        "\n",
        "Quality: Pontuação do vinho baseada em dados sensoriais, variando de 0 a 10.\n"
      ]
    },
    {
      "cell_type": "markdown",
      "metadata": {
        "id": "tCDFyAIKHL79"
      },
      "source": [
        "# 1 - PRE PROCESSAMENTO:\n",
        "\n",
        "A) Os tipos de dados.\n",
        "\n",
        "\n",
        "B) Dados faltantes."
      ]
    },
    {
      "cell_type": "code",
      "execution_count": null,
      "metadata": {
        "id": "upXosUkRN_dk",
        "colab": {
          "base_uri": "https://localhost:8080/"
        },
        "outputId": "39c30514-cd19-4ef3-f7f2-fefade94cb8c"
      },
      "outputs": [
        {
          "output_type": "stream",
          "name": "stdout",
          "text": [
            "fixed acidity           float64\n",
            "volatile acidity        float64\n",
            "citric acid             float64\n",
            "residual sugar          float64\n",
            "chlorides               float64\n",
            "free sulfur dioxide     float64\n",
            "total sulfur dioxide    float64\n",
            "density                 float64\n",
            "pH                      float64\n",
            "sulphates               float64\n",
            "alcohol                 float64\n",
            "quality                   int64\n",
            "dtype: object\n",
            "<class 'pandas.core.frame.DataFrame'>\n",
            "RangeIndex: 1599 entries, 0 to 1598\n",
            "Data columns (total 12 columns):\n",
            " #   Column                Non-Null Count  Dtype  \n",
            "---  ------                --------------  -----  \n",
            " 0   fixed acidity         1599 non-null   float64\n",
            " 1   volatile acidity      1599 non-null   float64\n",
            " 2   citric acid           1599 non-null   float64\n",
            " 3   residual sugar        1599 non-null   float64\n",
            " 4   chlorides             1599 non-null   float64\n",
            " 5   free sulfur dioxide   1599 non-null   float64\n",
            " 6   total sulfur dioxide  1599 non-null   float64\n",
            " 7   density               1599 non-null   float64\n",
            " 8   pH                    1599 non-null   float64\n",
            " 9   sulphates             1599 non-null   float64\n",
            " 10  alcohol               1599 non-null   float64\n",
            " 11  quality               1599 non-null   int64  \n",
            "dtypes: float64(11), int64(1)\n",
            "memory usage: 150.0 KB\n",
            "None\n"
          ]
        }
      ],
      "source": [
        "import pandas as pd\n",
        "\n",
        "df = pd.read_csv(\"winequality-red.csv\", delimiter=',')\n",
        "\n",
        "# Opção 1: Mostrar apenas os tipos de dados das colunas\n",
        "print(df.dtypes)\n",
        "\n",
        "# Opção 2: Mostrar informações completas do DataFrame, incluindo tipos de dados e valores nulos\n",
        "print(df.info())\n"
      ]
    },
    {
      "cell_type": "markdown",
      "source": [
        "**Não há dados nulos!**\n",
        "\n",
        "**DataTypes Ok!**"
      ],
      "metadata": {
        "id": "q9PC9Rr_FrFf"
      }
    },
    {
      "cell_type": "markdown",
      "metadata": {
        "id": "a3ax49FGHov1"
      },
      "source": [
        "# 2 - SEGUNDA ETAPA DO PRE PROCESSAMENTO.\n",
        "\n",
        "A) Função describe.\n",
        "\n",
        "B) Balanceamento da váriavel Target.\n",
        "\n",
        "C)  As features \"fortes\" na correlação para nosso modelo.\n",
        "\n"
      ]
    },
    {
      "cell_type": "code",
      "execution_count": null,
      "metadata": {
        "id": "T_PHk5XvOBa4",
        "colab": {
          "base_uri": "https://localhost:8080/"
        },
        "outputId": "89cad44b-3f80-4939-db75-a30355beb6bd"
      },
      "outputs": [
        {
          "output_type": "stream",
          "name": "stdout",
          "text": [
            "       fixed acidity  volatile acidity  citric acid  residual sugar  \\\n",
            "count    1599.000000       1599.000000  1599.000000     1599.000000   \n",
            "mean        8.319637          0.527821     0.270976        2.538806   \n",
            "std         1.741096          0.179060     0.194801        1.409928   \n",
            "min         4.600000          0.120000     0.000000        0.900000   \n",
            "25%         7.100000          0.390000     0.090000        1.900000   \n",
            "50%         7.900000          0.520000     0.260000        2.200000   \n",
            "75%         9.200000          0.640000     0.420000        2.600000   \n",
            "max        15.900000          1.580000     1.000000       15.500000   \n",
            "\n",
            "         chlorides  free sulfur dioxide  total sulfur dioxide      density  \\\n",
            "count  1599.000000          1599.000000           1599.000000  1599.000000   \n",
            "mean      0.087467            15.874922             46.467792     0.996747   \n",
            "std       0.047065            10.460157             32.895324     0.001887   \n",
            "min       0.012000             1.000000              6.000000     0.990070   \n",
            "25%       0.070000             7.000000             22.000000     0.995600   \n",
            "50%       0.079000            14.000000             38.000000     0.996750   \n",
            "75%       0.090000            21.000000             62.000000     0.997835   \n",
            "max       0.611000            72.000000            289.000000     1.003690   \n",
            "\n",
            "                pH    sulphates      alcohol      quality  \n",
            "count  1599.000000  1599.000000  1599.000000  1599.000000  \n",
            "mean      3.311113     0.658149    10.422983     5.636023  \n",
            "std       0.154386     0.169507     1.065668     0.807569  \n",
            "min       2.740000     0.330000     8.400000     3.000000  \n",
            "25%       3.210000     0.550000     9.500000     5.000000  \n",
            "50%       3.310000     0.620000    10.200000     6.000000  \n",
            "75%       3.400000     0.730000    11.100000     6.000000  \n",
            "max       4.010000     2.000000    14.900000     8.000000  \n"
          ]
        }
      ],
      "source": [
        "print(df.describe())"
      ]
    },
    {
      "cell_type": "markdown",
      "source": [
        "Insigth: Aqui já vejo algunas colunas com outliers, como fixed acidity,volatile acidity, citric acid, residual sugar,  chlorides,  free sulfur dioxide,  total sulfur dioxide, sulphates,      alcohol  e quality."
      ],
      "metadata": {
        "id": "6mDlSHmjHDP9"
      }
    },
    {
      "cell_type": "markdown",
      "source": [
        "#Buscando Outliers:"
      ],
      "metadata": {
        "id": "LYWqLKdnGw0-"
      }
    },
    {
      "cell_type": "markdown",
      "source": [
        "  - Boxplots:"
      ],
      "metadata": {
        "id": "e8KGYLvzG2hT"
      }
    },
    {
      "cell_type": "code",
      "source": [
        "import pandas as pd\n",
        "import plotly.express as px\n",
        "\n",
        "# Carregar os dados\n",
        "df = pd.read_csv(\"winequality-red.csv\", delimiter=',')\n",
        "\n",
        "# Colunas que você quer analisar\n",
        "cols = [\n",
        "    'fixed acidity', 'volatile acidity', 'citric acid', 'residual sugar',\n",
        "    'chlorides', 'free sulfur dioxide', 'total sulfur dioxide',\n",
        "    'sulphates', 'alcohol', 'quality'\n",
        "]\n",
        "\n",
        "# Criar boxplots individuais para cada coluna\n",
        "for col in cols:\n",
        "    fig = px.box(df, y=col, title=f'Boxplot de {col}', points='all')\n",
        "    fig.show()\n"
      ],
      "metadata": {
        "colab": {
          "base_uri": "https://localhost:8080/",
          "height": 1000
        },
        "id": "fxNanQ1EHtKf",
        "outputId": "a7c09ae6-1463-46b6-ca0b-5f7b690873cb"
      },
      "execution_count": null,
      "outputs": [
        {
          "output_type": "display_data",
          "data": {
            "text/html": [
              "<html>\n",
              "<head><meta charset=\"utf-8\" /></head>\n",
              "<body>\n",
              "    <div>            <script src=\"https://cdnjs.cloudflare.com/ajax/libs/mathjax/2.7.5/MathJax.js?config=TeX-AMS-MML_SVG\"></script><script type=\"text/javascript\">if (window.MathJax && window.MathJax.Hub && window.MathJax.Hub.Config) {window.MathJax.Hub.Config({SVG: {font: \"STIX-Web\"}});}</script>                <script type=\"text/javascript\">window.PlotlyConfig = {MathJaxConfig: 'local'};</script>\n",
              "        <script charset=\"utf-8\" src=\"https://cdn.plot.ly/plotly-2.35.2.min.js\"></script>                <div id=\"36ccd0b8-76de-4c32-8ad4-7a8457484e00\" class=\"plotly-graph-div\" style=\"height:525px; width:100%;\"></div>            <script type=\"text/javascript\">                                    window.PLOTLYENV=window.PLOTLYENV || {};                                    if (document.getElementById(\"36ccd0b8-76de-4c32-8ad4-7a8457484e00\")) {                    Plotly.newPlot(                        \"36ccd0b8-76de-4c32-8ad4-7a8457484e00\",                        [{\"alignmentgroup\":\"True\",\"boxpoints\":\"all\",\"hovertemplate\":\"fixed acidity=%{y}\\u003cextra\\u003e\\u003c\\u002fextra\\u003e\",\"legendgroup\":\"\",\"marker\":{\"color\":\"#636efa\"},\"name\":\"\",\"notched\":false,\"offsetgroup\":\"\",\"orientation\":\"v\",\"showlegend\":false,\"x0\":\" \",\"xaxis\":\"x\",\"y\":[7.4,7.8,7.8,11.2,7.4,7.4,7.9,7.3,7.8,7.5,6.7,7.5,5.6,7.8,8.9,8.9,8.5,8.1,7.4,7.9,8.9,7.6,7.9,8.5,6.9,6.3,7.6,7.9,7.1,7.8,6.7,6.9,8.3,6.9,5.2,7.8,7.8,8.1,5.7,7.3,7.3,8.8,7.5,8.1,6.8,4.6,7.7,8.7,6.4,5.6,8.8,6.6,6.6,8.6,7.6,7.7,10.2,7.5,7.8,7.3,8.8,7.7,7.5,7.0,7.2,7.2,7.5,6.6,9.3,8.0,7.7,7.7,7.7,8.3,9.7,8.8,8.8,6.8,6.7,8.3,6.2,7.8,7.4,7.3,6.3,6.9,8.6,7.7,9.3,7.0,7.9,8.6,8.6,7.7,5.0,4.7,6.8,7.0,7.6,8.1,8.3,7.8,8.1,8.1,7.2,8.1,7.8,6.2,8.0,8.1,7.8,8.4,8.4,10.1,7.8,9.4,8.3,7.8,8.8,7.0,7.3,8.8,7.3,8.0,7.8,9.0,8.2,8.1,8.0,6.1,8.0,5.6,5.6,6.6,7.9,8.4,8.3,7.2,7.8,7.8,8.4,8.3,5.2,6.3,5.2,8.1,5.8,7.6,6.9,8.2,7.3,9.2,7.5,7.5,7.1,7.1,7.1,7.1,7.1,6.8,7.6,7.6,7.8,7.4,7.3,7.8,6.8,7.3,6.8,7.5,7.9,8.0,8.0,7.4,7.3,6.9,7.3,7.5,7.0,8.8,8.8,8.9,7.2,6.8,6.7,8.9,7.4,7.7,7.9,7.9,8.2,6.4,6.8,7.6,7.6,7.8,7.3,11.5,5.4,6.9,9.6,8.8,6.8,7.0,7.0,12.8,12.8,7.8,7.8,11.0,9.7,8.0,11.6,8.2,7.8,7.0,8.7,8.1,7.5,7.8,7.8,7.4,6.8,8.6,8.4,7.7,8.9,9.0,7.7,6.9,5.2,8.0,8.5,6.9,8.2,7.2,7.2,7.2,7.2,8.2,8.9,12.0,7.7,15.0,15.0,7.3,7.1,8.2,7.7,7.3,10.8,7.1,11.1,7.7,7.1,8.0,9.4,6.6,7.7,10.0,7.9,7.0,8.0,7.9,12.5,11.8,8.1,7.9,6.9,11.5,7.9,11.5,10.9,8.4,7.5,7.9,6.9,11.5,10.3,8.9,11.4,7.7,7.6,8.9,9.9,9.9,12.0,7.5,8.7,11.6,8.7,11.0,10.4,6.9,13.3,10.8,10.6,7.1,7.2,6.9,7.5,11.1,8.3,7.4,8.4,10.3,7.6,10.3,10.3,7.4,10.3,7.9,9.0,8.6,7.4,7.1,9.6,9.6,9.8,9.6,9.8,9.3,7.8,10.3,10.0,10.0,11.6,10.3,13.4,10.7,10.2,10.2,8.0,8.4,7.9,11.9,8.9,7.8,12.4,12.5,12.2,10.6,10.9,10.9,11.9,7.0,6.6,13.8,9.6,9.1,10.7,9.1,7.7,13.5,6.1,6.7,11.5,10.5,11.9,12.6,8.2,8.6,11.9,12.5,12.8,10.0,12.8,10.4,10.3,9.4,6.9,7.9,9.1,7.4,14.0,11.5,11.5,9.4,11.4,8.3,8.3,13.7,8.3,8.3,7.7,7.4,7.8,8.3,7.8,9.6,5.6,13.7,9.5,8.4,12.7,12.0,6.6,11.5,11.5,8.7,6.6,7.7,12.2,11.4,7.7,8.7,9.8,12.0,10.4,12.5,9.0,9.1,7.1,9.9,8.8,8.6,10.6,7.0,11.9,6.8,9.5,6.6,7.7,10.5,7.7,6.6,6.4,9.5,9.1,12.8,10.5,7.8,11.9,12.3,10.4,12.3,8.0,11.1,10.4,7.0,12.6,11.9,15.6,10.0,5.3,9.5,12.5,9.3,8.6,11.9,11.9,8.4,6.8,10.4,7.0,11.3,8.9,9.2,10.4,11.6,9.2,8.3,11.0,8.1,11.5,10.0,10.3,8.8,11.4,8.7,13.0,9.6,12.5,9.9,10.5,9.6,9.3,10.4,9.6,9.4,10.6,9.4,10.6,10.6,10.6,10.2,10.2,10.2,11.6,9.3,9.3,9.2,8.9,8.7,6.5,10.7,7.8,7.2,10.7,8.7,7.8,10.4,10.4,10.5,10.5,10.2,10.4,11.2,10.0,13.3,12.4,10.0,10.7,10.5,10.5,8.5,12.5,10.4,10.9,7.3,9.8,7.6,8.2,9.3,9.2,10.4,7.3,7.0,8.2,9.9,9.1,11.9,11.9,10.3,10.0,9.1,9.9,8.1,12.9,11.2,9.2,9.5,9.3,11.2,14.3,9.1,7.5,10.6,12.4,9.0,6.8,9.4,9.5,5.0,15.5,15.5,10.9,15.6,10.9,13.0,12.7,9.0,9.0,7.6,13.0,12.7,8.7,8.7,9.8,6.2,11.5,6.2,10.2,10.5,10.6,12.3,9.9,8.8,8.8,10.6,12.3,12.3,11.7,12.0,11.8,7.6,11.1,7.3,5.0,10.2,9.0,6.6,9.0,9.9,7.9,8.9,12.4,11.9,8.5,12.7,8.2,13.2,7.7,13.2,8.3,8.3,9.4,8.8,10.1,6.3,8.8,13.2,7.5,8.2,9.2,9.6,9.6,11.5,11.4,11.3,8.3,8.2,10.0,7.9,6.8,6.8,8.8,8.8,8.7,7.6,8.7,10.4,7.6,10.1,7.9,8.7,9.6,9.5,7.7,8.9,9.9,9.5,9.9,9.5,9.9,7.8,7.3,8.3,8.7,6.7,10.7,9.8,15.9,9.4,8.6,9.7,10.7,12.0,7.2,7.1,7.2,7.5,7.2,10.1,12.1,9.4,8.3,11.3,10.0,11.3,6.9,8.2,9.8,8.2,10.8,9.3,10.8,8.6,8.3,10.8,13.3,8.0,8.5,8.1,9.8,8.1,7.1,9.1,7.7,8.1,7.4,9.2,8.6,9.0,9.0,5.1,7.0,7.0,9.4,11.8,10.6,7.0,7.0,7.5,9.1,8.4,7.0,7.4,7.8,9.7,10.6,8.9,8.7,8.0,9.9,7.2,8.0,7.6,8.4,7.1,8.4,8.9,7.6,7.1,7.5,9.0,8.1,6.4,6.4,6.4,9.5,8.9,7.3,7.0,7.7,7.7,7.7,8.2,9.0,9.0,8.3,9.2,6.5,11.6,11.1,7.3,8.2,8.6,7.2,7.3,8.3,8.3,7.6,8.3,7.8,7.8,6.3,8.1,8.1,8.8,9.0,9.3,8.8,9.3,9.1,9.2,8.8,7.5,7.1,7.9,7.1,9.4,9.5,7.9,7.9,7.2,6.9,6.9,8.3,7.1,7.0,6.5,9.0,6.5,7.1,9.9,9.9,10.0,10.0,8.6,7.4,8.8,7.1,7.7,10.1,10.8,8.7,9.3,9.4,9.4,7.2,8.6,5.1,7.7,8.4,8.2,8.4,8.2,7.4,7.6,7.3,12.9,10.8,6.9,12.6,10.8,9.8,10.8,7.1,9.1,7.0,4.9,6.7,6.7,7.1,7.1,7.5,7.1,7.8,5.9,7.5,5.9,10.4,11.6,8.8,7.6,6.7,6.7,10.1,6.0,11.1,6.6,10.6,7.1,9.9,6.4,6.4,7.4,6.4,6.4,9.3,9.3,8.0,9.3,9.3,7.6,9.3,8.2,11.7,6.8,7.2,5.8,7.5,7.2,7.2,7.2,6.8,6.9,6.8,7.6,7.7,6.9,7.3,9.1,10.4,8.8,7.1,7.7,8.8,7.2,9.2,7.6,8.4,7.2,8.8,8.9,9.0,10.7,6.8,10.7,7.2,7.2,10.1,7.2,7.2,7.1,8.3,7.1,8.3,8.3,8.9,7.4,7.4,6.8,6.8,9.2,7.2,6.1,7.4,7.3,9.3,9.1,10.0,9.4,7.3,8.6,5.3,6.8,8.4,8.4,9.6,8.4,8.4,6.8,8.6,8.6,9.4,8.4,8.6,8.7,6.6,7.4,7.6,7.4,6.6,8.8,8.8,12.0,7.2,6.2,9.6,9.9,10.1,9.8,8.3,10.2,10.2,8.3,8.9,8.9,8.9,8.3,8.2,10.2,7.6,8.5,9.0,9.5,6.4,8.0,8.5,7.1,6.6,8.8,8.5,8.3,9.0,8.5,9.0,6.7,10.4,10.4,10.1,8.5,8.8,7.2,7.2,8.4,7.0,12.2,9.1,9.5,7.3,9.1,12.2,7.4,9.8,7.1,7.7,9.7,7.7,7.1,6.5,7.1,10.0,7.7,5.6,5.6,8.9,6.4,7.5,9.9,9.1,6.8,8.2,6.8,9.1,9.1,8.9,9.6,8.9,8.9,7.7,7.5,8.0,10.5,8.9,8.0,8.0,7.0,11.3,11.3,7.0,8.2,7.7,8.6,7.9,6.4,7.2,7.7,7.1,7.3,8.1,7.5,8.9,10.1,7.6,7.3,8.7,8.9,7.4,6.9,8.9,9.5,6.4,6.9,7.6,7.1,9.3,9.3,7.1,8.5,5.6,8.3,8.2,8.2,8.9,7.6,9.9,8.9,11.6,9.1,8.0,10.2,8.2,7.7,6.6,11.1,11.1,8.0,9.3,7.5,7.2,8.0,7.5,9.1,9.9,8.6,8.6,7.9,10.3,7.9,7.2,8.7,7.2,6.8,8.5,7.9,11.6,11.6,10.0,7.9,7.0,9.2,6.6,9.4,6.6,8.6,8.0,8.6,8.4,7.4,6.1,7.4,8.0,6.3,8.2,9.1,8.1,10.8,8.3,5.4,7.9,8.9,5.0,7.0,7.0,7.0,7.1,5.6,7.9,6.6,6.3,10.7,6.5,8.8,5.8,6.3,10.0,10.5,9.1,5.9,7.4,7.2,8.5,8.0,10.4,10.4,7.5,8.2,7.3,8.2,6.9,7.0,7.3,8.2,7.8,10.0,7.8,10.0,8.2,6.1,8.3,9.6,6.6,8.3,8.5,5.1,6.7,10.2,10.6,8.8,8.5,9.0,9.0,8.5,9.9,8.2,6.5,7.6,9.2,7.1,9.7,7.6,7.6,6.5,6.5,7.1,5.6,8.2,8.2,9.8,10.2,6.8,6.7,7.0,6.6,7.0,6.7,8.8,9.1,6.5,7.2,6.4,7.0,6.2,7.9,7.7,7.7,7.9,7.7,7.9,8.6,9.9,7.2,7.2,7.2,9.9,7.2,6.2,6.8,6.6,6.8,9.6,10.2,8.8,7.9,8.2,8.2,9.0,10.9,10.9,8.1,10.5,12.6,9.2,7.5,9.0,5.1,7.6,7.7,7.8,7.6,10.2,7.1,6.0,7.8,7.1,8.1,6.5,7.5,9.8,9.0,8.3,5.9,7.4,7.4,7.4,6.9,7.1,7.1,7.5,7.1,7.9,7.8,6.1,7.5,7.0,6.8,6.8,8.6,6.3,9.8,8.2,8.5,7.2,7.2,10.4,6.9,5.5,5.0,7.3,5.9,7.5,7.8,8.0,8.5,7.0,8.0,9.8,7.1,7.1,7.9,8.7,7.0,11.3,7.1,8.0,7.0,7.0,7.6,8.2,5.9,7.5,8.2,6.6,6.6,7.2,5.7,7.6,5.2,6.7,9.1,8.0,7.6,7.5,9.7,6.8,9.7,7.0,7.5,6.5,8.0,7.0,7.0,7.5,5.4,9.9,7.5,9.1,9.7,5.0,9.1,9.1,6.7,6.7,6.7,6.7,6.5,7.4,7.4,7.8,8.4,9.1,7.2,6.6,6.0,6.0,6.0,7.5,7.5,7.5,7.6,7.5,11.5,8.2,6.1,7.2,7.2,6.9,9.0,7.2,7.6,7.6,7.2,6.1,6.1,7.3,7.4,11.6,9.2,8.3,11.6,8.0,7.2,7.8,7.3,6.9,8.0,6.6,8.7,7.5,8.7,7.7,6.8,7.2,8.2,5.2,7.2,7.5,7.5,6.8,8.0,8.0,7.1,8.0,7.4,7.4,6.6,6.7,6.0,8.0,7.1,8.0,6.4,8.6,8.7,7.3,7.0,7.2,7.9,7.9,7.6,7.2,8.0,7.7,8.2,6.0,8.1,6.0,6.6,6.4,8.2,9.9,10.0,6.2,10.0,7.3,7.8,7.7,7.8,7.5,7.0,6.4,8.3,8.3,7.7,7.6,7.8,7.9,7.4,7.6,5.9,6.1,10.2,10.2,10.0,6.8,7.0,7.3,7.2,7.4,6.9,6.9,7.3,7.4,6.9,6.8,6.9,7.2,7.2,7.8,6.6,7.6,11.7,6.5,6.0,7.6,8.4,7.9,6.4,6.2,6.8,6.9,6.8,6.8,7.3,6.7,7.3,7.3,10.0,6.7,7.6,6.1,9.9,5.3,9.9,5.3,7.1,8.2,5.6,8.2,7.2,8.1,6.8,7.0,6.8,6.0,5.6,6.2,7.1,5.6,6.2,7.7,6.4,7.0,7.7,6.9,6.6,6.9,7.5,7.8,7.3,6.2,7.5,6.7,6.8,7.5,7.1,7.9,6.4,7.1,6.4,6.4,6.9,6.9,6.1,6.5,7.4,6.6,6.5,6.9,6.1,6.8,6.0,6.7,6.8,7.1,7.9,7.1,6.6,6.1,7.2,8.0,6.6,7.0,6.1,5.4,6.2,7.2,6.2,7.4,6.7,11.1,8.4,6.5,7.0,6.3,11.2,7.4,7.1,7.1,6.3,7.3,6.6,7.0,6.6,6.6,6.9,7.8,7.8,7.8,7.2,7.2,7.2,6.7,6.7,7.2,7.0,6.2,6.4,6.4,7.3,6.0,5.6,7.5,8.0,6.2,6.8,6.2,7.4,6.2,6.1,6.2,6.7,7.2,7.5,5.8,7.2,6.6,6.3,5.4,6.3,6.8,6.2,5.9,6.3,5.9,6.0],\"y0\":\" \",\"yaxis\":\"y\",\"type\":\"box\"}],                        {\"template\":{\"data\":{\"histogram2dcontour\":[{\"type\":\"histogram2dcontour\",\"colorbar\":{\"outlinewidth\":0,\"ticks\":\"\"},\"colorscale\":[[0.0,\"#0d0887\"],[0.1111111111111111,\"#46039f\"],[0.2222222222222222,\"#7201a8\"],[0.3333333333333333,\"#9c179e\"],[0.4444444444444444,\"#bd3786\"],[0.5555555555555556,\"#d8576b\"],[0.6666666666666666,\"#ed7953\"],[0.7777777777777778,\"#fb9f3a\"],[0.8888888888888888,\"#fdca26\"],[1.0,\"#f0f921\"]]}],\"choropleth\":[{\"type\":\"choropleth\",\"colorbar\":{\"outlinewidth\":0,\"ticks\":\"\"}}],\"histogram2d\":[{\"type\":\"histogram2d\",\"colorbar\":{\"outlinewidth\":0,\"ticks\":\"\"},\"colorscale\":[[0.0,\"#0d0887\"],[0.1111111111111111,\"#46039f\"],[0.2222222222222222,\"#7201a8\"],[0.3333333333333333,\"#9c179e\"],[0.4444444444444444,\"#bd3786\"],[0.5555555555555556,\"#d8576b\"],[0.6666666666666666,\"#ed7953\"],[0.7777777777777778,\"#fb9f3a\"],[0.8888888888888888,\"#fdca26\"],[1.0,\"#f0f921\"]]}],\"heatmap\":[{\"type\":\"heatmap\",\"colorbar\":{\"outlinewidth\":0,\"ticks\":\"\"},\"colorscale\":[[0.0,\"#0d0887\"],[0.1111111111111111,\"#46039f\"],[0.2222222222222222,\"#7201a8\"],[0.3333333333333333,\"#9c179e\"],[0.4444444444444444,\"#bd3786\"],[0.5555555555555556,\"#d8576b\"],[0.6666666666666666,\"#ed7953\"],[0.7777777777777778,\"#fb9f3a\"],[0.8888888888888888,\"#fdca26\"],[1.0,\"#f0f921\"]]}],\"heatmapgl\":[{\"type\":\"heatmapgl\",\"colorbar\":{\"outlinewidth\":0,\"ticks\":\"\"},\"colorscale\":[[0.0,\"#0d0887\"],[0.1111111111111111,\"#46039f\"],[0.2222222222222222,\"#7201a8\"],[0.3333333333333333,\"#9c179e\"],[0.4444444444444444,\"#bd3786\"],[0.5555555555555556,\"#d8576b\"],[0.6666666666666666,\"#ed7953\"],[0.7777777777777778,\"#fb9f3a\"],[0.8888888888888888,\"#fdca26\"],[1.0,\"#f0f921\"]]}],\"contourcarpet\":[{\"type\":\"contourcarpet\",\"colorbar\":{\"outlinewidth\":0,\"ticks\":\"\"}}],\"contour\":[{\"type\":\"contour\",\"colorbar\":{\"outlinewidth\":0,\"ticks\":\"\"},\"colorscale\":[[0.0,\"#0d0887\"],[0.1111111111111111,\"#46039f\"],[0.2222222222222222,\"#7201a8\"],[0.3333333333333333,\"#9c179e\"],[0.4444444444444444,\"#bd3786\"],[0.5555555555555556,\"#d8576b\"],[0.6666666666666666,\"#ed7953\"],[0.7777777777777778,\"#fb9f3a\"],[0.8888888888888888,\"#fdca26\"],[1.0,\"#f0f921\"]]}],\"surface\":[{\"type\":\"surface\",\"colorbar\":{\"outlinewidth\":0,\"ticks\":\"\"},\"colorscale\":[[0.0,\"#0d0887\"],[0.1111111111111111,\"#46039f\"],[0.2222222222222222,\"#7201a8\"],[0.3333333333333333,\"#9c179e\"],[0.4444444444444444,\"#bd3786\"],[0.5555555555555556,\"#d8576b\"],[0.6666666666666666,\"#ed7953\"],[0.7777777777777778,\"#fb9f3a\"],[0.8888888888888888,\"#fdca26\"],[1.0,\"#f0f921\"]]}],\"mesh3d\":[{\"type\":\"mesh3d\",\"colorbar\":{\"outlinewidth\":0,\"ticks\":\"\"}}],\"scatter\":[{\"fillpattern\":{\"fillmode\":\"overlay\",\"size\":10,\"solidity\":0.2},\"type\":\"scatter\"}],\"parcoords\":[{\"type\":\"parcoords\",\"line\":{\"colorbar\":{\"outlinewidth\":0,\"ticks\":\"\"}}}],\"scatterpolargl\":[{\"type\":\"scatterpolargl\",\"marker\":{\"colorbar\":{\"outlinewidth\":0,\"ticks\":\"\"}}}],\"bar\":[{\"error_x\":{\"color\":\"#2a3f5f\"},\"error_y\":{\"color\":\"#2a3f5f\"},\"marker\":{\"line\":{\"color\":\"#E5ECF6\",\"width\":0.5},\"pattern\":{\"fillmode\":\"overlay\",\"size\":10,\"solidity\":0.2}},\"type\":\"bar\"}],\"scattergeo\":[{\"type\":\"scattergeo\",\"marker\":{\"colorbar\":{\"outlinewidth\":0,\"ticks\":\"\"}}}],\"scatterpolar\":[{\"type\":\"scatterpolar\",\"marker\":{\"colorbar\":{\"outlinewidth\":0,\"ticks\":\"\"}}}],\"histogram\":[{\"marker\":{\"pattern\":{\"fillmode\":\"overlay\",\"size\":10,\"solidity\":0.2}},\"type\":\"histogram\"}],\"scattergl\":[{\"type\":\"scattergl\",\"marker\":{\"colorbar\":{\"outlinewidth\":0,\"ticks\":\"\"}}}],\"scatter3d\":[{\"type\":\"scatter3d\",\"line\":{\"colorbar\":{\"outlinewidth\":0,\"ticks\":\"\"}},\"marker\":{\"colorbar\":{\"outlinewidth\":0,\"ticks\":\"\"}}}],\"scattermapbox\":[{\"type\":\"scattermapbox\",\"marker\":{\"colorbar\":{\"outlinewidth\":0,\"ticks\":\"\"}}}],\"scatterternary\":[{\"type\":\"scatterternary\",\"marker\":{\"colorbar\":{\"outlinewidth\":0,\"ticks\":\"\"}}}],\"scattercarpet\":[{\"type\":\"scattercarpet\",\"marker\":{\"colorbar\":{\"outlinewidth\":0,\"ticks\":\"\"}}}],\"carpet\":[{\"aaxis\":{\"endlinecolor\":\"#2a3f5f\",\"gridcolor\":\"white\",\"linecolor\":\"white\",\"minorgridcolor\":\"white\",\"startlinecolor\":\"#2a3f5f\"},\"baxis\":{\"endlinecolor\":\"#2a3f5f\",\"gridcolor\":\"white\",\"linecolor\":\"white\",\"minorgridcolor\":\"white\",\"startlinecolor\":\"#2a3f5f\"},\"type\":\"carpet\"}],\"table\":[{\"cells\":{\"fill\":{\"color\":\"#EBF0F8\"},\"line\":{\"color\":\"white\"}},\"header\":{\"fill\":{\"color\":\"#C8D4E3\"},\"line\":{\"color\":\"white\"}},\"type\":\"table\"}],\"barpolar\":[{\"marker\":{\"line\":{\"color\":\"#E5ECF6\",\"width\":0.5},\"pattern\":{\"fillmode\":\"overlay\",\"size\":10,\"solidity\":0.2}},\"type\":\"barpolar\"}],\"pie\":[{\"automargin\":true,\"type\":\"pie\"}]},\"layout\":{\"autotypenumbers\":\"strict\",\"colorway\":[\"#636efa\",\"#EF553B\",\"#00cc96\",\"#ab63fa\",\"#FFA15A\",\"#19d3f3\",\"#FF6692\",\"#B6E880\",\"#FF97FF\",\"#FECB52\"],\"font\":{\"color\":\"#2a3f5f\"},\"hovermode\":\"closest\",\"hoverlabel\":{\"align\":\"left\"},\"paper_bgcolor\":\"white\",\"plot_bgcolor\":\"#E5ECF6\",\"polar\":{\"bgcolor\":\"#E5ECF6\",\"angularaxis\":{\"gridcolor\":\"white\",\"linecolor\":\"white\",\"ticks\":\"\"},\"radialaxis\":{\"gridcolor\":\"white\",\"linecolor\":\"white\",\"ticks\":\"\"}},\"ternary\":{\"bgcolor\":\"#E5ECF6\",\"aaxis\":{\"gridcolor\":\"white\",\"linecolor\":\"white\",\"ticks\":\"\"},\"baxis\":{\"gridcolor\":\"white\",\"linecolor\":\"white\",\"ticks\":\"\"},\"caxis\":{\"gridcolor\":\"white\",\"linecolor\":\"white\",\"ticks\":\"\"}},\"coloraxis\":{\"colorbar\":{\"outlinewidth\":0,\"ticks\":\"\"}},\"colorscale\":{\"sequential\":[[0.0,\"#0d0887\"],[0.1111111111111111,\"#46039f\"],[0.2222222222222222,\"#7201a8\"],[0.3333333333333333,\"#9c179e\"],[0.4444444444444444,\"#bd3786\"],[0.5555555555555556,\"#d8576b\"],[0.6666666666666666,\"#ed7953\"],[0.7777777777777778,\"#fb9f3a\"],[0.8888888888888888,\"#fdca26\"],[1.0,\"#f0f921\"]],\"sequentialminus\":[[0.0,\"#0d0887\"],[0.1111111111111111,\"#46039f\"],[0.2222222222222222,\"#7201a8\"],[0.3333333333333333,\"#9c179e\"],[0.4444444444444444,\"#bd3786\"],[0.5555555555555556,\"#d8576b\"],[0.6666666666666666,\"#ed7953\"],[0.7777777777777778,\"#fb9f3a\"],[0.8888888888888888,\"#fdca26\"],[1.0,\"#f0f921\"]],\"diverging\":[[0,\"#8e0152\"],[0.1,\"#c51b7d\"],[0.2,\"#de77ae\"],[0.3,\"#f1b6da\"],[0.4,\"#fde0ef\"],[0.5,\"#f7f7f7\"],[0.6,\"#e6f5d0\"],[0.7,\"#b8e186\"],[0.8,\"#7fbc41\"],[0.9,\"#4d9221\"],[1,\"#276419\"]]},\"xaxis\":{\"gridcolor\":\"white\",\"linecolor\":\"white\",\"ticks\":\"\",\"title\":{\"standoff\":15},\"zerolinecolor\":\"white\",\"automargin\":true,\"zerolinewidth\":2},\"yaxis\":{\"gridcolor\":\"white\",\"linecolor\":\"white\",\"ticks\":\"\",\"title\":{\"standoff\":15},\"zerolinecolor\":\"white\",\"automargin\":true,\"zerolinewidth\":2},\"scene\":{\"xaxis\":{\"backgroundcolor\":\"#E5ECF6\",\"gridcolor\":\"white\",\"linecolor\":\"white\",\"showbackground\":true,\"ticks\":\"\",\"zerolinecolor\":\"white\",\"gridwidth\":2},\"yaxis\":{\"backgroundcolor\":\"#E5ECF6\",\"gridcolor\":\"white\",\"linecolor\":\"white\",\"showbackground\":true,\"ticks\":\"\",\"zerolinecolor\":\"white\",\"gridwidth\":2},\"zaxis\":{\"backgroundcolor\":\"#E5ECF6\",\"gridcolor\":\"white\",\"linecolor\":\"white\",\"showbackground\":true,\"ticks\":\"\",\"zerolinecolor\":\"white\",\"gridwidth\":2}},\"shapedefaults\":{\"line\":{\"color\":\"#2a3f5f\"}},\"annotationdefaults\":{\"arrowcolor\":\"#2a3f5f\",\"arrowhead\":0,\"arrowwidth\":1},\"geo\":{\"bgcolor\":\"white\",\"landcolor\":\"#E5ECF6\",\"subunitcolor\":\"white\",\"showland\":true,\"showlakes\":true,\"lakecolor\":\"white\"},\"title\":{\"x\":0.05},\"mapbox\":{\"style\":\"light\"}}},\"xaxis\":{\"anchor\":\"y\",\"domain\":[0.0,1.0]},\"yaxis\":{\"anchor\":\"x\",\"domain\":[0.0,1.0],\"title\":{\"text\":\"fixed acidity\"}},\"legend\":{\"tracegroupgap\":0},\"title\":{\"text\":\"Boxplot de fixed acidity\"},\"boxmode\":\"group\"},                        {\"responsive\": true}                    ).then(function(){\n",
              "                            \n",
              "var gd = document.getElementById('36ccd0b8-76de-4c32-8ad4-7a8457484e00');\n",
              "var x = new MutationObserver(function (mutations, observer) {{\n",
              "        var display = window.getComputedStyle(gd).display;\n",
              "        if (!display || display === 'none') {{\n",
              "            console.log([gd, 'removed!']);\n",
              "            Plotly.purge(gd);\n",
              "            observer.disconnect();\n",
              "        }}\n",
              "}});\n",
              "\n",
              "// Listen for the removal of the full notebook cells\n",
              "var notebookContainer = gd.closest('#notebook-container');\n",
              "if (notebookContainer) {{\n",
              "    x.observe(notebookContainer, {childList: true});\n",
              "}}\n",
              "\n",
              "// Listen for the clearing of the current output cell\n",
              "var outputEl = gd.closest('.output');\n",
              "if (outputEl) {{\n",
              "    x.observe(outputEl, {childList: true});\n",
              "}}\n",
              "\n",
              "                        })                };                            </script>        </div>\n",
              "</body>\n",
              "</html>"
            ]
          },
          "metadata": {}
        },
        {
          "output_type": "display_data",
          "data": {
            "text/html": [
              "<html>\n",
              "<head><meta charset=\"utf-8\" /></head>\n",
              "<body>\n",
              "    <div>            <script src=\"https://cdnjs.cloudflare.com/ajax/libs/mathjax/2.7.5/MathJax.js?config=TeX-AMS-MML_SVG\"></script><script type=\"text/javascript\">if (window.MathJax && window.MathJax.Hub && window.MathJax.Hub.Config) {window.MathJax.Hub.Config({SVG: {font: \"STIX-Web\"}});}</script>                <script type=\"text/javascript\">window.PlotlyConfig = {MathJaxConfig: 'local'};</script>\n",
              "        <script charset=\"utf-8\" src=\"https://cdn.plot.ly/plotly-2.35.2.min.js\"></script>                <div id=\"d7a15c7a-44e9-45df-ac09-ce9ab04513a4\" class=\"plotly-graph-div\" style=\"height:525px; width:100%;\"></div>            <script type=\"text/javascript\">                                    window.PLOTLYENV=window.PLOTLYENV || {};                                    if (document.getElementById(\"d7a15c7a-44e9-45df-ac09-ce9ab04513a4\")) {                    Plotly.newPlot(                        \"d7a15c7a-44e9-45df-ac09-ce9ab04513a4\",                        [{\"alignmentgroup\":\"True\",\"boxpoints\":\"all\",\"hovertemplate\":\"volatile acidity=%{y}\\u003cextra\\u003e\\u003c\\u002fextra\\u003e\",\"legendgroup\":\"\",\"marker\":{\"color\":\"#636efa\"},\"name\":\"\",\"notched\":false,\"offsetgroup\":\"\",\"orientation\":\"v\",\"showlegend\":false,\"x0\":\" \",\"xaxis\":\"x\",\"y\":[0.7,0.88,0.76,0.28,0.7,0.66,0.6,0.65,0.58,0.5,0.58,0.5,0.615,0.61,0.62,0.62,0.28,0.56,0.59,0.32,0.22,0.39,0.43,0.49,0.4,0.39,0.41,0.43,0.71,0.645,0.675,0.685,0.655,0.605,0.32,0.645,0.6,0.38,1.13,0.45,0.45,0.61,0.49,0.66,0.67,0.52,0.935,0.29,0.4,0.31,0.66,0.52,0.5,0.38,0.51,0.62,0.42,0.63,0.59,0.39,0.4,0.69,0.52,0.735,0.725,0.725,0.52,0.705,0.32,0.705,0.63,0.67,0.69,0.675,0.32,0.41,0.41,0.785,0.75,0.625,0.45,0.43,0.5,0.67,0.3,0.55,0.49,0.49,0.39,0.62,0.52,0.49,0.49,0.49,1.02,0.6,0.775,0.5,0.9,0.545,0.61,0.5,0.545,0.575,0.49,0.575,0.41,0.63,0.33,0.785,0.56,0.62,0.6,0.31,0.56,0.4,0.54,0.56,0.55,0.69,1.07,0.55,0.695,0.71,0.5,0.62,1.33,1.33,0.59,0.38,0.745,0.5,0.5,0.5,1.04,0.745,0.715,0.415,0.56,0.56,0.745,0.715,0.34,0.39,0.34,0.67,0.68,0.49,0.49,0.4,0.33,0.52,0.6,0.6,0.43,0.43,0.43,0.43,0.68,0.6,0.95,0.68,0.53,0.6,0.59,0.63,0.64,0.55,0.63,0.705,0.885,0.42,0.42,0.62,0.38,0.5,0.38,0.52,0.805,0.61,0.61,0.61,0.73,0.61,0.62,0.31,0.39,0.705,0.5,0.49,0.5,0.37,0.63,0.55,0.55,0.59,0.58,0.3,0.835,1.09,0.32,0.37,0.5,0.42,0.43,0.3,0.3,0.57,0.44,0.3,0.53,0.725,0.44,0.57,0.735,0.49,0.625,0.725,0.49,0.53,0.34,0.53,0.61,0.645,0.635,0.43,0.59,0.82,0.43,0.52,0.48,0.38,0.37,0.52,1.0,0.63,0.63,0.645,0.63,1.0,0.635,0.38,0.58,0.21,0.21,0.66,0.68,0.6,0.53,0.66,0.32,0.6,0.35,0.775,0.6,0.57,0.34,0.695,0.41,0.31,0.33,0.975,0.52,0.37,0.56,0.26,0.87,0.35,0.54,0.18,0.545,0.18,0.37,0.715,0.65,0.545,0.54,0.18,0.32,0.4,0.26,0.27,0.52,0.4,0.59,0.59,0.45,0.4,0.52,0.42,0.52,0.2,0.55,0.36,0.34,0.5,0.83,0.63,0.65,0.67,0.53,0.18,0.705,0.67,0.65,0.53,0.62,0.41,0.43,0.29,0.53,0.53,0.46,0.47,0.36,0.35,0.56,0.77,0.66,0.77,0.66,0.61,0.62,0.59,0.49,0.49,0.53,0.44,0.27,0.46,0.36,0.36,0.58,0.56,0.65,0.695,0.43,0.43,0.49,0.28,0.34,0.42,0.39,0.39,0.57,0.685,0.815,0.49,0.56,0.785,0.67,0.795,0.665,0.53,0.21,0.75,0.41,0.42,0.43,0.38,0.7,0.45,0.58,0.46,0.615,0.42,0.615,0.575,0.34,0.27,0.765,0.24,0.28,0.55,0.41,0.54,0.45,0.27,0.625,0.42,0.26,0.415,0.26,0.26,0.51,0.63,0.54,0.66,0.46,0.38,0.85,0.415,0.37,0.665,0.6,0.37,0.735,0.59,0.59,0.765,0.735,0.26,0.48,0.6,0.69,0.31,0.44,0.39,0.34,0.46,0.43,0.45,0.735,0.4,0.52,0.725,0.48,0.58,0.38,0.77,0.56,0.84,0.96,0.24,0.96,0.84,0.67,0.78,0.52,0.84,0.24,0.55,0.37,0.39,0.41,0.39,0.67,0.45,0.41,0.62,0.31,0.4,0.685,0.44,0.57,0.735,0.38,0.48,0.53,0.39,0.39,0.37,0.56,0.33,0.23,0.62,0.59,0.63,0.33,0.58,0.43,0.615,0.26,0.66,0.315,0.29,0.5,0.46,0.36,0.82,0.32,0.54,0.37,0.35,0.28,0.68,0.27,0.24,0.68,0.685,0.28,0.3,0.36,0.36,0.44,0.67,0.67,0.645,0.32,0.39,0.775,0.41,0.4,0.69,0.39,0.35,0.52,0.34,0.35,0.69,0.52,0.44,0.44,0.26,0.24,0.49,0.24,0.67,0.59,0.29,0.42,0.59,0.4,0.51,0.51,0.655,0.6,0.61,0.21,0.365,0.25,0.41,0.39,0.4,0.43,0.64,0.365,0.38,0.42,0.63,0.22,0.38,0.38,0.27,0.48,0.22,0.63,0.825,0.35,0.5,0.59,0.46,0.715,0.66,0.31,0.47,0.55,0.31,0.35,0.53,0.51,0.43,0.46,1.04,0.645,0.645,0.53,0.645,0.53,0.47,0.6,0.44,0.54,0.29,0.47,0.6,0.7,0.7,0.5,0.36,0.35,0.36,0.24,0.59,0.34,0.27,0.5,0.44,0.47,0.31,0.5,0.5,0.49,0.28,0.33,0.51,0.31,0.73,0.42,0.29,0.45,0.39,0.45,0.49,0.72,0.595,0.4,0.58,0.585,0.59,0.915,0.46,0.835,0.46,0.58,0.6,0.41,0.48,0.65,0.36,0.24,0.38,0.64,0.39,0.755,0.6,0.6,0.31,0.46,0.37,0.54,0.56,0.58,0.51,0.69,0.69,0.6,0.6,0.54,0.685,0.54,0.28,0.41,0.935,0.35,0.84,0.88,0.885,0.915,0.29,0.54,0.59,0.54,0.59,0.54,0.64,0.67,0.845,0.48,0.42,0.43,0.88,0.36,0.33,0.47,0.55,0.43,0.5,0.52,0.84,0.52,0.42,0.57,0.28,0.4,0.59,0.49,0.34,0.73,0.34,0.4,0.73,1.24,0.73,0.4,0.41,0.4,0.8,0.78,0.26,0.43,0.45,0.46,0.78,0.98,0.78,0.65,0.64,0.66,0.38,1.185,0.92,0.49,0.48,0.47,0.47,0.65,0.65,0.615,0.38,1.02,0.65,0.64,0.38,0.765,1.035,0.78,0.49,0.545,0.31,1.025,0.565,0.69,0.43,0.74,0.49,0.43,0.46,0.56,0.66,0.56,0.48,0.42,0.31,1.115,0.66,0.72,0.57,0.57,0.865,0.55,0.875,0.835,0.45,0.56,0.965,0.965,0.59,0.46,0.69,0.76,0.53,0.615,0.41,0.39,0.51,0.34,0.33,0.5,0.51,0.65,0.65,0.54,0.65,0.48,0.91,0.98,0.87,0.87,0.42,0.58,0.655,0.7,0.655,0.68,0.67,0.59,0.6,0.59,0.72,0.59,0.685,0.57,0.4,0.4,1.0,0.765,0.635,0.43,0.52,0.57,0.46,0.82,0.46,0.59,0.35,0.35,0.56,0.56,0.63,0.37,0.64,0.61,0.6,0.27,0.89,0.46,0.37,0.5,0.5,0.61,0.55,0.585,0.56,0.52,0.28,0.25,0.28,0.53,0.48,0.49,0.5,0.45,0.39,0.41,0.45,0.51,0.29,0.715,0.66,0.685,0.42,0.54,0.54,0.48,0.46,0.27,0.46,0.57,0.61,0.685,0.61,0.44,0.47,0.685,0.665,0.28,0.28,0.31,0.5,0.42,0.66,0.5,0.685,0.25,0.64,0.64,0.68,0.64,0.63,0.43,0.43,0.42,0.36,0.36,0.735,0.36,0.26,0.28,0.56,0.62,1.01,0.42,0.62,0.62,0.635,0.49,0.51,0.56,0.63,0.715,0.56,0.35,0.21,0.38,0.31,0.47,0.715,0.61,0.6,0.56,0.715,0.31,0.6,0.61,0.75,0.8,0.52,0.57,0.9,0.34,0.66,0.45,0.66,0.63,0.59,0.31,0.59,0.31,1.02,0.31,0.635,0.635,0.59,0.59,0.58,0.54,0.56,0.52,0.305,0.38,0.28,0.46,0.395,0.305,0.315,0.715,0.41,0.36,0.62,0.41,0.36,0.62,0.41,0.47,0.22,0.24,0.67,0.47,0.33,0.61,0.61,0.4,0.61,0.61,0.3,0.3,0.63,0.38,0.46,0.33,0.27,0.43,0.5,0.3,0.44,0.44,0.28,0.12,0.12,0.12,0.28,0.31,0.34,0.43,0.21,0.36,0.37,0.57,0.59,0.47,0.56,0.57,0.27,0.47,0.34,0.38,0.66,0.4,0.56,0.26,0.26,0.38,0.34,0.33,0.41,0.41,0.59,0.4,0.45,0.5,0.86,0.52,0.5,0.45,0.58,0.34,0.36,0.39,0.295,0.39,0.34,0.4,0.34,0.35,0.6,0.66,0.66,0.84,0.69,0.43,0.35,0.29,0.36,0.43,0.36,0.29,0.3,0.35,0.5,0.28,0.32,1.005,0.71,0.58,0.39,0.38,0.18,0.18,0.5,0.36,0.36,0.51,0.32,0.58,0.83,0.31,0.795,0.34,0.58,0.59,0.55,0.82,0.57,0.745,0.37,0.31,0.91,0.41,0.5,0.965,0.49,0.5,0.39,0.39,0.44,0.78,0.43,0.49,0.5,0.43,0.46,0.605,0.33,0.64,0.64,0.48,0.42,0.53,0.48,0.23,0.4,0.38,0.29,0.74,0.61,0.52,0.31,0.31,0.62,0.33,0.77,0.35,0.62,0.77,0.25,0.32,0.37,0.37,0.3,0.27,0.3,0.38,0.42,0.38,0.48,0.34,0.19,0.41,0.41,0.26,0.34,0.54,0.31,0.725,0.4,0.725,0.52,0.31,0.52,0.34,0.49,0.48,0.49,0.48,0.57,0.23,0.3,0.78,0.47,0.53,0.42,0.33,0.24,0.4,0.69,0.69,0.69,0.39,0.66,0.54,0.5,0.47,0.4,0.58,0.24,0.29,0.76,0.43,0.43,0.6,0.19,0.36,0.48,0.28,0.25,0.52,0.52,0.41,0.51,0.4,0.38,0.45,0.22,0.32,0.2,0.5,0.41,0.39,0.35,0.33,0.58,0.6,0.42,0.58,0.6,0.18,0.51,0.41,0.41,0.36,0.45,0.32,0.785,0.785,0.44,0.54,0.33,0.34,0.5,0.36,0.59,0.42,0.36,0.36,0.61,0.88,0.66,0.915,0.35,0.35,0.39,0.4,0.66,0.64,0.43,0.8,0.43,0.64,0.955,0.4,0.885,0.25,0.885,0.745,0.43,0.58,0.57,0.26,0.58,0.57,0.34,0.42,0.74,0.36,0.36,0.36,0.72,0.36,0.39,0.65,0.44,0.65,0.38,0.33,0.27,0.57,0.34,0.4,0.39,0.32,0.32,0.53,0.36,0.39,0.46,0.58,0.58,0.42,0.43,0.18,0.815,0.43,0.23,0.75,0.33,0.55,0.75,0.73,0.67,0.61,0.37,0.4,0.56,0.29,0.55,0.74,0.55,0.41,0.6,0.6,0.58,0.72,0.66,0.7,0.64,0.59,0.58,0.64,0.64,0.635,1.02,0.45,0.78,0.37,0.57,0.57,0.43,0.41,0.49,0.38,0.44,0.46,0.58,0.58,0.715,0.4,0.69,0.715,0.3,0.46,0.46,0.765,0.63,0.42,0.37,0.16,0.6,0.6,0.6,0.74,0.635,0.395,0.755,0.635,0.63,0.63,0.53,0.6,1.58,0.645,0.86,0.37,0.28,0.79,0.61,0.69,0.68,0.69,0.62,0.61,0.51,1.18,0.36,0.36,0.63,0.74,0.44,0.63,0.76,0.66,0.74,0.34,0.36,0.46,0.46,0.46,0.46,0.52,0.6,0.6,0.87,0.39,0.775,0.835,0.58,0.5,0.5,0.5,0.51,0.51,0.51,0.54,0.51,0.42,0.44,0.59,0.655,0.655,0.57,0.6,0.62,0.645,0.645,0.58,0.32,0.34,0.43,0.64,0.475,0.54,0.85,0.475,0.83,0.605,0.5,0.74,0.54,0.77,0.61,0.78,0.58,0.78,0.75,0.815,0.56,0.885,0.49,0.45,0.57,0.57,0.83,0.6,0.6,0.755,0.81,0.64,0.64,0.64,0.48,0.49,0.64,0.62,0.52,0.57,0.685,0.675,0.59,0.6,0.67,0.69,0.69,0.3,0.33,0.5,0.28,0.24,0.51,0.29,0.51,0.96,0.47,0.24,0.57,0.32,0.58,0.32,0.34,0.53,0.64,0.53,0.4,0.54,0.53,0.26,0.26,0.23,0.41,0.64,0.18,0.41,0.43,0.44,0.4,0.54,0.54,0.38,0.915,0.59,0.67,0.37,0.785,0.63,0.58,0.67,0.785,0.63,0.67,0.58,0.38,0.37,0.32,0.58,0.49,0.45,0.9,0.54,0.49,0.29,0.2,0.42,0.785,0.64,0.63,0.59,0.59,0.48,1.04,0.48,0.98,0.69,0.7,0.35,0.6,0.5,0.47,0.5,0.47,0.875,0.28,0.62,0.28,0.58,0.33,0.91,0.655,0.68,0.64,0.54,0.57,0.22,0.54,0.65,0.54,0.31,0.43,0.54,0.74,0.895,0.74,0.725,0.82,0.585,0.44,0.38,0.76,0.81,0.38,0.27,0.18,0.36,0.69,0.79,0.56,0.84,0.84,0.32,0.53,0.47,0.7,0.53,0.48,0.32,0.48,0.42,0.48,0.47,0.53,0.29,0.69,0.44,0.705,0.53,0.39,0.56,0.55,0.53,0.58,0.64,0.39,0.52,0.25,0.855,0.44,0.37,0.63,0.57,0.6,0.4,0.36,0.68,0.67,0.68,0.735,0.855,0.56,0.88,0.855,0.63,0.6,0.6,0.6,0.695,0.695,0.695,0.67,0.16,0.695,0.56,0.51,0.36,0.38,0.69,0.58,0.31,0.52,0.3,0.7,0.67,0.56,0.35,0.56,0.715,0.46,0.32,0.39,0.31,0.61,0.66,0.725,0.55,0.74,0.51,0.62,0.6,0.55,0.51,0.645,0.31],\"y0\":\" \",\"yaxis\":\"y\",\"type\":\"box\"}],                        {\"template\":{\"data\":{\"histogram2dcontour\":[{\"type\":\"histogram2dcontour\",\"colorbar\":{\"outlinewidth\":0,\"ticks\":\"\"},\"colorscale\":[[0.0,\"#0d0887\"],[0.1111111111111111,\"#46039f\"],[0.2222222222222222,\"#7201a8\"],[0.3333333333333333,\"#9c179e\"],[0.4444444444444444,\"#bd3786\"],[0.5555555555555556,\"#d8576b\"],[0.6666666666666666,\"#ed7953\"],[0.7777777777777778,\"#fb9f3a\"],[0.8888888888888888,\"#fdca26\"],[1.0,\"#f0f921\"]]}],\"choropleth\":[{\"type\":\"choropleth\",\"colorbar\":{\"outlinewidth\":0,\"ticks\":\"\"}}],\"histogram2d\":[{\"type\":\"histogram2d\",\"colorbar\":{\"outlinewidth\":0,\"ticks\":\"\"},\"colorscale\":[[0.0,\"#0d0887\"],[0.1111111111111111,\"#46039f\"],[0.2222222222222222,\"#7201a8\"],[0.3333333333333333,\"#9c179e\"],[0.4444444444444444,\"#bd3786\"],[0.5555555555555556,\"#d8576b\"],[0.6666666666666666,\"#ed7953\"],[0.7777777777777778,\"#fb9f3a\"],[0.8888888888888888,\"#fdca26\"],[1.0,\"#f0f921\"]]}],\"heatmap\":[{\"type\":\"heatmap\",\"colorbar\":{\"outlinewidth\":0,\"ticks\":\"\"},\"colorscale\":[[0.0,\"#0d0887\"],[0.1111111111111111,\"#46039f\"],[0.2222222222222222,\"#7201a8\"],[0.3333333333333333,\"#9c179e\"],[0.4444444444444444,\"#bd3786\"],[0.5555555555555556,\"#d8576b\"],[0.6666666666666666,\"#ed7953\"],[0.7777777777777778,\"#fb9f3a\"],[0.8888888888888888,\"#fdca26\"],[1.0,\"#f0f921\"]]}],\"heatmapgl\":[{\"type\":\"heatmapgl\",\"colorbar\":{\"outlinewidth\":0,\"ticks\":\"\"},\"colorscale\":[[0.0,\"#0d0887\"],[0.1111111111111111,\"#46039f\"],[0.2222222222222222,\"#7201a8\"],[0.3333333333333333,\"#9c179e\"],[0.4444444444444444,\"#bd3786\"],[0.5555555555555556,\"#d8576b\"],[0.6666666666666666,\"#ed7953\"],[0.7777777777777778,\"#fb9f3a\"],[0.8888888888888888,\"#fdca26\"],[1.0,\"#f0f921\"]]}],\"contourcarpet\":[{\"type\":\"contourcarpet\",\"colorbar\":{\"outlinewidth\":0,\"ticks\":\"\"}}],\"contour\":[{\"type\":\"contour\",\"colorbar\":{\"outlinewidth\":0,\"ticks\":\"\"},\"colorscale\":[[0.0,\"#0d0887\"],[0.1111111111111111,\"#46039f\"],[0.2222222222222222,\"#7201a8\"],[0.3333333333333333,\"#9c179e\"],[0.4444444444444444,\"#bd3786\"],[0.5555555555555556,\"#d8576b\"],[0.6666666666666666,\"#ed7953\"],[0.7777777777777778,\"#fb9f3a\"],[0.8888888888888888,\"#fdca26\"],[1.0,\"#f0f921\"]]}],\"surface\":[{\"type\":\"surface\",\"colorbar\":{\"outlinewidth\":0,\"ticks\":\"\"},\"colorscale\":[[0.0,\"#0d0887\"],[0.1111111111111111,\"#46039f\"],[0.2222222222222222,\"#7201a8\"],[0.3333333333333333,\"#9c179e\"],[0.4444444444444444,\"#bd3786\"],[0.5555555555555556,\"#d8576b\"],[0.6666666666666666,\"#ed7953\"],[0.7777777777777778,\"#fb9f3a\"],[0.8888888888888888,\"#fdca26\"],[1.0,\"#f0f921\"]]}],\"mesh3d\":[{\"type\":\"mesh3d\",\"colorbar\":{\"outlinewidth\":0,\"ticks\":\"\"}}],\"scatter\":[{\"fillpattern\":{\"fillmode\":\"overlay\",\"size\":10,\"solidity\":0.2},\"type\":\"scatter\"}],\"parcoords\":[{\"type\":\"parcoords\",\"line\":{\"colorbar\":{\"outlinewidth\":0,\"ticks\":\"\"}}}],\"scatterpolargl\":[{\"type\":\"scatterpolargl\",\"marker\":{\"colorbar\":{\"outlinewidth\":0,\"ticks\":\"\"}}}],\"bar\":[{\"error_x\":{\"color\":\"#2a3f5f\"},\"error_y\":{\"color\":\"#2a3f5f\"},\"marker\":{\"line\":{\"color\":\"#E5ECF6\",\"width\":0.5},\"pattern\":{\"fillmode\":\"overlay\",\"size\":10,\"solidity\":0.2}},\"type\":\"bar\"}],\"scattergeo\":[{\"type\":\"scattergeo\",\"marker\":{\"colorbar\":{\"outlinewidth\":0,\"ticks\":\"\"}}}],\"scatterpolar\":[{\"type\":\"scatterpolar\",\"marker\":{\"colorbar\":{\"outlinewidth\":0,\"ticks\":\"\"}}}],\"histogram\":[{\"marker\":{\"pattern\":{\"fillmode\":\"overlay\",\"size\":10,\"solidity\":0.2}},\"type\":\"histogram\"}],\"scattergl\":[{\"type\":\"scattergl\",\"marker\":{\"colorbar\":{\"outlinewidth\":0,\"ticks\":\"\"}}}],\"scatter3d\":[{\"type\":\"scatter3d\",\"line\":{\"colorbar\":{\"outlinewidth\":0,\"ticks\":\"\"}},\"marker\":{\"colorbar\":{\"outlinewidth\":0,\"ticks\":\"\"}}}],\"scattermapbox\":[{\"type\":\"scattermapbox\",\"marker\":{\"colorbar\":{\"outlinewidth\":0,\"ticks\":\"\"}}}],\"scatterternary\":[{\"type\":\"scatterternary\",\"marker\":{\"colorbar\":{\"outlinewidth\":0,\"ticks\":\"\"}}}],\"scattercarpet\":[{\"type\":\"scattercarpet\",\"marker\":{\"colorbar\":{\"outlinewidth\":0,\"ticks\":\"\"}}}],\"carpet\":[{\"aaxis\":{\"endlinecolor\":\"#2a3f5f\",\"gridcolor\":\"white\",\"linecolor\":\"white\",\"minorgridcolor\":\"white\",\"startlinecolor\":\"#2a3f5f\"},\"baxis\":{\"endlinecolor\":\"#2a3f5f\",\"gridcolor\":\"white\",\"linecolor\":\"white\",\"minorgridcolor\":\"white\",\"startlinecolor\":\"#2a3f5f\"},\"type\":\"carpet\"}],\"table\":[{\"cells\":{\"fill\":{\"color\":\"#EBF0F8\"},\"line\":{\"color\":\"white\"}},\"header\":{\"fill\":{\"color\":\"#C8D4E3\"},\"line\":{\"color\":\"white\"}},\"type\":\"table\"}],\"barpolar\":[{\"marker\":{\"line\":{\"color\":\"#E5ECF6\",\"width\":0.5},\"pattern\":{\"fillmode\":\"overlay\",\"size\":10,\"solidity\":0.2}},\"type\":\"barpolar\"}],\"pie\":[{\"automargin\":true,\"type\":\"pie\"}]},\"layout\":{\"autotypenumbers\":\"strict\",\"colorway\":[\"#636efa\",\"#EF553B\",\"#00cc96\",\"#ab63fa\",\"#FFA15A\",\"#19d3f3\",\"#FF6692\",\"#B6E880\",\"#FF97FF\",\"#FECB52\"],\"font\":{\"color\":\"#2a3f5f\"},\"hovermode\":\"closest\",\"hoverlabel\":{\"align\":\"left\"},\"paper_bgcolor\":\"white\",\"plot_bgcolor\":\"#E5ECF6\",\"polar\":{\"bgcolor\":\"#E5ECF6\",\"angularaxis\":{\"gridcolor\":\"white\",\"linecolor\":\"white\",\"ticks\":\"\"},\"radialaxis\":{\"gridcolor\":\"white\",\"linecolor\":\"white\",\"ticks\":\"\"}},\"ternary\":{\"bgcolor\":\"#E5ECF6\",\"aaxis\":{\"gridcolor\":\"white\",\"linecolor\":\"white\",\"ticks\":\"\"},\"baxis\":{\"gridcolor\":\"white\",\"linecolor\":\"white\",\"ticks\":\"\"},\"caxis\":{\"gridcolor\":\"white\",\"linecolor\":\"white\",\"ticks\":\"\"}},\"coloraxis\":{\"colorbar\":{\"outlinewidth\":0,\"ticks\":\"\"}},\"colorscale\":{\"sequential\":[[0.0,\"#0d0887\"],[0.1111111111111111,\"#46039f\"],[0.2222222222222222,\"#7201a8\"],[0.3333333333333333,\"#9c179e\"],[0.4444444444444444,\"#bd3786\"],[0.5555555555555556,\"#d8576b\"],[0.6666666666666666,\"#ed7953\"],[0.7777777777777778,\"#fb9f3a\"],[0.8888888888888888,\"#fdca26\"],[1.0,\"#f0f921\"]],\"sequentialminus\":[[0.0,\"#0d0887\"],[0.1111111111111111,\"#46039f\"],[0.2222222222222222,\"#7201a8\"],[0.3333333333333333,\"#9c179e\"],[0.4444444444444444,\"#bd3786\"],[0.5555555555555556,\"#d8576b\"],[0.6666666666666666,\"#ed7953\"],[0.7777777777777778,\"#fb9f3a\"],[0.8888888888888888,\"#fdca26\"],[1.0,\"#f0f921\"]],\"diverging\":[[0,\"#8e0152\"],[0.1,\"#c51b7d\"],[0.2,\"#de77ae\"],[0.3,\"#f1b6da\"],[0.4,\"#fde0ef\"],[0.5,\"#f7f7f7\"],[0.6,\"#e6f5d0\"],[0.7,\"#b8e186\"],[0.8,\"#7fbc41\"],[0.9,\"#4d9221\"],[1,\"#276419\"]]},\"xaxis\":{\"gridcolor\":\"white\",\"linecolor\":\"white\",\"ticks\":\"\",\"title\":{\"standoff\":15},\"zerolinecolor\":\"white\",\"automargin\":true,\"zerolinewidth\":2},\"yaxis\":{\"gridcolor\":\"white\",\"linecolor\":\"white\",\"ticks\":\"\",\"title\":{\"standoff\":15},\"zerolinecolor\":\"white\",\"automargin\":true,\"zerolinewidth\":2},\"scene\":{\"xaxis\":{\"backgroundcolor\":\"#E5ECF6\",\"gridcolor\":\"white\",\"linecolor\":\"white\",\"showbackground\":true,\"ticks\":\"\",\"zerolinecolor\":\"white\",\"gridwidth\":2},\"yaxis\":{\"backgroundcolor\":\"#E5ECF6\",\"gridcolor\":\"white\",\"linecolor\":\"white\",\"showbackground\":true,\"ticks\":\"\",\"zerolinecolor\":\"white\",\"gridwidth\":2},\"zaxis\":{\"backgroundcolor\":\"#E5ECF6\",\"gridcolor\":\"white\",\"linecolor\":\"white\",\"showbackground\":true,\"ticks\":\"\",\"zerolinecolor\":\"white\",\"gridwidth\":2}},\"shapedefaults\":{\"line\":{\"color\":\"#2a3f5f\"}},\"annotationdefaults\":{\"arrowcolor\":\"#2a3f5f\",\"arrowhead\":0,\"arrowwidth\":1},\"geo\":{\"bgcolor\":\"white\",\"landcolor\":\"#E5ECF6\",\"subunitcolor\":\"white\",\"showland\":true,\"showlakes\":true,\"lakecolor\":\"white\"},\"title\":{\"x\":0.05},\"mapbox\":{\"style\":\"light\"}}},\"xaxis\":{\"anchor\":\"y\",\"domain\":[0.0,1.0]},\"yaxis\":{\"anchor\":\"x\",\"domain\":[0.0,1.0],\"title\":{\"text\":\"volatile acidity\"}},\"legend\":{\"tracegroupgap\":0},\"title\":{\"text\":\"Boxplot de volatile acidity\"},\"boxmode\":\"group\"},                        {\"responsive\": true}                    ).then(function(){\n",
              "                            \n",
              "var gd = document.getElementById('d7a15c7a-44e9-45df-ac09-ce9ab04513a4');\n",
              "var x = new MutationObserver(function (mutations, observer) {{\n",
              "        var display = window.getComputedStyle(gd).display;\n",
              "        if (!display || display === 'none') {{\n",
              "            console.log([gd, 'removed!']);\n",
              "            Plotly.purge(gd);\n",
              "            observer.disconnect();\n",
              "        }}\n",
              "}});\n",
              "\n",
              "// Listen for the removal of the full notebook cells\n",
              "var notebookContainer = gd.closest('#notebook-container');\n",
              "if (notebookContainer) {{\n",
              "    x.observe(notebookContainer, {childList: true});\n",
              "}}\n",
              "\n",
              "// Listen for the clearing of the current output cell\n",
              "var outputEl = gd.closest('.output');\n",
              "if (outputEl) {{\n",
              "    x.observe(outputEl, {childList: true});\n",
              "}}\n",
              "\n",
              "                        })                };                            </script>        </div>\n",
              "</body>\n",
              "</html>"
            ]
          },
          "metadata": {}
        },
        {
          "output_type": "display_data",
          "data": {
            "text/html": [
              "<html>\n",
              "<head><meta charset=\"utf-8\" /></head>\n",
              "<body>\n",
              "    <div>            <script src=\"https://cdnjs.cloudflare.com/ajax/libs/mathjax/2.7.5/MathJax.js?config=TeX-AMS-MML_SVG\"></script><script type=\"text/javascript\">if (window.MathJax && window.MathJax.Hub && window.MathJax.Hub.Config) {window.MathJax.Hub.Config({SVG: {font: \"STIX-Web\"}});}</script>                <script type=\"text/javascript\">window.PlotlyConfig = {MathJaxConfig: 'local'};</script>\n",
              "        <script charset=\"utf-8\" src=\"https://cdn.plot.ly/plotly-2.35.2.min.js\"></script>                <div id=\"dfb93300-2cf6-4900-95c8-78d21db1a8bf\" class=\"plotly-graph-div\" style=\"height:525px; width:100%;\"></div>            <script type=\"text/javascript\">                                    window.PLOTLYENV=window.PLOTLYENV || {};                                    if (document.getElementById(\"dfb93300-2cf6-4900-95c8-78d21db1a8bf\")) {                    Plotly.newPlot(                        \"dfb93300-2cf6-4900-95c8-78d21db1a8bf\",                        [{\"alignmentgroup\":\"True\",\"boxpoints\":\"all\",\"hovertemplate\":\"citric acid=%{y}\\u003cextra\\u003e\\u003c\\u002fextra\\u003e\",\"legendgroup\":\"\",\"marker\":{\"color\":\"#636efa\"},\"name\":\"\",\"notched\":false,\"offsetgroup\":\"\",\"orientation\":\"v\",\"showlegend\":false,\"x0\":\" \",\"xaxis\":\"x\",\"y\":[0.0,0.0,0.04,0.56,0.0,0.0,0.06,0.0,0.02,0.36,0.08,0.36,0.0,0.29,0.18,0.19,0.56,0.28,0.08,0.51,0.48,0.31,0.21,0.11,0.14,0.16,0.24,0.21,0.0,0.0,0.07,0.0,0.12,0.12,0.25,0.0,0.14,0.28,0.09,0.36,0.36,0.3,0.2,0.22,0.02,0.15,0.43,0.52,0.23,0.37,0.26,0.04,0.04,0.36,0.15,0.04,0.57,0.12,0.18,0.31,0.4,0.49,0.16,0.05,0.05,0.05,0.11,0.07,0.57,0.05,0.08,0.23,0.22,0.26,0.54,0.64,0.64,0.0,0.12,0.2,0.2,0.7,0.47,0.26,0.48,0.15,0.28,0.26,0.44,0.08,0.26,0.28,0.29,0.26,0.04,0.17,0.0,0.25,0.06,0.18,0.3,0.3,0.18,0.22,0.24,0.22,0.68,0.31,0.53,0.52,0.19,0.09,0.1,0.44,0.19,0.31,0.28,0.12,0.04,0.08,0.09,0.04,0.0,0.0,0.17,0.04,0.0,0.0,0.16,0.15,0.56,0.09,0.09,0.01,0.05,0.11,0.15,0.36,0.19,0.19,0.11,0.15,0.0,0.08,0.0,0.55,0.02,0.26,0.1,0.44,0.47,1.0,0.03,0.03,0.42,0.42,0.42,0.42,0.0,0.18,0.03,0.02,0.04,0.26,0.26,0.48,0.1,0.03,0.07,0.24,0.03,0.17,0.17,0.05,0.21,0.04,0.21,0.42,0.0,0.14,0.14,0.49,0.02,0.2,0.21,0.57,0.48,0.1,0.33,0.32,0.35,0.25,0.12,0.21,0.21,0.33,0.3,0.6,0.08,0.06,0.47,0.48,0.11,0.35,0.36,0.74,0.74,0.31,0.28,0.58,0.6,0.24,0.64,0.26,0.08,0.49,0.16,0.22,0.19,0.33,0.37,0.26,0.04,0.25,0.36,0.25,0.5,0.14,0.25,0.25,0.04,0.06,0.2,0.25,0.09,0.0,0.0,0.0,0.0,0.09,0.37,0.56,0.1,0.44,0.44,0.0,0.07,0.17,0.06,0.0,0.44,0.0,0.48,0.42,0.0,0.23,0.37,0.0,0.76,0.47,0.23,0.04,0.03,0.23,0.49,0.52,0.0,0.46,0.04,0.51,0.06,0.51,0.58,0.2,0.18,0.06,0.04,0.51,0.45,0.32,0.44,0.68,0.12,0.32,0.07,0.07,0.55,0.12,0.09,0.53,0.09,0.48,0.23,0.25,0.52,0.46,0.37,0.06,0.02,0.06,0.06,0.48,0.12,0.12,0.6,0.48,0.32,0.42,0.44,0.38,0.48,0.24,0.31,0.3,0.29,0.29,0.23,0.12,0.39,0.12,0.39,0.26,0.05,0.42,0.2,0.2,0.66,0.5,0.62,0.39,0.64,0.64,0.28,0.08,0.01,0.53,0.45,0.32,0.58,0.54,0.5,0.48,0.47,0.47,0.5,0.0,0.02,0.67,0.31,0.0,0.22,0.0,0.0,0.79,0.4,0.01,0.52,0.66,0.66,0.66,0.23,0.31,0.66,0.63,0.66,0.5,0.66,0.61,0.52,0.53,0.02,0.4,0.48,0.22,0.63,0.71,0.5,0.53,0.66,0.38,0.42,0.68,0.42,0.42,0.28,0.07,0.26,0.15,0.26,0.31,0.05,0.68,0.52,0.61,0.65,0.76,0.02,0.59,0.59,0.22,0.02,0.3,0.54,0.49,0.05,0.46,0.47,0.66,0.58,0.49,0.34,0.35,0.16,0.53,0.34,0.24,0.64,0.12,0.51,0.0,0.33,0.03,0.2,0.47,0.2,0.03,0.08,0.22,0.33,0.63,0.47,0.35,0.69,0.63,0.55,0.63,0.3,0.73,0.55,0.18,0.72,0.65,0.76,0.49,0.01,0.1,0.6,0.29,0.22,0.69,0.69,0.53,0.03,0.63,0.4,0.67,0.39,0.21,0.63,0.66,0.52,0.22,0.68,0.7,0.54,0.4,0.42,0.45,0.69,0.02,0.65,0.42,0.55,0.55,0.51,0.24,0.41,0.49,0.24,0.11,0.39,0.56,0.59,0.6,0.68,0.39,0.39,0.36,0.55,0.4,0.27,0.5,0.51,0.31,0.23,0.53,0.25,0.32,0.53,0.31,0.25,0.73,0.73,0.47,0.42,0.63,0.46,0.55,0.31,0.75,0.49,0.31,0.48,0.64,0.64,0.49,0.49,0.49,0.49,0.49,0.49,0.49,0.49,0.49,0.49,0.24,0.49,0.49,0.49,0.24,0.24,0.49,0.49,0.24,0.24,0.24,0.24,0.24,0.49,0.74,0.24,0.49,0.24,0.24,0.74,0.49,0.24,0.49,0.49,0.49,0.01,0.24,0.24,0.24,0.49,0.49,0.49,0.49,0.49,0.49,0.49,0.49,0.49,0.49,0.49,0.49,0.24,0.24,0.49,0.24,0.49,0.24,0.49,0.49,0.49,0.49,0.24,0.49,0.49,0.49,0.49,0.49,0.49,0.49,0.49,0.24,0.49,0.24,0.24,0.49,0.49,0.49,0.49,0.58,0.17,0.41,0.51,0.58,0.18,0.45,0.27,0.52,0.0,0.52,0.13,0.13,0.48,0.41,0.37,0.19,0.54,0.55,0.0,0.38,0.18,0.5,0.5,0.51,0.5,0.41,0.24,0.23,0.22,0.25,0.0,0.0,0.29,0.29,0.26,0.23,0.26,0.54,0.14,0.22,0.21,0.0,0.28,0.27,0.12,0.35,0.45,0.44,0.45,0.44,0.45,0.1,0.05,0.01,0.3,0.27,0.39,0.25,0.65,0.59,0.47,0.17,0.39,0.59,0.07,0.02,0.07,0.31,0.06,0.46,0.52,0.14,0.36,0.45,0.43,0.45,0.24,0.21,0.34,0.21,0.41,0.39,0.41,0.11,0.1,0.45,0.58,0.23,0.31,0.23,0.32,0.23,0.18,0.23,0.04,0.48,0.0,0.24,0.51,0.32,0.31,0.02,0.02,0.02,0.28,0.55,0.43,0.02,0.02,0.48,0.04,0.15,0.08,0.19,0.12,0.47,0.43,0.34,0.0,0.36,0.28,0.18,0.36,0.11,0.04,0.0,0.04,0.24,0.08,0.3,0.1,0.17,0.09,0.02,0.02,0.03,0.66,0.13,0.03,0.34,0.2,0.1,0.1,0.0,0.23,0.0,0.29,0.24,0.0,0.58,0.54,0.18,0.38,0.4,0.18,0.18,0.1,0.1,0.13,0.1,0.68,0.07,0.01,0.0,0.0,0.21,0.25,0.26,0.0,0.26,0.11,0.1,0.18,0.32,0.02,0.01,0.02,0.26,0.27,0.29,0.3,0.0,0.18,0.17,0.3,0.03,0.0,0.14,0.05,0.14,0.01,0.41,0.41,0.24,0.24,0.17,0.43,0.17,0.02,0.0,0.54,0.3,0.31,0.44,0.34,0.34,0.08,0.09,0.0,0.08,0.22,0.4,0.39,0.4,0.12,0.31,0.1,0.55,0.33,0.24,0.54,0.33,0.19,0.42,0.0,0.15,0.0,0.0,0.13,0.13,0.28,0.14,0.34,0.14,0.09,0.08,0.07,0.08,0.42,0.44,0.26,0.1,0.28,0.28,0.35,0.04,0.47,0.0,0.45,0.35,0.46,0.21,0.21,0.16,0.21,0.21,0.44,0.44,0.32,0.39,0.39,0.02,0.39,0.34,0.47,0.22,0.06,0.66,0.32,0.06,0.06,0.07,0.22,0.23,0.22,0.03,0.01,0.03,0.24,0.37,0.46,0.4,0.0,0.01,0.19,0.04,0.18,0.0,0.29,0.04,0.19,0.14,0.12,0.38,0.0,0.34,0.24,0.03,0.23,0.03,0.03,0.01,0.39,0.01,0.39,0.02,0.36,0.1,0.1,0.06,0.06,0.2,0.27,0.0,0.13,0.39,0.48,0.46,0.44,0.46,0.39,0.4,0.19,0.31,0.32,0.12,0.37,0.32,0.12,0.31,0.27,0.36,0.33,0.19,0.27,0.38,0.01,0.01,0.29,0.01,0.01,0.38,0.38,0.5,0.38,0.17,0.52,0.49,0.4,0.34,0.49,0.42,0.58,0.48,0.45,0.45,0.45,0.48,0.4,0.48,0.4,0.52,0.52,0.52,0.12,0.05,0.27,0.14,0.02,0.39,0.27,0.4,0.41,0.2,0.43,0.09,0.48,0.48,0.5,0.44,0.41,0.3,0.3,0.29,0.32,0.49,0.3,0.26,0.32,0.3,0.49,0.0,0.39,0.3,0.12,0.4,0.12,0.28,0.1,0.28,0.45,0.06,0.0,0.0,0.34,0.0,0.3,0.38,0.33,0.32,0.29,0.32,0.33,0.34,0.4,0.36,0.45,0.31,0.15,0.0,0.16,0.46,0.4,0.37,0.37,0.14,0.66,0.66,0.09,0.42,0.01,0.0,0.32,0.0,0.21,0.01,0.0,0.01,0.0,0.08,0.18,0.34,0.34,0.1,0.41,0.21,0.0,0.19,0.21,0.41,0.33,0.0,0.0,0.17,0.36,0.36,0.17,0.59,0.05,0.42,0.27,0.27,0.53,0.25,0.57,0.53,0.57,0.5,0.44,0.65,0.09,0.18,0.08,0.53,0.53,0.35,0.45,0.2,0.26,0.33,0.2,0.34,0.56,0.65,0.65,0.68,0.56,0.68,0.3,0.45,0.3,0.08,0.4,0.42,0.54,0.54,0.54,0.42,0.09,0.36,0.09,0.47,0.09,0.38,0.45,0.38,0.42,0.27,0.09,0.27,0.34,0.28,0.42,0.41,0.1,0.43,0.0,0.27,0.41,0.39,0.5,0.07,0.07,0.07,0.12,0.0,0.34,0.0,0.0,0.37,0.0,0.35,0.26,0.0,0.33,0.35,0.0,0.21,0.34,0.07,0.35,0.43,0.45,0.45,0.15,0.24,0.3,0.32,0.11,0.3,0.23,0.43,0.12,0.45,0.42,0.47,0.32,0.23,0.25,0.35,0.0,0.25,0.51,0.18,0.43,0.43,0.57,0.43,0.42,0.24,0.24,0.5,0.26,0.39,0.27,0.29,0.34,0.0,0.46,0.31,0.31,0.0,0.03,0.0,0.0,0.33,0.33,0.43,0.4,0.07,0.23,0.3,0.03,0.3,0.23,0.05,0.57,0.0,0.37,0.0,0.12,0.22,0.23,0.21,0.26,0.23,0.21,0.36,0.39,0.19,0.46,0.46,0.46,0.55,0.46,0.43,0.02,0.15,0.02,0.42,0.46,0.46,0.31,0.37,0.31,0.4,0.52,0.52,0.22,0.47,0.49,0.23,0.03,0.25,0.0,0.29,0.34,0.01,0.29,0.37,0.01,0.32,0.0,0.01,0.0,0.0,0.2,0.39,0.41,0.22,0.25,0.19,0.07,0.19,0.33,0.01,0.01,0.14,0.0,0.0,0.06,0.02,0.22,0.28,0.0,0.0,0.68,0.0,0.38,0.0,0.32,0.05,0.05,0.5,0.31,0.03,0.01,0.2,0.0,0.2,0.13,0.22,0.4,0.0,0.22,0.39,0.2,0.2,0.0,0.28,0.19,0.5,0.44,0.08,0.3,0.3,0.0,0.1,0.13,0.0,0.1,0.0,0.0,0.14,0.0,0.0,0.0,0.07,0.32,0.44,0.21,0.26,0.32,0.09,0.32,0.1,0.26,0.15,0.21,0.21,0.21,0.27,0.0,0.46,0.27,0.68,0.34,0.0,0.42,0.39,0.24,0.24,0.24,0.24,0.11,0.26,0.26,0.26,0.1,0.22,0.0,0.02,0.0,0.0,0.0,0.02,0.02,0.02,0.02,0.02,0.48,0.24,0.01,0.03,0.03,0.0,0.29,0.01,0.03,0.03,0.03,0.25,0.25,0.24,0.17,0.4,0.31,0.14,0.4,0.27,0.02,0.09,0.08,0.3,0.32,0.0,0.51,0.56,0.51,0.27,0.0,0.26,0.2,0.26,0.15,0.02,0.02,0.09,0.22,0.22,0.15,0.25,0.07,0.07,0.31,0.02,0.0,0.22,0.06,0.25,0.14,0.1,0.1,0.26,0.12,0.0,0.21,0.21,0.42,0.33,0.39,0.3,0.34,0.0,0.36,0.0,0.0,0.4,0.34,0.25,0.59,0.0,0.59,0.33,0.01,0.21,0.01,0.18,0.0,0.09,0.37,0.37,0.37,0.33,0.0,0.4,0.24,0.31,0.0,0.16,0.37,0.37,0.38,0.29,0.0,0.02,0.32,0.19,0.02,0.2,0.02,0.19,0.02,0.0,0.01,0.31,0.32,0.44,0.02,0.33,0.63,0.0,0.06,0.33,0.4,0.35,0.09,0.0,0.03,0.01,0.1,0.1,0.32,0.08,0.32,0.05,0.11,0.08,0.6,0.08,0.5,0.11,0.5,0.11,0.05,0.6,0.03,0.6,0.54,0.44,0.06,0.16,0.21,0.05,0.04,0.1,0.49,0.04,0.06,0.26,0.09,0.02,0.26,0.03,0.04,0.03,0.04,0.29,0.18,0.39,0.57,0.02,0.05,0.57,0.6,0.4,0.21,0.04,0.04,0.15,0.21,0.21,0.25,0.06,0.46,0.08,0.06,0.2,0.25,0.25,0.19,0.08,0.08,0.07,0.49,0.08,0.09,0.1,0.13,0.3,0.14,0.13,0.08,0.08,0.09,0.32,0.08,0.29,0.02,0.42,0.43,0.33,0.02,0.1,0.5,0.3,0.0,0.0,0.01,0.0,0.02,0.17,0.04,0.02,0.33,0.26,0.26,0.26,0.13,0.13,0.13,0.02,0.64,0.13,0.13,0.14,0.53,0.14,0.32,0.2,0.78,0.4,0.63,0.15,0.15,0.09,0.33,0.09,0.1,0.29,0.44,0.44,0.41,0.11,0.33,0.2,0.15,0.09,0.13,0.08,0.08,0.1,0.13,0.12,0.47],\"y0\":\" \",\"yaxis\":\"y\",\"type\":\"box\"}],                        {\"template\":{\"data\":{\"histogram2dcontour\":[{\"type\":\"histogram2dcontour\",\"colorbar\":{\"outlinewidth\":0,\"ticks\":\"\"},\"colorscale\":[[0.0,\"#0d0887\"],[0.1111111111111111,\"#46039f\"],[0.2222222222222222,\"#7201a8\"],[0.3333333333333333,\"#9c179e\"],[0.4444444444444444,\"#bd3786\"],[0.5555555555555556,\"#d8576b\"],[0.6666666666666666,\"#ed7953\"],[0.7777777777777778,\"#fb9f3a\"],[0.8888888888888888,\"#fdca26\"],[1.0,\"#f0f921\"]]}],\"choropleth\":[{\"type\":\"choropleth\",\"colorbar\":{\"outlinewidth\":0,\"ticks\":\"\"}}],\"histogram2d\":[{\"type\":\"histogram2d\",\"colorbar\":{\"outlinewidth\":0,\"ticks\":\"\"},\"colorscale\":[[0.0,\"#0d0887\"],[0.1111111111111111,\"#46039f\"],[0.2222222222222222,\"#7201a8\"],[0.3333333333333333,\"#9c179e\"],[0.4444444444444444,\"#bd3786\"],[0.5555555555555556,\"#d8576b\"],[0.6666666666666666,\"#ed7953\"],[0.7777777777777778,\"#fb9f3a\"],[0.8888888888888888,\"#fdca26\"],[1.0,\"#f0f921\"]]}],\"heatmap\":[{\"type\":\"heatmap\",\"colorbar\":{\"outlinewidth\":0,\"ticks\":\"\"},\"colorscale\":[[0.0,\"#0d0887\"],[0.1111111111111111,\"#46039f\"],[0.2222222222222222,\"#7201a8\"],[0.3333333333333333,\"#9c179e\"],[0.4444444444444444,\"#bd3786\"],[0.5555555555555556,\"#d8576b\"],[0.6666666666666666,\"#ed7953\"],[0.7777777777777778,\"#fb9f3a\"],[0.8888888888888888,\"#fdca26\"],[1.0,\"#f0f921\"]]}],\"heatmapgl\":[{\"type\":\"heatmapgl\",\"colorbar\":{\"outlinewidth\":0,\"ticks\":\"\"},\"colorscale\":[[0.0,\"#0d0887\"],[0.1111111111111111,\"#46039f\"],[0.2222222222222222,\"#7201a8\"],[0.3333333333333333,\"#9c179e\"],[0.4444444444444444,\"#bd3786\"],[0.5555555555555556,\"#d8576b\"],[0.6666666666666666,\"#ed7953\"],[0.7777777777777778,\"#fb9f3a\"],[0.8888888888888888,\"#fdca26\"],[1.0,\"#f0f921\"]]}],\"contourcarpet\":[{\"type\":\"contourcarpet\",\"colorbar\":{\"outlinewidth\":0,\"ticks\":\"\"}}],\"contour\":[{\"type\":\"contour\",\"colorbar\":{\"outlinewidth\":0,\"ticks\":\"\"},\"colorscale\":[[0.0,\"#0d0887\"],[0.1111111111111111,\"#46039f\"],[0.2222222222222222,\"#7201a8\"],[0.3333333333333333,\"#9c179e\"],[0.4444444444444444,\"#bd3786\"],[0.5555555555555556,\"#d8576b\"],[0.6666666666666666,\"#ed7953\"],[0.7777777777777778,\"#fb9f3a\"],[0.8888888888888888,\"#fdca26\"],[1.0,\"#f0f921\"]]}],\"surface\":[{\"type\":\"surface\",\"colorbar\":{\"outlinewidth\":0,\"ticks\":\"\"},\"colorscale\":[[0.0,\"#0d0887\"],[0.1111111111111111,\"#46039f\"],[0.2222222222222222,\"#7201a8\"],[0.3333333333333333,\"#9c179e\"],[0.4444444444444444,\"#bd3786\"],[0.5555555555555556,\"#d8576b\"],[0.6666666666666666,\"#ed7953\"],[0.7777777777777778,\"#fb9f3a\"],[0.8888888888888888,\"#fdca26\"],[1.0,\"#f0f921\"]]}],\"mesh3d\":[{\"type\":\"mesh3d\",\"colorbar\":{\"outlinewidth\":0,\"ticks\":\"\"}}],\"scatter\":[{\"fillpattern\":{\"fillmode\":\"overlay\",\"size\":10,\"solidity\":0.2},\"type\":\"scatter\"}],\"parcoords\":[{\"type\":\"parcoords\",\"line\":{\"colorbar\":{\"outlinewidth\":0,\"ticks\":\"\"}}}],\"scatterpolargl\":[{\"type\":\"scatterpolargl\",\"marker\":{\"colorbar\":{\"outlinewidth\":0,\"ticks\":\"\"}}}],\"bar\":[{\"error_x\":{\"color\":\"#2a3f5f\"},\"error_y\":{\"color\":\"#2a3f5f\"},\"marker\":{\"line\":{\"color\":\"#E5ECF6\",\"width\":0.5},\"pattern\":{\"fillmode\":\"overlay\",\"size\":10,\"solidity\":0.2}},\"type\":\"bar\"}],\"scattergeo\":[{\"type\":\"scattergeo\",\"marker\":{\"colorbar\":{\"outlinewidth\":0,\"ticks\":\"\"}}}],\"scatterpolar\":[{\"type\":\"scatterpolar\",\"marker\":{\"colorbar\":{\"outlinewidth\":0,\"ticks\":\"\"}}}],\"histogram\":[{\"marker\":{\"pattern\":{\"fillmode\":\"overlay\",\"size\":10,\"solidity\":0.2}},\"type\":\"histogram\"}],\"scattergl\":[{\"type\":\"scattergl\",\"marker\":{\"colorbar\":{\"outlinewidth\":0,\"ticks\":\"\"}}}],\"scatter3d\":[{\"type\":\"scatter3d\",\"line\":{\"colorbar\":{\"outlinewidth\":0,\"ticks\":\"\"}},\"marker\":{\"colorbar\":{\"outlinewidth\":0,\"ticks\":\"\"}}}],\"scattermapbox\":[{\"type\":\"scattermapbox\",\"marker\":{\"colorbar\":{\"outlinewidth\":0,\"ticks\":\"\"}}}],\"scatterternary\":[{\"type\":\"scatterternary\",\"marker\":{\"colorbar\":{\"outlinewidth\":0,\"ticks\":\"\"}}}],\"scattercarpet\":[{\"type\":\"scattercarpet\",\"marker\":{\"colorbar\":{\"outlinewidth\":0,\"ticks\":\"\"}}}],\"carpet\":[{\"aaxis\":{\"endlinecolor\":\"#2a3f5f\",\"gridcolor\":\"white\",\"linecolor\":\"white\",\"minorgridcolor\":\"white\",\"startlinecolor\":\"#2a3f5f\"},\"baxis\":{\"endlinecolor\":\"#2a3f5f\",\"gridcolor\":\"white\",\"linecolor\":\"white\",\"minorgridcolor\":\"white\",\"startlinecolor\":\"#2a3f5f\"},\"type\":\"carpet\"}],\"table\":[{\"cells\":{\"fill\":{\"color\":\"#EBF0F8\"},\"line\":{\"color\":\"white\"}},\"header\":{\"fill\":{\"color\":\"#C8D4E3\"},\"line\":{\"color\":\"white\"}},\"type\":\"table\"}],\"barpolar\":[{\"marker\":{\"line\":{\"color\":\"#E5ECF6\",\"width\":0.5},\"pattern\":{\"fillmode\":\"overlay\",\"size\":10,\"solidity\":0.2}},\"type\":\"barpolar\"}],\"pie\":[{\"automargin\":true,\"type\":\"pie\"}]},\"layout\":{\"autotypenumbers\":\"strict\",\"colorway\":[\"#636efa\",\"#EF553B\",\"#00cc96\",\"#ab63fa\",\"#FFA15A\",\"#19d3f3\",\"#FF6692\",\"#B6E880\",\"#FF97FF\",\"#FECB52\"],\"font\":{\"color\":\"#2a3f5f\"},\"hovermode\":\"closest\",\"hoverlabel\":{\"align\":\"left\"},\"paper_bgcolor\":\"white\",\"plot_bgcolor\":\"#E5ECF6\",\"polar\":{\"bgcolor\":\"#E5ECF6\",\"angularaxis\":{\"gridcolor\":\"white\",\"linecolor\":\"white\",\"ticks\":\"\"},\"radialaxis\":{\"gridcolor\":\"white\",\"linecolor\":\"white\",\"ticks\":\"\"}},\"ternary\":{\"bgcolor\":\"#E5ECF6\",\"aaxis\":{\"gridcolor\":\"white\",\"linecolor\":\"white\",\"ticks\":\"\"},\"baxis\":{\"gridcolor\":\"white\",\"linecolor\":\"white\",\"ticks\":\"\"},\"caxis\":{\"gridcolor\":\"white\",\"linecolor\":\"white\",\"ticks\":\"\"}},\"coloraxis\":{\"colorbar\":{\"outlinewidth\":0,\"ticks\":\"\"}},\"colorscale\":{\"sequential\":[[0.0,\"#0d0887\"],[0.1111111111111111,\"#46039f\"],[0.2222222222222222,\"#7201a8\"],[0.3333333333333333,\"#9c179e\"],[0.4444444444444444,\"#bd3786\"],[0.5555555555555556,\"#d8576b\"],[0.6666666666666666,\"#ed7953\"],[0.7777777777777778,\"#fb9f3a\"],[0.8888888888888888,\"#fdca26\"],[1.0,\"#f0f921\"]],\"sequentialminus\":[[0.0,\"#0d0887\"],[0.1111111111111111,\"#46039f\"],[0.2222222222222222,\"#7201a8\"],[0.3333333333333333,\"#9c179e\"],[0.4444444444444444,\"#bd3786\"],[0.5555555555555556,\"#d8576b\"],[0.6666666666666666,\"#ed7953\"],[0.7777777777777778,\"#fb9f3a\"],[0.8888888888888888,\"#fdca26\"],[1.0,\"#f0f921\"]],\"diverging\":[[0,\"#8e0152\"],[0.1,\"#c51b7d\"],[0.2,\"#de77ae\"],[0.3,\"#f1b6da\"],[0.4,\"#fde0ef\"],[0.5,\"#f7f7f7\"],[0.6,\"#e6f5d0\"],[0.7,\"#b8e186\"],[0.8,\"#7fbc41\"],[0.9,\"#4d9221\"],[1,\"#276419\"]]},\"xaxis\":{\"gridcolor\":\"white\",\"linecolor\":\"white\",\"ticks\":\"\",\"title\":{\"standoff\":15},\"zerolinecolor\":\"white\",\"automargin\":true,\"zerolinewidth\":2},\"yaxis\":{\"gridcolor\":\"white\",\"linecolor\":\"white\",\"ticks\":\"\",\"title\":{\"standoff\":15},\"zerolinecolor\":\"white\",\"automargin\":true,\"zerolinewidth\":2},\"scene\":{\"xaxis\":{\"backgroundcolor\":\"#E5ECF6\",\"gridcolor\":\"white\",\"linecolor\":\"white\",\"showbackground\":true,\"ticks\":\"\",\"zerolinecolor\":\"white\",\"gridwidth\":2},\"yaxis\":{\"backgroundcolor\":\"#E5ECF6\",\"gridcolor\":\"white\",\"linecolor\":\"white\",\"showbackground\":true,\"ticks\":\"\",\"zerolinecolor\":\"white\",\"gridwidth\":2},\"zaxis\":{\"backgroundcolor\":\"#E5ECF6\",\"gridcolor\":\"white\",\"linecolor\":\"white\",\"showbackground\":true,\"ticks\":\"\",\"zerolinecolor\":\"white\",\"gridwidth\":2}},\"shapedefaults\":{\"line\":{\"color\":\"#2a3f5f\"}},\"annotationdefaults\":{\"arrowcolor\":\"#2a3f5f\",\"arrowhead\":0,\"arrowwidth\":1},\"geo\":{\"bgcolor\":\"white\",\"landcolor\":\"#E5ECF6\",\"subunitcolor\":\"white\",\"showland\":true,\"showlakes\":true,\"lakecolor\":\"white\"},\"title\":{\"x\":0.05},\"mapbox\":{\"style\":\"light\"}}},\"xaxis\":{\"anchor\":\"y\",\"domain\":[0.0,1.0]},\"yaxis\":{\"anchor\":\"x\",\"domain\":[0.0,1.0],\"title\":{\"text\":\"citric acid\"}},\"legend\":{\"tracegroupgap\":0},\"title\":{\"text\":\"Boxplot de citric acid\"},\"boxmode\":\"group\"},                        {\"responsive\": true}                    ).then(function(){\n",
              "                            \n",
              "var gd = document.getElementById('dfb93300-2cf6-4900-95c8-78d21db1a8bf');\n",
              "var x = new MutationObserver(function (mutations, observer) {{\n",
              "        var display = window.getComputedStyle(gd).display;\n",
              "        if (!display || display === 'none') {{\n",
              "            console.log([gd, 'removed!']);\n",
              "            Plotly.purge(gd);\n",
              "            observer.disconnect();\n",
              "        }}\n",
              "}});\n",
              "\n",
              "// Listen for the removal of the full notebook cells\n",
              "var notebookContainer = gd.closest('#notebook-container');\n",
              "if (notebookContainer) {{\n",
              "    x.observe(notebookContainer, {childList: true});\n",
              "}}\n",
              "\n",
              "// Listen for the clearing of the current output cell\n",
              "var outputEl = gd.closest('.output');\n",
              "if (outputEl) {{\n",
              "    x.observe(outputEl, {childList: true});\n",
              "}}\n",
              "\n",
              "                        })                };                            </script>        </div>\n",
              "</body>\n",
              "</html>"
            ]
          },
          "metadata": {}
        },
        {
          "output_type": "display_data",
          "data": {
            "text/html": [
              "<html>\n",
              "<head><meta charset=\"utf-8\" /></head>\n",
              "<body>\n",
              "    <div>            <script src=\"https://cdnjs.cloudflare.com/ajax/libs/mathjax/2.7.5/MathJax.js?config=TeX-AMS-MML_SVG\"></script><script type=\"text/javascript\">if (window.MathJax && window.MathJax.Hub && window.MathJax.Hub.Config) {window.MathJax.Hub.Config({SVG: {font: \"STIX-Web\"}});}</script>                <script type=\"text/javascript\">window.PlotlyConfig = {MathJaxConfig: 'local'};</script>\n",
              "        <script charset=\"utf-8\" src=\"https://cdn.plot.ly/plotly-2.35.2.min.js\"></script>                <div id=\"48f365f3-e700-420f-8367-ebfea3e19e99\" class=\"plotly-graph-div\" style=\"height:525px; width:100%;\"></div>            <script type=\"text/javascript\">                                    window.PLOTLYENV=window.PLOTLYENV || {};                                    if (document.getElementById(\"48f365f3-e700-420f-8367-ebfea3e19e99\")) {                    Plotly.newPlot(                        \"48f365f3-e700-420f-8367-ebfea3e19e99\",                        [{\"alignmentgroup\":\"True\",\"boxpoints\":\"all\",\"hovertemplate\":\"residual sugar=%{y}\\u003cextra\\u003e\\u003c\\u002fextra\\u003e\",\"legendgroup\":\"\",\"marker\":{\"color\":\"#636efa\"},\"name\":\"\",\"notched\":false,\"offsetgroup\":\"\",\"orientation\":\"v\",\"showlegend\":false,\"x0\":\" \",\"xaxis\":\"x\",\"y\":[1.9,2.6,2.3,1.9,1.9,1.8,1.6,1.2,2.0,6.1,1.8,6.1,1.6,1.6,3.8,3.9,1.8,1.7,4.4,1.8,1.8,2.3,1.6,2.3,2.4,1.4,1.8,1.6,1.9,2.0,2.4,2.5,2.3,10.7,1.8,5.5,2.4,2.1,1.5,5.9,5.9,2.8,2.6,2.2,1.8,2.1,2.2,1.6,1.6,1.4,1.7,2.2,2.1,3.0,2.8,3.8,3.4,5.1,2.3,2.4,2.2,1.8,1.9,2.0,4.65,4.65,1.5,1.6,2.0,1.9,1.9,2.1,1.9,2.1,2.5,2.2,2.2,2.4,2.0,1.5,1.6,1.9,2.0,1.8,1.8,2.2,1.9,1.9,2.1,1.8,1.9,1.9,2.0,1.9,1.4,2.3,3.0,2.0,2.5,1.9,2.1,1.9,1.9,2.1,2.2,2.1,1.7,1.7,2.5,2.0,1.8,2.2,2.2,2.3,1.8,2.2,1.9,2.0,2.2,1.8,1.7,2.2,2.5,2.6,1.6,1.9,1.7,1.8,1.8,1.8,2.0,2.3,2.3,1.5,2.2,1.9,1.8,2.0,2.1,2.0,1.9,1.8,1.8,1.7,1.8,1.8,1.8,1.6,2.3,2.8,2.1,3.4,1.8,1.8,5.5,5.5,5.5,5.5,2.2,1.9,2.0,1.3,1.7,7.3,7.2,1.7,2.1,1.6,2.1,1.8,1.8,2.0,2.0,1.9,2.0,1.5,2.0,2.3,2.5,2.4,2.4,2.0,2.5,1.8,1.9,2.0,2.0,2.6,2.0,1.9,2.9,1.9,3.8,2.2,2.2,2.0,2.4,2.0,1.2,2.1,1.4,2.1,1.5,1.6,1.6,2.6,2.6,1.8,2.7,2.1,2.0,2.8,2.1,2.2,2.4,5.6,2.0,2.2,1.9,2.4,2.0,2.0,1.5,2.0,2.0,2.6,2.0,2.6,2.6,2.6,1.6,1.8,2.8,2.6,2.3,1.9,1.9,1.9,1.9,2.3,1.7,2.1,1.8,2.2,2.2,2.0,1.9,2.3,1.7,2.0,1.6,1.8,3.1,1.9,1.8,3.2,2.2,2.1,1.8,2.6,1.7,2.0,1.7,1.8,2.4,1.8,3.3,3.6,3.0,4.0,4.0,4.0,4.0,2.4,7.0,4.0,3.0,4.0,6.4,5.6,3.6,3.5,3.0,5.6,3.4,3.4,2.0,3.0,2.5,3.3,2.5,2.0,2.7,2.4,3.2,2.5,2.6,2.0,2.3,2.1,2.6,1.5,2.6,1.6,2.1,2.5,2.2,2.4,2.4,1.7,2.5,2.0,2.8,3.0,2.6,2.5,3.4,2.9,3.2,2.9,3.2,3.4,2.3,2.8,11.0,11.0,3.65,4.5,2.6,2.0,2.9,2.9,3.2,2.1,2.5,3.4,1.9,2.8,3.0,2.3,2.4,2.7,1.8,1.8,2.6,1.9,2.7,3.0,2.8,2.6,2.7,2.6,2.4,4.8,1.4,2.4,3.0,2.95,3.1,2.6,2.0,2.6,2.5,2.0,5.8,3.4,5.8,2.6,2.8,2.4,2.3,1.6,1.8,2.2,3.8,4.4,3.0,2.4,6.2,2.5,2.0,2.9,2.0,2.0,2.1,2.4,2.0,1.9,1.9,2.5,1.4,2.9,2.0,2.0,2.3,4.2,7.9,2.6,2.6,2.3,7.9,1.7,2.6,2.7,2.7,1.4,2.5,3.0,3.7,4.5,2.5,2.4,1.9,6.7,2.7,6.6,2.2,1.9,2.0,1.8,2.4,2.3,2.0,2.1,2.0,2.3,2.1,1.9,1.3,2.4,2.1,2.2,2.3,2.3,3.2,2.3,2.0,3.2,3.2,1.5,2.2,2.15,3.7,2.7,1.7,2.1,2.6,2.1,2.0,2.8,2.8,1.8,1.7,2.8,1.6,5.2,2.3,2.7,2.8,2.2,2.3,2.6,2.55,2.2,2.1,2.9,2.0,2.6,2.1,1.2,2.6,2.4,2.6,2.1,1.7,2.2,2.0,1.8,2.2,2.7,15.5,2.8,2.2,2.2,4.1,1.9,1.9,1.8,2.8,2.6,2.8,2.5,2.6,3.0,8.3,2.6,1.9,2.5,2.6,3.0,1.9,6.55,6.55,1.9,1.8,2.9,1.8,2.3,2.2,2.8,4.6,2.2,2.1,2.4,2.4,6.1,4.3,2.1,2.8,2.5,2.7,2.0,2.3,2.5,2.4,2.8,2.5,2.5,2.6,2.4,2.1,2.7,2.7,2.1,2.7,2.1,2.4,2.1,5.8,5.15,3.3,6.3,2.1,2.5,1.8,2.6,2.0,2.5,2.6,1.9,2.1,2.8,2.7,1.6,4.2,4.2,4.6,4.2,4.6,4.3,2.8,2.4,2.9,2.7,4.3,2.8,2.5,2.5,2.6,2.2,3.3,2.2,2.4,2.1,3.2,3.1,2.3,2.8,2.9,2.2,2.2,2.2,2.2,1.9,3.4,2.4,2.7,1.9,2.0,2.6,2.6,1.7,2.6,3.5,2.6,7.9,2.0,1.9,2.1,2.3,2.1,2.2,2.6,2.2,2.9,2.6,4.6,3.3,5.1,3.2,2.5,2.7,2.4,1.5,2.2,2.3,2.3,2.2,2.7,2.3,3.4,3.4,1.9,2.9,5.6,5.6,2.2,2.2,2.5,2.3,2.5,2.7,3.0,3.4,1.9,1.4,2.4,2.3,2.2,1.9,2.3,2.3,2.3,2.3,2.3,6.0,3.6,2.2,2.8,8.6,2.2,2.5,7.5,2.8,2.4,2.9,2.2,1.4,1.4,4.4,1.4,1.6,1.6,1.8,2.0,2.0,1.8,2.0,2.3,2.0,2.5,1.7,2.0,1.7,2.2,2.2,2.2,2.3,2.6,3.3,1.9,2.2,2.25,2.6,2.3,2.6,1.8,3.1,1.6,1.8,4.25,2.6,2.0,2.8,2.7,1.3,2.1,2.1,3.2,2.1,2.9,2.1,2.1,2.6,1.6,6.0,2.0,3.0,2.5,1.6,2.8,3.0,3.2,2.3,2.6,2.7,2.3,2.6,2.0,3.9,2.0,2.85,2.7,2.2,3.1,3.0,2.8,1.8,1.8,3.2,2.3,3.45,2.1,2.7,2.0,2.1,2.1,2.5,2.8,2.4,4.2,2.6,1.9,2.8,2.7,2.1,2.5,2.6,2.1,2.1,2.9,2.9,2.5,2.9,1.7,1.9,2.0,2.2,2.2,2.5,2.8,2.0,1.7,2.0,2.8,3.0,2.9,2.7,2.3,1.9,2.3,2.4,2.3,1.8,1.8,3.0,2.4,2.4,3.4,2.6,2.0,2.4,2.4,2.4,2.5,2.3,2.3,2.2,2.2,2.9,2.6,2.9,2.5,2.6,2.3,2.6,2.5,1.6,3.6,3.6,4.0,3.3,1.7,2.5,2.7,2.4,2.0,2.4,1.9,2.8,2.6,2.8,2.5,2.1,2.8,2.5,3.2,1.6,2.35,3.2,1.9,2.1,2.0,2.0,2.8,2.8,2.3,2.8,2.3,2.1,2.5,2.1,1.5,1.6,1.6,1.5,2.4,2.4,1.6,2.2,2.65,3.0,2.6,2.0,1.7,1.8,1.8,1.8,1.8,1.6,1.9,1.9,2.5,1.5,1.5,2.5,1.5,2.5,1.7,1.8,2.7,2.0,2.7,2.5,2.7,2.6,2.3,2.0,1.8,2.0,2.1,1.5,2.0,1.6,2.1,2.8,2.2,2.1,4.0,2.5,1.6,2.1,3.1,2.5,4.0,2.5,2.4,2.6,2.5,6.6,2.0,2.3,1.9,2.3,2.2,2.3,2.4,2.3,2.4,3.4,2.6,2.4,2.4,6.0,6.0,3.0,2.6,2.2,2.4,1.2,3.8,9.0,2.9,4.6,1.2,2.2,1.5,8.8,2.2,1.8,2.3,2.2,1.8,8.8,2.3,1.9,2.3,2.2,2.3,3.3,1.9,2.0,1.9,2.0,1.9,2.3,2.3,1.4,2.8,1.6,2.2,5.0,2.6,2.3,3.8,2.0,4.1,2.1,1.8,1.8,1.8,2.1,2.2,2.1,2.7,1.9,2.1,2.0,2.3,2.0,1.9,1.6,2.1,2.0,1.9,2.4,2.4,2.1,2.4,2.9,1.9,1.9,2.4,1.7,5.9,2.1,2.1,2.6,3.6,1.4,1.9,1.9,2.1,1.9,1.4,2.0,1.4,1.6,1.7,1.5,1.7,2.0,2.0,2.0,2.5,2.0,2.2,2.2,1.4,1.65,2.2,1.5,2.05,1.8,1.6,1.8,2.05,2.0,3.6,2.8,1.7,2.0,2.1,1.6,2.0,2.2,2.2,0.9,0.9,1.8,2.4,2.4,2.1,2.3,1.8,2.8,1.9,2.2,2.5,1.8,2.1,1.8,4.1,2.6,2.5,2.4,2.5,1.8,6.2,2.2,2.2,1.7,2.2,8.9,3.3,1.4,1.7,1.8,1.7,1.8,1.8,1.4,2.4,2.3,2.0,2.0,4.0,3.9,2.4,4.0,1.8,1.8,1.9,2.4,2.0,2.4,2.4,2.2,2.2,2.8,1.5,8.1,1.8,2.7,8.1,2.0,2.0,6.4,6.4,8.3,1.4,8.3,1.8,2.4,1.8,1.8,4.7,1.6,1.5,1.5,1.9,2.0,2.0,2.2,5.5,2.5,5.5,1.5,2.1,1.5,2.1,2.1,1.7,2.1,2.2,2.1,1.9,2.0,3.3,2.1,1.4,2.0,1.5,1.6,4.3,2.5,2.5,2.5,2.1,2.5,2.5,1.8,1.4,1.9,2.2,1.7,1.7,2.9,2.7,3.3,1.9,1.7,1.8,5.5,1.7,1.7,2.0,2.0,3.7,2.0,1.7,2.5,2.4,1.8,2.3,2.5,1.8,6.2,2.0,2.0,2.8,2.5,2.2,2.1,2.2,2.2,1.75,2.1,2.8,2.2,2.3,1.4,2.3,1.7,1.7,1.9,2.0,2.5,2.8,2.3,1.6,2.2,2.1,1.7,1.7,2.2,5.6,2.4,2.1,2.4,2.4,1.65,2.5,1.6,2.1,2.0,7.8,2.0,2.1,1.8,4.6,2.3,2.5,2.3,1.8,1.8,2.3,1.5,2.0,2.3,1.5,1.9,1.8,5.8,2.1,2.1,2.1,1.7,2.1,2.0,2.1,2.1,2.1,1.9,1.9,2.1,2.0,1.9,1.9,1.3,1.8,1.8,2.2,2.2,2.5,2.6,4.1,2.0,1.8,2.1,2.7,2.6,2.1,2.2,2.2,12.9,1.7,2.2,2.5,4.3,1.7,2.5,2.0,2.4,13.4,1.8,1.7,1.8,2.2,2.3,2.3,2.2,1.8,1.4,1.9,2.4,1.8,4.8,2.7,2.7,1.8,2.0,2.5,2.2,1.8,2.3,2.3,2.3,2.0,1.8,1.6,1.6,1.9,2.0,2.1,2.3,6.3,1.9,2.3,1.7,1.9,1.9,2.0,2.7,2.3,1.8,2.5,2.6,4.5,4.5,1.9,2.1,2.4,1.9,2.1,4.3,4.3,2.1,1.4,2.1,2.15,2.0,2.1,1.8,2.3,1.9,2.5,3.9,2.5,1.4,1.9,3.0,1.9,2.3,2.4,2.0,1.2,2.2,2.0,1.7,2.6,1.2,1.8,1.8,1.7,1.7,1.7,1.7,1.8,2.1,2.1,3.8,1.7,2.2,2.0,2.4,1.4,1.4,1.4,1.7,1.7,1.7,1.7,1.7,2.6,2.3,2.1,1.8,1.8,2.8,2.0,2.3,1.9,1.9,2.3,1.8,1.8,2.5,5.4,1.4,2.3,2.5,1.4,2.0,1.9,2.2,1.7,2.2,2.1,1.6,1.7,3.1,1.7,3.8,1.2,2.0,1.4,2.3,2.0,2.6,2.6,1.8,2.1,2.1,1.8,3.4,1.8,1.8,6.1,2.2,2.3,2.4,1.3,2.0,3.9,1.6,1.6,2.0,2.2,2.2,2.1,2.1,2.0,1.7,2.6,2.0,5.1,2.1,2.2,2.1,1.8,2.4,5.1,2.0,2.2,1.6,2.2,2.5,1.6,2.2,1.6,1.6,2.1,3.9,1.4,1.4,1.8,2.5,1.9,2.2,1.8,2.1,1.6,1.8,15.4,15.4,1.6,4.8,1.7,2.2,2.0,5.2,1.9,1.75,2.2,5.2,1.9,1.9,1.9,2.0,2.0,2.7,2.0,1.9,2.2,1.6,1.8,1.9,1.7,1.7,2.3,2.1,2.3,2.4,1.7,1.7,2.1,2.3,2.1,2.1,1.4,3.75,2.6,1.8,13.8,2.2,13.8,2.2,5.7,3.0,1.5,3.0,2.1,1.5,2.0,2.1,2.1,1.9,1.7,2.1,1.8,1.7,1.6,1.9,1.4,1.9,1.9,2.3,2.3,2.3,1.5,4.3,2.4,2.5,2.3,1.8,2.0,2.3,2.1,1.8,2.2,2.1,2.2,1.8,4.1,4.1,2.3,2.0,2.2,2.6,2.0,1.9,2.3,2.0,2.0,2.1,2.2,1.7,2.2,2.1,2.2,2.8,2.0,1.9,2.4,2.2,1.9,1.9,2.5,1.8,4.4,2.2,1.9,2.2,2.3,1.8,2.0,1.6,2.0,1.8,2.3,2.3,3.7,2.2,2.4,1.7,2.2,2.4,6.7,2.0,2.0,2.0,2.0,2.0,2.0,1.9,2.1,2.0,1.6,1.9,2.2,2.2,2.2,2.4,13.9,2.2,1.6,5.1,1.8,1.7,2.4,1.7,2.6,2.1,2.4,2.6,2.4,1.8,2.5,7.8,1.8,1.7,2.3,1.9,2.0,2.2,2.3,2.0,3.6],\"y0\":\" \",\"yaxis\":\"y\",\"type\":\"box\"}],                        {\"template\":{\"data\":{\"histogram2dcontour\":[{\"type\":\"histogram2dcontour\",\"colorbar\":{\"outlinewidth\":0,\"ticks\":\"\"},\"colorscale\":[[0.0,\"#0d0887\"],[0.1111111111111111,\"#46039f\"],[0.2222222222222222,\"#7201a8\"],[0.3333333333333333,\"#9c179e\"],[0.4444444444444444,\"#bd3786\"],[0.5555555555555556,\"#d8576b\"],[0.6666666666666666,\"#ed7953\"],[0.7777777777777778,\"#fb9f3a\"],[0.8888888888888888,\"#fdca26\"],[1.0,\"#f0f921\"]]}],\"choropleth\":[{\"type\":\"choropleth\",\"colorbar\":{\"outlinewidth\":0,\"ticks\":\"\"}}],\"histogram2d\":[{\"type\":\"histogram2d\",\"colorbar\":{\"outlinewidth\":0,\"ticks\":\"\"},\"colorscale\":[[0.0,\"#0d0887\"],[0.1111111111111111,\"#46039f\"],[0.2222222222222222,\"#7201a8\"],[0.3333333333333333,\"#9c179e\"],[0.4444444444444444,\"#bd3786\"],[0.5555555555555556,\"#d8576b\"],[0.6666666666666666,\"#ed7953\"],[0.7777777777777778,\"#fb9f3a\"],[0.8888888888888888,\"#fdca26\"],[1.0,\"#f0f921\"]]}],\"heatmap\":[{\"type\":\"heatmap\",\"colorbar\":{\"outlinewidth\":0,\"ticks\":\"\"},\"colorscale\":[[0.0,\"#0d0887\"],[0.1111111111111111,\"#46039f\"],[0.2222222222222222,\"#7201a8\"],[0.3333333333333333,\"#9c179e\"],[0.4444444444444444,\"#bd3786\"],[0.5555555555555556,\"#d8576b\"],[0.6666666666666666,\"#ed7953\"],[0.7777777777777778,\"#fb9f3a\"],[0.8888888888888888,\"#fdca26\"],[1.0,\"#f0f921\"]]}],\"heatmapgl\":[{\"type\":\"heatmapgl\",\"colorbar\":{\"outlinewidth\":0,\"ticks\":\"\"},\"colorscale\":[[0.0,\"#0d0887\"],[0.1111111111111111,\"#46039f\"],[0.2222222222222222,\"#7201a8\"],[0.3333333333333333,\"#9c179e\"],[0.4444444444444444,\"#bd3786\"],[0.5555555555555556,\"#d8576b\"],[0.6666666666666666,\"#ed7953\"],[0.7777777777777778,\"#fb9f3a\"],[0.8888888888888888,\"#fdca26\"],[1.0,\"#f0f921\"]]}],\"contourcarpet\":[{\"type\":\"contourcarpet\",\"colorbar\":{\"outlinewidth\":0,\"ticks\":\"\"}}],\"contour\":[{\"type\":\"contour\",\"colorbar\":{\"outlinewidth\":0,\"ticks\":\"\"},\"colorscale\":[[0.0,\"#0d0887\"],[0.1111111111111111,\"#46039f\"],[0.2222222222222222,\"#7201a8\"],[0.3333333333333333,\"#9c179e\"],[0.4444444444444444,\"#bd3786\"],[0.5555555555555556,\"#d8576b\"],[0.6666666666666666,\"#ed7953\"],[0.7777777777777778,\"#fb9f3a\"],[0.8888888888888888,\"#fdca26\"],[1.0,\"#f0f921\"]]}],\"surface\":[{\"type\":\"surface\",\"colorbar\":{\"outlinewidth\":0,\"ticks\":\"\"},\"colorscale\":[[0.0,\"#0d0887\"],[0.1111111111111111,\"#46039f\"],[0.2222222222222222,\"#7201a8\"],[0.3333333333333333,\"#9c179e\"],[0.4444444444444444,\"#bd3786\"],[0.5555555555555556,\"#d8576b\"],[0.6666666666666666,\"#ed7953\"],[0.7777777777777778,\"#fb9f3a\"],[0.8888888888888888,\"#fdca26\"],[1.0,\"#f0f921\"]]}],\"mesh3d\":[{\"type\":\"mesh3d\",\"colorbar\":{\"outlinewidth\":0,\"ticks\":\"\"}}],\"scatter\":[{\"fillpattern\":{\"fillmode\":\"overlay\",\"size\":10,\"solidity\":0.2},\"type\":\"scatter\"}],\"parcoords\":[{\"type\":\"parcoords\",\"line\":{\"colorbar\":{\"outlinewidth\":0,\"ticks\":\"\"}}}],\"scatterpolargl\":[{\"type\":\"scatterpolargl\",\"marker\":{\"colorbar\":{\"outlinewidth\":0,\"ticks\":\"\"}}}],\"bar\":[{\"error_x\":{\"color\":\"#2a3f5f\"},\"error_y\":{\"color\":\"#2a3f5f\"},\"marker\":{\"line\":{\"color\":\"#E5ECF6\",\"width\":0.5},\"pattern\":{\"fillmode\":\"overlay\",\"size\":10,\"solidity\":0.2}},\"type\":\"bar\"}],\"scattergeo\":[{\"type\":\"scattergeo\",\"marker\":{\"colorbar\":{\"outlinewidth\":0,\"ticks\":\"\"}}}],\"scatterpolar\":[{\"type\":\"scatterpolar\",\"marker\":{\"colorbar\":{\"outlinewidth\":0,\"ticks\":\"\"}}}],\"histogram\":[{\"marker\":{\"pattern\":{\"fillmode\":\"overlay\",\"size\":10,\"solidity\":0.2}},\"type\":\"histogram\"}],\"scattergl\":[{\"type\":\"scattergl\",\"marker\":{\"colorbar\":{\"outlinewidth\":0,\"ticks\":\"\"}}}],\"scatter3d\":[{\"type\":\"scatter3d\",\"line\":{\"colorbar\":{\"outlinewidth\":0,\"ticks\":\"\"}},\"marker\":{\"colorbar\":{\"outlinewidth\":0,\"ticks\":\"\"}}}],\"scattermapbox\":[{\"type\":\"scattermapbox\",\"marker\":{\"colorbar\":{\"outlinewidth\":0,\"ticks\":\"\"}}}],\"scatterternary\":[{\"type\":\"scatterternary\",\"marker\":{\"colorbar\":{\"outlinewidth\":0,\"ticks\":\"\"}}}],\"scattercarpet\":[{\"type\":\"scattercarpet\",\"marker\":{\"colorbar\":{\"outlinewidth\":0,\"ticks\":\"\"}}}],\"carpet\":[{\"aaxis\":{\"endlinecolor\":\"#2a3f5f\",\"gridcolor\":\"white\",\"linecolor\":\"white\",\"minorgridcolor\":\"white\",\"startlinecolor\":\"#2a3f5f\"},\"baxis\":{\"endlinecolor\":\"#2a3f5f\",\"gridcolor\":\"white\",\"linecolor\":\"white\",\"minorgridcolor\":\"white\",\"startlinecolor\":\"#2a3f5f\"},\"type\":\"carpet\"}],\"table\":[{\"cells\":{\"fill\":{\"color\":\"#EBF0F8\"},\"line\":{\"color\":\"white\"}},\"header\":{\"fill\":{\"color\":\"#C8D4E3\"},\"line\":{\"color\":\"white\"}},\"type\":\"table\"}],\"barpolar\":[{\"marker\":{\"line\":{\"color\":\"#E5ECF6\",\"width\":0.5},\"pattern\":{\"fillmode\":\"overlay\",\"size\":10,\"solidity\":0.2}},\"type\":\"barpolar\"}],\"pie\":[{\"automargin\":true,\"type\":\"pie\"}]},\"layout\":{\"autotypenumbers\":\"strict\",\"colorway\":[\"#636efa\",\"#EF553B\",\"#00cc96\",\"#ab63fa\",\"#FFA15A\",\"#19d3f3\",\"#FF6692\",\"#B6E880\",\"#FF97FF\",\"#FECB52\"],\"font\":{\"color\":\"#2a3f5f\"},\"hovermode\":\"closest\",\"hoverlabel\":{\"align\":\"left\"},\"paper_bgcolor\":\"white\",\"plot_bgcolor\":\"#E5ECF6\",\"polar\":{\"bgcolor\":\"#E5ECF6\",\"angularaxis\":{\"gridcolor\":\"white\",\"linecolor\":\"white\",\"ticks\":\"\"},\"radialaxis\":{\"gridcolor\":\"white\",\"linecolor\":\"white\",\"ticks\":\"\"}},\"ternary\":{\"bgcolor\":\"#E5ECF6\",\"aaxis\":{\"gridcolor\":\"white\",\"linecolor\":\"white\",\"ticks\":\"\"},\"baxis\":{\"gridcolor\":\"white\",\"linecolor\":\"white\",\"ticks\":\"\"},\"caxis\":{\"gridcolor\":\"white\",\"linecolor\":\"white\",\"ticks\":\"\"}},\"coloraxis\":{\"colorbar\":{\"outlinewidth\":0,\"ticks\":\"\"}},\"colorscale\":{\"sequential\":[[0.0,\"#0d0887\"],[0.1111111111111111,\"#46039f\"],[0.2222222222222222,\"#7201a8\"],[0.3333333333333333,\"#9c179e\"],[0.4444444444444444,\"#bd3786\"],[0.5555555555555556,\"#d8576b\"],[0.6666666666666666,\"#ed7953\"],[0.7777777777777778,\"#fb9f3a\"],[0.8888888888888888,\"#fdca26\"],[1.0,\"#f0f921\"]],\"sequentialminus\":[[0.0,\"#0d0887\"],[0.1111111111111111,\"#46039f\"],[0.2222222222222222,\"#7201a8\"],[0.3333333333333333,\"#9c179e\"],[0.4444444444444444,\"#bd3786\"],[0.5555555555555556,\"#d8576b\"],[0.6666666666666666,\"#ed7953\"],[0.7777777777777778,\"#fb9f3a\"],[0.8888888888888888,\"#fdca26\"],[1.0,\"#f0f921\"]],\"diverging\":[[0,\"#8e0152\"],[0.1,\"#c51b7d\"],[0.2,\"#de77ae\"],[0.3,\"#f1b6da\"],[0.4,\"#fde0ef\"],[0.5,\"#f7f7f7\"],[0.6,\"#e6f5d0\"],[0.7,\"#b8e186\"],[0.8,\"#7fbc41\"],[0.9,\"#4d9221\"],[1,\"#276419\"]]},\"xaxis\":{\"gridcolor\":\"white\",\"linecolor\":\"white\",\"ticks\":\"\",\"title\":{\"standoff\":15},\"zerolinecolor\":\"white\",\"automargin\":true,\"zerolinewidth\":2},\"yaxis\":{\"gridcolor\":\"white\",\"linecolor\":\"white\",\"ticks\":\"\",\"title\":{\"standoff\":15},\"zerolinecolor\":\"white\",\"automargin\":true,\"zerolinewidth\":2},\"scene\":{\"xaxis\":{\"backgroundcolor\":\"#E5ECF6\",\"gridcolor\":\"white\",\"linecolor\":\"white\",\"showbackground\":true,\"ticks\":\"\",\"zerolinecolor\":\"white\",\"gridwidth\":2},\"yaxis\":{\"backgroundcolor\":\"#E5ECF6\",\"gridcolor\":\"white\",\"linecolor\":\"white\",\"showbackground\":true,\"ticks\":\"\",\"zerolinecolor\":\"white\",\"gridwidth\":2},\"zaxis\":{\"backgroundcolor\":\"#E5ECF6\",\"gridcolor\":\"white\",\"linecolor\":\"white\",\"showbackground\":true,\"ticks\":\"\",\"zerolinecolor\":\"white\",\"gridwidth\":2}},\"shapedefaults\":{\"line\":{\"color\":\"#2a3f5f\"}},\"annotationdefaults\":{\"arrowcolor\":\"#2a3f5f\",\"arrowhead\":0,\"arrowwidth\":1},\"geo\":{\"bgcolor\":\"white\",\"landcolor\":\"#E5ECF6\",\"subunitcolor\":\"white\",\"showland\":true,\"showlakes\":true,\"lakecolor\":\"white\"},\"title\":{\"x\":0.05},\"mapbox\":{\"style\":\"light\"}}},\"xaxis\":{\"anchor\":\"y\",\"domain\":[0.0,1.0]},\"yaxis\":{\"anchor\":\"x\",\"domain\":[0.0,1.0],\"title\":{\"text\":\"residual sugar\"}},\"legend\":{\"tracegroupgap\":0},\"title\":{\"text\":\"Boxplot de residual sugar\"},\"boxmode\":\"group\"},                        {\"responsive\": true}                    ).then(function(){\n",
              "                            \n",
              "var gd = document.getElementById('48f365f3-e700-420f-8367-ebfea3e19e99');\n",
              "var x = new MutationObserver(function (mutations, observer) {{\n",
              "        var display = window.getComputedStyle(gd).display;\n",
              "        if (!display || display === 'none') {{\n",
              "            console.log([gd, 'removed!']);\n",
              "            Plotly.purge(gd);\n",
              "            observer.disconnect();\n",
              "        }}\n",
              "}});\n",
              "\n",
              "// Listen for the removal of the full notebook cells\n",
              "var notebookContainer = gd.closest('#notebook-container');\n",
              "if (notebookContainer) {{\n",
              "    x.observe(notebookContainer, {childList: true});\n",
              "}}\n",
              "\n",
              "// Listen for the clearing of the current output cell\n",
              "var outputEl = gd.closest('.output');\n",
              "if (outputEl) {{\n",
              "    x.observe(outputEl, {childList: true});\n",
              "}}\n",
              "\n",
              "                        })                };                            </script>        </div>\n",
              "</body>\n",
              "</html>"
            ]
          },
          "metadata": {}
        },
        {
          "output_type": "display_data",
          "data": {
            "text/html": [
              "<html>\n",
              "<head><meta charset=\"utf-8\" /></head>\n",
              "<body>\n",
              "    <div>            <script src=\"https://cdnjs.cloudflare.com/ajax/libs/mathjax/2.7.5/MathJax.js?config=TeX-AMS-MML_SVG\"></script><script type=\"text/javascript\">if (window.MathJax && window.MathJax.Hub && window.MathJax.Hub.Config) {window.MathJax.Hub.Config({SVG: {font: \"STIX-Web\"}});}</script>                <script type=\"text/javascript\">window.PlotlyConfig = {MathJaxConfig: 'local'};</script>\n",
              "        <script charset=\"utf-8\" src=\"https://cdn.plot.ly/plotly-2.35.2.min.js\"></script>                <div id=\"6229f5f7-5dcf-4890-9631-40c96bf0073e\" class=\"plotly-graph-div\" style=\"height:525px; width:100%;\"></div>            <script type=\"text/javascript\">                                    window.PLOTLYENV=window.PLOTLYENV || {};                                    if (document.getElementById(\"6229f5f7-5dcf-4890-9631-40c96bf0073e\")) {                    Plotly.newPlot(                        \"6229f5f7-5dcf-4890-9631-40c96bf0073e\",                        [{\"alignmentgroup\":\"True\",\"boxpoints\":\"all\",\"hovertemplate\":\"chlorides=%{y}\\u003cextra\\u003e\\u003c\\u002fextra\\u003e\",\"legendgroup\":\"\",\"marker\":{\"color\":\"#636efa\"},\"name\":\"\",\"notched\":false,\"offsetgroup\":\"\",\"orientation\":\"v\",\"showlegend\":false,\"x0\":\" \",\"xaxis\":\"x\",\"y\":[0.076,0.098,0.092,0.075,0.076,0.075,0.069,0.065,0.073,0.071,0.0969999999999999,0.071,0.089,0.114,0.176,0.17,0.092,0.368,0.086,0.341,0.077,0.0819999999999999,0.106,0.084,0.085,0.08,0.08,0.106,0.08,0.0819999999999999,0.089,0.105,0.083,0.073,0.103,0.086,0.086,0.066,0.172,0.074,0.074,0.088,0.332,0.069,0.05,0.054,0.114,0.113,0.066,0.074,0.074,0.069,0.068,0.081,0.11,0.084,0.07,0.111,0.076,0.074,0.079,0.115,0.085,0.081,0.086,0.086,0.079,0.076,0.074,0.074,0.076,0.088,0.084,0.084,0.094,0.093,0.093,0.104,0.086,0.08,0.069,0.4639999999999999,0.086,0.401,0.069,0.076,0.11,0.062,0.107,0.076,0.079,0.11,0.11,0.062,0.045,0.0579999999999999,0.102,0.07,0.079,0.08,0.084,0.075,0.08,0.077,0.07,0.077,0.467,0.088,0.091,0.122,0.104,0.084,0.085,0.08,0.104,0.09,0.077,0.0819999999999999,0.119,0.0969999999999999,0.178,0.119,0.075,0.08,0.0819999999999999,0.146,0.081,0.0819999999999999,0.065,0.072,0.118,0.049,0.049,0.06,0.084,0.09,0.089,0.081,0.081,0.081,0.09,0.089,0.05,0.066,0.05,0.1169999999999999,0.087,0.236,0.074,0.089,0.077,0.61,0.095,0.095,0.07,0.071,0.07,0.071,0.073,0.079,0.09,0.072,0.076,0.07,0.07,0.1,0.085,0.072,0.089,0.36,0.0579999999999999,0.073,0.073,0.068,0.08,0.085,0.08,0.087,0.068,0.067,0.067,0.27,0.076,0.077,0.079,0.111,0.0819999999999999,0.084,0.084,0.0819999999999999,0.077,0.074,0.099,0.071,0.071,0.074,0.074,0.067,0.046,0.061,0.0559999999999999,0.0969999999999999,0.075,0.088,0.089,0.095,0.095,0.069,0.1,0.054,0.039,0.083,0.059,0.06,0.092,0.06,0.1009999999999999,0.072,0.076,0.08,0.0819999999999999,0.1009999999999999,0.057,0.083,0.089,0.073,0.337,0.089,0.073,0.081,0.054,0.078,0.09,0.081,0.065,0.0969999999999999,0.0969999999999999,0.0969999999999999,0.0969999999999999,0.065,0.263,0.093,0.102,0.075,0.075,0.084,0.075,0.072,0.074,0.084,0.063,0.074,0.09,0.092,0.074,0.073,0.075,0.075,0.611,0.085,0.077,0.087,0.07,0.077,0.064,0.071,0.096,0.078,0.077,0.104,0.087,0.104,0.071,0.076,0.088,0.087,0.077,0.104,0.073,0.087,0.071,0.358,0.067,0.087,0.102,0.102,0.073,0.092,0.091,0.105,0.091,0.3429999999999999,0.091,0.098,0.094,0.073,0.086,0.083,0.094,0.08,0.086,0.068,0.092,0.186,0.1119999999999999,0.063,0.0819999999999999,0.213,0.214,0.062,0.063,0.072,0.093,0.076,0.087,0.096,0.102,0.0819999999999999,0.083,0.0819999999999999,0.083,0.09,0.079,0.09,0.071,0.071,0.121,0.107,0.0819999999999999,0.061,0.122,0.122,0.066,0.105,0.078,0.128,0.052,0.08,0.103,0.0819999999999999,0.066,0.065,0.118,0.118,0.0819999999999999,0.067,0.072,0.093,0.089,0.093,0.107,0.096,0.09,0.12,0.066,0.078,0.08,0.1159999999999999,0.109,0.088,0.099,0.086,0.072,0.071,0.083,0.107,0.083,0.076,0.159,0.074,0.063,0.0559999999999999,0.067,0.106,0.089,0.124,0.078,0.074,0.088,0.094,0.08,0.085,0.08,0.08,0.087,0.09,0.088,0.079,0.088,0.096,0.045,0.085,0.0819999999999999,0.1119999999999999,0.063,0.066,0.122,0.087,0.087,0.064,0.122,0.059,0.085,0.085,0.075,0.059,0.063,0.093,0.174,0.07,0.08,0.08,0.1,0.0969999999999999,0.087,0.1169999999999999,0.111,0.091,0.121,0.066,0.089,0.059,0.047,0.066,0.047,0.059,0.045,0.077,0.07,0.088,0.066,0.074,0.078,0.091,0.076,0.091,0.06,0.066,0.076,0.062,0.072,0.068,0.1,0.077,0.054,0.079,0.081,0.127,0.1,0.095,0.095,0.413,0.084,0.084,0.063,0.086,0.095,0.0969999999999999,0.084,0.074,0.083,0.087,0.085,0.098,0.084,0.098,0.069,0.065,0.09,0.07,0.093,0.081,0.083,0.062,0.08,0.087,0.091,0.075,0.087,0.077,0.069,0.08,0.152,0.152,0.114,0.054,0.054,0.053,0.081,0.073,0.078,0.055,0.052,0.086,0.051,0.07,0.081,0.09,0.07,0.086,0.081,0.074,0.074,0.078,0.077,0.072,0.075,0.084,0.09,0.084,0.073,0.09,0.125,0.107,0.107,0.122,0.1,0.2,0.088,0.088,0.088,0.088,0.099,0.085,0.086,0.105,0.088,0.0969999999999999,0.084,0.077,0.078,0.098,0.098,0.072,0.102,0.078,0.077,0.084,0.066,0.1,0.1009999999999999,0.064,0.07,0.085,0.075,0.094,0.078,0.067,0.079,0.171,0.074,0.092,0.092,0.05,0.095,0.095,0.118,0.095,0.118,0.085,0.075,0.078,0.094,0.092,0.085,0.075,0.226,0.226,0.25,0.095,0.07,0.095,0.075,0.07,0.078,0.079,0.103,0.083,0.085,0.063,0.089,0.089,0.083,0.074,0.093,0.091,0.094,0.108,0.06,0.059,0.084,0.07,0.084,0.094,0.096,0.086,0.059,0.071,0.078,0.0819999999999999,0.088,0.071,0.081,0.071,0.096,0.085,0.072,0.092,0.11,0.075,0.083,0.081,0.077,0.0579999999999999,0.148,0.079,0.079,0.079,0.122,0.088,0.076,0.078,0.08,0.077,0.124,0.124,0.098,0.098,0.0969999999999999,0.111,0.0969999999999999,0.105,0.087,0.105,0.073,0.065,0.086,0.084,0.143,0.067,0.071,0.071,0.071,0.071,0.071,0.115,0.107,0.07,0.066,0.068,0.106,0.104,0.096,0.079,0.074,0.087,0.106,0.073,0.074,0.096,0.074,0.08,0.076,0.05,0.092,0.084,0.222,0.0819999999999999,0.059,0.0819999999999999,0.083,0.074,0.079,0.074,0.084,0.064,0.084,0.084,0.081,0.06,0.07,0.094,0.078,0.059,0.078,0.059,0.07,0.095,0.039,0.157,0.0969999999999999,0.087,0.422,0.084,0.084,0.034,0.066,0.066,0.087,0.071,0.076,0.066,0.067,0.073,0.078,0.073,0.093,0.077,0.068,0.062,0.08,0.093,0.084,0.075,0.078,0.069,0.075,0.079,0.0819999999999999,0.086,0.0819999999999999,0.094,0.084,0.053,0.086,0.077,0.084,0.067,0.067,0.071,0.387,0.088,0.092,0.0819999999999999,0.075,0.1119999999999999,0.1119999999999999,0.093,0.092,0.088,0.075,0.078,0.065,0.096,0.095,0.07,0.08,0.083,0.071,0.07,0.089,0.089,0.0969999999999999,0.089,0.415,0.0579999999999999,0.057,0.084,0.084,0.092,0.075,0.096,0.069,0.096,0.093,0.091,0.089,0.103,0.0819999999999999,0.076,0.0819999999999999,0.0819999999999999,0.0819999999999999,0.157,0.157,0.102,0.243,0.241,0.079,0.076,0.19,0.114,0.081,0.114,0.077,0.083,0.083,0.079,0.079,0.099,0.0819999999999999,0.084,0.081,0.055,0.065,0.132,0.126,0.038,0.0819999999999999,0.0819999999999999,0.0819999999999999,0.068,0.044,0.114,0.084,0.052,0.0409999999999999,0.052,0.165,0.07,0.068,0.072,0.099,0.102,0.103,0.099,0.081,0.084,0.071,0.0969999999999999,0.099,0.048,0.076,0.076,0.068,0.076,0.05,0.076,0.065,0.071,0.0579999999999999,0.071,0.145,0.147,0.088,0.066,0.012,0.012,0.075,0.092,0.085,0.115,0.119,0.088,0.062,0.081,0.081,0.078,0.081,0.08,0.085,0.085,0.08,0.08,0.08,0.071,0.08,0.073,0.054,0.074,0.077,0.039,0.067,0.078,0.077,0.077,0.071,0.072,0.074,0.08,0.064,0.086,0.067,0.067,0.104,0.109,0.067,0.064,0.094,0.076,0.078,0.068,0.1939999999999999,0.076,0.094,0.086,0.083,0.066,0.072,0.1119999999999999,0.071,0.078,0.0819999999999999,0.078,0.08,0.08,0.078,0.08,0.078,0.084,0.0559999999999999,0.08,0.08,0.06,0.06,0.081,0.084,0.079,0.078,0.059,0.132,0.114,0.065,0.094,0.059,0.079,0.161,0.084,0.081,0.072,0.091,0.081,0.072,0.084,0.055,0.064,0.061,0.093,0.055,0.063,0.08,0.074,0.078,0.074,0.08,0.06,0.06,0.071,0.068,0.073,0.074,0.0819999999999999,0.092,0.094,0.09,0.071,0.092,0.093,0.075,0.075,0.075,0.093,0.0579999999999999,0.052,0.0819999999999999,0.09,0.111,0.088,0.12,0.089,0.0579999999999999,0.078,0.115,0.1,0.0579999999999999,0.065,0.103,0.0969999999999999,0.068,0.079,0.066,0.066,0.104,0.079,0.073,0.083,0.083,0.109,0.061,0.075,0.065,0.079,0.07,0.065,0.075,0.064,0.066,0.08,0.0969999999999999,0.073,0.0969999999999999,0.0819999999999999,0.076,0.0819999999999999,0.092,0.079,0.087,0.087,0.05,0.055,0.062,0.0579999999999999,0.063,0.067,0.081,0.067,0.063,0.064,0.11,0.1159999999999999,0.067,0.088,0.102,0.092,0.12,0.075,0.068,0.049,0.049,0.078,0.123,0.123,0.062,0.098,0.088,0.095,0.066,0.065,0.075,0.088,0.091,0.093,0.095,0.089,0.077,0.085,0.0819999999999999,0.074,0.078,0.088,0.088,0.079,0.088,0.069,0.046,0.07,0.076,0.0819999999999999,0.081,0.084,0.0819999999999999,0.414,0.073,0.07,0.095,0.095,0.1009999999999999,0.104,0.093,0.1009999999999999,0.074,0.071,0.098,0.075,0.067,0.083,0.07,0.06,0.06,0.086,0.057,0.098,0.083,0.088,0.098,0.071,0.073,0.08,0.08,0.05,0.047,0.05,0.073,0.072,0.073,0.074,0.055,0.057,0.095,0.095,0.083,0.086,0.081,0.079,0.1169999999999999,0.087,0.1169999999999999,0.096,0.216,0.096,0.072,0.071,0.078,0.071,0.073,0.048,0.069,0.068,0.09,0.171,0.07,0.092,0.0559999999999999,0.074,0.046,0.091,0.091,0.091,0.065,0.066,0.076,0.062,0.055,0.081,0.096,0.055,0.063,0.072,0.095,0.092,0.0579999999999999,0.045,0.075,0.089,0.061,0.067,0.08,0.08,0.104,0.079,0.08,0.08,0.043,0.065,0.066,0.076,0.178,0.071,0.086,0.061,0.067,0.044,0.118,0.083,0.1,0.118,0.071,0.042,0.076,0.11,0.087,0.076,0.075,0.078,0.078,0.369,0.111,0.074,0.067,0.086,0.062,0.078,0.074,0.079,0.079,0.095,0.079,0.052,0.0409999999999999,0.076,0.076,0.068,0.068,0.07,0.08,0.085,0.079,0.085,0.08,0.075,0.08,0.166,0.063,0.166,0.114,0.078,0.076,0.069,0.052,0.076,0.069,0.065,0.068,0.111,0.074,0.074,0.074,0.136,0.074,0.071,0.078,0.076,0.078,0.071,0.081,0.095,0.079,0.057,0.0819999999999999,0.044,0.132,0.132,0.078,0.074,0.08,0.091,0.08,0.104,0.044,0.075,0.066,0.074,0.075,0.057,0.059,0.054,0.07,0.059,0.081,0.057,0.076,0.079,0.0579999999999999,0.0819999999999999,0.067,0.0819999999999999,0.086,0.0819999999999999,0.081,0.079,0.079,0.077,0.123,0.096,0.079,0.069,0.0819999999999999,0.085,0.123,0.123,0.4029999999999999,0.083,0.081,0.089,0.066,0.081,0.081,0.068,0.079,0.044,0.048,0.049,0.077,0.073,0.102,0.075,0.05,0.114,0.075,0.062,0.077,0.077,0.084,0.096,0.071,0.09,0.068,0.0559999999999999,0.068,0.068,0.1,0.073,0.0559999999999999,0.084,0.073,0.093,0.093,0.064,0.063,0.1369999999999999,0.08,0.1,0.064,0.081,0.087,0.073,0.088,0.068,0.088,0.071,0.073,0.064,0.083,0.086,0.086,0.083,0.0409999999999999,0.091,0.083,0.414,0.094,0.0409999999999999,0.0579999999999999,0.06,0.077,0.077,0.077,0.077,0.073,0.083,0.083,0.107,0.075,0.079,0.166,0.069,0.057,0.057,0.057,0.084,0.084,0.084,0.085,0.084,0.077,0.063,0.0559999999999999,0.078,0.078,0.081,0.069,0.065,0.086,0.086,0.077,0.086,0.084,0.078,0.168,0.091,0.1119999999999999,0.093,0.091,0.08,0.096,0.115,0.094,0.088,0.079,0.069,0.415,0.153,0.415,0.11,0.267,0.083,0.086,0.09,0.078,0.077,0.077,0.074,0.08,0.08,0.107,0.076,0.1,0.1,0.083,0.08,0.068,0.094,0.07,0.078,0.07,0.092,0.09,0.08,0.083,0.068,0.08,0.08,0.052,0.061,0.0819999999999999,0.062,0.062,0.064,0.048,0.064,0.0819999999999999,0.071,0.062,0.104,0.077,0.065,0.077,0.064,0.077,0.077,0.077,0.079,0.079,0.123,0.076,0.076,0.046,0.078,0.072,0.049,0.066,0.069,0.042,0.069,0.214,0.214,0.1689999999999999,0.07,0.052,0.072,0.062,0.094,0.078,0.0579999999999999,0.072,0.094,0.078,0.08,0.08,0.0559999999999999,0.062,0.104,0.062,0.074,0.073,0.052,0.05,0.074,0.067,0.054,0.054,0.06,0.075,0.076,0.063,0.063,0.062,0.067,0.062,0.061,0.084,0.067,0.073,0.071,0.205,0.048,0.205,0.048,0.0819999999999999,0.104,0.08,0.104,0.114,0.042,0.06,0.074,0.07,0.066,0.049,0.048,0.039,0.049,0.05,0.089,0.066,0.08,0.089,0.054,0.068,0.054,0.076,0.083,0.078,0.077,0.106,0.078,0.07,0.106,0.074,0.062,0.047,0.068,0.061,0.078,0.074,0.074,0.071,0.063,0.114,0.106,0.063,0.0819999999999999,0.071,0.076,0.075,0.064,0.064,0.071,0.096,0.063,0.063,0.081,0.0579999999999999,0.074,0.064,0.075,0.077,0.059,0.081,0.065,0.071,0.054,0.064,0.064,0.063,0.059,0.072,0.048,0.099,0.074,0.087,0.083,0.103,0.08,0.062,0.065,0.066,0.062,0.235,0.08,0.08,0.08,0.076,0.076,0.076,0.061,0.059,0.076,0.077,0.0559999999999999,0.23,0.038,0.069,0.075,0.074,0.06,0.081,0.076,0.118,0.053,0.068,0.053,0.053,0.074,0.061,0.066,0.065,0.066,0.068,0.073,0.077,0.089,0.076,0.068,0.09,0.062,0.076,0.075,0.067],\"y0\":\" \",\"yaxis\":\"y\",\"type\":\"box\"}],                        {\"template\":{\"data\":{\"histogram2dcontour\":[{\"type\":\"histogram2dcontour\",\"colorbar\":{\"outlinewidth\":0,\"ticks\":\"\"},\"colorscale\":[[0.0,\"#0d0887\"],[0.1111111111111111,\"#46039f\"],[0.2222222222222222,\"#7201a8\"],[0.3333333333333333,\"#9c179e\"],[0.4444444444444444,\"#bd3786\"],[0.5555555555555556,\"#d8576b\"],[0.6666666666666666,\"#ed7953\"],[0.7777777777777778,\"#fb9f3a\"],[0.8888888888888888,\"#fdca26\"],[1.0,\"#f0f921\"]]}],\"choropleth\":[{\"type\":\"choropleth\",\"colorbar\":{\"outlinewidth\":0,\"ticks\":\"\"}}],\"histogram2d\":[{\"type\":\"histogram2d\",\"colorbar\":{\"outlinewidth\":0,\"ticks\":\"\"},\"colorscale\":[[0.0,\"#0d0887\"],[0.1111111111111111,\"#46039f\"],[0.2222222222222222,\"#7201a8\"],[0.3333333333333333,\"#9c179e\"],[0.4444444444444444,\"#bd3786\"],[0.5555555555555556,\"#d8576b\"],[0.6666666666666666,\"#ed7953\"],[0.7777777777777778,\"#fb9f3a\"],[0.8888888888888888,\"#fdca26\"],[1.0,\"#f0f921\"]]}],\"heatmap\":[{\"type\":\"heatmap\",\"colorbar\":{\"outlinewidth\":0,\"ticks\":\"\"},\"colorscale\":[[0.0,\"#0d0887\"],[0.1111111111111111,\"#46039f\"],[0.2222222222222222,\"#7201a8\"],[0.3333333333333333,\"#9c179e\"],[0.4444444444444444,\"#bd3786\"],[0.5555555555555556,\"#d8576b\"],[0.6666666666666666,\"#ed7953\"],[0.7777777777777778,\"#fb9f3a\"],[0.8888888888888888,\"#fdca26\"],[1.0,\"#f0f921\"]]}],\"heatmapgl\":[{\"type\":\"heatmapgl\",\"colorbar\":{\"outlinewidth\":0,\"ticks\":\"\"},\"colorscale\":[[0.0,\"#0d0887\"],[0.1111111111111111,\"#46039f\"],[0.2222222222222222,\"#7201a8\"],[0.3333333333333333,\"#9c179e\"],[0.4444444444444444,\"#bd3786\"],[0.5555555555555556,\"#d8576b\"],[0.6666666666666666,\"#ed7953\"],[0.7777777777777778,\"#fb9f3a\"],[0.8888888888888888,\"#fdca26\"],[1.0,\"#f0f921\"]]}],\"contourcarpet\":[{\"type\":\"contourcarpet\",\"colorbar\":{\"outlinewidth\":0,\"ticks\":\"\"}}],\"contour\":[{\"type\":\"contour\",\"colorbar\":{\"outlinewidth\":0,\"ticks\":\"\"},\"colorscale\":[[0.0,\"#0d0887\"],[0.1111111111111111,\"#46039f\"],[0.2222222222222222,\"#7201a8\"],[0.3333333333333333,\"#9c179e\"],[0.4444444444444444,\"#bd3786\"],[0.5555555555555556,\"#d8576b\"],[0.6666666666666666,\"#ed7953\"],[0.7777777777777778,\"#fb9f3a\"],[0.8888888888888888,\"#fdca26\"],[1.0,\"#f0f921\"]]}],\"surface\":[{\"type\":\"surface\",\"colorbar\":{\"outlinewidth\":0,\"ticks\":\"\"},\"colorscale\":[[0.0,\"#0d0887\"],[0.1111111111111111,\"#46039f\"],[0.2222222222222222,\"#7201a8\"],[0.3333333333333333,\"#9c179e\"],[0.4444444444444444,\"#bd3786\"],[0.5555555555555556,\"#d8576b\"],[0.6666666666666666,\"#ed7953\"],[0.7777777777777778,\"#fb9f3a\"],[0.8888888888888888,\"#fdca26\"],[1.0,\"#f0f921\"]]}],\"mesh3d\":[{\"type\":\"mesh3d\",\"colorbar\":{\"outlinewidth\":0,\"ticks\":\"\"}}],\"scatter\":[{\"fillpattern\":{\"fillmode\":\"overlay\",\"size\":10,\"solidity\":0.2},\"type\":\"scatter\"}],\"parcoords\":[{\"type\":\"parcoords\",\"line\":{\"colorbar\":{\"outlinewidth\":0,\"ticks\":\"\"}}}],\"scatterpolargl\":[{\"type\":\"scatterpolargl\",\"marker\":{\"colorbar\":{\"outlinewidth\":0,\"ticks\":\"\"}}}],\"bar\":[{\"error_x\":{\"color\":\"#2a3f5f\"},\"error_y\":{\"color\":\"#2a3f5f\"},\"marker\":{\"line\":{\"color\":\"#E5ECF6\",\"width\":0.5},\"pattern\":{\"fillmode\":\"overlay\",\"size\":10,\"solidity\":0.2}},\"type\":\"bar\"}],\"scattergeo\":[{\"type\":\"scattergeo\",\"marker\":{\"colorbar\":{\"outlinewidth\":0,\"ticks\":\"\"}}}],\"scatterpolar\":[{\"type\":\"scatterpolar\",\"marker\":{\"colorbar\":{\"outlinewidth\":0,\"ticks\":\"\"}}}],\"histogram\":[{\"marker\":{\"pattern\":{\"fillmode\":\"overlay\",\"size\":10,\"solidity\":0.2}},\"type\":\"histogram\"}],\"scattergl\":[{\"type\":\"scattergl\",\"marker\":{\"colorbar\":{\"outlinewidth\":0,\"ticks\":\"\"}}}],\"scatter3d\":[{\"type\":\"scatter3d\",\"line\":{\"colorbar\":{\"outlinewidth\":0,\"ticks\":\"\"}},\"marker\":{\"colorbar\":{\"outlinewidth\":0,\"ticks\":\"\"}}}],\"scattermapbox\":[{\"type\":\"scattermapbox\",\"marker\":{\"colorbar\":{\"outlinewidth\":0,\"ticks\":\"\"}}}],\"scatterternary\":[{\"type\":\"scatterternary\",\"marker\":{\"colorbar\":{\"outlinewidth\":0,\"ticks\":\"\"}}}],\"scattercarpet\":[{\"type\":\"scattercarpet\",\"marker\":{\"colorbar\":{\"outlinewidth\":0,\"ticks\":\"\"}}}],\"carpet\":[{\"aaxis\":{\"endlinecolor\":\"#2a3f5f\",\"gridcolor\":\"white\",\"linecolor\":\"white\",\"minorgridcolor\":\"white\",\"startlinecolor\":\"#2a3f5f\"},\"baxis\":{\"endlinecolor\":\"#2a3f5f\",\"gridcolor\":\"white\",\"linecolor\":\"white\",\"minorgridcolor\":\"white\",\"startlinecolor\":\"#2a3f5f\"},\"type\":\"carpet\"}],\"table\":[{\"cells\":{\"fill\":{\"color\":\"#EBF0F8\"},\"line\":{\"color\":\"white\"}},\"header\":{\"fill\":{\"color\":\"#C8D4E3\"},\"line\":{\"color\":\"white\"}},\"type\":\"table\"}],\"barpolar\":[{\"marker\":{\"line\":{\"color\":\"#E5ECF6\",\"width\":0.5},\"pattern\":{\"fillmode\":\"overlay\",\"size\":10,\"solidity\":0.2}},\"type\":\"barpolar\"}],\"pie\":[{\"automargin\":true,\"type\":\"pie\"}]},\"layout\":{\"autotypenumbers\":\"strict\",\"colorway\":[\"#636efa\",\"#EF553B\",\"#00cc96\",\"#ab63fa\",\"#FFA15A\",\"#19d3f3\",\"#FF6692\",\"#B6E880\",\"#FF97FF\",\"#FECB52\"],\"font\":{\"color\":\"#2a3f5f\"},\"hovermode\":\"closest\",\"hoverlabel\":{\"align\":\"left\"},\"paper_bgcolor\":\"white\",\"plot_bgcolor\":\"#E5ECF6\",\"polar\":{\"bgcolor\":\"#E5ECF6\",\"angularaxis\":{\"gridcolor\":\"white\",\"linecolor\":\"white\",\"ticks\":\"\"},\"radialaxis\":{\"gridcolor\":\"white\",\"linecolor\":\"white\",\"ticks\":\"\"}},\"ternary\":{\"bgcolor\":\"#E5ECF6\",\"aaxis\":{\"gridcolor\":\"white\",\"linecolor\":\"white\",\"ticks\":\"\"},\"baxis\":{\"gridcolor\":\"white\",\"linecolor\":\"white\",\"ticks\":\"\"},\"caxis\":{\"gridcolor\":\"white\",\"linecolor\":\"white\",\"ticks\":\"\"}},\"coloraxis\":{\"colorbar\":{\"outlinewidth\":0,\"ticks\":\"\"}},\"colorscale\":{\"sequential\":[[0.0,\"#0d0887\"],[0.1111111111111111,\"#46039f\"],[0.2222222222222222,\"#7201a8\"],[0.3333333333333333,\"#9c179e\"],[0.4444444444444444,\"#bd3786\"],[0.5555555555555556,\"#d8576b\"],[0.6666666666666666,\"#ed7953\"],[0.7777777777777778,\"#fb9f3a\"],[0.8888888888888888,\"#fdca26\"],[1.0,\"#f0f921\"]],\"sequentialminus\":[[0.0,\"#0d0887\"],[0.1111111111111111,\"#46039f\"],[0.2222222222222222,\"#7201a8\"],[0.3333333333333333,\"#9c179e\"],[0.4444444444444444,\"#bd3786\"],[0.5555555555555556,\"#d8576b\"],[0.6666666666666666,\"#ed7953\"],[0.7777777777777778,\"#fb9f3a\"],[0.8888888888888888,\"#fdca26\"],[1.0,\"#f0f921\"]],\"diverging\":[[0,\"#8e0152\"],[0.1,\"#c51b7d\"],[0.2,\"#de77ae\"],[0.3,\"#f1b6da\"],[0.4,\"#fde0ef\"],[0.5,\"#f7f7f7\"],[0.6,\"#e6f5d0\"],[0.7,\"#b8e186\"],[0.8,\"#7fbc41\"],[0.9,\"#4d9221\"],[1,\"#276419\"]]},\"xaxis\":{\"gridcolor\":\"white\",\"linecolor\":\"white\",\"ticks\":\"\",\"title\":{\"standoff\":15},\"zerolinecolor\":\"white\",\"automargin\":true,\"zerolinewidth\":2},\"yaxis\":{\"gridcolor\":\"white\",\"linecolor\":\"white\",\"ticks\":\"\",\"title\":{\"standoff\":15},\"zerolinecolor\":\"white\",\"automargin\":true,\"zerolinewidth\":2},\"scene\":{\"xaxis\":{\"backgroundcolor\":\"#E5ECF6\",\"gridcolor\":\"white\",\"linecolor\":\"white\",\"showbackground\":true,\"ticks\":\"\",\"zerolinecolor\":\"white\",\"gridwidth\":2},\"yaxis\":{\"backgroundcolor\":\"#E5ECF6\",\"gridcolor\":\"white\",\"linecolor\":\"white\",\"showbackground\":true,\"ticks\":\"\",\"zerolinecolor\":\"white\",\"gridwidth\":2},\"zaxis\":{\"backgroundcolor\":\"#E5ECF6\",\"gridcolor\":\"white\",\"linecolor\":\"white\",\"showbackground\":true,\"ticks\":\"\",\"zerolinecolor\":\"white\",\"gridwidth\":2}},\"shapedefaults\":{\"line\":{\"color\":\"#2a3f5f\"}},\"annotationdefaults\":{\"arrowcolor\":\"#2a3f5f\",\"arrowhead\":0,\"arrowwidth\":1},\"geo\":{\"bgcolor\":\"white\",\"landcolor\":\"#E5ECF6\",\"subunitcolor\":\"white\",\"showland\":true,\"showlakes\":true,\"lakecolor\":\"white\"},\"title\":{\"x\":0.05},\"mapbox\":{\"style\":\"light\"}}},\"xaxis\":{\"anchor\":\"y\",\"domain\":[0.0,1.0]},\"yaxis\":{\"anchor\":\"x\",\"domain\":[0.0,1.0],\"title\":{\"text\":\"chlorides\"}},\"legend\":{\"tracegroupgap\":0},\"title\":{\"text\":\"Boxplot de chlorides\"},\"boxmode\":\"group\"},                        {\"responsive\": true}                    ).then(function(){\n",
              "                            \n",
              "var gd = document.getElementById('6229f5f7-5dcf-4890-9631-40c96bf0073e');\n",
              "var x = new MutationObserver(function (mutations, observer) {{\n",
              "        var display = window.getComputedStyle(gd).display;\n",
              "        if (!display || display === 'none') {{\n",
              "            console.log([gd, 'removed!']);\n",
              "            Plotly.purge(gd);\n",
              "            observer.disconnect();\n",
              "        }}\n",
              "}});\n",
              "\n",
              "// Listen for the removal of the full notebook cells\n",
              "var notebookContainer = gd.closest('#notebook-container');\n",
              "if (notebookContainer) {{\n",
              "    x.observe(notebookContainer, {childList: true});\n",
              "}}\n",
              "\n",
              "// Listen for the clearing of the current output cell\n",
              "var outputEl = gd.closest('.output');\n",
              "if (outputEl) {{\n",
              "    x.observe(outputEl, {childList: true});\n",
              "}}\n",
              "\n",
              "                        })                };                            </script>        </div>\n",
              "</body>\n",
              "</html>"
            ]
          },
          "metadata": {}
        },
        {
          "output_type": "display_data",
          "data": {
            "text/html": [
              "<html>\n",
              "<head><meta charset=\"utf-8\" /></head>\n",
              "<body>\n",
              "    <div>            <script src=\"https://cdnjs.cloudflare.com/ajax/libs/mathjax/2.7.5/MathJax.js?config=TeX-AMS-MML_SVG\"></script><script type=\"text/javascript\">if (window.MathJax && window.MathJax.Hub && window.MathJax.Hub.Config) {window.MathJax.Hub.Config({SVG: {font: \"STIX-Web\"}});}</script>                <script type=\"text/javascript\">window.PlotlyConfig = {MathJaxConfig: 'local'};</script>\n",
              "        <script charset=\"utf-8\" src=\"https://cdn.plot.ly/plotly-2.35.2.min.js\"></script>                <div id=\"ba77637f-0127-482b-aa19-3f215054359d\" class=\"plotly-graph-div\" style=\"height:525px; width:100%;\"></div>            <script type=\"text/javascript\">                                    window.PLOTLYENV=window.PLOTLYENV || {};                                    if (document.getElementById(\"ba77637f-0127-482b-aa19-3f215054359d\")) {                    Plotly.newPlot(                        \"ba77637f-0127-482b-aa19-3f215054359d\",                        [{\"alignmentgroup\":\"True\",\"boxpoints\":\"all\",\"hovertemplate\":\"free sulfur dioxide=%{y}\\u003cextra\\u003e\\u003c\\u002fextra\\u003e\",\"legendgroup\":\"\",\"marker\":{\"color\":\"#636efa\"},\"name\":\"\",\"notched\":false,\"offsetgroup\":\"\",\"orientation\":\"v\",\"showlegend\":false,\"x0\":\" \",\"xaxis\":\"x\",\"y\":[11.0,25.0,15.0,17.0,11.0,13.0,15.0,15.0,9.0,17.0,15.0,17.0,16.0,9.0,52.0,51.0,35.0,16.0,6.0,17.0,29.0,23.0,10.0,9.0,21.0,11.0,4.0,10.0,14.0,8.0,17.0,22.0,15.0,40.0,13.0,5.0,3.0,13.0,7.0,12.0,12.0,17.0,8.0,9.0,5.0,8.0,22.0,12.0,5.0,12.0,4.0,8.0,6.0,30.0,33.0,25.0,4.0,50.0,17.0,9.0,19.0,20.0,12.0,13.0,4.0,4.0,11.0,6.0,27.0,8.0,15.0,17.0,18.0,11.0,28.0,9.0,9.0,14.0,12.0,27.0,3.0,22.0,21.0,16.0,18.0,19.0,20.0,9.0,34.0,8.0,42.0,20.0,19.0,9.0,41.0,17.0,8.0,3.0,5.0,13.0,11.0,8.0,13.0,12.0,5.0,12.0,18.0,15.0,18.0,37.0,12.0,11.0,14.0,22.0,12.0,13.0,11.0,7.0,14.0,22.0,10.0,14.0,3.0,11.0,21.0,27.0,3.0,3.0,3.0,6.0,30.0,17.0,17.0,17.0,13.0,16.0,10.0,13.0,15.0,17.0,16.0,10.0,27.0,3.0,27.0,32.0,21.0,10.0,12.0,11.0,5.0,32.0,25.0,25.0,29.0,28.0,29.0,28.0,12.0,18.0,7.0,9.0,17.0,36.0,35.0,14.0,18.0,17.0,11.0,15.0,4.0,6.0,6.0,24.0,7.0,19.0,7.0,8.0,7.0,10.0,10.0,23.0,16.0,11.0,8.0,26.0,14.0,9.0,15.0,17.0,21.0,21.0,16.0,7.0,7.0,24.0,15.0,12.0,13.0,12.0,9.0,39.0,16.0,16.0,14.0,9.0,9.0,26.0,18.0,7.0,5.0,10.0,5.0,28.0,10.0,26.0,13.0,11.0,10.0,24.0,24.0,16.0,5.0,8.0,15.0,29.0,27.0,9.0,29.0,10.0,19.0,12.0,18.0,10.0,7.0,14.0,14.0,15.0,14.0,7.0,5.0,6.0,28.0,10.0,10.0,6.0,16.0,11.0,9.0,6.0,16.0,16.0,5.0,8.0,16.0,17.0,5.0,12.0,8.0,14.0,18.0,12.0,10.0,23.0,5.0,6.0,26.0,15.0,7.0,4.0,27.0,4.0,17.0,10.0,27.0,27.0,7.0,4.0,5.0,10.0,6.0,5.0,12.0,10.0,32.0,32.0,25.0,29.0,20.0,33.0,20.0,6.0,18.0,5.0,17.0,5.0,26.0,8.0,5.0,8.0,20.0,7.0,12.0,5.0,12.0,6.0,7.0,6.0,5.0,9.0,6.0,15.0,19.0,30.0,26.0,20.0,37.0,30.0,21.0,30.0,21.0,25.0,6.0,35.0,13.0,13.0,6.0,5.0,6.0,7.0,10.0,10.0,21.0,16.0,17.0,7.0,6.0,29.0,28.0,12.0,10.0,5.0,6.0,6.0,6.0,40.0,17.0,6.0,15.0,11.0,17.0,11.0,8.0,23.0,40.5,17.0,29.0,12.0,10.0,10.0,14.0,21.0,6.0,6.0,7.0,7.0,7.0,11.0,15.0,6.0,35.0,11.0,26.0,12.0,6.0,6.0,19.0,6.0,6.0,24.0,11.0,17.0,11.0,11.0,23.0,11.0,23.0,17.0,23.0,16.0,12.0,17.0,6.0,13.0,6.0,7.0,68.0,13.0,13.0,9.0,68.0,20.0,19.0,10.0,15.0,11.0,9.0,12.0,6.0,26.0,26.0,23.0,15.0,6.0,24.0,31.0,6.0,34.0,7.0,34.0,35.0,32.0,15.0,6.0,15.0,32.0,19.0,6.0,9.0,13.0,6.0,21.0,12.0,6.0,22.0,6.0,38.0,6.0,22.0,7.0,6.0,7.0,6.0,11.0,5.0,6.0,31.0,6.0,7.0,17.0,17.0,9.0,18.0,5.0,21.0,6.0,5.0,29.0,5.0,10.0,14.0,6.0,10.0,25.0,5.0,10.0,21.0,7.0,6.0,36.0,15.0,25.0,25.0,5.0,10.0,5.0,6.0,6.0,5.0,6.0,6.0,6.0,6.0,7.0,6.0,6.0,6.0,5.0,35.0,10.0,24.0,12.0,13.0,23.0,28.0,5.0,14.0,43.0,5.0,23.0,14.0,38.0,38.0,6.0,6.0,10.0,6.0,6.0,26.0,23.0,19.0,26.0,15.0,6.0,6.0,34.0,5.0,5.0,11.0,39.0,15.0,16.0,47.0,38.0,23.0,29.0,39.0,33.0,32.0,6.0,1.0,12.0,12.0,15.0,13.0,1.0,6.0,5.0,5.0,5.0,20.0,5.0,5.0,16.0,6.0,38.0,10.0,6.0,27.0,6.0,9.0,14.0,14.0,32.0,10.0,10.0,10.0,10.0,10.0,6.0,5.0,26.0,41.0,25.0,6.0,5.0,5.0,5.0,5.0,19.0,10.0,19.0,10.0,14.0,20.0,28.0,6.0,18.0,17.0,18.0,5.0,5.0,5.0,10.0,54.0,8.0,16.0,18.0,19.0,5.0,21.0,23.0,21.0,9.0,20.0,30.0,6.0,5.0,5.0,11.0,7.0,12.0,6.0,12.0,14.0,6.0,10.0,26.0,11.0,15.0,25.0,5.0,18.0,10.0,10.0,28.0,28.0,14.0,4.0,6.0,16.0,14.0,9.0,21.0,21.0,21.0,5.0,5.0,7.0,20.0,7.0,5.0,21.0,11.0,46.0,24.0,30.0,31.0,7.0,25.0,16.0,21.0,16.0,21.0,16.0,5.0,6.0,5.0,10.0,24.0,8.0,35.0,22.0,9.0,7.0,20.0,8.0,23.0,5.0,5.0,5.0,15.0,9.0,5.0,15.0,25.0,6.0,6.0,15.0,6.0,30.0,5.0,32.0,5.0,7.0,12.0,7.0,12.0,45.0,20.0,15.0,16.0,32.0,5.0,35.0,5.0,13.0,13.0,4.0,5.0,5.0,12.0,16.0,21.0,24.0,18.0,8.0,8.0,18.0,5.0,26.0,8.0,9.0,22.0,4.0,11.0,10.0,16.0,11.0,13.0,21.0,16.0,13.0,10.0,21.0,13.0,10.0,12.0,10.0,17.0,10.0,35.0,15.0,36.0,5.0,5.0,18.0,4.0,4.0,27.0,12.0,4.0,10.0,16.0,9.0,11.0,11.0,19.0,28.0,19.0,12.0,28.0,9.0,25.0,21.0,12.0,12.0,16.0,12.0,12.0,17.0,17.0,24.0,17.0,14.0,22.0,15.0,10.0,10.0,33.0,9.0,5.0,8.0,5.0,11.0,12.0,12.0,13.0,24.0,7.0,24.0,23.0,23.0,1.0,2.0,7.0,5.5,6.0,7.0,21.0,12.0,9.0,26.0,9.0,20.0,11.0,11.0,19.0,19.0,21.0,18.0,25.0,17.0,7.0,7.0,7.0,24.0,21.0,5.0,5.0,26.0,8.0,14.0,14.0,4.0,4.0,4.0,4.0,4.0,4.0,4.0,7.0,20.0,4.0,19.0,20.0,8.0,19.0,21.0,9.0,9.0,16.0,15.0,15.0,6.0,15.0,4.0,15.0,34.0,16.0,5.0,16.0,34.0,36.0,16.0,27.0,36.0,36.0,9.0,13.0,9.0,21.0,34.0,9.0,26.0,14.0,14.0,12.0,14.0,12.0,9.0,9.0,26.0,41.0,41.0,10.0,41.0,16.0,17.0,15.0,15.0,15.0,7.0,17.0,15.0,16.0,13.0,13.0,15.0,27.0,31.0,36.0,28.0,6.0,6.0,7.0,7.0,31.0,30.0,18.0,10.0,30.0,14.0,18.0,30.0,9.0,8.0,29.0,32.0,23.0,30.0,16.0,10.0,16.0,17.0,27.0,17.0,27.0,17.0,6.0,10.0,16.0,16.0,11.0,11.0,15.0,12.0,6.0,34.0,7.0,3.0,3.0,4.0,3.0,7.0,3.0,7.0,26.0,32.0,38.0,10.0,32.0,38.0,26.0,14.0,53.0,52.0,11.0,14.0,10.0,8.0,13.0,29.0,13.0,8.0,19.0,19.0,6.0,23.0,7.0,13.0,9.0,13.0,10.0,11.0,7.0,11.0,6.0,10.0,10.0,10.0,6.0,6.0,5.0,6.0,9.0,5.0,12.0,25.0,12.0,18.0,7.0,6.0,20.0,18.0,24.0,6.0,23.0,29.0,7.0,6.0,6.0,6.0,6.0,7.0,35.0,35.0,31.0,9.0,3.0,8.0,13.0,51.0,8.0,3.0,7.0,3.0,35.0,19.0,14.0,19.0,31.0,30.0,31.0,20.0,19.0,3.0,3.0,4.0,7.0,6.0,31.0,13.0,4.0,27.0,4.0,13.0,12.0,12.0,26.0,7.0,12.0,11.0,22.0,3.0,14.0,12.0,36.0,36.0,10.0,3.0,3.0,4.0,3.0,12.0,17.0,14.0,28.0,41.0,12.0,9.0,9.0,5.0,14.0,15.0,5.0,26.0,20.0,25.0,21.0,16.0,13.0,21.0,18.0,12.0,32.0,33.0,27.0,3.0,6.0,27.0,16.0,19.0,9.0,5.0,5.0,3.0,28.0,30.0,3.0,3.0,7.0,6.0,6.0,5.0,6.0,13.0,3.0,3.0,28.0,19.0,30.0,33.0,16.0,30.0,45.0,3.0,3.0,3.0,37.5,3.0,37.5,31.0,32.0,31.0,40.0,3.0,18.0,22.0,22.0,42.0,8.0,10.0,11.0,9.0,6.0,9.0,5.0,5.0,5.0,23.0,14.0,18.0,14.0,16.0,13.0,9.0,10.0,4.0,27.0,6.0,23.0,6.0,3.0,29.0,15.0,15.0,15.0,14.0,7.0,8.0,21.0,27.0,17.0,3.0,13.0,3.0,26.0,28.0,24.0,5.0,57.0,18.0,10.0,6.0,22.0,6.0,6.0,29.0,16.0,33.0,24.0,6.0,16.0,35.0,31.0,6.0,6.0,9.0,6.0,4.0,16.0,9.0,17.0,50.0,9.0,45.0,16.0,22.0,11.0,6.0,12.0,12.0,10.0,10.0,15.0,7.0,29.0,8.0,5.0,5.0,26.0,5.0,26.0,26.0,48.0,23.0,6.0,17.0,11.0,11.0,5.0,41.0,16.0,11.0,6.0,6.0,6.0,11.0,5.0,6.0,6.0,11.0,6.0,15.0,21.0,23.0,4.0,19.0,23.0,4.0,5.0,6.0,33.0,24.0,24.0,24.0,24.0,24.0,14.0,8.0,22.0,8.0,5.0,6.0,20.0,10.0,43.0,8.0,25.0,17.0,17.0,33.0,9.0,8.0,18.0,27.0,8.0,18.0,19.0,15.0,48.0,19.0,14.0,11.0,6.0,7.0,11.0,12.0,11.0,36.0,28.0,15.0,10.0,72.0,15.0,15.0,15.0,22.0,24.0,24.0,27.0,6.0,6.0,20.0,26.0,43.0,12.0,15.0,15.0,19.0,17.0,34.0,13.0,26.0,16.0,16.0,13.0,21.0,28.0,26.0,24.0,25.0,34.0,17.0,13.0,3.0,3.0,13.0,3.0,28.0,28.0,9.0,17.0,18.0,20.0,17.0,3.0,20.0,20.0,6.0,25.0,14.0,6.0,25.0,51.0,51.0,15.0,11.0,5.0,15.0,20.0,4.0,28.0,21.0,24.0,22.0,15.0,22.0,27.0,24.0,12.0,14.0,20.0,24.0,17.0,16.0,10.0,17.0,18.0,12.0,16.0,9.0,21.0,18.0,18.0,18.0,18.0,13.0,17.0,17.0,31.0,6.0,12.0,4.0,19.0,15.0,15.0,15.0,13.0,13.0,13.0,17.0,13.0,8.0,10.0,5.0,7.0,7.0,21.0,32.0,8.0,14.0,14.0,7.0,5.0,4.0,27.0,52.0,6.0,11.0,13.0,6.0,11.0,10.0,10.0,10.0,9.0,16.0,4.0,12.0,5.0,12.0,34.0,16.0,13.0,7.0,23.0,10.0,11.0,11.0,4.0,25.0,25.0,20.0,34.0,8.0,8.0,7.0,36.0,15.0,5.0,5.0,19.0,27.0,3.0,4.0,17.0,13.0,10.0,33.0,33.0,6.0,3.0,12.0,18.0,8.0,40.0,35.0,40.0,5.0,8.0,8.0,12.0,3.0,8.0,3.0,21.0,3.0,32.0,3.0,24.0,39.0,14.0,8.0,8.0,23.0,6.0,27.0,38.0,18.0,13.0,3.0,11.0,55.0,55.0,27.0,15.0,3.0,31.0,15.0,19.0,18.0,8.0,31.0,19.0,18.0,22.0,40.0,15.0,15.0,8.0,37.0,27.0,7.0,9.0,38.0,27.0,8.0,7.0,34.0,6.0,14.0,14.0,34.0,34.0,31.0,19.0,31.0,20.0,8.0,8.0,23.0,14.0,48.0,16.0,48.0,16.0,3.0,10.0,6.0,10.0,3.0,6.0,4.0,8.0,9.0,9.0,5.0,4.0,8.0,5.0,6.0,23.0,15.0,15.0,23.0,7.0,7.0,7.0,8.0,21.0,15.0,6.0,5.0,6.0,6.0,5.0,17.0,7.0,26.0,19.0,11.0,17.0,16.0,16.0,23.0,29.0,7.0,14.0,29.0,9.0,23.0,29.0,22.0,18.0,18.0,15.0,21.0,42.0,9.0,13.0,18.0,32.0,13.0,15.0,24.0,20.0,15.0,34.0,11.0,19.0,29.0,14.0,12.0,16.0,17.0,12.0,19.0,17.0,17.0,18.0,32.0,18.0,15.0,15.0,12.0,15.0,66.0,31.0,31.0,31.0,12.0,12.0,12.0,26.0,24.0,12.0,25.0,15.0,19.0,15.0,35.0,15.0,23.0,12.0,16.0,13.0,13.0,24.0,9.0,24.0,13.0,32.0,24.0,22.0,34.0,18.0,34.0,29.0,26.0,16.0,29.0,28.0,32.0,39.0,29.0,32.0,18.0],\"y0\":\" \",\"yaxis\":\"y\",\"type\":\"box\"}],                        {\"template\":{\"data\":{\"histogram2dcontour\":[{\"type\":\"histogram2dcontour\",\"colorbar\":{\"outlinewidth\":0,\"ticks\":\"\"},\"colorscale\":[[0.0,\"#0d0887\"],[0.1111111111111111,\"#46039f\"],[0.2222222222222222,\"#7201a8\"],[0.3333333333333333,\"#9c179e\"],[0.4444444444444444,\"#bd3786\"],[0.5555555555555556,\"#d8576b\"],[0.6666666666666666,\"#ed7953\"],[0.7777777777777778,\"#fb9f3a\"],[0.8888888888888888,\"#fdca26\"],[1.0,\"#f0f921\"]]}],\"choropleth\":[{\"type\":\"choropleth\",\"colorbar\":{\"outlinewidth\":0,\"ticks\":\"\"}}],\"histogram2d\":[{\"type\":\"histogram2d\",\"colorbar\":{\"outlinewidth\":0,\"ticks\":\"\"},\"colorscale\":[[0.0,\"#0d0887\"],[0.1111111111111111,\"#46039f\"],[0.2222222222222222,\"#7201a8\"],[0.3333333333333333,\"#9c179e\"],[0.4444444444444444,\"#bd3786\"],[0.5555555555555556,\"#d8576b\"],[0.6666666666666666,\"#ed7953\"],[0.7777777777777778,\"#fb9f3a\"],[0.8888888888888888,\"#fdca26\"],[1.0,\"#f0f921\"]]}],\"heatmap\":[{\"type\":\"heatmap\",\"colorbar\":{\"outlinewidth\":0,\"ticks\":\"\"},\"colorscale\":[[0.0,\"#0d0887\"],[0.1111111111111111,\"#46039f\"],[0.2222222222222222,\"#7201a8\"],[0.3333333333333333,\"#9c179e\"],[0.4444444444444444,\"#bd3786\"],[0.5555555555555556,\"#d8576b\"],[0.6666666666666666,\"#ed7953\"],[0.7777777777777778,\"#fb9f3a\"],[0.8888888888888888,\"#fdca26\"],[1.0,\"#f0f921\"]]}],\"heatmapgl\":[{\"type\":\"heatmapgl\",\"colorbar\":{\"outlinewidth\":0,\"ticks\":\"\"},\"colorscale\":[[0.0,\"#0d0887\"],[0.1111111111111111,\"#46039f\"],[0.2222222222222222,\"#7201a8\"],[0.3333333333333333,\"#9c179e\"],[0.4444444444444444,\"#bd3786\"],[0.5555555555555556,\"#d8576b\"],[0.6666666666666666,\"#ed7953\"],[0.7777777777777778,\"#fb9f3a\"],[0.8888888888888888,\"#fdca26\"],[1.0,\"#f0f921\"]]}],\"contourcarpet\":[{\"type\":\"contourcarpet\",\"colorbar\":{\"outlinewidth\":0,\"ticks\":\"\"}}],\"contour\":[{\"type\":\"contour\",\"colorbar\":{\"outlinewidth\":0,\"ticks\":\"\"},\"colorscale\":[[0.0,\"#0d0887\"],[0.1111111111111111,\"#46039f\"],[0.2222222222222222,\"#7201a8\"],[0.3333333333333333,\"#9c179e\"],[0.4444444444444444,\"#bd3786\"],[0.5555555555555556,\"#d8576b\"],[0.6666666666666666,\"#ed7953\"],[0.7777777777777778,\"#fb9f3a\"],[0.8888888888888888,\"#fdca26\"],[1.0,\"#f0f921\"]]}],\"surface\":[{\"type\":\"surface\",\"colorbar\":{\"outlinewidth\":0,\"ticks\":\"\"},\"colorscale\":[[0.0,\"#0d0887\"],[0.1111111111111111,\"#46039f\"],[0.2222222222222222,\"#7201a8\"],[0.3333333333333333,\"#9c179e\"],[0.4444444444444444,\"#bd3786\"],[0.5555555555555556,\"#d8576b\"],[0.6666666666666666,\"#ed7953\"],[0.7777777777777778,\"#fb9f3a\"],[0.8888888888888888,\"#fdca26\"],[1.0,\"#f0f921\"]]}],\"mesh3d\":[{\"type\":\"mesh3d\",\"colorbar\":{\"outlinewidth\":0,\"ticks\":\"\"}}],\"scatter\":[{\"fillpattern\":{\"fillmode\":\"overlay\",\"size\":10,\"solidity\":0.2},\"type\":\"scatter\"}],\"parcoords\":[{\"type\":\"parcoords\",\"line\":{\"colorbar\":{\"outlinewidth\":0,\"ticks\":\"\"}}}],\"scatterpolargl\":[{\"type\":\"scatterpolargl\",\"marker\":{\"colorbar\":{\"outlinewidth\":0,\"ticks\":\"\"}}}],\"bar\":[{\"error_x\":{\"color\":\"#2a3f5f\"},\"error_y\":{\"color\":\"#2a3f5f\"},\"marker\":{\"line\":{\"color\":\"#E5ECF6\",\"width\":0.5},\"pattern\":{\"fillmode\":\"overlay\",\"size\":10,\"solidity\":0.2}},\"type\":\"bar\"}],\"scattergeo\":[{\"type\":\"scattergeo\",\"marker\":{\"colorbar\":{\"outlinewidth\":0,\"ticks\":\"\"}}}],\"scatterpolar\":[{\"type\":\"scatterpolar\",\"marker\":{\"colorbar\":{\"outlinewidth\":0,\"ticks\":\"\"}}}],\"histogram\":[{\"marker\":{\"pattern\":{\"fillmode\":\"overlay\",\"size\":10,\"solidity\":0.2}},\"type\":\"histogram\"}],\"scattergl\":[{\"type\":\"scattergl\",\"marker\":{\"colorbar\":{\"outlinewidth\":0,\"ticks\":\"\"}}}],\"scatter3d\":[{\"type\":\"scatter3d\",\"line\":{\"colorbar\":{\"outlinewidth\":0,\"ticks\":\"\"}},\"marker\":{\"colorbar\":{\"outlinewidth\":0,\"ticks\":\"\"}}}],\"scattermapbox\":[{\"type\":\"scattermapbox\",\"marker\":{\"colorbar\":{\"outlinewidth\":0,\"ticks\":\"\"}}}],\"scatterternary\":[{\"type\":\"scatterternary\",\"marker\":{\"colorbar\":{\"outlinewidth\":0,\"ticks\":\"\"}}}],\"scattercarpet\":[{\"type\":\"scattercarpet\",\"marker\":{\"colorbar\":{\"outlinewidth\":0,\"ticks\":\"\"}}}],\"carpet\":[{\"aaxis\":{\"endlinecolor\":\"#2a3f5f\",\"gridcolor\":\"white\",\"linecolor\":\"white\",\"minorgridcolor\":\"white\",\"startlinecolor\":\"#2a3f5f\"},\"baxis\":{\"endlinecolor\":\"#2a3f5f\",\"gridcolor\":\"white\",\"linecolor\":\"white\",\"minorgridcolor\":\"white\",\"startlinecolor\":\"#2a3f5f\"},\"type\":\"carpet\"}],\"table\":[{\"cells\":{\"fill\":{\"color\":\"#EBF0F8\"},\"line\":{\"color\":\"white\"}},\"header\":{\"fill\":{\"color\":\"#C8D4E3\"},\"line\":{\"color\":\"white\"}},\"type\":\"table\"}],\"barpolar\":[{\"marker\":{\"line\":{\"color\":\"#E5ECF6\",\"width\":0.5},\"pattern\":{\"fillmode\":\"overlay\",\"size\":10,\"solidity\":0.2}},\"type\":\"barpolar\"}],\"pie\":[{\"automargin\":true,\"type\":\"pie\"}]},\"layout\":{\"autotypenumbers\":\"strict\",\"colorway\":[\"#636efa\",\"#EF553B\",\"#00cc96\",\"#ab63fa\",\"#FFA15A\",\"#19d3f3\",\"#FF6692\",\"#B6E880\",\"#FF97FF\",\"#FECB52\"],\"font\":{\"color\":\"#2a3f5f\"},\"hovermode\":\"closest\",\"hoverlabel\":{\"align\":\"left\"},\"paper_bgcolor\":\"white\",\"plot_bgcolor\":\"#E5ECF6\",\"polar\":{\"bgcolor\":\"#E5ECF6\",\"angularaxis\":{\"gridcolor\":\"white\",\"linecolor\":\"white\",\"ticks\":\"\"},\"radialaxis\":{\"gridcolor\":\"white\",\"linecolor\":\"white\",\"ticks\":\"\"}},\"ternary\":{\"bgcolor\":\"#E5ECF6\",\"aaxis\":{\"gridcolor\":\"white\",\"linecolor\":\"white\",\"ticks\":\"\"},\"baxis\":{\"gridcolor\":\"white\",\"linecolor\":\"white\",\"ticks\":\"\"},\"caxis\":{\"gridcolor\":\"white\",\"linecolor\":\"white\",\"ticks\":\"\"}},\"coloraxis\":{\"colorbar\":{\"outlinewidth\":0,\"ticks\":\"\"}},\"colorscale\":{\"sequential\":[[0.0,\"#0d0887\"],[0.1111111111111111,\"#46039f\"],[0.2222222222222222,\"#7201a8\"],[0.3333333333333333,\"#9c179e\"],[0.4444444444444444,\"#bd3786\"],[0.5555555555555556,\"#d8576b\"],[0.6666666666666666,\"#ed7953\"],[0.7777777777777778,\"#fb9f3a\"],[0.8888888888888888,\"#fdca26\"],[1.0,\"#f0f921\"]],\"sequentialminus\":[[0.0,\"#0d0887\"],[0.1111111111111111,\"#46039f\"],[0.2222222222222222,\"#7201a8\"],[0.3333333333333333,\"#9c179e\"],[0.4444444444444444,\"#bd3786\"],[0.5555555555555556,\"#d8576b\"],[0.6666666666666666,\"#ed7953\"],[0.7777777777777778,\"#fb9f3a\"],[0.8888888888888888,\"#fdca26\"],[1.0,\"#f0f921\"]],\"diverging\":[[0,\"#8e0152\"],[0.1,\"#c51b7d\"],[0.2,\"#de77ae\"],[0.3,\"#f1b6da\"],[0.4,\"#fde0ef\"],[0.5,\"#f7f7f7\"],[0.6,\"#e6f5d0\"],[0.7,\"#b8e186\"],[0.8,\"#7fbc41\"],[0.9,\"#4d9221\"],[1,\"#276419\"]]},\"xaxis\":{\"gridcolor\":\"white\",\"linecolor\":\"white\",\"ticks\":\"\",\"title\":{\"standoff\":15},\"zerolinecolor\":\"white\",\"automargin\":true,\"zerolinewidth\":2},\"yaxis\":{\"gridcolor\":\"white\",\"linecolor\":\"white\",\"ticks\":\"\",\"title\":{\"standoff\":15},\"zerolinecolor\":\"white\",\"automargin\":true,\"zerolinewidth\":2},\"scene\":{\"xaxis\":{\"backgroundcolor\":\"#E5ECF6\",\"gridcolor\":\"white\",\"linecolor\":\"white\",\"showbackground\":true,\"ticks\":\"\",\"zerolinecolor\":\"white\",\"gridwidth\":2},\"yaxis\":{\"backgroundcolor\":\"#E5ECF6\",\"gridcolor\":\"white\",\"linecolor\":\"white\",\"showbackground\":true,\"ticks\":\"\",\"zerolinecolor\":\"white\",\"gridwidth\":2},\"zaxis\":{\"backgroundcolor\":\"#E5ECF6\",\"gridcolor\":\"white\",\"linecolor\":\"white\",\"showbackground\":true,\"ticks\":\"\",\"zerolinecolor\":\"white\",\"gridwidth\":2}},\"shapedefaults\":{\"line\":{\"color\":\"#2a3f5f\"}},\"annotationdefaults\":{\"arrowcolor\":\"#2a3f5f\",\"arrowhead\":0,\"arrowwidth\":1},\"geo\":{\"bgcolor\":\"white\",\"landcolor\":\"#E5ECF6\",\"subunitcolor\":\"white\",\"showland\":true,\"showlakes\":true,\"lakecolor\":\"white\"},\"title\":{\"x\":0.05},\"mapbox\":{\"style\":\"light\"}}},\"xaxis\":{\"anchor\":\"y\",\"domain\":[0.0,1.0]},\"yaxis\":{\"anchor\":\"x\",\"domain\":[0.0,1.0],\"title\":{\"text\":\"free sulfur dioxide\"}},\"legend\":{\"tracegroupgap\":0},\"title\":{\"text\":\"Boxplot de free sulfur dioxide\"},\"boxmode\":\"group\"},                        {\"responsive\": true}                    ).then(function(){\n",
              "                            \n",
              "var gd = document.getElementById('ba77637f-0127-482b-aa19-3f215054359d');\n",
              "var x = new MutationObserver(function (mutations, observer) {{\n",
              "        var display = window.getComputedStyle(gd).display;\n",
              "        if (!display || display === 'none') {{\n",
              "            console.log([gd, 'removed!']);\n",
              "            Plotly.purge(gd);\n",
              "            observer.disconnect();\n",
              "        }}\n",
              "}});\n",
              "\n",
              "// Listen for the removal of the full notebook cells\n",
              "var notebookContainer = gd.closest('#notebook-container');\n",
              "if (notebookContainer) {{\n",
              "    x.observe(notebookContainer, {childList: true});\n",
              "}}\n",
              "\n",
              "// Listen for the clearing of the current output cell\n",
              "var outputEl = gd.closest('.output');\n",
              "if (outputEl) {{\n",
              "    x.observe(outputEl, {childList: true});\n",
              "}}\n",
              "\n",
              "                        })                };                            </script>        </div>\n",
              "</body>\n",
              "</html>"
            ]
          },
          "metadata": {}
        },
        {
          "output_type": "display_data",
          "data": {
            "text/html": [
              "<html>\n",
              "<head><meta charset=\"utf-8\" /></head>\n",
              "<body>\n",
              "    <div>            <script src=\"https://cdnjs.cloudflare.com/ajax/libs/mathjax/2.7.5/MathJax.js?config=TeX-AMS-MML_SVG\"></script><script type=\"text/javascript\">if (window.MathJax && window.MathJax.Hub && window.MathJax.Hub.Config) {window.MathJax.Hub.Config({SVG: {font: \"STIX-Web\"}});}</script>                <script type=\"text/javascript\">window.PlotlyConfig = {MathJaxConfig: 'local'};</script>\n",
              "        <script charset=\"utf-8\" src=\"https://cdn.plot.ly/plotly-2.35.2.min.js\"></script>                <div id=\"5f6b59e6-5829-417e-bf26-bd838e2b7550\" class=\"plotly-graph-div\" style=\"height:525px; width:100%;\"></div>            <script type=\"text/javascript\">                                    window.PLOTLYENV=window.PLOTLYENV || {};                                    if (document.getElementById(\"5f6b59e6-5829-417e-bf26-bd838e2b7550\")) {                    Plotly.newPlot(                        \"5f6b59e6-5829-417e-bf26-bd838e2b7550\",                        [{\"alignmentgroup\":\"True\",\"boxpoints\":\"all\",\"hovertemplate\":\"total sulfur dioxide=%{y}\\u003cextra\\u003e\\u003c\\u002fextra\\u003e\",\"legendgroup\":\"\",\"marker\":{\"color\":\"#636efa\"},\"name\":\"\",\"notched\":false,\"offsetgroup\":\"\",\"orientation\":\"v\",\"showlegend\":false,\"x0\":\" \",\"xaxis\":\"x\",\"y\":[34.0,67.0,54.0,60.0,34.0,40.0,59.0,21.0,18.0,102.0,65.0,102.0,59.0,29.0,145.0,148.0,103.0,56.0,29.0,56.0,60.0,71.0,37.0,67.0,40.0,23.0,11.0,37.0,35.0,16.0,82.0,37.0,113.0,83.0,50.0,18.0,15.0,30.0,19.0,87.0,87.0,46.0,14.0,23.0,11.0,65.0,114.0,37.0,12.0,96.0,23.0,15.0,14.0,119.0,73.0,45.0,10.0,110.0,54.0,46.0,52.0,112.0,35.0,54.0,11.0,11.0,39.0,15.0,65.0,19.0,27.0,96.0,94.0,43.0,83.0,42.0,42.0,30.0,80.0,119.0,15.0,67.0,73.0,51.0,61.0,40.0,136.0,31.0,125.0,24.0,140.0,136.0,133.0,31.0,85.0,106.0,23.0,22.0,10.0,35.0,50.0,22.0,35.0,65.0,36.0,65.0,69.0,64.0,80.0,153.0,47.0,108.0,111.0,46.0,47.0,62.0,40.0,28.0,56.0,89.0,89.0,56.0,13.0,34.0,102.0,90.0,12.0,12.0,16.0,19.0,134.0,99.0,99.0,26.0,29.0,63.0,52.0,45.0,105.0,108.0,63.0,52.0,63.0,20.0,63.0,141.0,94.0,88.0,30.0,43.0,11.0,69.0,99.0,99.0,129.0,128.0,129.0,128.0,22.0,86.0,20.0,20.0,31.0,121.0,121.0,96.0,101.0,42.0,44.0,63.0,8.0,18.0,18.0,42.0,35.0,49.0,35.0,38.0,20.0,42.0,42.0,110.0,42.0,65.0,62.0,85.0,67.0,26.0,143.0,144.0,127.0,49.0,126.0,28.0,28.0,120.0,55.0,27.0,93.0,31.0,24.0,145.0,49.0,39.0,37.0,28.0,28.0,120.0,95.0,19.0,19.0,62.0,15.0,65.0,41.0,121.0,49.0,41.0,44.0,144.0,58.0,72.0,10.0,28.0,55.0,63.0,81.0,23.0,63.0,37.0,106.0,49.0,58.0,37.0,37.0,38.0,38.0,39.0,38.0,37.0,62.0,24.0,109.0,24.0,24.0,23.0,51.0,73.0,39.0,23.0,37.0,34.0,21.0,86.0,34.0,119.0,13.0,56.0,45.0,33.0,45.0,67.0,35.0,49.0,27.0,10.0,61.0,37.0,27.0,23.0,61.0,23.0,65.0,38.0,94.0,61.0,27.0,23.0,13.0,47.0,19.0,10.0,53.0,47.0,71.0,71.0,49.0,53.0,49.0,98.0,49.0,18.0,48.0,16.0,53.0,27.0,70.0,29.0,31.0,33.0,44.0,15.0,28.0,21.0,90.0,25.0,54.0,14.0,12.0,30.0,25.0,105.0,98.0,135.0,72.0,53.0,92.0,74.0,59.0,74.0,59.0,87.0,18.0,73.0,50.0,50.0,14.0,13.0,21.0,15.0,41.0,41.0,114.0,44.0,38.0,21.0,16.0,58.0,99.0,29.0,21.0,18.0,14.0,14.0,32.0,63.0,34.0,15.0,46.0,28.0,34.0,26.0,19.0,77.0,165.0,32.0,55.0,29.0,23.0,41.0,81.0,50.0,37.0,15.0,42.0,21.0,42.0,24.0,75.0,18.0,63.0,25.0,46.0,72.0,47.0,15.0,47.0,18.0,24.0,60.0,27.0,43.0,27.0,27.0,54.0,37.0,48.0,42.0,53.0,49.0,88.0,43.0,26.0,95.0,25.0,38.0,124.0,49.0,49.0,42.0,124.0,38.0,64.0,41.0,27.0,25.0,28.0,30.0,16.0,49.0,86.0,78.0,77.0,19.0,122.0,134.0,20.0,124.0,20.0,52.0,67.0,48.0,60.0,24.0,60.0,48.0,48.0,32.0,30.0,35.0,24.0,66.0,24.0,18.0,54.0,18.0,62.0,22.0,54.0,50.0,29.0,27.0,43.0,19.0,27.0,31.0,72.0,16.0,27.0,35.0,35.0,26.0,35.0,22.0,67.0,19.0,22.0,65.0,22.0,47.0,23.0,19.0,25.0,129.0,15.0,26.0,51.0,18.0,21.0,48.0,47.0,52.0,68.0,14.0,24.0,28.0,16.0,20.0,28.0,31.0,23.0,17.0,18.0,18.0,24.0,17.0,17.0,14.0,67.0,26.0,56.0,25.0,27.0,81.0,91.0,16.0,38.0,113.0,16.0,81.0,38.0,76.0,76.0,24.0,22.0,26.0,21.0,13.0,62.0,43.0,43.0,62.0,49.0,15.0,15.0,151.0,14.0,16.0,32.0,106.0,33.0,43.0,133.0,142.0,116.0,53.0,106.0,85.0,55.0,33.0,28.0,42.0,42.0,33.0,32.0,28.0,33.0,13.0,35.0,17.0,47.0,17.0,20.0,53.0,15.0,106.0,28.0,21.0,69.0,25.0,25.0,45.0,44.0,96.0,23.0,23.0,17.0,23.0,17.0,47.0,19.0,121.0,110.0,60.0,47.0,19.0,15.0,15.0,20.0,42.0,37.0,42.0,28.0,47.0,78.0,46.0,14.0,111.0,110.0,40.0,14.0,14.0,15.0,21.0,80.0,38.0,47.0,102.0,50.0,13.0,75.0,149.0,75.0,43.0,38.0,109.0,24.0,18.0,30.0,22.0,23.0,35.0,14.0,35.0,63.0,24.0,20.0,52.0,65.0,39.0,57.0,16.0,29.0,29.0,103.0,71.0,71.0,28.0,17.0,16.0,112.0,104.0,32.0,45.0,58.0,58.0,15.0,15.0,31.0,84.0,31.0,19.0,43.0,86.0,102.0,33.0,147.0,145.0,23.0,57.0,40.0,68.0,40.0,68.0,40.0,11.0,20.0,14.0,28.0,148.0,32.0,155.0,71.0,30.0,29.0,53.0,32.0,42.0,20.0,13.0,20.0,42.0,27.0,13.0,54.0,48.0,16.0,15.0,31.0,15.0,45.0,13.0,151.0,13.0,17.0,31.0,17.0,31.0,87.0,49.0,40.0,29.0,58.0,15.0,152.0,15.0,40.0,38.0,9.0,17.0,14.0,93.0,62.0,122.0,125.0,44.0,25.0,25.0,72.0,19.0,88.0,25.0,23.0,84.0,14.0,54.0,19.0,37.0,35.0,33.0,84.0,112.0,33.0,48.0,77.0,34.0,48.0,49.0,22.0,45.0,22.0,106.0,48.0,127.0,12.0,13.0,49.0,11.0,11.0,58.0,37.0,14.0,19.0,72.0,39.0,22.0,22.0,58.0,104.0,38.0,16.0,139.0,18.0,101.0,101.0,28.0,57.0,68.0,31.0,28.0,40.0,40.0,66.0,40.0,32.0,47.0,33.0,31.0,31.0,88.0,104.0,35.0,19.0,35.0,44.0,48.0,74.0,98.0,94.0,32.0,94.0,143.0,144.0,44.0,45.0,16.0,48.0,18.0,34.0,92.0,45.0,37.0,96.0,37.0,85.0,61.0,61.0,58.0,58.0,119.0,82.0,130.0,87.0,13.0,26.0,60.0,64.0,42.0,14.0,14.0,108.0,17.0,86.0,46.0,18.0,10.0,10.0,10.0,12.0,15.0,14.0,24.0,38.0,7.0,41.0,38.0,30.0,27.0,47.0,59.0,22.0,42.0,36.0,36.0,16.0,37.0,8.0,37.0,45.0,24.0,9.0,24.0,48.0,51.0,23.0,55.0,100.0,100.0,28.0,26.0,34.0,31.0,68.0,92.0,42.0,31.0,31.0,39.0,31.0,32.0,22.0,22.0,122.0,55.0,55.0,14.0,55.0,47.0,32.0,24.0,85.0,88.0,25.0,84.0,85.0,86.0,24.0,22.0,24.0,43.0,43.0,46.0,48.0,10.0,10.0,16.0,14.0,43.0,69.0,88.0,21.0,35.0,26.0,88.0,69.0,30.0,28.0,56.0,64.0,99.0,52.0,86.0,18.0,86.0,88.0,43.0,43.0,43.0,43.0,11.0,39.0,33.0,33.0,18.0,18.0,115.0,78.0,9.0,61.0,11.0,11.0,9.0,8.0,10.0,11.0,6.0,62.0,45.0,79.0,46.0,23.0,79.0,46.0,45.0,28.0,77.0,73.0,75.0,28.0,19.0,25.0,38.0,66.0,38.0,25.0,72.0,72.0,26.0,42.0,11.0,25.0,17.0,52.0,45.0,24.0,20.0,24.0,12.0,21.0,21.0,21.0,12.0,10.0,9.0,11.0,23.0,10.0,51.0,36.0,32.0,38.0,18.0,16.0,27.0,38.0,48.0,10.0,113.0,46.0,22.0,10.0,10.0,13.0,12.0,13.0,72.0,72.0,119.0,29.0,6.0,17.0,28.0,70.0,17.0,6.0,11.0,7.0,70.0,27.0,21.0,27.0,68.0,47.0,68.0,88.0,41.0,11.0,11.0,10.0,12.0,12.0,47.0,27.0,8.0,45.0,8.0,27.0,25.0,24.0,55.0,12.0,19.0,32.0,31.0,7.0,27.0,28.0,109.0,109.0,23.0,8.0,8.0,9.0,9.0,18.0,43.0,36.0,52.0,68.0,18.0,14.0,15.0,14.0,27.0,48.0,17.0,35.0,56.0,42.0,39.0,32.0,26.0,39.0,39.0,53.0,38.0,45.0,51.0,14.0,17.0,51.0,45.0,25.0,20.0,77.0,77.0,10.0,90.0,52.0,10.0,8.0,16.0,15.0,17.0,10.0,20.0,26.0,10.0,10.0,52.0,37.0,92.0,75.0,37.0,92.0,67.0,8.0,8.0,8.0,278.0,8.0,289.0,70.0,59.0,70.0,64.0,9.0,30.0,41.0,41.0,74.0,19.0,16.0,31.0,17.0,20.0,17.0,18.0,16.0,18.0,36.0,25.0,30.0,25.0,25.0,49.0,17.0,24.0,13.0,66.0,14.0,55.0,35.0,10.0,80.0,21.0,21.0,21.0,24.0,15.0,17.0,28.0,33.0,29.0,13.0,27.0,11.0,52.0,89.0,70.0,10.0,135.0,38.0,18.0,15.0,50.0,13.0,13.0,94.0,86.0,79.0,71.0,12.0,20.0,70.0,51.0,21.0,14.0,21.0,11.0,12.0,70.0,38.0,38.0,63.0,38.0,88.0,101.0,54.0,37.0,20.0,21.0,19.0,21.0,21.0,38.0,60.0,48.0,44.0,14.0,12.0,44.0,16.0,65.0,65.0,59.0,47.0,11.0,78.0,47.0,47.0,11.0,54.0,61.0,119.0,39.0,12.0,39.0,119.0,19.0,20.0,12.0,41.0,12.0,64.0,56.0,94.0,9.0,77.0,94.0,9.0,10.0,12.0,76.0,44.0,44.0,44.0,52.0,44.0,24.0,15.0,53.0,15.0,13.0,9.0,29.0,79.0,74.0,24.0,50.0,44.0,44.0,89.0,23.0,20.0,77.0,46.0,21.0,88.0,66.0,58.0,90.0,66.0,36.0,18.0,113.0,17.0,18.0,24.0,20.0,60.0,65.0,40.0,86.0,160.0,34.0,48.0,34.0,36.0,37.0,37.0,60.0,14.0,13.0,35.0,46.0,60.0,69.0,33.0,33.0,56.0,24.0,66.0,26.0,51.0,36.0,36.0,19.0,51.0,87.0,60.0,64.0,44.0,44.0,36.0,81.0,10.0,10.0,81.0,9.0,54.0,54.0,22.0,69.0,36.0,47.0,31.0,7.0,110.0,110.0,12.0,60.0,28.0,12.0,60.0,77.5,77.5,29.0,18.0,9.0,28.0,57.0,15.0,68.0,68.0,88.0,91.0,29.0,91.0,63.0,88.0,27.0,41.0,65.0,69.0,91.0,46.0,41.0,91.0,64.0,88.0,46.0,18.0,55.0,34.0,34.0,34.0,34.0,38.0,91.0,91.0,67.0,25.0,48.0,11.0,40.0,26.0,26.0,26.0,31.0,31.0,31.0,31.0,31.0,20.0,28.0,13.0,12.0,12.0,41.0,73.0,46.0,57.0,57.0,28.0,32.0,28.0,67.0,98.0,28.0,38.0,54.0,28.0,63.0,31.0,42.0,45.0,105.0,74.0,8.0,66.0,14.0,66.0,89.0,29.0,100.0,31.0,74.0,28.0,35.0,35.0,25.0,105.0,105.0,84.0,85.0,23.0,23.0,49.0,111.0,33.0,33.0,12.0,59.0,73.0,12.0,11.0,104.0,28.0,24.0,141.0,141.0,24.0,13.0,46.0,34.0,22.0,54.0,53.0,54.0,16.0,19.0,22.0,89.0,15.0,18.0,15.0,37.0,19.0,133.0,19.0,58.0,55.0,31.0,23.0,23.0,60.0,23.0,55.0,67.0,47.0,74.0,11.0,25.0,95.0,95.0,90.0,39.0,8.0,92.0,28.0,98.0,30.0,22.0,92.0,98.0,30.0,39.0,54.0,29.0,28.0,17.0,53.0,85.0,23.0,17.0,89.0,85.0,20.0,15.0,64.0,13.0,31.0,39.0,53.0,53.0,54.0,32.0,54.0,49.0,24.0,16.0,44.0,45.0,82.0,89.0,82.0,89.0,14.0,22.0,13.0,22.0,9.0,12.0,11.0,25.0,23.0,17.0,13.0,11.0,18.0,13.0,18.0,147.0,28.0,28.0,147.0,16.0,13.0,16.0,15.0,64.0,60.0,14.0,12.0,12.0,14.0,12.0,25.0,20.0,48.0,27.0,17.0,65.0,65.0,65.0,58.0,44.0,20.0,27.0,44.0,23.0,58.0,61.0,47.0,34.0,38.0,24.0,59.0,52.0,18.0,28.0,22.0,84.0,29.0,35.0,45.0,31.0,26.0,60.0,32.0,49.0,38.0,19.0,19.0,28.0,26.0,26.0,50.0,24.0,26.0,27.0,54.0,28.0,23.0,24.0,20.0,23.0,115.0,131.0,131.0,131.0,20.0,20.0,20.0,42.0,52.0,20.0,42.0,34.0,35.0,25.0,104.0,50.0,92.0,20.0,29.0,27.0,20.0,32.0,26.0,32.0,27.0,98.0,34.0,48.0,60.0,28.0,102.0,79.0,35.0,26.0,40.0,38.0,44.0,51.0,40.0,44.0,42.0],\"y0\":\" \",\"yaxis\":\"y\",\"type\":\"box\"}],                        {\"template\":{\"data\":{\"histogram2dcontour\":[{\"type\":\"histogram2dcontour\",\"colorbar\":{\"outlinewidth\":0,\"ticks\":\"\"},\"colorscale\":[[0.0,\"#0d0887\"],[0.1111111111111111,\"#46039f\"],[0.2222222222222222,\"#7201a8\"],[0.3333333333333333,\"#9c179e\"],[0.4444444444444444,\"#bd3786\"],[0.5555555555555556,\"#d8576b\"],[0.6666666666666666,\"#ed7953\"],[0.7777777777777778,\"#fb9f3a\"],[0.8888888888888888,\"#fdca26\"],[1.0,\"#f0f921\"]]}],\"choropleth\":[{\"type\":\"choropleth\",\"colorbar\":{\"outlinewidth\":0,\"ticks\":\"\"}}],\"histogram2d\":[{\"type\":\"histogram2d\",\"colorbar\":{\"outlinewidth\":0,\"ticks\":\"\"},\"colorscale\":[[0.0,\"#0d0887\"],[0.1111111111111111,\"#46039f\"],[0.2222222222222222,\"#7201a8\"],[0.3333333333333333,\"#9c179e\"],[0.4444444444444444,\"#bd3786\"],[0.5555555555555556,\"#d8576b\"],[0.6666666666666666,\"#ed7953\"],[0.7777777777777778,\"#fb9f3a\"],[0.8888888888888888,\"#fdca26\"],[1.0,\"#f0f921\"]]}],\"heatmap\":[{\"type\":\"heatmap\",\"colorbar\":{\"outlinewidth\":0,\"ticks\":\"\"},\"colorscale\":[[0.0,\"#0d0887\"],[0.1111111111111111,\"#46039f\"],[0.2222222222222222,\"#7201a8\"],[0.3333333333333333,\"#9c179e\"],[0.4444444444444444,\"#bd3786\"],[0.5555555555555556,\"#d8576b\"],[0.6666666666666666,\"#ed7953\"],[0.7777777777777778,\"#fb9f3a\"],[0.8888888888888888,\"#fdca26\"],[1.0,\"#f0f921\"]]}],\"heatmapgl\":[{\"type\":\"heatmapgl\",\"colorbar\":{\"outlinewidth\":0,\"ticks\":\"\"},\"colorscale\":[[0.0,\"#0d0887\"],[0.1111111111111111,\"#46039f\"],[0.2222222222222222,\"#7201a8\"],[0.3333333333333333,\"#9c179e\"],[0.4444444444444444,\"#bd3786\"],[0.5555555555555556,\"#d8576b\"],[0.6666666666666666,\"#ed7953\"],[0.7777777777777778,\"#fb9f3a\"],[0.8888888888888888,\"#fdca26\"],[1.0,\"#f0f921\"]]}],\"contourcarpet\":[{\"type\":\"contourcarpet\",\"colorbar\":{\"outlinewidth\":0,\"ticks\":\"\"}}],\"contour\":[{\"type\":\"contour\",\"colorbar\":{\"outlinewidth\":0,\"ticks\":\"\"},\"colorscale\":[[0.0,\"#0d0887\"],[0.1111111111111111,\"#46039f\"],[0.2222222222222222,\"#7201a8\"],[0.3333333333333333,\"#9c179e\"],[0.4444444444444444,\"#bd3786\"],[0.5555555555555556,\"#d8576b\"],[0.6666666666666666,\"#ed7953\"],[0.7777777777777778,\"#fb9f3a\"],[0.8888888888888888,\"#fdca26\"],[1.0,\"#f0f921\"]]}],\"surface\":[{\"type\":\"surface\",\"colorbar\":{\"outlinewidth\":0,\"ticks\":\"\"},\"colorscale\":[[0.0,\"#0d0887\"],[0.1111111111111111,\"#46039f\"],[0.2222222222222222,\"#7201a8\"],[0.3333333333333333,\"#9c179e\"],[0.4444444444444444,\"#bd3786\"],[0.5555555555555556,\"#d8576b\"],[0.6666666666666666,\"#ed7953\"],[0.7777777777777778,\"#fb9f3a\"],[0.8888888888888888,\"#fdca26\"],[1.0,\"#f0f921\"]]}],\"mesh3d\":[{\"type\":\"mesh3d\",\"colorbar\":{\"outlinewidth\":0,\"ticks\":\"\"}}],\"scatter\":[{\"fillpattern\":{\"fillmode\":\"overlay\",\"size\":10,\"solidity\":0.2},\"type\":\"scatter\"}],\"parcoords\":[{\"type\":\"parcoords\",\"line\":{\"colorbar\":{\"outlinewidth\":0,\"ticks\":\"\"}}}],\"scatterpolargl\":[{\"type\":\"scatterpolargl\",\"marker\":{\"colorbar\":{\"outlinewidth\":0,\"ticks\":\"\"}}}],\"bar\":[{\"error_x\":{\"color\":\"#2a3f5f\"},\"error_y\":{\"color\":\"#2a3f5f\"},\"marker\":{\"line\":{\"color\":\"#E5ECF6\",\"width\":0.5},\"pattern\":{\"fillmode\":\"overlay\",\"size\":10,\"solidity\":0.2}},\"type\":\"bar\"}],\"scattergeo\":[{\"type\":\"scattergeo\",\"marker\":{\"colorbar\":{\"outlinewidth\":0,\"ticks\":\"\"}}}],\"scatterpolar\":[{\"type\":\"scatterpolar\",\"marker\":{\"colorbar\":{\"outlinewidth\":0,\"ticks\":\"\"}}}],\"histogram\":[{\"marker\":{\"pattern\":{\"fillmode\":\"overlay\",\"size\":10,\"solidity\":0.2}},\"type\":\"histogram\"}],\"scattergl\":[{\"type\":\"scattergl\",\"marker\":{\"colorbar\":{\"outlinewidth\":0,\"ticks\":\"\"}}}],\"scatter3d\":[{\"type\":\"scatter3d\",\"line\":{\"colorbar\":{\"outlinewidth\":0,\"ticks\":\"\"}},\"marker\":{\"colorbar\":{\"outlinewidth\":0,\"ticks\":\"\"}}}],\"scattermapbox\":[{\"type\":\"scattermapbox\",\"marker\":{\"colorbar\":{\"outlinewidth\":0,\"ticks\":\"\"}}}],\"scatterternary\":[{\"type\":\"scatterternary\",\"marker\":{\"colorbar\":{\"outlinewidth\":0,\"ticks\":\"\"}}}],\"scattercarpet\":[{\"type\":\"scattercarpet\",\"marker\":{\"colorbar\":{\"outlinewidth\":0,\"ticks\":\"\"}}}],\"carpet\":[{\"aaxis\":{\"endlinecolor\":\"#2a3f5f\",\"gridcolor\":\"white\",\"linecolor\":\"white\",\"minorgridcolor\":\"white\",\"startlinecolor\":\"#2a3f5f\"},\"baxis\":{\"endlinecolor\":\"#2a3f5f\",\"gridcolor\":\"white\",\"linecolor\":\"white\",\"minorgridcolor\":\"white\",\"startlinecolor\":\"#2a3f5f\"},\"type\":\"carpet\"}],\"table\":[{\"cells\":{\"fill\":{\"color\":\"#EBF0F8\"},\"line\":{\"color\":\"white\"}},\"header\":{\"fill\":{\"color\":\"#C8D4E3\"},\"line\":{\"color\":\"white\"}},\"type\":\"table\"}],\"barpolar\":[{\"marker\":{\"line\":{\"color\":\"#E5ECF6\",\"width\":0.5},\"pattern\":{\"fillmode\":\"overlay\",\"size\":10,\"solidity\":0.2}},\"type\":\"barpolar\"}],\"pie\":[{\"automargin\":true,\"type\":\"pie\"}]},\"layout\":{\"autotypenumbers\":\"strict\",\"colorway\":[\"#636efa\",\"#EF553B\",\"#00cc96\",\"#ab63fa\",\"#FFA15A\",\"#19d3f3\",\"#FF6692\",\"#B6E880\",\"#FF97FF\",\"#FECB52\"],\"font\":{\"color\":\"#2a3f5f\"},\"hovermode\":\"closest\",\"hoverlabel\":{\"align\":\"left\"},\"paper_bgcolor\":\"white\",\"plot_bgcolor\":\"#E5ECF6\",\"polar\":{\"bgcolor\":\"#E5ECF6\",\"angularaxis\":{\"gridcolor\":\"white\",\"linecolor\":\"white\",\"ticks\":\"\"},\"radialaxis\":{\"gridcolor\":\"white\",\"linecolor\":\"white\",\"ticks\":\"\"}},\"ternary\":{\"bgcolor\":\"#E5ECF6\",\"aaxis\":{\"gridcolor\":\"white\",\"linecolor\":\"white\",\"ticks\":\"\"},\"baxis\":{\"gridcolor\":\"white\",\"linecolor\":\"white\",\"ticks\":\"\"},\"caxis\":{\"gridcolor\":\"white\",\"linecolor\":\"white\",\"ticks\":\"\"}},\"coloraxis\":{\"colorbar\":{\"outlinewidth\":0,\"ticks\":\"\"}},\"colorscale\":{\"sequential\":[[0.0,\"#0d0887\"],[0.1111111111111111,\"#46039f\"],[0.2222222222222222,\"#7201a8\"],[0.3333333333333333,\"#9c179e\"],[0.4444444444444444,\"#bd3786\"],[0.5555555555555556,\"#d8576b\"],[0.6666666666666666,\"#ed7953\"],[0.7777777777777778,\"#fb9f3a\"],[0.8888888888888888,\"#fdca26\"],[1.0,\"#f0f921\"]],\"sequentialminus\":[[0.0,\"#0d0887\"],[0.1111111111111111,\"#46039f\"],[0.2222222222222222,\"#7201a8\"],[0.3333333333333333,\"#9c179e\"],[0.4444444444444444,\"#bd3786\"],[0.5555555555555556,\"#d8576b\"],[0.6666666666666666,\"#ed7953\"],[0.7777777777777778,\"#fb9f3a\"],[0.8888888888888888,\"#fdca26\"],[1.0,\"#f0f921\"]],\"diverging\":[[0,\"#8e0152\"],[0.1,\"#c51b7d\"],[0.2,\"#de77ae\"],[0.3,\"#f1b6da\"],[0.4,\"#fde0ef\"],[0.5,\"#f7f7f7\"],[0.6,\"#e6f5d0\"],[0.7,\"#b8e186\"],[0.8,\"#7fbc41\"],[0.9,\"#4d9221\"],[1,\"#276419\"]]},\"xaxis\":{\"gridcolor\":\"white\",\"linecolor\":\"white\",\"ticks\":\"\",\"title\":{\"standoff\":15},\"zerolinecolor\":\"white\",\"automargin\":true,\"zerolinewidth\":2},\"yaxis\":{\"gridcolor\":\"white\",\"linecolor\":\"white\",\"ticks\":\"\",\"title\":{\"standoff\":15},\"zerolinecolor\":\"white\",\"automargin\":true,\"zerolinewidth\":2},\"scene\":{\"xaxis\":{\"backgroundcolor\":\"#E5ECF6\",\"gridcolor\":\"white\",\"linecolor\":\"white\",\"showbackground\":true,\"ticks\":\"\",\"zerolinecolor\":\"white\",\"gridwidth\":2},\"yaxis\":{\"backgroundcolor\":\"#E5ECF6\",\"gridcolor\":\"white\",\"linecolor\":\"white\",\"showbackground\":true,\"ticks\":\"\",\"zerolinecolor\":\"white\",\"gridwidth\":2},\"zaxis\":{\"backgroundcolor\":\"#E5ECF6\",\"gridcolor\":\"white\",\"linecolor\":\"white\",\"showbackground\":true,\"ticks\":\"\",\"zerolinecolor\":\"white\",\"gridwidth\":2}},\"shapedefaults\":{\"line\":{\"color\":\"#2a3f5f\"}},\"annotationdefaults\":{\"arrowcolor\":\"#2a3f5f\",\"arrowhead\":0,\"arrowwidth\":1},\"geo\":{\"bgcolor\":\"white\",\"landcolor\":\"#E5ECF6\",\"subunitcolor\":\"white\",\"showland\":true,\"showlakes\":true,\"lakecolor\":\"white\"},\"title\":{\"x\":0.05},\"mapbox\":{\"style\":\"light\"}}},\"xaxis\":{\"anchor\":\"y\",\"domain\":[0.0,1.0]},\"yaxis\":{\"anchor\":\"x\",\"domain\":[0.0,1.0],\"title\":{\"text\":\"total sulfur dioxide\"}},\"legend\":{\"tracegroupgap\":0},\"title\":{\"text\":\"Boxplot de total sulfur dioxide\"},\"boxmode\":\"group\"},                        {\"responsive\": true}                    ).then(function(){\n",
              "                            \n",
              "var gd = document.getElementById('5f6b59e6-5829-417e-bf26-bd838e2b7550');\n",
              "var x = new MutationObserver(function (mutations, observer) {{\n",
              "        var display = window.getComputedStyle(gd).display;\n",
              "        if (!display || display === 'none') {{\n",
              "            console.log([gd, 'removed!']);\n",
              "            Plotly.purge(gd);\n",
              "            observer.disconnect();\n",
              "        }}\n",
              "}});\n",
              "\n",
              "// Listen for the removal of the full notebook cells\n",
              "var notebookContainer = gd.closest('#notebook-container');\n",
              "if (notebookContainer) {{\n",
              "    x.observe(notebookContainer, {childList: true});\n",
              "}}\n",
              "\n",
              "// Listen for the clearing of the current output cell\n",
              "var outputEl = gd.closest('.output');\n",
              "if (outputEl) {{\n",
              "    x.observe(outputEl, {childList: true});\n",
              "}}\n",
              "\n",
              "                        })                };                            </script>        </div>\n",
              "</body>\n",
              "</html>"
            ]
          },
          "metadata": {}
        },
        {
          "output_type": "display_data",
          "data": {
            "text/html": [
              "<html>\n",
              "<head><meta charset=\"utf-8\" /></head>\n",
              "<body>\n",
              "    <div>            <script src=\"https://cdnjs.cloudflare.com/ajax/libs/mathjax/2.7.5/MathJax.js?config=TeX-AMS-MML_SVG\"></script><script type=\"text/javascript\">if (window.MathJax && window.MathJax.Hub && window.MathJax.Hub.Config) {window.MathJax.Hub.Config({SVG: {font: \"STIX-Web\"}});}</script>                <script type=\"text/javascript\">window.PlotlyConfig = {MathJaxConfig: 'local'};</script>\n",
              "        <script charset=\"utf-8\" src=\"https://cdn.plot.ly/plotly-2.35.2.min.js\"></script>                <div id=\"bfc73b35-7975-44bd-a92c-55c67fc13fd6\" class=\"plotly-graph-div\" style=\"height:525px; width:100%;\"></div>            <script type=\"text/javascript\">                                    window.PLOTLYENV=window.PLOTLYENV || {};                                    if (document.getElementById(\"bfc73b35-7975-44bd-a92c-55c67fc13fd6\")) {                    Plotly.newPlot(                        \"bfc73b35-7975-44bd-a92c-55c67fc13fd6\",                        [{\"alignmentgroup\":\"True\",\"boxpoints\":\"all\",\"hovertemplate\":\"sulphates=%{y}\\u003cextra\\u003e\\u003c\\u002fextra\\u003e\",\"legendgroup\":\"\",\"marker\":{\"color\":\"#636efa\"},\"name\":\"\",\"notched\":false,\"offsetgroup\":\"\",\"orientation\":\"v\",\"showlegend\":false,\"x0\":\" \",\"xaxis\":\"x\",\"y\":[0.56,0.68,0.65,0.58,0.56,0.56,0.46,0.47,0.57,0.8,0.54,0.8,0.52,1.56,0.88,0.93,0.75,1.28,0.5,1.08,0.53,0.65,0.91,0.53,0.63,0.56,0.59,0.91,0.55,0.59,0.54,0.57,0.66,0.52,0.55,0.55,0.6,0.73,0.48,0.83,0.83,0.51,0.9,1.2,0.52,0.56,0.73,0.58,0.56,0.58,0.74,0.63,0.64,0.56,0.63,0.53,0.63,0.77,0.59,0.54,0.64,0.71,0.62,0.57,0.39,0.39,0.58,0.58,0.79,0.95,0.54,0.48,0.48,0.53,0.82,0.66,0.66,0.55,0.52,1.12,0.56,1.28,0.57,1.14,0.78,0.59,1.95,0.64,1.22,0.53,0.54,1.95,1.98,0.64,0.48,0.6,0.56,0.63,0.56,0.59,0.61,0.56,0.59,0.51,0.48,0.51,1.31,0.79,0.8,0.69,0.93,0.66,0.66,0.67,0.93,0.63,0.61,0.5,0.6,0.54,0.57,0.6,0.52,0.53,0.48,0.7,0.49,0.48,0.92,0.57,0.66,0.63,0.63,0.58,0.55,0.82,0.77,0.64,0.54,0.54,0.82,0.77,0.79,0.58,0.79,0.62,0.52,0.8,0.58,0.61,0.53,2.0,0.54,0.54,0.72,0.71,0.72,0.71,0.5,0.57,0.56,1.08,0.56,0.49,0.49,0.62,0.52,0.48,0.55,1.59,0.33,0.61,0.61,0.57,0.47,0.78,0.47,0.61,0.56,0.59,0.59,1.02,0.52,0.58,0.58,0.53,0.55,0.49,0.55,0.55,0.62,0.62,0.61,0.55,0.55,0.54,0.59,0.97,0.85,0.43,0.82,1.03,0.79,0.55,0.56,0.77,0.77,0.53,0.67,0.88,0.86,0.56,0.67,0.43,0.71,0.76,0.57,0.55,0.54,0.6,0.59,0.57,0.6,0.6,0.57,0.58,1.61,0.63,0.58,0.5,0.62,0.52,0.7,0.5,0.55,0.58,0.58,0.58,0.58,0.55,1.09,0.71,0.49,0.84,0.84,0.96,0.52,0.45,0.48,0.96,0.78,0.7,0.53,0.59,0.7,0.57,0.62,0.67,1.26,0.8,0.65,0.6,0.57,0.67,0.87,0.72,0.72,0.86,0.91,0.97,0.67,0.97,0.78,0.64,0.77,0.67,0.91,0.97,0.82,0.77,0.82,1.08,0.57,0.77,0.71,0.71,0.76,0.7,0.86,0.95,0.86,0.71,0.64,0.6,0.81,0.64,0.52,0.73,0.8,0.71,0.59,0.64,0.72,0.54,0.52,0.59,0.52,0.62,0.63,0.53,0.59,0.54,0.63,0.53,0.68,0.65,0.65,0.64,0.71,0.64,0.71,0.62,0.63,0.7,0.69,0.69,0.74,0.83,0.67,0.62,0.66,0.66,0.54,0.52,0.74,0.84,0.7,0.64,1.0,1.36,1.18,0.87,0.75,0.75,0.78,0.81,0.89,0.93,0.92,0.86,0.98,0.83,0.73,0.77,0.59,0.61,0.88,0.75,0.85,0.68,0.7,0.91,0.56,0.87,0.73,0.93,0.73,0.69,0.64,1.13,0.78,0.87,1.04,0.63,0.81,0.83,1.11,1.13,0.99,0.7,0.8,0.8,0.8,0.8,0.74,0.76,0.74,0.54,0.74,0.7,0.82,0.8,0.51,0.54,0.57,0.6,0.53,0.65,0.65,0.55,0.53,0.47,0.61,0.63,0.61,0.76,0.65,0.63,0.7,0.57,0.62,0.62,0.64,0.82,0.61,1.07,0.66,0.48,0.76,0.68,0.73,0.56,0.44,0.9,0.44,0.56,0.49,0.56,0.6,0.6,0.9,0.56,0.65,0.49,0.89,0.49,0.56,0.66,0.89,0.6,0.82,0.68,0.68,0.63,0.84,0.56,0.73,0.72,0.56,0.61,0.61,1.06,0.63,0.74,0.63,0.69,0.58,0.58,0.74,0.57,0.61,0.61,0.61,0.53,0.7,0.91,0.72,0.79,0.62,0.58,0.61,0.71,0.82,0.79,0.89,0.6,0.7,1.06,0.6,0.7,0.66,0.92,1.05,1.06,0.66,0.47,0.47,0.42,0.92,0.75,0.67,0.79,0.9,0.74,0.55,0.65,0.65,0.79,0.65,0.74,0.65,0.85,0.85,1.04,1.05,0.78,1.02,0.71,0.63,0.68,0.61,0.63,0.81,0.66,0.66,1.14,0.74,0.63,0.68,0.78,0.9,0.64,0.99,0.55,0.64,0.67,0.78,0.77,0.75,0.57,0.87,0.61,0.61,0.66,0.56,0.87,0.57,0.77,0.66,0.62,0.67,0.73,0.59,0.72,0.79,0.59,0.78,0.86,0.75,0.61,0.56,0.73,0.74,0.62,0.74,0.74,0.56,0.74,0.56,0.68,0.57,0.58,0.61,0.61,0.68,0.57,0.6,0.6,0.79,0.57,0.91,0.57,0.61,0.56,0.7,0.8,0.52,0.6,0.6,0.51,0.44,0.44,0.43,0.66,0.76,0.66,1.02,0.59,0.74,0.74,0.57,0.5,0.57,0.58,0.53,0.57,0.6,0.63,0.48,0.7,0.47,0.56,0.52,0.56,0.62,0.59,0.79,0.53,0.64,0.52,0.54,0.54,0.6,0.74,1.36,0.57,0.57,0.93,0.7,0.8,0.61,0.62,0.55,0.96,0.72,0.72,0.49,0.49,0.6,0.61,0.6,0.63,0.57,0.64,0.58,0.55,0.53,0.53,0.65,1.36,0.62,0.63,0.62,0.63,0.62,0.69,0.63,0.58,0.67,0.57,0.5,0.67,0.84,0.54,0.46,0.61,0.5,0.68,0.81,0.57,0.81,0.64,0.7,0.79,0.66,0.56,0.6,0.66,0.57,0.66,0.58,0.52,0.53,0.52,0.67,0.65,0.67,0.48,0.53,0.54,0.49,0.49,0.54,0.56,0.48,0.56,0.6,0.59,0.47,1.05,0.54,0.54,1.17,0.62,0.61,0.62,0.67,0.67,0.53,0.62,0.57,0.67,0.67,0.7,0.54,0.49,0.47,0.51,0.61,0.66,0.57,0.61,0.45,0.46,0.51,0.48,0.46,0.57,0.44,0.54,0.44,0.53,0.59,1.62,0.6,0.55,0.72,0.68,0.68,0.49,0.67,0.52,0.47,0.6,0.62,0.5,0.5,0.65,0.56,0.6,0.68,0.57,0.65,0.53,0.51,0.73,0.47,0.48,0.72,0.73,0.55,0.55,0.61,0.55,1.06,0.43,0.46,0.5,0.5,0.52,0.57,0.42,0.53,0.42,0.55,0.54,0.54,0.62,0.53,0.54,0.53,0.55,0.55,0.92,0.91,0.46,0.6,0.59,0.61,0.6,0.6,0.65,0.53,0.65,0.59,0.5,0.5,0.56,0.56,0.52,0.68,0.54,0.6,0.56,0.53,1.18,0.74,0.81,0.52,0.52,0.51,0.44,0.94,0.66,0.57,0.7,0.71,0.7,0.86,0.55,0.47,0.68,0.71,0.58,0.76,0.71,0.58,0.73,0.45,0.54,0.6,0.74,0.64,0.64,0.53,0.49,0.64,0.49,0.74,0.77,0.55,0.77,0.86,0.86,0.47,0.51,0.39,0.39,0.83,0.47,0.77,0.63,0.72,0.62,0.83,0.66,0.66,0.7,0.66,0.66,0.55,0.55,1.07,0.73,0.73,0.71,0.73,0.78,0.67,0.82,0.54,0.6,0.44,0.53,0.54,0.54,0.83,0.84,0.82,0.64,0.57,0.57,0.54,0.58,0.65,0.79,0.58,0.57,0.5,0.55,0.49,0.65,0.78,0.55,0.5,0.64,0.65,0.79,0.56,0.68,0.58,0.57,0.65,0.57,0.58,0.58,0.77,0.58,0.77,0.49,0.69,0.69,0.69,0.59,0.59,0.59,0.71,0.54,0.59,0.52,0.57,0.6,0.62,0.64,0.52,0.67,0.61,0.64,0.72,0.89,0.56,0.72,0.89,0.64,0.8,0.87,0.9,0.59,0.8,0.73,0.73,0.65,0.59,0.65,0.73,0.72,0.72,0.6,0.72,0.54,0.76,0.52,0.64,0.6,0.64,0.79,0.99,0.62,0.76,0.76,0.76,0.62,0.68,0.69,0.54,0.67,0.62,0.58,0.71,0.61,0.85,0.62,0.69,0.69,0.85,0.86,0.58,0.48,0.6,0.61,0.87,0.87,0.65,0.63,0.62,0.52,0.52,0.5,0.49,0.63,0.71,0.62,0.82,0.71,0.63,0.58,0.55,0.5,0.49,0.51,0.49,0.48,0.48,0.48,0.43,0.62,0.63,0.63,0.48,0.53,0.72,0.82,0.84,0.55,0.54,0.55,0.84,0.84,0.7,0.68,0.55,0.55,0.48,0.58,0.58,0.84,0.75,0.44,0.44,0.61,0.53,0.53,0.54,0.55,0.56,0.6,0.56,0.52,0.54,0.56,0.55,0.58,0.53,0.59,0.47,0.65,0.59,0.56,0.77,0.83,0.67,0.64,0.83,0.81,0.62,0.58,0.62,0.64,0.78,0.77,0.64,1.34,0.55,0.77,0.62,0.62,0.59,0.57,0.76,0.59,0.7,0.69,0.64,0.63,0.57,0.6,0.72,0.83,0.83,0.62,0.89,0.58,0.58,0.58,0.58,0.86,0.73,0.58,0.58,0.51,0.51,0.51,0.59,0.77,0.59,0.49,0.66,0.69,0.76,0.76,0.63,0.6,0.59,0.86,0.49,0.5,0.49,0.52,0.81,0.52,0.78,0.63,0.54,0.63,0.66,0.6,0.54,0.85,0.49,0.76,0.64,0.64,0.71,0.59,0.66,0.6,0.6,0.6,0.53,0.58,0.72,0.55,0.48,0.65,0.62,0.59,0.54,0.6,0.68,0.69,0.63,0.44,0.88,0.68,0.74,0.6,0.76,0.76,0.58,0.64,0.65,0.85,0.65,0.82,0.62,0.81,0.87,0.49,0.66,0.52,0.76,0.65,0.53,0.66,0.68,0.53,0.76,0.87,1.16,0.67,0.72,0.75,0.71,0.67,0.67,1.1,0.98,0.88,0.56,0.62,0.67,0.68,0.74,0.62,0.62,0.7,0.5,0.66,0.73,0.81,0.81,0.46,0.86,0.6,0.7,0.46,0.5,0.46,0.7,0.44,0.57,0.51,0.8,0.51,0.59,0.6,0.58,0.54,0.79,0.58,0.54,0.54,0.69,0.55,0.85,0.85,0.85,0.94,0.85,0.87,0.62,0.62,0.62,0.75,0.48,0.56,0.69,0.81,0.69,0.83,0.77,0.77,0.46,0.76,0.82,0.51,0.47,0.72,0.73,0.64,0.78,0.62,0.64,0.49,0.4,0.56,0.64,0.4,0.46,0.56,0.4,0.59,0.6,0.62,0.54,0.68,0.48,0.68,0.75,0.61,0.61,0.59,0.58,0.58,0.69,0.45,0.42,0.7,0.63,0.63,1.15,0.55,0.58,0.46,0.72,0.6,0.6,0.87,0.55,0.82,0.75,0.57,0.53,0.43,0.53,0.54,0.56,0.6,0.54,0.57,0.64,0.64,0.68,0.63,0.56,0.57,0.54,0.37,1.17,1.17,0.59,0.75,0.67,0.49,0.75,0.45,0.45,0.61,0.56,0.4,0.61,0.74,0.8,0.66,0.44,0.53,0.62,0.52,0.62,0.61,0.53,0.59,0.47,0.54,0.53,0.58,0.59,0.69,0.58,1.33,0.66,0.59,0.55,0.82,0.6,0.6,0.6,0.6,0.52,0.56,0.56,0.46,0.43,0.51,0.52,0.66,0.45,0.45,0.45,0.54,0.54,0.54,0.51,0.54,0.53,0.53,0.56,0.39,0.39,0.52,0.57,0.51,0.46,0.46,0.52,0.44,0.44,0.59,0.5,0.65,0.56,0.54,0.65,0.48,0.53,0.62,0.5,1.18,0.5,0.37,1.17,1.03,1.17,0.45,0.51,0.52,0.46,0.62,0.51,0.62,0.62,0.45,0.49,0.49,0.5,0.42,0.58,0.58,0.68,0.53,0.59,0.58,0.48,0.48,0.48,0.65,0.65,0.52,0.62,0.72,0.51,0.51,0.82,1.1,0.62,0.9,0.94,0.93,1.01,0.93,0.44,0.73,0.94,0.9,0.78,0.84,0.78,0.77,0.46,0.45,0.46,0.58,0.84,0.67,0.7,0.7,0.71,0.58,0.63,0.93,0.62,0.54,0.85,0.74,0.77,0.77,0.65,0.54,0.47,0.68,0.73,0.52,0.75,0.49,0.68,0.52,0.75,0.74,0.73,0.76,0.73,0.78,0.76,0.58,0.69,0.63,0.5,0.58,0.6,0.8,0.68,0.61,0.58,0.53,0.67,0.67,0.65,0.57,0.65,0.55,0.47,0.52,0.79,0.54,0.75,0.88,0.75,0.88,0.52,0.68,0.62,0.68,0.57,0.61,0.64,0.55,0.6,0.78,0.58,0.76,0.56,0.58,0.54,0.59,0.7,0.81,0.59,0.63,0.58,0.63,0.53,0.53,0.54,0.69,0.55,0.63,0.66,0.55,0.72,0.7,0.77,0.67,0.65,0.6,0.72,0.72,0.97,0.83,0.63,0.58,0.83,0.43,0.97,0.6,0.78,0.64,0.65,0.66,0.67,0.6,0.69,0.66,0.68,0.61,0.62,0.59,0.68,0.64,0.63,0.78,0.63,0.76,0.56,0.57,0.81,0.64,0.61,0.51,0.58,0.7,0.53,0.54,0.66,0.6,0.6,0.68,0.56,0.6,0.56,0.52,0.52,0.52,0.54,0.54,0.54,0.82,0.71,0.54,0.59,0.57,0.93,0.65,0.51,0.67,0.48,0.64,0.78,0.6,0.67,0.6,0.6,0.6,0.5,0.62,0.8,0.84,0.85,0.66,0.78,0.54,0.82,0.56,0.75,0.82,0.58,0.76,0.75,0.71,0.66],\"y0\":\" \",\"yaxis\":\"y\",\"type\":\"box\"}],                        {\"template\":{\"data\":{\"histogram2dcontour\":[{\"type\":\"histogram2dcontour\",\"colorbar\":{\"outlinewidth\":0,\"ticks\":\"\"},\"colorscale\":[[0.0,\"#0d0887\"],[0.1111111111111111,\"#46039f\"],[0.2222222222222222,\"#7201a8\"],[0.3333333333333333,\"#9c179e\"],[0.4444444444444444,\"#bd3786\"],[0.5555555555555556,\"#d8576b\"],[0.6666666666666666,\"#ed7953\"],[0.7777777777777778,\"#fb9f3a\"],[0.8888888888888888,\"#fdca26\"],[1.0,\"#f0f921\"]]}],\"choropleth\":[{\"type\":\"choropleth\",\"colorbar\":{\"outlinewidth\":0,\"ticks\":\"\"}}],\"histogram2d\":[{\"type\":\"histogram2d\",\"colorbar\":{\"outlinewidth\":0,\"ticks\":\"\"},\"colorscale\":[[0.0,\"#0d0887\"],[0.1111111111111111,\"#46039f\"],[0.2222222222222222,\"#7201a8\"],[0.3333333333333333,\"#9c179e\"],[0.4444444444444444,\"#bd3786\"],[0.5555555555555556,\"#d8576b\"],[0.6666666666666666,\"#ed7953\"],[0.7777777777777778,\"#fb9f3a\"],[0.8888888888888888,\"#fdca26\"],[1.0,\"#f0f921\"]]}],\"heatmap\":[{\"type\":\"heatmap\",\"colorbar\":{\"outlinewidth\":0,\"ticks\":\"\"},\"colorscale\":[[0.0,\"#0d0887\"],[0.1111111111111111,\"#46039f\"],[0.2222222222222222,\"#7201a8\"],[0.3333333333333333,\"#9c179e\"],[0.4444444444444444,\"#bd3786\"],[0.5555555555555556,\"#d8576b\"],[0.6666666666666666,\"#ed7953\"],[0.7777777777777778,\"#fb9f3a\"],[0.8888888888888888,\"#fdca26\"],[1.0,\"#f0f921\"]]}],\"heatmapgl\":[{\"type\":\"heatmapgl\",\"colorbar\":{\"outlinewidth\":0,\"ticks\":\"\"},\"colorscale\":[[0.0,\"#0d0887\"],[0.1111111111111111,\"#46039f\"],[0.2222222222222222,\"#7201a8\"],[0.3333333333333333,\"#9c179e\"],[0.4444444444444444,\"#bd3786\"],[0.5555555555555556,\"#d8576b\"],[0.6666666666666666,\"#ed7953\"],[0.7777777777777778,\"#fb9f3a\"],[0.8888888888888888,\"#fdca26\"],[1.0,\"#f0f921\"]]}],\"contourcarpet\":[{\"type\":\"contourcarpet\",\"colorbar\":{\"outlinewidth\":0,\"ticks\":\"\"}}],\"contour\":[{\"type\":\"contour\",\"colorbar\":{\"outlinewidth\":0,\"ticks\":\"\"},\"colorscale\":[[0.0,\"#0d0887\"],[0.1111111111111111,\"#46039f\"],[0.2222222222222222,\"#7201a8\"],[0.3333333333333333,\"#9c179e\"],[0.4444444444444444,\"#bd3786\"],[0.5555555555555556,\"#d8576b\"],[0.6666666666666666,\"#ed7953\"],[0.7777777777777778,\"#fb9f3a\"],[0.8888888888888888,\"#fdca26\"],[1.0,\"#f0f921\"]]}],\"surface\":[{\"type\":\"surface\",\"colorbar\":{\"outlinewidth\":0,\"ticks\":\"\"},\"colorscale\":[[0.0,\"#0d0887\"],[0.1111111111111111,\"#46039f\"],[0.2222222222222222,\"#7201a8\"],[0.3333333333333333,\"#9c179e\"],[0.4444444444444444,\"#bd3786\"],[0.5555555555555556,\"#d8576b\"],[0.6666666666666666,\"#ed7953\"],[0.7777777777777778,\"#fb9f3a\"],[0.8888888888888888,\"#fdca26\"],[1.0,\"#f0f921\"]]}],\"mesh3d\":[{\"type\":\"mesh3d\",\"colorbar\":{\"outlinewidth\":0,\"ticks\":\"\"}}],\"scatter\":[{\"fillpattern\":{\"fillmode\":\"overlay\",\"size\":10,\"solidity\":0.2},\"type\":\"scatter\"}],\"parcoords\":[{\"type\":\"parcoords\",\"line\":{\"colorbar\":{\"outlinewidth\":0,\"ticks\":\"\"}}}],\"scatterpolargl\":[{\"type\":\"scatterpolargl\",\"marker\":{\"colorbar\":{\"outlinewidth\":0,\"ticks\":\"\"}}}],\"bar\":[{\"error_x\":{\"color\":\"#2a3f5f\"},\"error_y\":{\"color\":\"#2a3f5f\"},\"marker\":{\"line\":{\"color\":\"#E5ECF6\",\"width\":0.5},\"pattern\":{\"fillmode\":\"overlay\",\"size\":10,\"solidity\":0.2}},\"type\":\"bar\"}],\"scattergeo\":[{\"type\":\"scattergeo\",\"marker\":{\"colorbar\":{\"outlinewidth\":0,\"ticks\":\"\"}}}],\"scatterpolar\":[{\"type\":\"scatterpolar\",\"marker\":{\"colorbar\":{\"outlinewidth\":0,\"ticks\":\"\"}}}],\"histogram\":[{\"marker\":{\"pattern\":{\"fillmode\":\"overlay\",\"size\":10,\"solidity\":0.2}},\"type\":\"histogram\"}],\"scattergl\":[{\"type\":\"scattergl\",\"marker\":{\"colorbar\":{\"outlinewidth\":0,\"ticks\":\"\"}}}],\"scatter3d\":[{\"type\":\"scatter3d\",\"line\":{\"colorbar\":{\"outlinewidth\":0,\"ticks\":\"\"}},\"marker\":{\"colorbar\":{\"outlinewidth\":0,\"ticks\":\"\"}}}],\"scattermapbox\":[{\"type\":\"scattermapbox\",\"marker\":{\"colorbar\":{\"outlinewidth\":0,\"ticks\":\"\"}}}],\"scatterternary\":[{\"type\":\"scatterternary\",\"marker\":{\"colorbar\":{\"outlinewidth\":0,\"ticks\":\"\"}}}],\"scattercarpet\":[{\"type\":\"scattercarpet\",\"marker\":{\"colorbar\":{\"outlinewidth\":0,\"ticks\":\"\"}}}],\"carpet\":[{\"aaxis\":{\"endlinecolor\":\"#2a3f5f\",\"gridcolor\":\"white\",\"linecolor\":\"white\",\"minorgridcolor\":\"white\",\"startlinecolor\":\"#2a3f5f\"},\"baxis\":{\"endlinecolor\":\"#2a3f5f\",\"gridcolor\":\"white\",\"linecolor\":\"white\",\"minorgridcolor\":\"white\",\"startlinecolor\":\"#2a3f5f\"},\"type\":\"carpet\"}],\"table\":[{\"cells\":{\"fill\":{\"color\":\"#EBF0F8\"},\"line\":{\"color\":\"white\"}},\"header\":{\"fill\":{\"color\":\"#C8D4E3\"},\"line\":{\"color\":\"white\"}},\"type\":\"table\"}],\"barpolar\":[{\"marker\":{\"line\":{\"color\":\"#E5ECF6\",\"width\":0.5},\"pattern\":{\"fillmode\":\"overlay\",\"size\":10,\"solidity\":0.2}},\"type\":\"barpolar\"}],\"pie\":[{\"automargin\":true,\"type\":\"pie\"}]},\"layout\":{\"autotypenumbers\":\"strict\",\"colorway\":[\"#636efa\",\"#EF553B\",\"#00cc96\",\"#ab63fa\",\"#FFA15A\",\"#19d3f3\",\"#FF6692\",\"#B6E880\",\"#FF97FF\",\"#FECB52\"],\"font\":{\"color\":\"#2a3f5f\"},\"hovermode\":\"closest\",\"hoverlabel\":{\"align\":\"left\"},\"paper_bgcolor\":\"white\",\"plot_bgcolor\":\"#E5ECF6\",\"polar\":{\"bgcolor\":\"#E5ECF6\",\"angularaxis\":{\"gridcolor\":\"white\",\"linecolor\":\"white\",\"ticks\":\"\"},\"radialaxis\":{\"gridcolor\":\"white\",\"linecolor\":\"white\",\"ticks\":\"\"}},\"ternary\":{\"bgcolor\":\"#E5ECF6\",\"aaxis\":{\"gridcolor\":\"white\",\"linecolor\":\"white\",\"ticks\":\"\"},\"baxis\":{\"gridcolor\":\"white\",\"linecolor\":\"white\",\"ticks\":\"\"},\"caxis\":{\"gridcolor\":\"white\",\"linecolor\":\"white\",\"ticks\":\"\"}},\"coloraxis\":{\"colorbar\":{\"outlinewidth\":0,\"ticks\":\"\"}},\"colorscale\":{\"sequential\":[[0.0,\"#0d0887\"],[0.1111111111111111,\"#46039f\"],[0.2222222222222222,\"#7201a8\"],[0.3333333333333333,\"#9c179e\"],[0.4444444444444444,\"#bd3786\"],[0.5555555555555556,\"#d8576b\"],[0.6666666666666666,\"#ed7953\"],[0.7777777777777778,\"#fb9f3a\"],[0.8888888888888888,\"#fdca26\"],[1.0,\"#f0f921\"]],\"sequentialminus\":[[0.0,\"#0d0887\"],[0.1111111111111111,\"#46039f\"],[0.2222222222222222,\"#7201a8\"],[0.3333333333333333,\"#9c179e\"],[0.4444444444444444,\"#bd3786\"],[0.5555555555555556,\"#d8576b\"],[0.6666666666666666,\"#ed7953\"],[0.7777777777777778,\"#fb9f3a\"],[0.8888888888888888,\"#fdca26\"],[1.0,\"#f0f921\"]],\"diverging\":[[0,\"#8e0152\"],[0.1,\"#c51b7d\"],[0.2,\"#de77ae\"],[0.3,\"#f1b6da\"],[0.4,\"#fde0ef\"],[0.5,\"#f7f7f7\"],[0.6,\"#e6f5d0\"],[0.7,\"#b8e186\"],[0.8,\"#7fbc41\"],[0.9,\"#4d9221\"],[1,\"#276419\"]]},\"xaxis\":{\"gridcolor\":\"white\",\"linecolor\":\"white\",\"ticks\":\"\",\"title\":{\"standoff\":15},\"zerolinecolor\":\"white\",\"automargin\":true,\"zerolinewidth\":2},\"yaxis\":{\"gridcolor\":\"white\",\"linecolor\":\"white\",\"ticks\":\"\",\"title\":{\"standoff\":15},\"zerolinecolor\":\"white\",\"automargin\":true,\"zerolinewidth\":2},\"scene\":{\"xaxis\":{\"backgroundcolor\":\"#E5ECF6\",\"gridcolor\":\"white\",\"linecolor\":\"white\",\"showbackground\":true,\"ticks\":\"\",\"zerolinecolor\":\"white\",\"gridwidth\":2},\"yaxis\":{\"backgroundcolor\":\"#E5ECF6\",\"gridcolor\":\"white\",\"linecolor\":\"white\",\"showbackground\":true,\"ticks\":\"\",\"zerolinecolor\":\"white\",\"gridwidth\":2},\"zaxis\":{\"backgroundcolor\":\"#E5ECF6\",\"gridcolor\":\"white\",\"linecolor\":\"white\",\"showbackground\":true,\"ticks\":\"\",\"zerolinecolor\":\"white\",\"gridwidth\":2}},\"shapedefaults\":{\"line\":{\"color\":\"#2a3f5f\"}},\"annotationdefaults\":{\"arrowcolor\":\"#2a3f5f\",\"arrowhead\":0,\"arrowwidth\":1},\"geo\":{\"bgcolor\":\"white\",\"landcolor\":\"#E5ECF6\",\"subunitcolor\":\"white\",\"showland\":true,\"showlakes\":true,\"lakecolor\":\"white\"},\"title\":{\"x\":0.05},\"mapbox\":{\"style\":\"light\"}}},\"xaxis\":{\"anchor\":\"y\",\"domain\":[0.0,1.0]},\"yaxis\":{\"anchor\":\"x\",\"domain\":[0.0,1.0],\"title\":{\"text\":\"sulphates\"}},\"legend\":{\"tracegroupgap\":0},\"title\":{\"text\":\"Boxplot de sulphates\"},\"boxmode\":\"group\"},                        {\"responsive\": true}                    ).then(function(){\n",
              "                            \n",
              "var gd = document.getElementById('bfc73b35-7975-44bd-a92c-55c67fc13fd6');\n",
              "var x = new MutationObserver(function (mutations, observer) {{\n",
              "        var display = window.getComputedStyle(gd).display;\n",
              "        if (!display || display === 'none') {{\n",
              "            console.log([gd, 'removed!']);\n",
              "            Plotly.purge(gd);\n",
              "            observer.disconnect();\n",
              "        }}\n",
              "}});\n",
              "\n",
              "// Listen for the removal of the full notebook cells\n",
              "var notebookContainer = gd.closest('#notebook-container');\n",
              "if (notebookContainer) {{\n",
              "    x.observe(notebookContainer, {childList: true});\n",
              "}}\n",
              "\n",
              "// Listen for the clearing of the current output cell\n",
              "var outputEl = gd.closest('.output');\n",
              "if (outputEl) {{\n",
              "    x.observe(outputEl, {childList: true});\n",
              "}}\n",
              "\n",
              "                        })                };                            </script>        </div>\n",
              "</body>\n",
              "</html>"
            ]
          },
          "metadata": {}
        },
        {
          "output_type": "display_data",
          "data": {
            "text/html": [
              "<html>\n",
              "<head><meta charset=\"utf-8\" /></head>\n",
              "<body>\n",
              "    <div>            <script src=\"https://cdnjs.cloudflare.com/ajax/libs/mathjax/2.7.5/MathJax.js?config=TeX-AMS-MML_SVG\"></script><script type=\"text/javascript\">if (window.MathJax && window.MathJax.Hub && window.MathJax.Hub.Config) {window.MathJax.Hub.Config({SVG: {font: \"STIX-Web\"}});}</script>                <script type=\"text/javascript\">window.PlotlyConfig = {MathJaxConfig: 'local'};</script>\n",
              "        <script charset=\"utf-8\" src=\"https://cdn.plot.ly/plotly-2.35.2.min.js\"></script>                <div id=\"fa6156c3-3b2f-4289-bd7a-7fbc9c179232\" class=\"plotly-graph-div\" style=\"height:525px; width:100%;\"></div>            <script type=\"text/javascript\">                                    window.PLOTLYENV=window.PLOTLYENV || {};                                    if (document.getElementById(\"fa6156c3-3b2f-4289-bd7a-7fbc9c179232\")) {                    Plotly.newPlot(                        \"fa6156c3-3b2f-4289-bd7a-7fbc9c179232\",                        [{\"alignmentgroup\":\"True\",\"boxpoints\":\"all\",\"hovertemplate\":\"alcohol=%{y}\\u003cextra\\u003e\\u003c\\u002fextra\\u003e\",\"legendgroup\":\"\",\"marker\":{\"color\":\"#636efa\"},\"name\":\"\",\"notched\":false,\"offsetgroup\":\"\",\"orientation\":\"v\",\"showlegend\":false,\"x0\":\" \",\"xaxis\":\"x\",\"y\":[9.4,9.8,9.8,9.8,9.4,9.4,9.4,10.0,9.5,10.5,9.2,10.5,9.9,9.1,9.2,9.2,10.5,9.3,9.0,9.2,9.4,9.7,9.5,9.4,9.7,9.3,9.5,9.5,9.4,9.8,10.1,10.6,9.8,9.4,9.2,9.6,10.8,9.7,9.8,10.5,10.5,9.3,10.5,10.3,9.5,13.1,9.2,9.5,9.2,9.2,9.2,9.4,9.4,9.4,10.2,9.5,9.6,9.4,10.0,9.4,9.2,9.3,9.5,9.8,10.9,10.9,9.6,10.7,10.7,10.5,9.5,9.5,9.5,9.2,9.6,10.5,10.5,10.7,10.1,9.1,9.2,9.4,9.1,9.4,10.3,10.1,9.9,9.6,9.5,9.0,9.5,9.9,9.8,9.6,10.5,12.9,10.7,9.2,9.8,9.0,10.2,10.4,9.0,9.2,9.4,9.2,9.3,9.3,9.6,9.3,9.5,9.8,9.8,9.7,9.5,10.5,10.0,9.4,10.9,9.2,9.0,10.9,9.2,9.5,9.5,9.4,10.9,10.9,10.5,9.4,9.4,13.0,13.0,9.8,9.9,9.6,9.5,9.2,9.5,9.5,9.6,9.5,14.0,9.4,14.0,9.4,10.0,9.3,10.2,10.5,10.3,9.4,10.1,10.1,10.5,10.5,10.5,10.5,9.3,9.3,9.6,9.2,10.0,9.4,9.4,9.5,10.2,9.0,10.4,9.5,9.1,9.2,9.2,11.5,9.5,9.5,9.5,10.5,9.6,9.5,9.5,9.3,9.3,9.3,9.3,9.7,9.2,9.7,9.5,9.5,9.4,9.8,9.5,9.7,9.7,9.4,10.2,10.1,13.0,11.4,10.3,9.3,9.5,9.2,9.2,10.8,10.8,9.3,9.4,10.5,12.4,10.0,10.2,10.1,9.8,10.5,11.0,9.1,9.7,9.5,9.4,9.4,9.5,10.0,10.4,10.5,9.5,9.8,10.5,11.0,12.2,9.9,9.6,11.0,9.0,9.0,9.0,9.2,9.0,9.0,9.3,10.9,9.8,9.2,9.2,9.9,9.5,9.3,9.8,9.9,10.0,9.9,10.5,9.5,9.9,9.3,9.2,9.2,9.4,10.5,9.3,9.4,10.0,9.3,10.9,10.2,9.8,12.8,9.4,10.1,10.7,10.1,10.1,9.4,9.4,10.7,9.4,10.1,12.6,10.5,9.3,9.9,9.1,10.5,9.8,9.8,10.3,10.3,10.6,9.2,10.6,10.5,10.3,10.1,9.5,9.5,9.9,9.6,9.7,9.6,10.7,10.1,10.0,9.5,9.2,9.3,9.4,9.5,9.5,9.5,9.3,9.4,9.5,9.4,11.0,11.0,10.1,10.4,11.5,10.4,11.5,9.7,9.3,9.5,9.2,9.2,11.5,11.5,9.7,9.5,12.5,12.5,9.4,11.0,11.7,12.2,12.5,10.3,11.5,9.8,9.2,11.3,9.8,9.8,10.7,9.9,12.3,12.0,10.0,9.4,9.9,9.4,9.3,13.0,11.9,12.8,11.0,11.7,10.4,9.8,9.4,9.9,10.0,10.2,10.0,11.8,10.0,9.0,9.4,12.0,9.9,8.7,10.6,9.2,10.8,11.8,11.0,12.0,13.3,10.8,9.4,10.0,9.4,9.4,9.2,9.7,9.2,9.6,9.2,10.0,12.9,10.0,9.5,9.1,9.9,13.0,9.9,11.0,11.0,9.4,9.9,10.8,10.5,10.5,9.1,10.1,10.8,10.8,11.3,9.6,9.5,9.5,9.3,11.7,9.5,9.3,11.7,10.5,10.4,9.9,11.8,12.3,10.9,11.0,10.9,12.3,11.4,10.6,9.3,10.4,11.0,9.2,12.8,9.5,9.9,9.5,10.2,11.2,9.9,9.3,9.8,11.3,11.2,11.6,12.5,10.1,10.5,11.2,10.2,10.8,10.8,9.1,10.0,11.2,11.1,13.4,10.3,9.6,11.2,9.0,11.3,9.3,11.8,9.0,9.2,9.7,11.5,14.0,9.2,9.8,10.6,11.4,10.4,10.6,9.4,10.2,9.7,11.0,10.2,10.1,9.2,11.7,9.4,9.4,13.4,10.0,10.0,10.0,10.8,10.2,10.6,13.3,13.4,11.6,12.1,11.0,9.0,11.1,11.0,11.6,9.0,12.0,12.0,10.9,10.8,12.5,10.8,9.5,10.2,11.4,9.5,10.2,9.7,11.8,11.8,9.3,11.9,8.4,11.7,11.0,10.0,9.1,9.8,9.4,9.5,9.9,11.0,11.4,8.7,9.4,10.3,10.3,10.3,12.8,10.0,10.3,9.4,10.7,12.0,11.2,9.6,11.0,9.9,11.0,8.4,9.1,9.5,10.7,10.4,9.4,9.5,10.0,10.0,11.5,11.1,11.1,11.7,11.1,11.7,12.7,11.4,9.2,9.2,10.1,12.7,11.4,9.0,9.0,10.7,11.7,11.0,11.7,10.4,9.6,10.0,10.2,10.0,9.5,9.8,9.8,9.6,9.6,9.2,9.9,10.7,9.6,10.6,9.3,14.0,10.5,9.7,11.5,9.7,9.0,9.5,9.3,9.3,10.0,9.8,9.3,10.0,9.0,9.3,9.0,9.1,9.2,12.2,10.5,10.4,12.7,9.2,9.4,10.0,9.8,10.2,9.7,9.7,9.8,10.2,9.3,9.4,9.4,9.5,12.1,10.2,10.2,9.1,9.1,9.3,9.3,9.3,9.5,10.5,11.3,9.5,9.7,9.4,9.4,10.2,10.3,9.4,9.5,9.4,9.5,9.4,10.1,10.1,11.0,11.2,11.3,9.6,11.2,14.9,12.0,9.5,9.4,9.6,10.5,9.6,11.0,9.6,9.0,9.6,10.2,10.2,9.7,9.5,9.2,11.0,9.2,10.0,9.5,9.5,9.5,9.3,10.2,9.3,9.9,10.0,9.6,9.0,10.2,9.8,11.3,9.4,11.3,9.1,9.7,9.4,9.4,10.7,9.8,9.0,9.4,9.4,12.8,9.5,9.5,9.7,10.8,10.1,9.5,9.4,9.6,9.7,9.9,10.0,10.5,11.6,10.0,10.1,9.5,9.4,9.4,9.8,9.2,9.4,10.0,9.6,9.5,9.6,9.2,10.0,9.5,11.2,10.4,11.1,9.5,9.5,12.7,9.6,11.5,9.6,9.5,9.3,9.5,9.5,9.3,9.2,9.3,11.5,9.5,9.2,10.0,9.5,9.5,9.0,9.4,9.6,9.5,9.5,9.5,9.4,9.5,9.1,10.7,11.2,9.8,9.8,9.2,9.7,9.6,10.0,9.6,9.5,9.5,9.4,9.5,9.7,9.6,9.7,9.4,9.4,9.5,9.5,10.0,10.3,10.3,10.5,9.8,9.4,9.8,10.0,9.8,9.8,9.5,9.5,10.1,10.1,9.3,9.7,9.6,9.7,10.8,12.5,10.2,9.6,10.8,10.7,10.7,9.4,10.0,12.9,9.6,9.9,12.8,12.5,12.8,9.2,10.3,10.5,10.9,10.8,11.4,11.3,10.8,10.5,11.9,9.4,9.6,9.7,14.0,9.8,9.8,10.3,10.7,11.0,10.7,12.7,11.1,10.9,11.1,9.9,9.9,9.4,9.3,11.7,11.7,11.2,10.0,12.1,10.3,10.9,9.4,10.6,9.8,9.8,9.9,9.8,9.8,9.5,9.5,9.7,10.9,10.9,11.7,10.9,11.3,10.6,11.2,9.5,11.5,10.4,9.7,9.5,9.7,11.3,11.2,11.2,10.9,11.8,10.6,10.0,11.1,11.8,11.8,10.9,11.8,10.0,9.5,9.9,11.4,12.0,9.5,10.0,10.5,10.4,12.1,11.2,9.3,10.1,9.7,9.3,9.7,9.8,10.7,12.5,10.7,12.5,11.0,11.8,10.8,10.8,10.8,10.8,9.5,11.0,11.5,10.8,11.5,13.2,10.9,12.2,12.2,11.5,11.9,11.0,10.1,11.0,11.8,10.5,11.0,11.8,10.1,11.2,11.0,10.2,9.2,11.2,12.0,10.5,9.8,9.5,9.8,10.5,11.8,11.8,10.4,12.9,11.4,12.4,12.5,10.0,9.7,12.1,11.1,12.0,12.4,11.9,11.9,11.9,12.4,11.2,12.1,12.2,10.4,11.3,11.1,11.3,10.0,11.1,9.3,9.5,11.2,11.1,11.0,11.9,9.2,12.2,10.2,10.9,10.9,11.6,10.7,12.1,9.4,9.4,9.1,11.3,10.4,10.5,10.0,12.9,10.5,10.4,11.3,11.4,9.4,9.4,10.9,9.4,9.4,9.4,9.4,9.4,10.1,12.8,12.8,9.1,12.9,11.5,10.6,11.7,12.8,10.3,12.8,11.7,11.7,12.0,10.9,12.3,10.4,10.0,10.0,11.2,11.4,12.6,12.7,12.7,10.4,11.9,11.9,10.5,12.3,10.5,10.4,12.6,11.6,10.1,10.5,11.5,11.0,9.6,10.4,9.7,10.6,12.5,9.2,12.6,11.1,10.2,9.8,11.1,10.9,12.2,11.4,10.7,10.4,10.9,10.8,10.4,9.2,12.9,12.7,9.1,9.1,12.1,9.1,11.6,12.1,9.9,12.5,11.4,11.8,11.8,10.2,12.5,10.9,10.9,10.8,11.1,9.2,9.5,10.7,9.2,10.2,11.4,11.0,11.0,12.3,11.8,12.3,9.5,12.0,9.5,9.6,11.6,11.2,9.9,9.9,11.8,11.4,11.5,12.0,10.8,10.5,10.8,9.4,12.5,9.4,12.4,12.0,11.2,12.0,12.4,12.8,12.3,11.7,9.5,10.8,10.0,12.3,11.0,9.5,13.6,11.3,11.3,11.3,13.3,12.9,13.1,12.3,12.3,11.2,11.5,11.3,13.5,11.5,10.0,10.5,10.4,9.5,13.6,11.2,11.8,11.9,11.4,11.4,9.1,9.5,9.5,11.0,11.4,10.0,10.1,10.4,9.8,11.8,11.6,12.0,12.8,12.5,9.8,11.1,11.4,9.8,11.8,12.9,10.6,10.8,11.1,10.2,11.8,10.0,10.0,9.4,10.2,12.4,12.0,11.5,10.5,10.8,12.3,9.5,9.5,11.5,11.2,12.7,11.4,11.0,11.0,11.4,10.5,9.3,10.9,11.9,12.2,11.9,10.9,9.6,12.5,10.8,12.4,10.8,9.5,9.5,9.5,9.8,10.9,9.5,9.8,11.2,11.7,9.4,11.0,11.0,11.0,10.0,11.0,11.2,10.4,9.3,10.4,10.5,10.4,11.3,9.5,12.0,10.6,10.9,11.5,11.5,9.6,12.0,10.3,9.4,9.2,9.6,13.6,9.5,11.8,10.8,9.5,9.3,12.8,11.5,9.4,12.8,9.6,11.8,9.3,9.8,12.2,9.5,10.3,10.5,10.0,10.5,11.1,10.9,10.9,9.8,9.8,9.5,10.9,11.0,9.2,11.0,11.3,11.3,9.3,11.2,9.8,9.6,11.8,10.3,10.3,11.4,9.5,14.0,14.0,11.7,11.2,9.3,11.2,9.5,12.0,9.7,9.5,11.5,10.4,10.4,10.9,10.2,10.9,10.5,12.4,13.0,10.2,10.2,11.0,10.9,12.4,9.7,10.9,9.5,9.5,12.1,12.2,10.9,12.5,11.7,11.2,11.2,9.2,9.8,10.1,11.1,10.1,9.2,9.8,12.8,10.5,10.1,10.1,9.8,12.5,11.9,9.8,9.1,10.1,12.5,11.4,11.0,10.6,10.6,10.6,10.6,9.3,9.8,9.8,9.2,9.7,9.6,10.0,12.6,9.5,9.5,9.5,10.5,10.5,10.5,10.4,10.5,11.0,10.2,11.4,9.5,9.5,10.8,10.0,11.8,10.3,10.3,10.0,10.1,10.1,11.1,9.5,10.0333333333333,10.9,10.1,10.0333333333333,9.8,11.8,9.5,9.8,10.5,9.8,10.4,9.2,11.6,9.2,9.3,9.8,9.9,10.0,12.2,9.9,10.8,10.8,9.6,9.9,9.9,9.5,9.2,9.6,9.6,10.3,9.7,12.5,11.0,9.8,10.2,9.2,9.55,9.55,9.9,10.2,11.1,9.9,9.9,11.9,10.0,10.7,11.3,10.9,10.7,12.4,10.7,11.9,10.6,10.9,10.1,9.6,9.4,9.6,12.1,9.8,9.9,9.8,9.4,11.4,11.0,9.6,9.6,12.1,11.2,11.0,11.3,10.4,9.9,11.7,10.1,9.0,9.0,8.5,11.1,10.3,11.066666666666698,11.3,9.56666666666667,9.8,11.7,11.1,9.6,9.8,9.7,9.7,11.3,11.3,11.0,11.6,9.0,10.9,10.9,10.55,9.0,10.5,11.9,10.4,10.0,10.4,10.8,9.7,9.7,10.0,11.0,10.0,9.7,9.7,12.6,11.1,11.0,8.8,13.566666666666698,8.8,13.6,10.2,10.6,10.1,10.6,10.3,10.7,10.9,9.7,10.3,10.6,11.4,10.8,12.4,11.4,11.95,9.7,10.0,10.6,9.7,11.5,10.8,11.5,9.6,9.4,9.8,11.0,11.4,9.95,10.8,11.4,10.6,11.1,9.7,9.8,10.4,10.5,9.23333333333333,9.25,10.6,10.3,10.5,10.2,10.3,9.05,10.6,10.4,10.0,9.7,9.6,10.8,10.1,10.2,11.3,10.2,9.9,9.0,11.7,9.7,10.3,10.2,12.0,9.9,11.6,10.9,10.75,10.4,11.2,10.1,10.2,12.1,10.4,11.4,9.5,9.4,11.3,9.4,11.0,10.55,9.9,11.0,9.5,9.9,9.9,9.9,10.1,10.1,10.1,10.9,11.2,10.1,9.2,11.5,12.4,11.1,9.5,12.5,10.5,11.8,10.8,11.9,11.3,11.3,11.9,11.3,11.9,9.8,11.6,11.5,11.4,10.9,12.8,9.2,11.6,11.6,11.0,9.5,10.5,11.2,11.0,10.2,11.0],\"y0\":\" \",\"yaxis\":\"y\",\"type\":\"box\"}],                        {\"template\":{\"data\":{\"histogram2dcontour\":[{\"type\":\"histogram2dcontour\",\"colorbar\":{\"outlinewidth\":0,\"ticks\":\"\"},\"colorscale\":[[0.0,\"#0d0887\"],[0.1111111111111111,\"#46039f\"],[0.2222222222222222,\"#7201a8\"],[0.3333333333333333,\"#9c179e\"],[0.4444444444444444,\"#bd3786\"],[0.5555555555555556,\"#d8576b\"],[0.6666666666666666,\"#ed7953\"],[0.7777777777777778,\"#fb9f3a\"],[0.8888888888888888,\"#fdca26\"],[1.0,\"#f0f921\"]]}],\"choropleth\":[{\"type\":\"choropleth\",\"colorbar\":{\"outlinewidth\":0,\"ticks\":\"\"}}],\"histogram2d\":[{\"type\":\"histogram2d\",\"colorbar\":{\"outlinewidth\":0,\"ticks\":\"\"},\"colorscale\":[[0.0,\"#0d0887\"],[0.1111111111111111,\"#46039f\"],[0.2222222222222222,\"#7201a8\"],[0.3333333333333333,\"#9c179e\"],[0.4444444444444444,\"#bd3786\"],[0.5555555555555556,\"#d8576b\"],[0.6666666666666666,\"#ed7953\"],[0.7777777777777778,\"#fb9f3a\"],[0.8888888888888888,\"#fdca26\"],[1.0,\"#f0f921\"]]}],\"heatmap\":[{\"type\":\"heatmap\",\"colorbar\":{\"outlinewidth\":0,\"ticks\":\"\"},\"colorscale\":[[0.0,\"#0d0887\"],[0.1111111111111111,\"#46039f\"],[0.2222222222222222,\"#7201a8\"],[0.3333333333333333,\"#9c179e\"],[0.4444444444444444,\"#bd3786\"],[0.5555555555555556,\"#d8576b\"],[0.6666666666666666,\"#ed7953\"],[0.7777777777777778,\"#fb9f3a\"],[0.8888888888888888,\"#fdca26\"],[1.0,\"#f0f921\"]]}],\"heatmapgl\":[{\"type\":\"heatmapgl\",\"colorbar\":{\"outlinewidth\":0,\"ticks\":\"\"},\"colorscale\":[[0.0,\"#0d0887\"],[0.1111111111111111,\"#46039f\"],[0.2222222222222222,\"#7201a8\"],[0.3333333333333333,\"#9c179e\"],[0.4444444444444444,\"#bd3786\"],[0.5555555555555556,\"#d8576b\"],[0.6666666666666666,\"#ed7953\"],[0.7777777777777778,\"#fb9f3a\"],[0.8888888888888888,\"#fdca26\"],[1.0,\"#f0f921\"]]}],\"contourcarpet\":[{\"type\":\"contourcarpet\",\"colorbar\":{\"outlinewidth\":0,\"ticks\":\"\"}}],\"contour\":[{\"type\":\"contour\",\"colorbar\":{\"outlinewidth\":0,\"ticks\":\"\"},\"colorscale\":[[0.0,\"#0d0887\"],[0.1111111111111111,\"#46039f\"],[0.2222222222222222,\"#7201a8\"],[0.3333333333333333,\"#9c179e\"],[0.4444444444444444,\"#bd3786\"],[0.5555555555555556,\"#d8576b\"],[0.6666666666666666,\"#ed7953\"],[0.7777777777777778,\"#fb9f3a\"],[0.8888888888888888,\"#fdca26\"],[1.0,\"#f0f921\"]]}],\"surface\":[{\"type\":\"surface\",\"colorbar\":{\"outlinewidth\":0,\"ticks\":\"\"},\"colorscale\":[[0.0,\"#0d0887\"],[0.1111111111111111,\"#46039f\"],[0.2222222222222222,\"#7201a8\"],[0.3333333333333333,\"#9c179e\"],[0.4444444444444444,\"#bd3786\"],[0.5555555555555556,\"#d8576b\"],[0.6666666666666666,\"#ed7953\"],[0.7777777777777778,\"#fb9f3a\"],[0.8888888888888888,\"#fdca26\"],[1.0,\"#f0f921\"]]}],\"mesh3d\":[{\"type\":\"mesh3d\",\"colorbar\":{\"outlinewidth\":0,\"ticks\":\"\"}}],\"scatter\":[{\"fillpattern\":{\"fillmode\":\"overlay\",\"size\":10,\"solidity\":0.2},\"type\":\"scatter\"}],\"parcoords\":[{\"type\":\"parcoords\",\"line\":{\"colorbar\":{\"outlinewidth\":0,\"ticks\":\"\"}}}],\"scatterpolargl\":[{\"type\":\"scatterpolargl\",\"marker\":{\"colorbar\":{\"outlinewidth\":0,\"ticks\":\"\"}}}],\"bar\":[{\"error_x\":{\"color\":\"#2a3f5f\"},\"error_y\":{\"color\":\"#2a3f5f\"},\"marker\":{\"line\":{\"color\":\"#E5ECF6\",\"width\":0.5},\"pattern\":{\"fillmode\":\"overlay\",\"size\":10,\"solidity\":0.2}},\"type\":\"bar\"}],\"scattergeo\":[{\"type\":\"scattergeo\",\"marker\":{\"colorbar\":{\"outlinewidth\":0,\"ticks\":\"\"}}}],\"scatterpolar\":[{\"type\":\"scatterpolar\",\"marker\":{\"colorbar\":{\"outlinewidth\":0,\"ticks\":\"\"}}}],\"histogram\":[{\"marker\":{\"pattern\":{\"fillmode\":\"overlay\",\"size\":10,\"solidity\":0.2}},\"type\":\"histogram\"}],\"scattergl\":[{\"type\":\"scattergl\",\"marker\":{\"colorbar\":{\"outlinewidth\":0,\"ticks\":\"\"}}}],\"scatter3d\":[{\"type\":\"scatter3d\",\"line\":{\"colorbar\":{\"outlinewidth\":0,\"ticks\":\"\"}},\"marker\":{\"colorbar\":{\"outlinewidth\":0,\"ticks\":\"\"}}}],\"scattermapbox\":[{\"type\":\"scattermapbox\",\"marker\":{\"colorbar\":{\"outlinewidth\":0,\"ticks\":\"\"}}}],\"scatterternary\":[{\"type\":\"scatterternary\",\"marker\":{\"colorbar\":{\"outlinewidth\":0,\"ticks\":\"\"}}}],\"scattercarpet\":[{\"type\":\"scattercarpet\",\"marker\":{\"colorbar\":{\"outlinewidth\":0,\"ticks\":\"\"}}}],\"carpet\":[{\"aaxis\":{\"endlinecolor\":\"#2a3f5f\",\"gridcolor\":\"white\",\"linecolor\":\"white\",\"minorgridcolor\":\"white\",\"startlinecolor\":\"#2a3f5f\"},\"baxis\":{\"endlinecolor\":\"#2a3f5f\",\"gridcolor\":\"white\",\"linecolor\":\"white\",\"minorgridcolor\":\"white\",\"startlinecolor\":\"#2a3f5f\"},\"type\":\"carpet\"}],\"table\":[{\"cells\":{\"fill\":{\"color\":\"#EBF0F8\"},\"line\":{\"color\":\"white\"}},\"header\":{\"fill\":{\"color\":\"#C8D4E3\"},\"line\":{\"color\":\"white\"}},\"type\":\"table\"}],\"barpolar\":[{\"marker\":{\"line\":{\"color\":\"#E5ECF6\",\"width\":0.5},\"pattern\":{\"fillmode\":\"overlay\",\"size\":10,\"solidity\":0.2}},\"type\":\"barpolar\"}],\"pie\":[{\"automargin\":true,\"type\":\"pie\"}]},\"layout\":{\"autotypenumbers\":\"strict\",\"colorway\":[\"#636efa\",\"#EF553B\",\"#00cc96\",\"#ab63fa\",\"#FFA15A\",\"#19d3f3\",\"#FF6692\",\"#B6E880\",\"#FF97FF\",\"#FECB52\"],\"font\":{\"color\":\"#2a3f5f\"},\"hovermode\":\"closest\",\"hoverlabel\":{\"align\":\"left\"},\"paper_bgcolor\":\"white\",\"plot_bgcolor\":\"#E5ECF6\",\"polar\":{\"bgcolor\":\"#E5ECF6\",\"angularaxis\":{\"gridcolor\":\"white\",\"linecolor\":\"white\",\"ticks\":\"\"},\"radialaxis\":{\"gridcolor\":\"white\",\"linecolor\":\"white\",\"ticks\":\"\"}},\"ternary\":{\"bgcolor\":\"#E5ECF6\",\"aaxis\":{\"gridcolor\":\"white\",\"linecolor\":\"white\",\"ticks\":\"\"},\"baxis\":{\"gridcolor\":\"white\",\"linecolor\":\"white\",\"ticks\":\"\"},\"caxis\":{\"gridcolor\":\"white\",\"linecolor\":\"white\",\"ticks\":\"\"}},\"coloraxis\":{\"colorbar\":{\"outlinewidth\":0,\"ticks\":\"\"}},\"colorscale\":{\"sequential\":[[0.0,\"#0d0887\"],[0.1111111111111111,\"#46039f\"],[0.2222222222222222,\"#7201a8\"],[0.3333333333333333,\"#9c179e\"],[0.4444444444444444,\"#bd3786\"],[0.5555555555555556,\"#d8576b\"],[0.6666666666666666,\"#ed7953\"],[0.7777777777777778,\"#fb9f3a\"],[0.8888888888888888,\"#fdca26\"],[1.0,\"#f0f921\"]],\"sequentialminus\":[[0.0,\"#0d0887\"],[0.1111111111111111,\"#46039f\"],[0.2222222222222222,\"#7201a8\"],[0.3333333333333333,\"#9c179e\"],[0.4444444444444444,\"#bd3786\"],[0.5555555555555556,\"#d8576b\"],[0.6666666666666666,\"#ed7953\"],[0.7777777777777778,\"#fb9f3a\"],[0.8888888888888888,\"#fdca26\"],[1.0,\"#f0f921\"]],\"diverging\":[[0,\"#8e0152\"],[0.1,\"#c51b7d\"],[0.2,\"#de77ae\"],[0.3,\"#f1b6da\"],[0.4,\"#fde0ef\"],[0.5,\"#f7f7f7\"],[0.6,\"#e6f5d0\"],[0.7,\"#b8e186\"],[0.8,\"#7fbc41\"],[0.9,\"#4d9221\"],[1,\"#276419\"]]},\"xaxis\":{\"gridcolor\":\"white\",\"linecolor\":\"white\",\"ticks\":\"\",\"title\":{\"standoff\":15},\"zerolinecolor\":\"white\",\"automargin\":true,\"zerolinewidth\":2},\"yaxis\":{\"gridcolor\":\"white\",\"linecolor\":\"white\",\"ticks\":\"\",\"title\":{\"standoff\":15},\"zerolinecolor\":\"white\",\"automargin\":true,\"zerolinewidth\":2},\"scene\":{\"xaxis\":{\"backgroundcolor\":\"#E5ECF6\",\"gridcolor\":\"white\",\"linecolor\":\"white\",\"showbackground\":true,\"ticks\":\"\",\"zerolinecolor\":\"white\",\"gridwidth\":2},\"yaxis\":{\"backgroundcolor\":\"#E5ECF6\",\"gridcolor\":\"white\",\"linecolor\":\"white\",\"showbackground\":true,\"ticks\":\"\",\"zerolinecolor\":\"white\",\"gridwidth\":2},\"zaxis\":{\"backgroundcolor\":\"#E5ECF6\",\"gridcolor\":\"white\",\"linecolor\":\"white\",\"showbackground\":true,\"ticks\":\"\",\"zerolinecolor\":\"white\",\"gridwidth\":2}},\"shapedefaults\":{\"line\":{\"color\":\"#2a3f5f\"}},\"annotationdefaults\":{\"arrowcolor\":\"#2a3f5f\",\"arrowhead\":0,\"arrowwidth\":1},\"geo\":{\"bgcolor\":\"white\",\"landcolor\":\"#E5ECF6\",\"subunitcolor\":\"white\",\"showland\":true,\"showlakes\":true,\"lakecolor\":\"white\"},\"title\":{\"x\":0.05},\"mapbox\":{\"style\":\"light\"}}},\"xaxis\":{\"anchor\":\"y\",\"domain\":[0.0,1.0]},\"yaxis\":{\"anchor\":\"x\",\"domain\":[0.0,1.0],\"title\":{\"text\":\"alcohol\"}},\"legend\":{\"tracegroupgap\":0},\"title\":{\"text\":\"Boxplot de alcohol\"},\"boxmode\":\"group\"},                        {\"responsive\": true}                    ).then(function(){\n",
              "                            \n",
              "var gd = document.getElementById('fa6156c3-3b2f-4289-bd7a-7fbc9c179232');\n",
              "var x = new MutationObserver(function (mutations, observer) {{\n",
              "        var display = window.getComputedStyle(gd).display;\n",
              "        if (!display || display === 'none') {{\n",
              "            console.log([gd, 'removed!']);\n",
              "            Plotly.purge(gd);\n",
              "            observer.disconnect();\n",
              "        }}\n",
              "}});\n",
              "\n",
              "// Listen for the removal of the full notebook cells\n",
              "var notebookContainer = gd.closest('#notebook-container');\n",
              "if (notebookContainer) {{\n",
              "    x.observe(notebookContainer, {childList: true});\n",
              "}}\n",
              "\n",
              "// Listen for the clearing of the current output cell\n",
              "var outputEl = gd.closest('.output');\n",
              "if (outputEl) {{\n",
              "    x.observe(outputEl, {childList: true});\n",
              "}}\n",
              "\n",
              "                        })                };                            </script>        </div>\n",
              "</body>\n",
              "</html>"
            ]
          },
          "metadata": {}
        },
        {
          "output_type": "display_data",
          "data": {
            "text/html": [
              "<html>\n",
              "<head><meta charset=\"utf-8\" /></head>\n",
              "<body>\n",
              "    <div>            <script src=\"https://cdnjs.cloudflare.com/ajax/libs/mathjax/2.7.5/MathJax.js?config=TeX-AMS-MML_SVG\"></script><script type=\"text/javascript\">if (window.MathJax && window.MathJax.Hub && window.MathJax.Hub.Config) {window.MathJax.Hub.Config({SVG: {font: \"STIX-Web\"}});}</script>                <script type=\"text/javascript\">window.PlotlyConfig = {MathJaxConfig: 'local'};</script>\n",
              "        <script charset=\"utf-8\" src=\"https://cdn.plot.ly/plotly-2.35.2.min.js\"></script>                <div id=\"383f3468-3b09-4592-90b6-2fcbea9a7c8a\" class=\"plotly-graph-div\" style=\"height:525px; width:100%;\"></div>            <script type=\"text/javascript\">                                    window.PLOTLYENV=window.PLOTLYENV || {};                                    if (document.getElementById(\"383f3468-3b09-4592-90b6-2fcbea9a7c8a\")) {                    Plotly.newPlot(                        \"383f3468-3b09-4592-90b6-2fcbea9a7c8a\",                        [{\"alignmentgroup\":\"True\",\"boxpoints\":\"all\",\"hovertemplate\":\"quality=%{y}\\u003cextra\\u003e\\u003c\\u002fextra\\u003e\",\"legendgroup\":\"\",\"marker\":{\"color\":\"#636efa\"},\"name\":\"\",\"notched\":false,\"offsetgroup\":\"\",\"orientation\":\"v\",\"showlegend\":false,\"x0\":\" \",\"xaxis\":\"x\",\"y\":[5,5,5,6,5,5,5,7,7,5,5,5,5,5,5,5,7,5,4,6,6,5,5,5,6,5,5,5,5,6,5,6,5,6,5,6,6,7,4,5,5,4,6,5,5,4,5,5,5,5,5,6,6,5,6,5,5,5,5,6,5,5,7,5,5,5,5,5,5,6,6,5,5,4,5,5,5,6,5,4,5,5,5,5,6,5,6,5,5,5,5,6,5,5,4,6,5,5,5,6,6,6,6,5,5,5,5,5,6,5,5,5,5,6,5,6,6,6,6,6,5,6,5,5,5,5,5,5,7,5,5,5,5,6,6,5,5,5,5,5,5,5,6,5,6,5,5,5,6,6,6,4,5,5,5,5,5,5,5,6,5,4,6,5,5,5,5,4,6,5,4,6,6,6,5,5,5,6,5,5,5,5,5,5,6,5,5,5,5,5,5,6,5,5,5,5,5,6,7,4,7,5,5,5,6,7,7,5,5,7,6,6,6,5,6,5,5,5,5,5,6,5,5,6,4,6,6,5,6,5,7,6,6,5,6,6,6,6,6,6,5,6,6,7,7,6,5,5,6,6,6,6,5,5,6,5,5,5,5,7,5,4,5,5,5,7,4,8,6,6,6,6,5,5,5,6,6,6,8,7,6,7,5,7,5,5,6,6,7,5,7,5,6,6,6,5,5,5,5,5,6,6,5,5,5,6,5,6,6,6,6,6,6,5,5,6,5,6,7,6,7,5,5,6,6,6,7,5,6,5,6,6,6,5,7,7,6,5,6,7,6,6,6,6,6,5,7,6,6,6,6,6,5,5,6,6,5,7,7,6,5,6,5,5,7,6,7,5,5,7,5,6,6,5,6,7,6,7,6,6,6,6,6,6,5,6,6,6,6,7,8,6,5,5,5,7,5,6,6,5,5,6,6,6,5,6,6,7,6,4,6,5,5,7,5,5,6,5,6,5,7,7,5,7,5,7,6,6,5,6,7,5,6,5,6,5,6,6,6,5,8,6,7,7,7,6,5,5,6,6,6,6,6,7,5,8,5,5,7,3,6,5,5,5,6,5,6,6,6,5,5,6,6,5,6,5,5,6,5,6,5,8,5,5,6,5,5,6,7,6,6,7,7,6,6,8,6,5,8,6,6,7,7,7,7,7,7,6,6,7,5,6,6,7,7,5,6,3,6,5,6,5,5,5,5,5,5,6,6,5,6,5,5,6,6,6,5,6,7,5,5,6,5,6,6,5,6,6,6,6,6,6,6,5,5,5,6,5,6,6,5,5,5,6,6,5,6,6,6,6,6,6,5,4,6,6,4,5,5,6,5,5,5,7,7,6,7,5,8,7,5,6,5,5,5,5,6,6,6,6,4,6,5,6,6,6,7,6,6,6,5,5,6,5,6,5,5,6,5,5,5,5,5,6,5,5,5,5,6,5,6,5,6,4,5,5,5,5,7,6,5,5,5,5,5,7,5,4,7,6,5,5,5,6,5,5,5,7,6,4,6,5,6,6,5,5,6,6,5,6,5,5,5,5,6,5,6,5,5,5,5,6,5,5,5,5,5,5,5,5,3,5,5,5,5,6,6,6,5,6,6,6,6,4,4,5,5,5,6,6,5,5,5,5,5,6,5,5,5,5,5,5,5,5,4,5,6,5,5,6,5,5,5,5,5,5,5,6,5,5,6,5,5,5,5,6,6,5,6,6,5,5,5,5,6,6,6,5,5,5,5,5,6,5,6,6,5,5,6,5,6,5,5,6,6,5,6,6,5,5,6,5,5,5,5,5,5,6,6,5,6,5,6,5,6,5,5,7,6,6,5,5,7,6,6,7,7,7,5,6,5,6,5,4,6,5,6,6,5,5,5,7,5,5,5,5,7,5,8,6,4,6,3,4,5,5,7,7,7,5,7,5,6,5,6,5,5,6,5,5,5,5,5,6,6,7,6,7,7,6,5,6,5,5,5,5,6,6,6,6,6,5,4,7,7,7,4,6,6,5,5,6,6,5,6,5,6,7,6,5,5,5,6,5,6,6,7,6,7,3,5,7,7,7,7,5,5,6,6,6,6,6,6,7,6,6,5,6,6,6,5,6,6,6,5,7,6,4,5,7,5,5,6,5,5,6,6,4,7,5,7,7,7,7,7,7,7,7,7,7,7,7,7,7,6,5,6,6,7,5,6,5,5,6,6,6,7,5,6,5,6,6,7,5,7,5,5,5,7,5,6,5,6,6,5,6,7,5,5,6,5,5,6,5,5,6,7,7,6,6,7,7,7,7,5,7,7,7,7,5,7,6,5,6,6,6,7,6,6,5,6,6,5,6,7,6,6,5,6,7,7,7,5,6,6,7,7,5,7,6,5,6,6,7,6,6,6,5,6,6,5,5,5,7,6,6,7,5,7,7,6,8,6,6,6,6,7,7,7,5,7,5,6,6,5,7,6,5,5,7,6,7,6,6,6,5,7,6,7,7,8,6,6,7,6,5,6,5,7,5,6,6,6,6,6,5,6,7,5,6,6,7,6,6,6,6,6,6,6,5,8,6,6,6,4,7,6,6,5,6,6,5,7,7,7,6,6,6,5,6,6,6,6,6,5,6,6,7,6,6,7,6,5,6,6,5,7,7,6,5,7,6,7,5,5,5,5,7,6,6,6,6,6,6,6,6,4,7,5,6,6,5,6,5,5,6,5,6,5,4,6,5,7,5,6,6,6,6,6,6,6,7,8,5,7,7,7,5,7,7,6,5,6,6,6,6,6,6,6,6,6,6,6,6,6,5,5,5,7,5,6,5,5,4,6,4,6,6,4,4,5,5,6,5,6,5,5,5,6,6,6,5,5,5,5,5,5,6,6,6,5,4,5,4,6,6,6,6,6,8,6,6,5,5,6,6,4,6,6,7,6,6,6,6,5,5,6,5,5,5,5,6,6,4,6,5,5,6,6,3,6,6,6,5,5,5,5,4,5,5,5,6,5,6,6,6,6,6,6,6,5,6,5,7,6,6,6,6,5,6,6,5,6,5,5,6,5,5,5,6,6,6,6,6,5,6,5,5,5,5,5,6,5,5,5,5,5,6,5,6,5,5,6,4,6,5,5,6,6,4,5,6,5,5,3,5,5,6,6,6,6,5,5,5,5,5,5,5,5,5,6,5,5,5,5,6,5,5,7,6,5,5,6,8,6,7,6,6,7,6,6,6,6,5,5,5,5,7,5,5,5,5,6,4,6,6,6,5,5,5,5,6,6,7,6,6,5,5,5,6,7,6,5,5,6,6,5,5,5,8,7,7,7,5,6,6,6,5,5,7,6,4,6,6,5,5,7,4,7,3,5,5,6,5,5,7,5,7,3,5,4,5,4,5,4,5,5,5,5,6,6,5,5,5,7,6,5,6,6,6,5,5,5,6,6,3,6,6,6,5,6,5,6,6,6,6,5,6,5,5,6,4,5,5,6,5,6,6,6,6,6,5,6,5,7,6,6,6,5,5,6,7,6,6,7,6,5,5,5,8,5,5,6,5,6,7,5,6,5,5,5,5,5,5,5,6,6,5,5,6,6,6,5,6,6,6,6,6,6,5,6,5,5,5,7,6,6,6,6,5,6,6,6,6,5,6,6,5,6],\"y0\":\" \",\"yaxis\":\"y\",\"type\":\"box\"}],                        {\"template\":{\"data\":{\"histogram2dcontour\":[{\"type\":\"histogram2dcontour\",\"colorbar\":{\"outlinewidth\":0,\"ticks\":\"\"},\"colorscale\":[[0.0,\"#0d0887\"],[0.1111111111111111,\"#46039f\"],[0.2222222222222222,\"#7201a8\"],[0.3333333333333333,\"#9c179e\"],[0.4444444444444444,\"#bd3786\"],[0.5555555555555556,\"#d8576b\"],[0.6666666666666666,\"#ed7953\"],[0.7777777777777778,\"#fb9f3a\"],[0.8888888888888888,\"#fdca26\"],[1.0,\"#f0f921\"]]}],\"choropleth\":[{\"type\":\"choropleth\",\"colorbar\":{\"outlinewidth\":0,\"ticks\":\"\"}}],\"histogram2d\":[{\"type\":\"histogram2d\",\"colorbar\":{\"outlinewidth\":0,\"ticks\":\"\"},\"colorscale\":[[0.0,\"#0d0887\"],[0.1111111111111111,\"#46039f\"],[0.2222222222222222,\"#7201a8\"],[0.3333333333333333,\"#9c179e\"],[0.4444444444444444,\"#bd3786\"],[0.5555555555555556,\"#d8576b\"],[0.6666666666666666,\"#ed7953\"],[0.7777777777777778,\"#fb9f3a\"],[0.8888888888888888,\"#fdca26\"],[1.0,\"#f0f921\"]]}],\"heatmap\":[{\"type\":\"heatmap\",\"colorbar\":{\"outlinewidth\":0,\"ticks\":\"\"},\"colorscale\":[[0.0,\"#0d0887\"],[0.1111111111111111,\"#46039f\"],[0.2222222222222222,\"#7201a8\"],[0.3333333333333333,\"#9c179e\"],[0.4444444444444444,\"#bd3786\"],[0.5555555555555556,\"#d8576b\"],[0.6666666666666666,\"#ed7953\"],[0.7777777777777778,\"#fb9f3a\"],[0.8888888888888888,\"#fdca26\"],[1.0,\"#f0f921\"]]}],\"heatmapgl\":[{\"type\":\"heatmapgl\",\"colorbar\":{\"outlinewidth\":0,\"ticks\":\"\"},\"colorscale\":[[0.0,\"#0d0887\"],[0.1111111111111111,\"#46039f\"],[0.2222222222222222,\"#7201a8\"],[0.3333333333333333,\"#9c179e\"],[0.4444444444444444,\"#bd3786\"],[0.5555555555555556,\"#d8576b\"],[0.6666666666666666,\"#ed7953\"],[0.7777777777777778,\"#fb9f3a\"],[0.8888888888888888,\"#fdca26\"],[1.0,\"#f0f921\"]]}],\"contourcarpet\":[{\"type\":\"contourcarpet\",\"colorbar\":{\"outlinewidth\":0,\"ticks\":\"\"}}],\"contour\":[{\"type\":\"contour\",\"colorbar\":{\"outlinewidth\":0,\"ticks\":\"\"},\"colorscale\":[[0.0,\"#0d0887\"],[0.1111111111111111,\"#46039f\"],[0.2222222222222222,\"#7201a8\"],[0.3333333333333333,\"#9c179e\"],[0.4444444444444444,\"#bd3786\"],[0.5555555555555556,\"#d8576b\"],[0.6666666666666666,\"#ed7953\"],[0.7777777777777778,\"#fb9f3a\"],[0.8888888888888888,\"#fdca26\"],[1.0,\"#f0f921\"]]}],\"surface\":[{\"type\":\"surface\",\"colorbar\":{\"outlinewidth\":0,\"ticks\":\"\"},\"colorscale\":[[0.0,\"#0d0887\"],[0.1111111111111111,\"#46039f\"],[0.2222222222222222,\"#7201a8\"],[0.3333333333333333,\"#9c179e\"],[0.4444444444444444,\"#bd3786\"],[0.5555555555555556,\"#d8576b\"],[0.6666666666666666,\"#ed7953\"],[0.7777777777777778,\"#fb9f3a\"],[0.8888888888888888,\"#fdca26\"],[1.0,\"#f0f921\"]]}],\"mesh3d\":[{\"type\":\"mesh3d\",\"colorbar\":{\"outlinewidth\":0,\"ticks\":\"\"}}],\"scatter\":[{\"fillpattern\":{\"fillmode\":\"overlay\",\"size\":10,\"solidity\":0.2},\"type\":\"scatter\"}],\"parcoords\":[{\"type\":\"parcoords\",\"line\":{\"colorbar\":{\"outlinewidth\":0,\"ticks\":\"\"}}}],\"scatterpolargl\":[{\"type\":\"scatterpolargl\",\"marker\":{\"colorbar\":{\"outlinewidth\":0,\"ticks\":\"\"}}}],\"bar\":[{\"error_x\":{\"color\":\"#2a3f5f\"},\"error_y\":{\"color\":\"#2a3f5f\"},\"marker\":{\"line\":{\"color\":\"#E5ECF6\",\"width\":0.5},\"pattern\":{\"fillmode\":\"overlay\",\"size\":10,\"solidity\":0.2}},\"type\":\"bar\"}],\"scattergeo\":[{\"type\":\"scattergeo\",\"marker\":{\"colorbar\":{\"outlinewidth\":0,\"ticks\":\"\"}}}],\"scatterpolar\":[{\"type\":\"scatterpolar\",\"marker\":{\"colorbar\":{\"outlinewidth\":0,\"ticks\":\"\"}}}],\"histogram\":[{\"marker\":{\"pattern\":{\"fillmode\":\"overlay\",\"size\":10,\"solidity\":0.2}},\"type\":\"histogram\"}],\"scattergl\":[{\"type\":\"scattergl\",\"marker\":{\"colorbar\":{\"outlinewidth\":0,\"ticks\":\"\"}}}],\"scatter3d\":[{\"type\":\"scatter3d\",\"line\":{\"colorbar\":{\"outlinewidth\":0,\"ticks\":\"\"}},\"marker\":{\"colorbar\":{\"outlinewidth\":0,\"ticks\":\"\"}}}],\"scattermapbox\":[{\"type\":\"scattermapbox\",\"marker\":{\"colorbar\":{\"outlinewidth\":0,\"ticks\":\"\"}}}],\"scatterternary\":[{\"type\":\"scatterternary\",\"marker\":{\"colorbar\":{\"outlinewidth\":0,\"ticks\":\"\"}}}],\"scattercarpet\":[{\"type\":\"scattercarpet\",\"marker\":{\"colorbar\":{\"outlinewidth\":0,\"ticks\":\"\"}}}],\"carpet\":[{\"aaxis\":{\"endlinecolor\":\"#2a3f5f\",\"gridcolor\":\"white\",\"linecolor\":\"white\",\"minorgridcolor\":\"white\",\"startlinecolor\":\"#2a3f5f\"},\"baxis\":{\"endlinecolor\":\"#2a3f5f\",\"gridcolor\":\"white\",\"linecolor\":\"white\",\"minorgridcolor\":\"white\",\"startlinecolor\":\"#2a3f5f\"},\"type\":\"carpet\"}],\"table\":[{\"cells\":{\"fill\":{\"color\":\"#EBF0F8\"},\"line\":{\"color\":\"white\"}},\"header\":{\"fill\":{\"color\":\"#C8D4E3\"},\"line\":{\"color\":\"white\"}},\"type\":\"table\"}],\"barpolar\":[{\"marker\":{\"line\":{\"color\":\"#E5ECF6\",\"width\":0.5},\"pattern\":{\"fillmode\":\"overlay\",\"size\":10,\"solidity\":0.2}},\"type\":\"barpolar\"}],\"pie\":[{\"automargin\":true,\"type\":\"pie\"}]},\"layout\":{\"autotypenumbers\":\"strict\",\"colorway\":[\"#636efa\",\"#EF553B\",\"#00cc96\",\"#ab63fa\",\"#FFA15A\",\"#19d3f3\",\"#FF6692\",\"#B6E880\",\"#FF97FF\",\"#FECB52\"],\"font\":{\"color\":\"#2a3f5f\"},\"hovermode\":\"closest\",\"hoverlabel\":{\"align\":\"left\"},\"paper_bgcolor\":\"white\",\"plot_bgcolor\":\"#E5ECF6\",\"polar\":{\"bgcolor\":\"#E5ECF6\",\"angularaxis\":{\"gridcolor\":\"white\",\"linecolor\":\"white\",\"ticks\":\"\"},\"radialaxis\":{\"gridcolor\":\"white\",\"linecolor\":\"white\",\"ticks\":\"\"}},\"ternary\":{\"bgcolor\":\"#E5ECF6\",\"aaxis\":{\"gridcolor\":\"white\",\"linecolor\":\"white\",\"ticks\":\"\"},\"baxis\":{\"gridcolor\":\"white\",\"linecolor\":\"white\",\"ticks\":\"\"},\"caxis\":{\"gridcolor\":\"white\",\"linecolor\":\"white\",\"ticks\":\"\"}},\"coloraxis\":{\"colorbar\":{\"outlinewidth\":0,\"ticks\":\"\"}},\"colorscale\":{\"sequential\":[[0.0,\"#0d0887\"],[0.1111111111111111,\"#46039f\"],[0.2222222222222222,\"#7201a8\"],[0.3333333333333333,\"#9c179e\"],[0.4444444444444444,\"#bd3786\"],[0.5555555555555556,\"#d8576b\"],[0.6666666666666666,\"#ed7953\"],[0.7777777777777778,\"#fb9f3a\"],[0.8888888888888888,\"#fdca26\"],[1.0,\"#f0f921\"]],\"sequentialminus\":[[0.0,\"#0d0887\"],[0.1111111111111111,\"#46039f\"],[0.2222222222222222,\"#7201a8\"],[0.3333333333333333,\"#9c179e\"],[0.4444444444444444,\"#bd3786\"],[0.5555555555555556,\"#d8576b\"],[0.6666666666666666,\"#ed7953\"],[0.7777777777777778,\"#fb9f3a\"],[0.8888888888888888,\"#fdca26\"],[1.0,\"#f0f921\"]],\"diverging\":[[0,\"#8e0152\"],[0.1,\"#c51b7d\"],[0.2,\"#de77ae\"],[0.3,\"#f1b6da\"],[0.4,\"#fde0ef\"],[0.5,\"#f7f7f7\"],[0.6,\"#e6f5d0\"],[0.7,\"#b8e186\"],[0.8,\"#7fbc41\"],[0.9,\"#4d9221\"],[1,\"#276419\"]]},\"xaxis\":{\"gridcolor\":\"white\",\"linecolor\":\"white\",\"ticks\":\"\",\"title\":{\"standoff\":15},\"zerolinecolor\":\"white\",\"automargin\":true,\"zerolinewidth\":2},\"yaxis\":{\"gridcolor\":\"white\",\"linecolor\":\"white\",\"ticks\":\"\",\"title\":{\"standoff\":15},\"zerolinecolor\":\"white\",\"automargin\":true,\"zerolinewidth\":2},\"scene\":{\"xaxis\":{\"backgroundcolor\":\"#E5ECF6\",\"gridcolor\":\"white\",\"linecolor\":\"white\",\"showbackground\":true,\"ticks\":\"\",\"zerolinecolor\":\"white\",\"gridwidth\":2},\"yaxis\":{\"backgroundcolor\":\"#E5ECF6\",\"gridcolor\":\"white\",\"linecolor\":\"white\",\"showbackground\":true,\"ticks\":\"\",\"zerolinecolor\":\"white\",\"gridwidth\":2},\"zaxis\":{\"backgroundcolor\":\"#E5ECF6\",\"gridcolor\":\"white\",\"linecolor\":\"white\",\"showbackground\":true,\"ticks\":\"\",\"zerolinecolor\":\"white\",\"gridwidth\":2}},\"shapedefaults\":{\"line\":{\"color\":\"#2a3f5f\"}},\"annotationdefaults\":{\"arrowcolor\":\"#2a3f5f\",\"arrowhead\":0,\"arrowwidth\":1},\"geo\":{\"bgcolor\":\"white\",\"landcolor\":\"#E5ECF6\",\"subunitcolor\":\"white\",\"showland\":true,\"showlakes\":true,\"lakecolor\":\"white\"},\"title\":{\"x\":0.05},\"mapbox\":{\"style\":\"light\"}}},\"xaxis\":{\"anchor\":\"y\",\"domain\":[0.0,1.0]},\"yaxis\":{\"anchor\":\"x\",\"domain\":[0.0,1.0],\"title\":{\"text\":\"quality\"}},\"legend\":{\"tracegroupgap\":0},\"title\":{\"text\":\"Boxplot de quality\"},\"boxmode\":\"group\"},                        {\"responsive\": true}                    ).then(function(){\n",
              "                            \n",
              "var gd = document.getElementById('383f3468-3b09-4592-90b6-2fcbea9a7c8a');\n",
              "var x = new MutationObserver(function (mutations, observer) {{\n",
              "        var display = window.getComputedStyle(gd).display;\n",
              "        if (!display || display === 'none') {{\n",
              "            console.log([gd, 'removed!']);\n",
              "            Plotly.purge(gd);\n",
              "            observer.disconnect();\n",
              "        }}\n",
              "}});\n",
              "\n",
              "// Listen for the removal of the full notebook cells\n",
              "var notebookContainer = gd.closest('#notebook-container');\n",
              "if (notebookContainer) {{\n",
              "    x.observe(notebookContainer, {childList: true});\n",
              "}}\n",
              "\n",
              "// Listen for the clearing of the current output cell\n",
              "var outputEl = gd.closest('.output');\n",
              "if (outputEl) {{\n",
              "    x.observe(outputEl, {childList: true});\n",
              "}}\n",
              "\n",
              "                        })                };                            </script>        </div>\n",
              "</body>\n",
              "</html>"
            ]
          },
          "metadata": {}
        }
      ]
    },
    {
      "cell_type": "markdown",
      "source": [
        "**Insigth:** Pelos boxplots eu notei a maioria com Outliers de UpperFence e outros como Cloridratos e Qualidade com Outliers tanto com Upper e DownFence."
      ],
      "metadata": {
        "id": "E11I4jW5IMKF"
      }
    },
    {
      "cell_type": "markdown",
      "source": [
        "Como vou usar o Random Forest, não preciso remover ou tratar os outliers nas features."
      ],
      "metadata": {
        "id": "_BvXeqOTI2x8"
      }
    },
    {
      "cell_type": "markdown",
      "source": [],
      "metadata": {
        "id": "SFgg2C9yJFXy"
      }
    },
    {
      "cell_type": "markdown",
      "source": [
        "# Distribuiçao da Variavel Target:"
      ],
      "metadata": {
        "id": "6OJjl033JMj4"
      }
    },
    {
      "cell_type": "markdown",
      "source": [
        "- Target: Qualidade | Melhor forma para observar é atraves de um grafico de histograma."
      ],
      "metadata": {
        "id": "MyDLoCczJSVP"
      }
    },
    {
      "cell_type": "code",
      "source": [
        "# Plotar a distribuição da variável target\n",
        "fig = px.histogram(df, x='quality', title='Distribuição da Variável Target (Quality)',\n",
        "                   color_discrete_sequence=['green'])\n",
        "fig.show()\n"
      ],
      "metadata": {
        "colab": {
          "base_uri": "https://localhost:8080/",
          "height": 542
        },
        "id": "F3q-qqLcJW2V",
        "outputId": "e83e141b-7531-4362-d640-052a22a780b6"
      },
      "execution_count": null,
      "outputs": [
        {
          "output_type": "display_data",
          "data": {
            "text/html": [
              "<html>\n",
              "<head><meta charset=\"utf-8\" /></head>\n",
              "<body>\n",
              "    <div>            <script src=\"https://cdnjs.cloudflare.com/ajax/libs/mathjax/2.7.5/MathJax.js?config=TeX-AMS-MML_SVG\"></script><script type=\"text/javascript\">if (window.MathJax && window.MathJax.Hub && window.MathJax.Hub.Config) {window.MathJax.Hub.Config({SVG: {font: \"STIX-Web\"}});}</script>                <script type=\"text/javascript\">window.PlotlyConfig = {MathJaxConfig: 'local'};</script>\n",
              "        <script charset=\"utf-8\" src=\"https://cdn.plot.ly/plotly-2.35.2.min.js\"></script>                <div id=\"814e2eaa-1e10-4b6d-8ee9-393d48f0ec0f\" class=\"plotly-graph-div\" style=\"height:525px; width:100%;\"></div>            <script type=\"text/javascript\">                                    window.PLOTLYENV=window.PLOTLYENV || {};                                    if (document.getElementById(\"814e2eaa-1e10-4b6d-8ee9-393d48f0ec0f\")) {                    Plotly.newPlot(                        \"814e2eaa-1e10-4b6d-8ee9-393d48f0ec0f\",                        [{\"alignmentgroup\":\"True\",\"bingroup\":\"x\",\"hovertemplate\":\"quality=%{x}\\u003cbr\\u003ecount=%{y}\\u003cextra\\u003e\\u003c\\u002fextra\\u003e\",\"legendgroup\":\"\",\"marker\":{\"color\":\"green\",\"pattern\":{\"shape\":\"\"}},\"name\":\"\",\"offsetgroup\":\"\",\"orientation\":\"v\",\"showlegend\":false,\"x\":[5,5,5,6,5,5,5,7,7,5,5,5,5,5,5,5,7,5,4,6,6,5,5,5,6,5,5,5,5,6,5,6,5,6,5,6,6,7,4,5,5,4,6,5,5,4,5,5,5,5,5,6,6,5,6,5,5,5,5,6,5,5,7,5,5,5,5,5,5,6,6,5,5,4,5,5,5,6,5,4,5,5,5,5,6,5,6,5,5,5,5,6,5,5,4,6,5,5,5,6,6,6,6,5,5,5,5,5,6,5,5,5,5,6,5,6,6,6,6,6,5,6,5,5,5,5,5,5,7,5,5,5,5,6,6,5,5,5,5,5,5,5,6,5,6,5,5,5,6,6,6,4,5,5,5,5,5,5,5,6,5,4,6,5,5,5,5,4,6,5,4,6,6,6,5,5,5,6,5,5,5,5,5,5,6,5,5,5,5,5,5,6,5,5,5,5,5,6,7,4,7,5,5,5,6,7,7,5,5,7,6,6,6,5,6,5,5,5,5,5,6,5,5,6,4,6,6,5,6,5,7,6,6,5,6,6,6,6,6,6,5,6,6,7,7,6,5,5,6,6,6,6,5,5,6,5,5,5,5,7,5,4,5,5,5,7,4,8,6,6,6,6,5,5,5,6,6,6,8,7,6,7,5,7,5,5,6,6,7,5,7,5,6,6,6,5,5,5,5,5,6,6,5,5,5,6,5,6,6,6,6,6,6,5,5,6,5,6,7,6,7,5,5,6,6,6,7,5,6,5,6,6,6,5,7,7,6,5,6,7,6,6,6,6,6,5,7,6,6,6,6,6,5,5,6,6,5,7,7,6,5,6,5,5,7,6,7,5,5,7,5,6,6,5,6,7,6,7,6,6,6,6,6,6,5,6,6,6,6,7,8,6,5,5,5,7,5,6,6,5,5,6,6,6,5,6,6,7,6,4,6,5,5,7,5,5,6,5,6,5,7,7,5,7,5,7,6,6,5,6,7,5,6,5,6,5,6,6,6,5,8,6,7,7,7,6,5,5,6,6,6,6,6,7,5,8,5,5,7,3,6,5,5,5,6,5,6,6,6,5,5,6,6,5,6,5,5,6,5,6,5,8,5,5,6,5,5,6,7,6,6,7,7,6,6,8,6,5,8,6,6,7,7,7,7,7,7,6,6,7,5,6,6,7,7,5,6,3,6,5,6,5,5,5,5,5,5,6,6,5,6,5,5,6,6,6,5,6,7,5,5,6,5,6,6,5,6,6,6,6,6,6,6,5,5,5,6,5,6,6,5,5,5,6,6,5,6,6,6,6,6,6,5,4,6,6,4,5,5,6,5,5,5,7,7,6,7,5,8,7,5,6,5,5,5,5,6,6,6,6,4,6,5,6,6,6,7,6,6,6,5,5,6,5,6,5,5,6,5,5,5,5,5,6,5,5,5,5,6,5,6,5,6,4,5,5,5,5,7,6,5,5,5,5,5,7,5,4,7,6,5,5,5,6,5,5,5,7,6,4,6,5,6,6,5,5,6,6,5,6,5,5,5,5,6,5,6,5,5,5,5,6,5,5,5,5,5,5,5,5,3,5,5,5,5,6,6,6,5,6,6,6,6,4,4,5,5,5,6,6,5,5,5,5,5,6,5,5,5,5,5,5,5,5,4,5,6,5,5,6,5,5,5,5,5,5,5,6,5,5,6,5,5,5,5,6,6,5,6,6,5,5,5,5,6,6,6,5,5,5,5,5,6,5,6,6,5,5,6,5,6,5,5,6,6,5,6,6,5,5,6,5,5,5,5,5,5,6,6,5,6,5,6,5,6,5,5,7,6,6,5,5,7,6,6,7,7,7,5,6,5,6,5,4,6,5,6,6,5,5,5,7,5,5,5,5,7,5,8,6,4,6,3,4,5,5,7,7,7,5,7,5,6,5,6,5,5,6,5,5,5,5,5,6,6,7,6,7,7,6,5,6,5,5,5,5,6,6,6,6,6,5,4,7,7,7,4,6,6,5,5,6,6,5,6,5,6,7,6,5,5,5,6,5,6,6,7,6,7,3,5,7,7,7,7,5,5,6,6,6,6,6,6,7,6,6,5,6,6,6,5,6,6,6,5,7,6,4,5,7,5,5,6,5,5,6,6,4,7,5,7,7,7,7,7,7,7,7,7,7,7,7,7,7,6,5,6,6,7,5,6,5,5,6,6,6,7,5,6,5,6,6,7,5,7,5,5,5,7,5,6,5,6,6,5,6,7,5,5,6,5,5,6,5,5,6,7,7,6,6,7,7,7,7,5,7,7,7,7,5,7,6,5,6,6,6,7,6,6,5,6,6,5,6,7,6,6,5,6,7,7,7,5,6,6,7,7,5,7,6,5,6,6,7,6,6,6,5,6,6,5,5,5,7,6,6,7,5,7,7,6,8,6,6,6,6,7,7,7,5,7,5,6,6,5,7,6,5,5,7,6,7,6,6,6,5,7,6,7,7,8,6,6,7,6,5,6,5,7,5,6,6,6,6,6,5,6,7,5,6,6,7,6,6,6,6,6,6,6,5,8,6,6,6,4,7,6,6,5,6,6,5,7,7,7,6,6,6,5,6,6,6,6,6,5,6,6,7,6,6,7,6,5,6,6,5,7,7,6,5,7,6,7,5,5,5,5,7,6,6,6,6,6,6,6,6,4,7,5,6,6,5,6,5,5,6,5,6,5,4,6,5,7,5,6,6,6,6,6,6,6,7,8,5,7,7,7,5,7,7,6,5,6,6,6,6,6,6,6,6,6,6,6,6,6,5,5,5,7,5,6,5,5,4,6,4,6,6,4,4,5,5,6,5,6,5,5,5,6,6,6,5,5,5,5,5,5,6,6,6,5,4,5,4,6,6,6,6,6,8,6,6,5,5,6,6,4,6,6,7,6,6,6,6,5,5,6,5,5,5,5,6,6,4,6,5,5,6,6,3,6,6,6,5,5,5,5,4,5,5,5,6,5,6,6,6,6,6,6,6,5,6,5,7,6,6,6,6,5,6,6,5,6,5,5,6,5,5,5,6,6,6,6,6,5,6,5,5,5,5,5,6,5,5,5,5,5,6,5,6,5,5,6,4,6,5,5,6,6,4,5,6,5,5,3,5,5,6,6,6,6,5,5,5,5,5,5,5,5,5,6,5,5,5,5,6,5,5,7,6,5,5,6,8,6,7,6,6,7,6,6,6,6,5,5,5,5,7,5,5,5,5,6,4,6,6,6,5,5,5,5,6,6,7,6,6,5,5,5,6,7,6,5,5,6,6,5,5,5,8,7,7,7,5,6,6,6,5,5,7,6,4,6,6,5,5,7,4,7,3,5,5,6,5,5,7,5,7,3,5,4,5,4,5,4,5,5,5,5,6,6,5,5,5,7,6,5,6,6,6,5,5,5,6,6,3,6,6,6,5,6,5,6,6,6,6,5,6,5,5,6,4,5,5,6,5,6,6,6,6,6,5,6,5,7,6,6,6,5,5,6,7,6,6,7,6,5,5,5,8,5,5,6,5,6,7,5,6,5,5,5,5,5,5,5,6,6,5,5,6,6,6,5,6,6,6,6,6,6,5,6,5,5,5,7,6,6,6,6,5,6,6,6,6,5,6,6,5,6],\"xaxis\":\"x\",\"yaxis\":\"y\",\"type\":\"histogram\"}],                        {\"template\":{\"data\":{\"histogram2dcontour\":[{\"type\":\"histogram2dcontour\",\"colorbar\":{\"outlinewidth\":0,\"ticks\":\"\"},\"colorscale\":[[0.0,\"#0d0887\"],[0.1111111111111111,\"#46039f\"],[0.2222222222222222,\"#7201a8\"],[0.3333333333333333,\"#9c179e\"],[0.4444444444444444,\"#bd3786\"],[0.5555555555555556,\"#d8576b\"],[0.6666666666666666,\"#ed7953\"],[0.7777777777777778,\"#fb9f3a\"],[0.8888888888888888,\"#fdca26\"],[1.0,\"#f0f921\"]]}],\"choropleth\":[{\"type\":\"choropleth\",\"colorbar\":{\"outlinewidth\":0,\"ticks\":\"\"}}],\"histogram2d\":[{\"type\":\"histogram2d\",\"colorbar\":{\"outlinewidth\":0,\"ticks\":\"\"},\"colorscale\":[[0.0,\"#0d0887\"],[0.1111111111111111,\"#46039f\"],[0.2222222222222222,\"#7201a8\"],[0.3333333333333333,\"#9c179e\"],[0.4444444444444444,\"#bd3786\"],[0.5555555555555556,\"#d8576b\"],[0.6666666666666666,\"#ed7953\"],[0.7777777777777778,\"#fb9f3a\"],[0.8888888888888888,\"#fdca26\"],[1.0,\"#f0f921\"]]}],\"heatmap\":[{\"type\":\"heatmap\",\"colorbar\":{\"outlinewidth\":0,\"ticks\":\"\"},\"colorscale\":[[0.0,\"#0d0887\"],[0.1111111111111111,\"#46039f\"],[0.2222222222222222,\"#7201a8\"],[0.3333333333333333,\"#9c179e\"],[0.4444444444444444,\"#bd3786\"],[0.5555555555555556,\"#d8576b\"],[0.6666666666666666,\"#ed7953\"],[0.7777777777777778,\"#fb9f3a\"],[0.8888888888888888,\"#fdca26\"],[1.0,\"#f0f921\"]]}],\"heatmapgl\":[{\"type\":\"heatmapgl\",\"colorbar\":{\"outlinewidth\":0,\"ticks\":\"\"},\"colorscale\":[[0.0,\"#0d0887\"],[0.1111111111111111,\"#46039f\"],[0.2222222222222222,\"#7201a8\"],[0.3333333333333333,\"#9c179e\"],[0.4444444444444444,\"#bd3786\"],[0.5555555555555556,\"#d8576b\"],[0.6666666666666666,\"#ed7953\"],[0.7777777777777778,\"#fb9f3a\"],[0.8888888888888888,\"#fdca26\"],[1.0,\"#f0f921\"]]}],\"contourcarpet\":[{\"type\":\"contourcarpet\",\"colorbar\":{\"outlinewidth\":0,\"ticks\":\"\"}}],\"contour\":[{\"type\":\"contour\",\"colorbar\":{\"outlinewidth\":0,\"ticks\":\"\"},\"colorscale\":[[0.0,\"#0d0887\"],[0.1111111111111111,\"#46039f\"],[0.2222222222222222,\"#7201a8\"],[0.3333333333333333,\"#9c179e\"],[0.4444444444444444,\"#bd3786\"],[0.5555555555555556,\"#d8576b\"],[0.6666666666666666,\"#ed7953\"],[0.7777777777777778,\"#fb9f3a\"],[0.8888888888888888,\"#fdca26\"],[1.0,\"#f0f921\"]]}],\"surface\":[{\"type\":\"surface\",\"colorbar\":{\"outlinewidth\":0,\"ticks\":\"\"},\"colorscale\":[[0.0,\"#0d0887\"],[0.1111111111111111,\"#46039f\"],[0.2222222222222222,\"#7201a8\"],[0.3333333333333333,\"#9c179e\"],[0.4444444444444444,\"#bd3786\"],[0.5555555555555556,\"#d8576b\"],[0.6666666666666666,\"#ed7953\"],[0.7777777777777778,\"#fb9f3a\"],[0.8888888888888888,\"#fdca26\"],[1.0,\"#f0f921\"]]}],\"mesh3d\":[{\"type\":\"mesh3d\",\"colorbar\":{\"outlinewidth\":0,\"ticks\":\"\"}}],\"scatter\":[{\"fillpattern\":{\"fillmode\":\"overlay\",\"size\":10,\"solidity\":0.2},\"type\":\"scatter\"}],\"parcoords\":[{\"type\":\"parcoords\",\"line\":{\"colorbar\":{\"outlinewidth\":0,\"ticks\":\"\"}}}],\"scatterpolargl\":[{\"type\":\"scatterpolargl\",\"marker\":{\"colorbar\":{\"outlinewidth\":0,\"ticks\":\"\"}}}],\"bar\":[{\"error_x\":{\"color\":\"#2a3f5f\"},\"error_y\":{\"color\":\"#2a3f5f\"},\"marker\":{\"line\":{\"color\":\"#E5ECF6\",\"width\":0.5},\"pattern\":{\"fillmode\":\"overlay\",\"size\":10,\"solidity\":0.2}},\"type\":\"bar\"}],\"scattergeo\":[{\"type\":\"scattergeo\",\"marker\":{\"colorbar\":{\"outlinewidth\":0,\"ticks\":\"\"}}}],\"scatterpolar\":[{\"type\":\"scatterpolar\",\"marker\":{\"colorbar\":{\"outlinewidth\":0,\"ticks\":\"\"}}}],\"histogram\":[{\"marker\":{\"pattern\":{\"fillmode\":\"overlay\",\"size\":10,\"solidity\":0.2}},\"type\":\"histogram\"}],\"scattergl\":[{\"type\":\"scattergl\",\"marker\":{\"colorbar\":{\"outlinewidth\":0,\"ticks\":\"\"}}}],\"scatter3d\":[{\"type\":\"scatter3d\",\"line\":{\"colorbar\":{\"outlinewidth\":0,\"ticks\":\"\"}},\"marker\":{\"colorbar\":{\"outlinewidth\":0,\"ticks\":\"\"}}}],\"scattermapbox\":[{\"type\":\"scattermapbox\",\"marker\":{\"colorbar\":{\"outlinewidth\":0,\"ticks\":\"\"}}}],\"scatterternary\":[{\"type\":\"scatterternary\",\"marker\":{\"colorbar\":{\"outlinewidth\":0,\"ticks\":\"\"}}}],\"scattercarpet\":[{\"type\":\"scattercarpet\",\"marker\":{\"colorbar\":{\"outlinewidth\":0,\"ticks\":\"\"}}}],\"carpet\":[{\"aaxis\":{\"endlinecolor\":\"#2a3f5f\",\"gridcolor\":\"white\",\"linecolor\":\"white\",\"minorgridcolor\":\"white\",\"startlinecolor\":\"#2a3f5f\"},\"baxis\":{\"endlinecolor\":\"#2a3f5f\",\"gridcolor\":\"white\",\"linecolor\":\"white\",\"minorgridcolor\":\"white\",\"startlinecolor\":\"#2a3f5f\"},\"type\":\"carpet\"}],\"table\":[{\"cells\":{\"fill\":{\"color\":\"#EBF0F8\"},\"line\":{\"color\":\"white\"}},\"header\":{\"fill\":{\"color\":\"#C8D4E3\"},\"line\":{\"color\":\"white\"}},\"type\":\"table\"}],\"barpolar\":[{\"marker\":{\"line\":{\"color\":\"#E5ECF6\",\"width\":0.5},\"pattern\":{\"fillmode\":\"overlay\",\"size\":10,\"solidity\":0.2}},\"type\":\"barpolar\"}],\"pie\":[{\"automargin\":true,\"type\":\"pie\"}]},\"layout\":{\"autotypenumbers\":\"strict\",\"colorway\":[\"#636efa\",\"#EF553B\",\"#00cc96\",\"#ab63fa\",\"#FFA15A\",\"#19d3f3\",\"#FF6692\",\"#B6E880\",\"#FF97FF\",\"#FECB52\"],\"font\":{\"color\":\"#2a3f5f\"},\"hovermode\":\"closest\",\"hoverlabel\":{\"align\":\"left\"},\"paper_bgcolor\":\"white\",\"plot_bgcolor\":\"#E5ECF6\",\"polar\":{\"bgcolor\":\"#E5ECF6\",\"angularaxis\":{\"gridcolor\":\"white\",\"linecolor\":\"white\",\"ticks\":\"\"},\"radialaxis\":{\"gridcolor\":\"white\",\"linecolor\":\"white\",\"ticks\":\"\"}},\"ternary\":{\"bgcolor\":\"#E5ECF6\",\"aaxis\":{\"gridcolor\":\"white\",\"linecolor\":\"white\",\"ticks\":\"\"},\"baxis\":{\"gridcolor\":\"white\",\"linecolor\":\"white\",\"ticks\":\"\"},\"caxis\":{\"gridcolor\":\"white\",\"linecolor\":\"white\",\"ticks\":\"\"}},\"coloraxis\":{\"colorbar\":{\"outlinewidth\":0,\"ticks\":\"\"}},\"colorscale\":{\"sequential\":[[0.0,\"#0d0887\"],[0.1111111111111111,\"#46039f\"],[0.2222222222222222,\"#7201a8\"],[0.3333333333333333,\"#9c179e\"],[0.4444444444444444,\"#bd3786\"],[0.5555555555555556,\"#d8576b\"],[0.6666666666666666,\"#ed7953\"],[0.7777777777777778,\"#fb9f3a\"],[0.8888888888888888,\"#fdca26\"],[1.0,\"#f0f921\"]],\"sequentialminus\":[[0.0,\"#0d0887\"],[0.1111111111111111,\"#46039f\"],[0.2222222222222222,\"#7201a8\"],[0.3333333333333333,\"#9c179e\"],[0.4444444444444444,\"#bd3786\"],[0.5555555555555556,\"#d8576b\"],[0.6666666666666666,\"#ed7953\"],[0.7777777777777778,\"#fb9f3a\"],[0.8888888888888888,\"#fdca26\"],[1.0,\"#f0f921\"]],\"diverging\":[[0,\"#8e0152\"],[0.1,\"#c51b7d\"],[0.2,\"#de77ae\"],[0.3,\"#f1b6da\"],[0.4,\"#fde0ef\"],[0.5,\"#f7f7f7\"],[0.6,\"#e6f5d0\"],[0.7,\"#b8e186\"],[0.8,\"#7fbc41\"],[0.9,\"#4d9221\"],[1,\"#276419\"]]},\"xaxis\":{\"gridcolor\":\"white\",\"linecolor\":\"white\",\"ticks\":\"\",\"title\":{\"standoff\":15},\"zerolinecolor\":\"white\",\"automargin\":true,\"zerolinewidth\":2},\"yaxis\":{\"gridcolor\":\"white\",\"linecolor\":\"white\",\"ticks\":\"\",\"title\":{\"standoff\":15},\"zerolinecolor\":\"white\",\"automargin\":true,\"zerolinewidth\":2},\"scene\":{\"xaxis\":{\"backgroundcolor\":\"#E5ECF6\",\"gridcolor\":\"white\",\"linecolor\":\"white\",\"showbackground\":true,\"ticks\":\"\",\"zerolinecolor\":\"white\",\"gridwidth\":2},\"yaxis\":{\"backgroundcolor\":\"#E5ECF6\",\"gridcolor\":\"white\",\"linecolor\":\"white\",\"showbackground\":true,\"ticks\":\"\",\"zerolinecolor\":\"white\",\"gridwidth\":2},\"zaxis\":{\"backgroundcolor\":\"#E5ECF6\",\"gridcolor\":\"white\",\"linecolor\":\"white\",\"showbackground\":true,\"ticks\":\"\",\"zerolinecolor\":\"white\",\"gridwidth\":2}},\"shapedefaults\":{\"line\":{\"color\":\"#2a3f5f\"}},\"annotationdefaults\":{\"arrowcolor\":\"#2a3f5f\",\"arrowhead\":0,\"arrowwidth\":1},\"geo\":{\"bgcolor\":\"white\",\"landcolor\":\"#E5ECF6\",\"subunitcolor\":\"white\",\"showland\":true,\"showlakes\":true,\"lakecolor\":\"white\"},\"title\":{\"x\":0.05},\"mapbox\":{\"style\":\"light\"}}},\"xaxis\":{\"anchor\":\"y\",\"domain\":[0.0,1.0],\"title\":{\"text\":\"quality\"}},\"yaxis\":{\"anchor\":\"x\",\"domain\":[0.0,1.0],\"title\":{\"text\":\"count\"}},\"legend\":{\"tracegroupgap\":0},\"title\":{\"text\":\"Distribuição da Variável Target (Quality)\"},\"barmode\":\"relative\"},                        {\"responsive\": true}                    ).then(function(){\n",
              "                            \n",
              "var gd = document.getElementById('814e2eaa-1e10-4b6d-8ee9-393d48f0ec0f');\n",
              "var x = new MutationObserver(function (mutations, observer) {{\n",
              "        var display = window.getComputedStyle(gd).display;\n",
              "        if (!display || display === 'none') {{\n",
              "            console.log([gd, 'removed!']);\n",
              "            Plotly.purge(gd);\n",
              "            observer.disconnect();\n",
              "        }}\n",
              "}});\n",
              "\n",
              "// Listen for the removal of the full notebook cells\n",
              "var notebookContainer = gd.closest('#notebook-container');\n",
              "if (notebookContainer) {{\n",
              "    x.observe(notebookContainer, {childList: true});\n",
              "}}\n",
              "\n",
              "// Listen for the clearing of the current output cell\n",
              "var outputEl = gd.closest('.output');\n",
              "if (outputEl) {{\n",
              "    x.observe(outputEl, {childList: true});\n",
              "}}\n",
              "\n",
              "                        })                };                            </script>        </div>\n",
              "</body>\n",
              "</html>"
            ]
          },
          "metadata": {}
        }
      ]
    },
    {
      "cell_type": "markdown",
      "source": [
        "Os dados estão se distribuindo muito proximo a uma curva normal, vou realizar a contagem de cada coluna:"
      ],
      "metadata": {
        "id": "IKeMLPfsJpBh"
      }
    },
    {
      "cell_type": "code",
      "source": [
        "# Contagem de valores para cada classe\n",
        "count_classes = df['quality'].value_counts().sort_index()\n",
        "percent_classes = df['quality'].value_counts(normalize=True).sort_index() * 100\n",
        "\n",
        "# Exibir os resultados\n",
        "print(\"Contagem de cada classe:\\n\", count_classes)\n",
        "print(\"\\nPorcentagem de cada classe:\\n\", percent_classes.round(2))\n"
      ],
      "metadata": {
        "colab": {
          "base_uri": "https://localhost:8080/"
        },
        "id": "QPvfJN-PJ5hK",
        "outputId": "3368d14e-862f-43d5-ee1b-b42e102dfc51"
      },
      "execution_count": null,
      "outputs": [
        {
          "output_type": "stream",
          "name": "stdout",
          "text": [
            "Contagem de cada classe:\n",
            " quality\n",
            "3     10\n",
            "4     53\n",
            "5    681\n",
            "6    638\n",
            "7    199\n",
            "8     18\n",
            "Name: count, dtype: int64\n",
            "\n",
            "Porcentagem de cada classe:\n",
            " quality\n",
            "3     0.63\n",
            "4     3.31\n",
            "5    42.59\n",
            "6    39.90\n",
            "7    12.45\n",
            "8     1.13\n",
            "Name: proportion, dtype: float64\n"
          ]
        }
      ]
    },
    {
      "cell_type": "markdown",
      "source": [
        "Classes majoritárias:\n",
        "\n",
        "5 (42,6%) e 6 (39,9%) → juntas representam mais de 80% dos dados.\n",
        "\n",
        "Classes minoritárias:\n",
        "\n",
        "3 (0,63%), 4 (3,31%) e 8 (1,13%) → são muito poucas observações.\n",
        "\n",
        "Isso indica desbalanceamento significativo, especialmente nas extremidades.\n",
        "\n",
        "Classes intermediárias:\n",
        "\n",
        "7 (12,45%) → ainda pequena comparada às centrais, mas não tão extrema quanto 3, 4 ou 8.\n",
        "\n",
        "\n",
        "**Implicações para o Random Forest:**\n",
        "\n",
        "Random Forest consegue lidar razoavelmente com desequilíbrios, mas classes com poucos exemplos (3, 4, 8) podem ter baixa acurácia de previsão.\n",
        "\n",
        "Estratégias possíveis:\n",
        "\n",
        "Usar class_weight='balanced' ao criar o Random Forest → dá mais peso para classes minoritárias.\n",
        "\n",
        "Oversampling (ex.: SMOTE) → gerar mais exemplos das classes minoritárias.\n",
        "\n",
        "Aceitar o desequilíbrio → se a performance nas classes minoritárias não for crítica."
      ],
      "metadata": {
        "id": "GV0wzcGdKUlY"
      }
    },
    {
      "cell_type": "markdown",
      "source": [
        "**Minha escolha:**\n",
        "\n",
        "Quero buscar um modelo mais robusto, vou usar class_weight='balanced' ao criar o ML."
      ],
      "metadata": {
        "id": "x8IaVqd0KlRq"
      }
    },
    {
      "cell_type": "markdown",
      "source": [
        "# Variáveis mais fortes:"
      ],
      "metadata": {
        "id": "6_TthbH9K3Hw"
      }
    },
    {
      "cell_type": "code",
      "source": [
        "# Calcular a matriz de correlação\n",
        "corr = df.corr()\n",
        "\n",
        "# Criar o heatmap com gradiente roxo → branco\n",
        "fig = px.imshow(corr,\n",
        "                text_auto=True,\n",
        "                aspect=\"auto\",\n",
        "                color_continuous_scale=['purple', 'white'],  # gradiente roxo para branco\n",
        "                title='Mapa de Correlação das Variáveis')\n",
        "fig.show()\n",
        "\n"
      ],
      "metadata": {
        "colab": {
          "base_uri": "https://localhost:8080/",
          "height": 542
        },
        "id": "3jDQN15AKLvJ",
        "outputId": "05c77be8-099a-42de-9752-07ebe38b5bc8"
      },
      "execution_count": null,
      "outputs": [
        {
          "output_type": "display_data",
          "data": {
            "text/html": [
              "<html>\n",
              "<head><meta charset=\"utf-8\" /></head>\n",
              "<body>\n",
              "    <div>            <script src=\"https://cdnjs.cloudflare.com/ajax/libs/mathjax/2.7.5/MathJax.js?config=TeX-AMS-MML_SVG\"></script><script type=\"text/javascript\">if (window.MathJax && window.MathJax.Hub && window.MathJax.Hub.Config) {window.MathJax.Hub.Config({SVG: {font: \"STIX-Web\"}});}</script>                <script type=\"text/javascript\">window.PlotlyConfig = {MathJaxConfig: 'local'};</script>\n",
              "        <script charset=\"utf-8\" src=\"https://cdn.plot.ly/plotly-2.35.2.min.js\"></script>                <div id=\"e977de20-aa3c-465e-9168-7ef9f00e48df\" class=\"plotly-graph-div\" style=\"height:525px; width:100%;\"></div>            <script type=\"text/javascript\">                                    window.PLOTLYENV=window.PLOTLYENV || {};                                    if (document.getElementById(\"e977de20-aa3c-465e-9168-7ef9f00e48df\")) {                    Plotly.newPlot(                        \"e977de20-aa3c-465e-9168-7ef9f00e48df\",                        [{\"coloraxis\":\"coloraxis\",\"name\":\"0\",\"texttemplate\":\"%{z}\",\"x\":[\"fixed acidity\",\"volatile acidity\",\"citric acid\",\"residual sugar\",\"chlorides\",\"free sulfur dioxide\",\"total sulfur dioxide\",\"density\",\"pH\",\"sulphates\",\"alcohol\",\"quality\"],\"y\":[\"fixed acidity\",\"volatile acidity\",\"citric acid\",\"residual sugar\",\"chlorides\",\"free sulfur dioxide\",\"total sulfur dioxide\",\"density\",\"pH\",\"sulphates\",\"alcohol\",\"quality\"],\"z\":[[1.0,-0.2561308947703812,0.6717034347641064,0.11477672449492153,0.09370518632130556,-0.15379419286482468,-0.11318144304548165,0.6680472921189573,-0.6829781945685302,0.18300566393215362,-0.061668270628151035,0.12405164911322257],[-0.2561308947703812,1.0,-0.5524956845595799,0.0019178819627909175,0.06129777247646159,-0.01050382700659221,0.07647000482092811,0.02202623219523293,0.23493729440739305,-0.26098668528328917,-0.20228802715325636,-0.390557780264006],[0.6717034347641064,-0.5524956845595799,1.0,0.14357716157031455,0.2038229138290422,-0.06097812919230487,0.03553302393116163,0.36494717521123443,-0.5419041447395107,0.3127700438544169,0.109903246641567,0.22637251431804045],[0.11477672449492153,0.0019178819627909175,0.14357716157031455,1.0,0.05560953520353229,0.18704899510428707,0.20302788169710137,0.35528337098334967,-0.08565242221887187,0.005527121339138446,0.04207543720973079,0.013731637340065779],[0.09370518632130556,0.06129777247646159,0.2038229138290422,0.05560953520353229,1.0,0.005562147004781144,0.04740046825907547,0.20063232664151961,-0.2650261311732267,0.37126048128542677,-0.22114054478828285,-0.12890655993005296],[-0.15379419286482468,-0.01050382700659221,-0.06097812919230487,0.18704899510428707,0.005562147004781144,1.0,0.667666450481023,-0.021945831163508164,0.0703774985049412,0.05165757184282859,-0.06940835356500007,-0.05065605724427594],[-0.11318144304548165,0.07647000482092811,0.03553302393116163,0.20302788169710137,0.04740046825907547,0.667666450481023,1.0,0.07126947620312808,-0.06649455901285463,0.04294683623953878,-0.20565394374367102,-0.1851002889265377],[0.6680472921189573,0.02202623219523293,0.36494717521123443,0.35528337098334967,0.20063232664151961,-0.021945831163508164,0.07126947620312808,1.0,-0.34169933478501163,0.1485064117207901,-0.4961797702417342,-0.17491922778336458],[-0.6829781945685302,0.23493729440739305,-0.5419041447395107,-0.08565242221887187,-0.2650261311732267,0.0703774985049412,-0.06649455901285463,-0.34169933478501163,1.0,-0.19664760230436984,0.2056325085054961,-0.05773139120538257],[0.18300566393215362,-0.26098668528328917,0.3127700438544169,0.005527121339138446,0.37126048128542677,0.05165757184282859,0.04294683623953878,0.1485064117207901,-0.19664760230436984,1.0,0.0935947504104671,0.25139707906925995],[-0.061668270628151035,-0.20228802715325636,0.109903246641567,0.04207543720973079,-0.22114054478828285,-0.06940835356500007,-0.20565394374367102,-0.4961797702417342,0.2056325085054961,0.0935947504104671,1.0,0.47616632400113656],[0.12405164911322257,-0.390557780264006,0.22637251431804045,0.013731637340065779,-0.12890655993005296,-0.05065605724427594,-0.1851002889265377,-0.17491922778336458,-0.05773139120538257,0.25139707906925995,0.47616632400113656,1.0]],\"type\":\"heatmap\",\"xaxis\":\"x\",\"yaxis\":\"y\",\"hovertemplate\":\"x: %{x}\\u003cbr\\u003ey: %{y}\\u003cbr\\u003ecolor: %{z}\\u003cextra\\u003e\\u003c\\u002fextra\\u003e\"}],                        {\"template\":{\"data\":{\"histogram2dcontour\":[{\"type\":\"histogram2dcontour\",\"colorbar\":{\"outlinewidth\":0,\"ticks\":\"\"},\"colorscale\":[[0.0,\"#0d0887\"],[0.1111111111111111,\"#46039f\"],[0.2222222222222222,\"#7201a8\"],[0.3333333333333333,\"#9c179e\"],[0.4444444444444444,\"#bd3786\"],[0.5555555555555556,\"#d8576b\"],[0.6666666666666666,\"#ed7953\"],[0.7777777777777778,\"#fb9f3a\"],[0.8888888888888888,\"#fdca26\"],[1.0,\"#f0f921\"]]}],\"choropleth\":[{\"type\":\"choropleth\",\"colorbar\":{\"outlinewidth\":0,\"ticks\":\"\"}}],\"histogram2d\":[{\"type\":\"histogram2d\",\"colorbar\":{\"outlinewidth\":0,\"ticks\":\"\"},\"colorscale\":[[0.0,\"#0d0887\"],[0.1111111111111111,\"#46039f\"],[0.2222222222222222,\"#7201a8\"],[0.3333333333333333,\"#9c179e\"],[0.4444444444444444,\"#bd3786\"],[0.5555555555555556,\"#d8576b\"],[0.6666666666666666,\"#ed7953\"],[0.7777777777777778,\"#fb9f3a\"],[0.8888888888888888,\"#fdca26\"],[1.0,\"#f0f921\"]]}],\"heatmap\":[{\"type\":\"heatmap\",\"colorbar\":{\"outlinewidth\":0,\"ticks\":\"\"},\"colorscale\":[[0.0,\"#0d0887\"],[0.1111111111111111,\"#46039f\"],[0.2222222222222222,\"#7201a8\"],[0.3333333333333333,\"#9c179e\"],[0.4444444444444444,\"#bd3786\"],[0.5555555555555556,\"#d8576b\"],[0.6666666666666666,\"#ed7953\"],[0.7777777777777778,\"#fb9f3a\"],[0.8888888888888888,\"#fdca26\"],[1.0,\"#f0f921\"]]}],\"heatmapgl\":[{\"type\":\"heatmapgl\",\"colorbar\":{\"outlinewidth\":0,\"ticks\":\"\"},\"colorscale\":[[0.0,\"#0d0887\"],[0.1111111111111111,\"#46039f\"],[0.2222222222222222,\"#7201a8\"],[0.3333333333333333,\"#9c179e\"],[0.4444444444444444,\"#bd3786\"],[0.5555555555555556,\"#d8576b\"],[0.6666666666666666,\"#ed7953\"],[0.7777777777777778,\"#fb9f3a\"],[0.8888888888888888,\"#fdca26\"],[1.0,\"#f0f921\"]]}],\"contourcarpet\":[{\"type\":\"contourcarpet\",\"colorbar\":{\"outlinewidth\":0,\"ticks\":\"\"}}],\"contour\":[{\"type\":\"contour\",\"colorbar\":{\"outlinewidth\":0,\"ticks\":\"\"},\"colorscale\":[[0.0,\"#0d0887\"],[0.1111111111111111,\"#46039f\"],[0.2222222222222222,\"#7201a8\"],[0.3333333333333333,\"#9c179e\"],[0.4444444444444444,\"#bd3786\"],[0.5555555555555556,\"#d8576b\"],[0.6666666666666666,\"#ed7953\"],[0.7777777777777778,\"#fb9f3a\"],[0.8888888888888888,\"#fdca26\"],[1.0,\"#f0f921\"]]}],\"surface\":[{\"type\":\"surface\",\"colorbar\":{\"outlinewidth\":0,\"ticks\":\"\"},\"colorscale\":[[0.0,\"#0d0887\"],[0.1111111111111111,\"#46039f\"],[0.2222222222222222,\"#7201a8\"],[0.3333333333333333,\"#9c179e\"],[0.4444444444444444,\"#bd3786\"],[0.5555555555555556,\"#d8576b\"],[0.6666666666666666,\"#ed7953\"],[0.7777777777777778,\"#fb9f3a\"],[0.8888888888888888,\"#fdca26\"],[1.0,\"#f0f921\"]]}],\"mesh3d\":[{\"type\":\"mesh3d\",\"colorbar\":{\"outlinewidth\":0,\"ticks\":\"\"}}],\"scatter\":[{\"fillpattern\":{\"fillmode\":\"overlay\",\"size\":10,\"solidity\":0.2},\"type\":\"scatter\"}],\"parcoords\":[{\"type\":\"parcoords\",\"line\":{\"colorbar\":{\"outlinewidth\":0,\"ticks\":\"\"}}}],\"scatterpolargl\":[{\"type\":\"scatterpolargl\",\"marker\":{\"colorbar\":{\"outlinewidth\":0,\"ticks\":\"\"}}}],\"bar\":[{\"error_x\":{\"color\":\"#2a3f5f\"},\"error_y\":{\"color\":\"#2a3f5f\"},\"marker\":{\"line\":{\"color\":\"#E5ECF6\",\"width\":0.5},\"pattern\":{\"fillmode\":\"overlay\",\"size\":10,\"solidity\":0.2}},\"type\":\"bar\"}],\"scattergeo\":[{\"type\":\"scattergeo\",\"marker\":{\"colorbar\":{\"outlinewidth\":0,\"ticks\":\"\"}}}],\"scatterpolar\":[{\"type\":\"scatterpolar\",\"marker\":{\"colorbar\":{\"outlinewidth\":0,\"ticks\":\"\"}}}],\"histogram\":[{\"marker\":{\"pattern\":{\"fillmode\":\"overlay\",\"size\":10,\"solidity\":0.2}},\"type\":\"histogram\"}],\"scattergl\":[{\"type\":\"scattergl\",\"marker\":{\"colorbar\":{\"outlinewidth\":0,\"ticks\":\"\"}}}],\"scatter3d\":[{\"type\":\"scatter3d\",\"line\":{\"colorbar\":{\"outlinewidth\":0,\"ticks\":\"\"}},\"marker\":{\"colorbar\":{\"outlinewidth\":0,\"ticks\":\"\"}}}],\"scattermapbox\":[{\"type\":\"scattermapbox\",\"marker\":{\"colorbar\":{\"outlinewidth\":0,\"ticks\":\"\"}}}],\"scatterternary\":[{\"type\":\"scatterternary\",\"marker\":{\"colorbar\":{\"outlinewidth\":0,\"ticks\":\"\"}}}],\"scattercarpet\":[{\"type\":\"scattercarpet\",\"marker\":{\"colorbar\":{\"outlinewidth\":0,\"ticks\":\"\"}}}],\"carpet\":[{\"aaxis\":{\"endlinecolor\":\"#2a3f5f\",\"gridcolor\":\"white\",\"linecolor\":\"white\",\"minorgridcolor\":\"white\",\"startlinecolor\":\"#2a3f5f\"},\"baxis\":{\"endlinecolor\":\"#2a3f5f\",\"gridcolor\":\"white\",\"linecolor\":\"white\",\"minorgridcolor\":\"white\",\"startlinecolor\":\"#2a3f5f\"},\"type\":\"carpet\"}],\"table\":[{\"cells\":{\"fill\":{\"color\":\"#EBF0F8\"},\"line\":{\"color\":\"white\"}},\"header\":{\"fill\":{\"color\":\"#C8D4E3\"},\"line\":{\"color\":\"white\"}},\"type\":\"table\"}],\"barpolar\":[{\"marker\":{\"line\":{\"color\":\"#E5ECF6\",\"width\":0.5},\"pattern\":{\"fillmode\":\"overlay\",\"size\":10,\"solidity\":0.2}},\"type\":\"barpolar\"}],\"pie\":[{\"automargin\":true,\"type\":\"pie\"}]},\"layout\":{\"autotypenumbers\":\"strict\",\"colorway\":[\"#636efa\",\"#EF553B\",\"#00cc96\",\"#ab63fa\",\"#FFA15A\",\"#19d3f3\",\"#FF6692\",\"#B6E880\",\"#FF97FF\",\"#FECB52\"],\"font\":{\"color\":\"#2a3f5f\"},\"hovermode\":\"closest\",\"hoverlabel\":{\"align\":\"left\"},\"paper_bgcolor\":\"white\",\"plot_bgcolor\":\"#E5ECF6\",\"polar\":{\"bgcolor\":\"#E5ECF6\",\"angularaxis\":{\"gridcolor\":\"white\",\"linecolor\":\"white\",\"ticks\":\"\"},\"radialaxis\":{\"gridcolor\":\"white\",\"linecolor\":\"white\",\"ticks\":\"\"}},\"ternary\":{\"bgcolor\":\"#E5ECF6\",\"aaxis\":{\"gridcolor\":\"white\",\"linecolor\":\"white\",\"ticks\":\"\"},\"baxis\":{\"gridcolor\":\"white\",\"linecolor\":\"white\",\"ticks\":\"\"},\"caxis\":{\"gridcolor\":\"white\",\"linecolor\":\"white\",\"ticks\":\"\"}},\"coloraxis\":{\"colorbar\":{\"outlinewidth\":0,\"ticks\":\"\"}},\"colorscale\":{\"sequential\":[[0.0,\"#0d0887\"],[0.1111111111111111,\"#46039f\"],[0.2222222222222222,\"#7201a8\"],[0.3333333333333333,\"#9c179e\"],[0.4444444444444444,\"#bd3786\"],[0.5555555555555556,\"#d8576b\"],[0.6666666666666666,\"#ed7953\"],[0.7777777777777778,\"#fb9f3a\"],[0.8888888888888888,\"#fdca26\"],[1.0,\"#f0f921\"]],\"sequentialminus\":[[0.0,\"#0d0887\"],[0.1111111111111111,\"#46039f\"],[0.2222222222222222,\"#7201a8\"],[0.3333333333333333,\"#9c179e\"],[0.4444444444444444,\"#bd3786\"],[0.5555555555555556,\"#d8576b\"],[0.6666666666666666,\"#ed7953\"],[0.7777777777777778,\"#fb9f3a\"],[0.8888888888888888,\"#fdca26\"],[1.0,\"#f0f921\"]],\"diverging\":[[0,\"#8e0152\"],[0.1,\"#c51b7d\"],[0.2,\"#de77ae\"],[0.3,\"#f1b6da\"],[0.4,\"#fde0ef\"],[0.5,\"#f7f7f7\"],[0.6,\"#e6f5d0\"],[0.7,\"#b8e186\"],[0.8,\"#7fbc41\"],[0.9,\"#4d9221\"],[1,\"#276419\"]]},\"xaxis\":{\"gridcolor\":\"white\",\"linecolor\":\"white\",\"ticks\":\"\",\"title\":{\"standoff\":15},\"zerolinecolor\":\"white\",\"automargin\":true,\"zerolinewidth\":2},\"yaxis\":{\"gridcolor\":\"white\",\"linecolor\":\"white\",\"ticks\":\"\",\"title\":{\"standoff\":15},\"zerolinecolor\":\"white\",\"automargin\":true,\"zerolinewidth\":2},\"scene\":{\"xaxis\":{\"backgroundcolor\":\"#E5ECF6\",\"gridcolor\":\"white\",\"linecolor\":\"white\",\"showbackground\":true,\"ticks\":\"\",\"zerolinecolor\":\"white\",\"gridwidth\":2},\"yaxis\":{\"backgroundcolor\":\"#E5ECF6\",\"gridcolor\":\"white\",\"linecolor\":\"white\",\"showbackground\":true,\"ticks\":\"\",\"zerolinecolor\":\"white\",\"gridwidth\":2},\"zaxis\":{\"backgroundcolor\":\"#E5ECF6\",\"gridcolor\":\"white\",\"linecolor\":\"white\",\"showbackground\":true,\"ticks\":\"\",\"zerolinecolor\":\"white\",\"gridwidth\":2}},\"shapedefaults\":{\"line\":{\"color\":\"#2a3f5f\"}},\"annotationdefaults\":{\"arrowcolor\":\"#2a3f5f\",\"arrowhead\":0,\"arrowwidth\":1},\"geo\":{\"bgcolor\":\"white\",\"landcolor\":\"#E5ECF6\",\"subunitcolor\":\"white\",\"showland\":true,\"showlakes\":true,\"lakecolor\":\"white\"},\"title\":{\"x\":0.05},\"mapbox\":{\"style\":\"light\"}}},\"xaxis\":{\"anchor\":\"y\",\"domain\":[0.0,1.0]},\"yaxis\":{\"anchor\":\"x\",\"domain\":[0.0,1.0],\"autorange\":\"reversed\"},\"coloraxis\":{\"colorscale\":[[0.0,\"purple\"],[1.0,\"white\"]]},\"title\":{\"text\":\"Mapa de Correlação das Variáveis\"}},                        {\"responsive\": true}                    ).then(function(){\n",
              "                            \n",
              "var gd = document.getElementById('e977de20-aa3c-465e-9168-7ef9f00e48df');\n",
              "var x = new MutationObserver(function (mutations, observer) {{\n",
              "        var display = window.getComputedStyle(gd).display;\n",
              "        if (!display || display === 'none') {{\n",
              "            console.log([gd, 'removed!']);\n",
              "            Plotly.purge(gd);\n",
              "            observer.disconnect();\n",
              "        }}\n",
              "}});\n",
              "\n",
              "// Listen for the removal of the full notebook cells\n",
              "var notebookContainer = gd.closest('#notebook-container');\n",
              "if (notebookContainer) {{\n",
              "    x.observe(notebookContainer, {childList: true});\n",
              "}}\n",
              "\n",
              "// Listen for the clearing of the current output cell\n",
              "var outputEl = gd.closest('.output');\n",
              "if (outputEl) {{\n",
              "    x.observe(outputEl, {childList: true});\n",
              "}}\n",
              "\n",
              "                        })                };                            </script>        </div>\n",
              "</body>\n",
              "</html>"
            ]
          },
          "metadata": {}
        }
      ]
    },
    {
      "cell_type": "markdown",
      "source": [
        "**Insigth:**\n",
        "As variáveis que se correlacionam bem com a target:\n",
        "0.47 - Alcool\n",
        "0.35 - Volatilidade de Acidez\n",
        "0.25 - Sulfato\n",
        "0.22 - Acido Citrico"
      ],
      "metadata": {
        "id": "U8zlm4q9LwAX"
      }
    },
    {
      "cell_type": "markdown",
      "source": [
        "# Novo DF com as variáveis mais importantes:"
      ],
      "metadata": {
        "id": "W_exvnwpMjHK"
      }
    },
    {
      "cell_type": "code",
      "source": [
        "import pandas as pd\n",
        "\n",
        "# Carregar os dados\n",
        "df = pd.read_csv(\"winequality-red.csv\", delimiter=',')\n",
        "\n",
        "# Selecionar apenas as colunas mais correlacionadas com a target\n",
        "cols_selecionadas = ['alcohol', 'volatile acidity', 'sulphates', 'citric acid', 'quality']\n",
        "\n",
        "# Criar um novo DataFrame\n",
        "df_top_corr = df[cols_selecionadas].copy()\n",
        "\n",
        "# Visualizar as primeiras linhas\n",
        "print(df_top_corr.head())\n",
        "\n",
        "# Salvar como CSV, se desejar\n",
        "df_top_corr.to_csv(\"wine_top_corr.csv\", index=False)\n"
      ],
      "metadata": {
        "colab": {
          "base_uri": "https://localhost:8080/"
        },
        "id": "IoU8DPM5MoQk",
        "outputId": "94102c31-b03d-4289-b351-56929e800294"
      },
      "execution_count": null,
      "outputs": [
        {
          "output_type": "stream",
          "name": "stdout",
          "text": [
            "   alcohol  volatile acidity  sulphates  citric acid  quality\n",
            "0      9.4              0.70       0.56         0.00        5\n",
            "1      9.8              0.88       0.68         0.00        5\n",
            "2      9.8              0.76       0.65         0.04        5\n",
            "3      9.8              0.28       0.58         0.56        6\n",
            "4      9.4              0.70       0.56         0.00        5\n"
          ]
        }
      ]
    },
    {
      "cell_type": "markdown",
      "metadata": {
        "id": "OvWGN-fpIYYo"
      },
      "source": [
        "# 3 - Preparação Final dos Dados\n",
        "\n",
        "A) X(Features) e Y(Target)\n",
        "\n",
        "B) Base em treino e teste.\n"
      ]
    },
    {
      "cell_type": "markdown",
      "source": [
        "# Separação em X e Y."
      ],
      "metadata": {
        "id": "brHF6H4NNF2v"
      }
    },
    {
      "cell_type": "code",
      "source": [
        "\n",
        "# Carregar o DataFrame salvo\n",
        "df = pd.read_csv(\"wine_top_corr.csv\")\n",
        "\n",
        "# Separar as features (X) e a target (y)\n",
        "X = df.drop('quality', axis=1)  # todas as colunas menos a target\n",
        "y = df['quality']               # apenas a target\n",
        "\n",
        "# Verificar as dimensões\n",
        "print(\"Dimensões de X:\", X.shape)\n",
        "print(\"Dimensões de y:\", y.shape)\n",
        "\n",
        "# Visualizar as primeiras linhas de X e y\n",
        "print(X.head())\n",
        "print(y.head())\n"
      ],
      "metadata": {
        "colab": {
          "base_uri": "https://localhost:8080/"
        },
        "id": "Ke6dvNm9NKtZ",
        "outputId": "d33f6210-2de4-45fc-f290-bb438c5599a8"
      },
      "execution_count": null,
      "outputs": [
        {
          "output_type": "stream",
          "name": "stdout",
          "text": [
            "Dimensões de X: (1599, 4)\n",
            "Dimensões de y: (1599,)\n",
            "   alcohol  volatile acidity  sulphates  citric acid\n",
            "0      9.4              0.70       0.56         0.00\n",
            "1      9.8              0.88       0.68         0.00\n",
            "2      9.8              0.76       0.65         0.04\n",
            "3      9.8              0.28       0.58         0.56\n",
            "4      9.4              0.70       0.56         0.00\n",
            "0    5\n",
            "1    5\n",
            "2    5\n",
            "3    6\n",
            "4    5\n",
            "Name: quality, dtype: int64\n"
          ]
        }
      ]
    },
    {
      "cell_type": "markdown",
      "source": [
        "# B)Separação em Base e Treino."
      ],
      "metadata": {
        "id": "xA3BcVp1Ndrc"
      }
    },
    {
      "cell_type": "markdown",
      "source": [
        "Random Forest não exige normalização, então a divisão padrão funciona bem: 70% treino / 30% teste."
      ],
      "metadata": {
        "id": "kb02UGYqNtUd"
      }
    },
    {
      "cell_type": "code",
      "execution_count": null,
      "metadata": {
        "id": "Z5P9UknCOCzW",
        "colab": {
          "base_uri": "https://localhost:8080/"
        },
        "outputId": "3702c756-2829-4f62-dbf6-10d1106365fc"
      },
      "outputs": [
        {
          "output_type": "stream",
          "name": "stdout",
          "text": [
            "Tamanho X_train: (1119, 4)\n",
            "Tamanho X_test: (480, 4)\n",
            "Tamanho y_train: (1119,)\n",
            "Tamanho y_test: (480,)\n"
          ]
        }
      ],
      "source": [
        "from sklearn.model_selection import train_test_split\n",
        "\n",
        "# Divisão em treino (70%) e teste (30%)\n",
        "X_train, X_test, y_train, y_test = train_test_split(\n",
        "    X, y, test_size=0.3, random_state=42, stratify=y\n",
        ")\n",
        "\n",
        "# Verificar o tamanho dos conjuntos\n",
        "print(\"Tamanho X_train:\", X_train.shape)\n",
        "print(\"Tamanho X_test:\", X_test.shape)\n",
        "print(\"Tamanho y_train:\", y_train.shape)\n",
        "print(\"Tamanho y_test:\", y_test.shape)\n",
        "#seu código aqui"
      ]
    },
    {
      "cell_type": "markdown",
      "metadata": {
        "id": "gkOExNHjIyhF"
      },
      "source": [
        "# 4 - Modelagem\n",
        "\n",
        "A) Inicie e treine o modelo de Random Forest\n",
        "\n",
        "B) Aplique a base de teste o modelo.\n"
      ]
    },
    {
      "cell_type": "markdown",
      "source": [
        "# A) Treino Random Forest."
      ],
      "metadata": {
        "id": "knPZXMWON_hK"
      }
    },
    {
      "cell_type": "code",
      "source": [
        "from sklearn.ensemble import RandomForestClassifier\n",
        "from sklearn.metrics import classification_report, confusion_matrix, accuracy_score\n",
        "from sklearn.model_selection import train_test_split\n",
        "import pandas as pd\n",
        "\n",
        "# Carregar o DataFrame\n",
        "df = pd.read_csv(\"wine_top_corr.csv\")\n",
        "\n",
        "# Separar features e target\n",
        "X = df.drop('quality', axis=1)\n",
        "y = df['quality']\n",
        "\n",
        "# Dividir em treino e teste (70% treino / 30% teste)\n",
        "X_train, X_test, y_train, y_test = train_test_split(\n",
        "    X, y, test_size=0.3, random_state=42, stratify=y\n",
        ")\n",
        "\n",
        "# Criar o modelo Random Forest com class_weight='balanced'\n",
        "rf = RandomForestClassifier(n_estimators=100, random_state=42, class_weight='balanced')\n",
        "\n",
        "# Treinar o modelo\n",
        "rf.fit(X_train, y_train)\n",
        "\n",
        "# Fazer previsões no conjunto de teste\n",
        "y_pred = rf.predict(X_test)\n",
        "\n",
        "# Avaliar o modelo\n",
        "print(\"Acurácia:\", accuracy_score(y_test, y_pred))\n",
        "print(\"\\nMatriz de Confusão:\\n\", confusion_matrix(y_test, y_pred))\n",
        "print(\"\\nRelatório de Classificação:\\n\", classification_report(y_test, y_pred))\n"
      ],
      "metadata": {
        "colab": {
          "base_uri": "https://localhost:8080/"
        },
        "id": "VQ4QmKYsOFcu",
        "outputId": "c34c4a1e-1813-41d9-e70b-eb8e0db9270c"
      },
      "execution_count": null,
      "outputs": [
        {
          "output_type": "stream",
          "name": "stdout",
          "text": [
            "Acurácia: 0.6291666666666667\n",
            "\n",
            "Matriz de Confusão:\n",
            " [[  0   0   2   1   0   0]\n",
            " [  0   1  10   5   0   0]\n",
            " [  0   0 155  45   4   0]\n",
            " [  0   0  54 125  13   0]\n",
            " [  0   0   1  38  20   1]\n",
            " [  0   0   0   3   1   1]]\n",
            "\n",
            "Relatório de Classificação:\n",
            "               precision    recall  f1-score   support\n",
            "\n",
            "           3       0.00      0.00      0.00         3\n",
            "           4       1.00      0.06      0.12        16\n",
            "           5       0.70      0.76      0.73       204\n",
            "           6       0.58      0.65      0.61       192\n",
            "           7       0.53      0.33      0.41        60\n",
            "           8       0.50      0.20      0.29         5\n",
            "\n",
            "    accuracy                           0.63       480\n",
            "   macro avg       0.55      0.33      0.36       480\n",
            "weighted avg       0.63      0.63      0.61       480\n",
            "\n"
          ]
        },
        {
          "output_type": "stream",
          "name": "stderr",
          "text": [
            "/usr/local/lib/python3.12/dist-packages/sklearn/metrics/_classification.py:1565: UndefinedMetricWarning:\n",
            "\n",
            "Precision is ill-defined and being set to 0.0 in labels with no predicted samples. Use `zero_division` parameter to control this behavior.\n",
            "\n",
            "/usr/local/lib/python3.12/dist-packages/sklearn/metrics/_classification.py:1565: UndefinedMetricWarning:\n",
            "\n",
            "Precision is ill-defined and being set to 0.0 in labels with no predicted samples. Use `zero_division` parameter to control this behavior.\n",
            "\n",
            "/usr/local/lib/python3.12/dist-packages/sklearn/metrics/_classification.py:1565: UndefinedMetricWarning:\n",
            "\n",
            "Precision is ill-defined and being set to 0.0 in labels with no predicted samples. Use `zero_division` parameter to control this behavior.\n",
            "\n"
          ]
        }
      ]
    },
    {
      "cell_type": "markdown",
      "source": [
        "**Alguns Insigths sobre o treinamento:**\n",
        "n_estimators=100 → 100 árvores na floresta (pode aumentar para melhorar a performance)\n",
        "\n",
        "class_weight='balanced' → dá mais peso às classes minoritárias\n",
        "\n",
        "stratify=y na divisão garante que o desbalanceamento original seja mantido em treino e teste\n",
        "\n",
        "classification_report mostra precisão, recall e F1-score por classe"
      ],
      "metadata": {
        "id": "grAB_h8zOgz_"
      }
    },
    {
      "cell_type": "markdown",
      "source": [
        "**RELATÓRIO:**\n",
        "\n",
        "- Acurácia: 0.63 → significa que o modelo acertou ~63% das previsões.\n",
        "\n",
        "- Matriz de Confusão:\n",
        "\n",
        "Classes 3 e 4: praticamente não foram previstas corretamente → efeito do desbalanceamento extremo.\n",
        "\n",
        "Classes 5 e 6: boa taxa de acerto → são as classes majoritárias.\n",
        "\n",
        "Classes 7 e 8: desempenho médio/baixo → poucas amostras.\n",
        "\n",
        "\n",
        "\n",
        "**Conclusão:** Random Forest está acertando bem nas classes centrais, mas tem dificuldade com classes minoritárias.\n",
        "\n"
      ],
      "metadata": {
        "id": "-xS9HaCCPNBi"
      }
    },
    {
      "cell_type": "markdown",
      "source": [
        "# B) Teste Random Forest."
      ],
      "metadata": {
        "id": "kAX4rR5OP6Z_"
      }
    },
    {
      "cell_type": "code",
      "source": [
        "from sklearn.metrics import classification_report, confusion_matrix, accuracy_score\n",
        "\n",
        "# Fazer previsões no conjunto de teste\n",
        "y_pred_test = rf.predict(X_test)\n",
        "\n",
        "# Avaliar o modelo\n",
        "print(\"Acurácia no Teste:\", accuracy_score(y_test, y_pred_test))\n",
        "print(\"\\nMatriz de Confusão:\\n\", confusion_matrix(y_test, y_pred_test))\n",
        "print(\"\\nRelatório de Classificação:\\n\", classification_report(y_test, y_pred_test))\n"
      ],
      "metadata": {
        "colab": {
          "base_uri": "https://localhost:8080/"
        },
        "id": "9WC3Hu2AOf8T",
        "outputId": "f4faa6fb-7cbd-4e79-b652-2bf1e596e511"
      },
      "execution_count": null,
      "outputs": [
        {
          "output_type": "stream",
          "name": "stdout",
          "text": [
            "Acurácia no Teste: 0.6291666666666667\n",
            "\n",
            "Matriz de Confusão:\n",
            " [[  0   0   2   1   0   0]\n",
            " [  0   1  10   5   0   0]\n",
            " [  0   0 155  45   4   0]\n",
            " [  0   0  54 125  13   0]\n",
            " [  0   0   1  38  20   1]\n",
            " [  0   0   0   3   1   1]]\n",
            "\n",
            "Relatório de Classificação:\n",
            "               precision    recall  f1-score   support\n",
            "\n",
            "           3       0.00      0.00      0.00         3\n",
            "           4       1.00      0.06      0.12        16\n",
            "           5       0.70      0.76      0.73       204\n",
            "           6       0.58      0.65      0.61       192\n",
            "           7       0.53      0.33      0.41        60\n",
            "           8       0.50      0.20      0.29         5\n",
            "\n",
            "    accuracy                           0.63       480\n",
            "   macro avg       0.55      0.33      0.36       480\n",
            "weighted avg       0.63      0.63      0.61       480\n",
            "\n"
          ]
        },
        {
          "output_type": "stream",
          "name": "stderr",
          "text": [
            "/usr/local/lib/python3.12/dist-packages/sklearn/metrics/_classification.py:1565: UndefinedMetricWarning:\n",
            "\n",
            "Precision is ill-defined and being set to 0.0 in labels with no predicted samples. Use `zero_division` parameter to control this behavior.\n",
            "\n",
            "/usr/local/lib/python3.12/dist-packages/sklearn/metrics/_classification.py:1565: UndefinedMetricWarning:\n",
            "\n",
            "Precision is ill-defined and being set to 0.0 in labels with no predicted samples. Use `zero_division` parameter to control this behavior.\n",
            "\n",
            "/usr/local/lib/python3.12/dist-packages/sklearn/metrics/_classification.py:1565: UndefinedMetricWarning:\n",
            "\n",
            "Precision is ill-defined and being set to 0.0 in labels with no predicted samples. Use `zero_division` parameter to control this behavior.\n",
            "\n"
          ]
        }
      ]
    },
    {
      "cell_type": "markdown",
      "source": [
        "**RELATÓRIO DE TESTE:**\n",
        "\n",
        "- Acurácia no Teste: 0.63 → significa que o modelo acertou ~63% das previsões.\n",
        "\n",
        "- Matriz de Confusão:\n",
        "\n",
        "Classes 3 e 4: praticamente não foram previstas corretamente → efeito do desbalanceamento extremo.\n",
        "\n",
        "Classes 5 e 6: boa taxa de acerto → são as classes majoritárias.\n",
        "\n",
        "Classes 7 e 8: desempenho médio/baixo → poucas amostras."
      ],
      "metadata": {
        "id": "fcc0jkFXQfZB"
      }
    },
    {
      "cell_type": "markdown",
      "metadata": {
        "id": "Psdxp9_WJLqQ"
      },
      "source": [
        "# 5 - Avaliação\n",
        "\n"
      ]
    },
    {
      "cell_type": "markdown",
      "source": [
        "A)\n",
        "\n",
        "- Acurácia: 0.63\n",
        "\n",
        "O modelo acertou aproximadamente 63% das previsões.\n",
        "\n",
        "Para um problema multiclasse desbalanceado, a acurácia não conta toda a história, porque as classes majoritárias (5 e 6) dominam os acertos.\n",
        "\n",
        "- Precision (Precisão):\n",
        "\n",
        "Mede a qualidade das previsões de cada classe.\n",
        "\n",
        "Classes 5 e 6 tiveram precisões razoáveis (0.70 e 0.58), indicando que quando o modelo prediz essas classes, ele acerta mais da metade das vezes.\n",
        "\n",
        "Classes minoritárias (3, 4, 8) tiveram precision baixa ou muito instável, mostrando previsões pouco confiáveis para essas classes.\n",
        "\n",
        "- Recall (Revocação):\n",
        "\n",
        "Mede a capacidade do modelo de identificar corretamente todos os exemplos de uma classe.\n",
        "\n",
        "Classes centrais (5 e 6) apresentam recall relativamente alto (0.76 e 0.65).\n",
        "\n",
        "Classes extremas (3, 4, 8) têm recall muito baixo (0 a 0.20), ou seja, o modelo quase não consegue identificar os poucos exemplos dessas classes.\n",
        "\n",
        "- F1-score:\n",
        "\n",
        "Combina precision e recall.\n",
        "\n",
        "Classes 5 e 6 possuem F1 razoável (0.73 e 0.61), enquanto as minoritárias têm F1 muito baixo (0.00 a 0.29).\n",
        "\n",
        "Isso reforça que o modelo performou bem nas classes majoritárias e mal nas minoritárias.\n",
        "\n",
        "**Insight geral:**\n",
        "\n",
        "O modelo está aprendendo melhor onde há mais exemplos (classes centrais) e não consegue generalizar para as classes com poucas amostras.\n",
        "\n",
        "Isso é típico em problemas multiclasse desbalanceados, mesmo usando class_weight='balanced'.\n"
      ],
      "metadata": {
        "id": "eyQY5aA4Q0hI"
      }
    },
    {
      "cell_type": "markdown",
      "source": [
        "\n",
        "Não esquecer que: Para prever qualidade do vinho, em um dataset desbalanceado:\n",
        "\n",
        "F1-score (macro ou weighted) é a métrica mais importante.\n",
        "\n",
        "macro avg → média não ponderada, trata todas as classes igualmente, destaca performance ruim em classes minoritárias.\n",
        "\n",
        "weighted avg → média ponderada pelo suporte, mostra performance geral considerando que algumas classes são maiores.\n",
        "\n",
        "Recall também é crítico para classes extremas (3 e 8), caso seja importante não perder vinhos de qualidade muito baixa ou muito alta."
      ],
      "metadata": {
        "id": "mIq259ajRrcX"
      }
    },
    {
      "cell_type": "markdown",
      "source": [
        "B)\n",
        "\n",
        "Sim, o modelo teve dificuldade para prever as classes 3, 4, 7 e 8.\n",
        "\n",
        "A matriz de confusão mostra que essas classes foram quase sempre classificadas como 5 ou 6, que são as majoritárias.\n",
        "\n",
        "Relação com o balanceamento:\n",
        "\n",
        "O problema está diretamente ligado ao desbalanceamento dos dados:\n",
        "\n",
        "Classes 3, 4 e 8 têm menos de 20 exemplos cada, enquanto 5 e 6 somam mais de 80% do dataset.\n",
        "\n",
        "Mesmo usando class_weight='balanced', o modelo não consegue criar splits eficazes para classes com tão poucos exemplos.\n",
        "\n",
        "Estratégias como oversampling (SMOTE) ou coleta de mais dados das classes minoritárias ajudariam a melhorar a performance."
      ],
      "metadata": {
        "id": "JkEuS-F_RPnf"
      }
    },
    {
      "cell_type": "markdown",
      "source": [
        "**SOLUÇÃO:**\n",
        "\n",
        "Aumentar o número de árvores (n_estimators=200~500)\n",
        "\n",
        "Tentar oversampling das classes minoritárias (SMOTE, ADASYN)\n",
        "\n",
        "Ajustar max_depth, min_samples_leaf para melhorar generalização"
      ],
      "metadata": {
        "id": "vA5CABuaO7gL"
      }
    },
    {
      "cell_type": "markdown",
      "metadata": {
        "id": "tXgnwn5nJlwl"
      },
      "source": [
        "# 5 - Melhorando os Hyperparametros"
      ]
    },
    {
      "cell_type": "markdown",
      "source": [
        "A) n_estimators\t[200, 300]\n",
        "max_depth\t[10, 20, None]\n",
        "min_samples_split\t[2, 5]\n",
        "min_samples_leaf\t[1, 2]\n",
        "max_features\t['sqrt', 'log2']"
      ],
      "metadata": {
        "id": "tavYJbMyU2ec"
      }
    },
    {
      "cell_type": "markdown",
      "source": [
        "B) Novo treinamento:"
      ],
      "metadata": {
        "id": "Mt-5jD5EV_2H"
      }
    },
    {
      "cell_type": "code",
      "source": [
        "# Carregar os dados\n",
        "df = pd.read_csv(\"wine_top_corr.csv\")\n",
        "X = df.drop('quality', axis=1)\n",
        "y = df['quality']\n",
        "\n",
        "# Dividir em treino e teste\n",
        "from sklearn.model_selection import train_test_split\n",
        "X_train, X_test, y_train, y_test = train_test_split(\n",
        "    X, y, test_size=0.3, random_state=42, stratify=y\n",
        ")\n",
        "\n",
        "# Modelo base\n",
        "rf = RandomForestClassifier(random_state=42, class_weight='balanced')\n",
        "\n",
        "# Grid de hiperparâmetros (reduzido)\n",
        "param_grid = {\n",
        "    'n_estimators': [200, 300],\n",
        "    'max_depth': [10, 20, None],\n",
        "    'min_samples_split': [2, 5],\n",
        "    'min_samples_leaf': [1, 2],\n",
        "    'max_features': ['sqrt', 'log2']\n",
        "}\n",
        "\n",
        "# Random Search\n",
        "random_search = RandomizedSearchCV(\n",
        "    estimator=rf,\n",
        "    param_distributions=param_grid,\n",
        "    n_iter=10,          # número de combinações aleatórias a testar\n",
        "    cv=3,               # validação cruzada 3-fold\n",
        "    n_jobs=-1,          # usa todos os núcleos da CPU\n",
        "    scoring='f1_macro', # f1_macro para balancear classes\n",
        "    random_state=42,\n",
        "    verbose=2\n",
        ")\n",
        "\n",
        "# Treinar\n",
        "random_search.fit(X_train, y_train)\n",
        "\n",
        "# Melhor modelo\n",
        "best_rf = random_search.best_estimator_\n",
        "print(\"Melhores hiperparâmetros encontrados:\", random_search.best_params_)\n",
        "\n",
        "# Avaliar no teste\n",
        "from sklearn.metrics import classification_report, confusion_matrix, accuracy_score\n",
        "\n",
        "y_pred = best_rf.predict(X_test)\n",
        "print(\"Acurácia no Teste:\", accuracy_score(y_test, y_pred))\n",
        "print(\"Matriz de Confusão:\\n\", confusion_matrix(y_test, y_pred))\n",
        "print(\"Relatório de Classificação:\\n\", classification_report(y_test, y_pred))\n"
      ],
      "metadata": {
        "colab": {
          "base_uri": "https://localhost:8080/"
        },
        "id": "j6bk_O4kWCCS",
        "outputId": "87879a46-a2e0-40e6-ba9e-15b860d99a2d"
      },
      "execution_count": null,
      "outputs": [
        {
          "output_type": "stream",
          "name": "stdout",
          "text": [
            "Fitting 3 folds for each of 10 candidates, totalling 30 fits\n",
            "Melhores hiperparâmetros encontrados: {'n_estimators': 300, 'min_samples_split': 2, 'min_samples_leaf': 2, 'max_features': 'sqrt', 'max_depth': None}\n",
            "Acurácia no Teste: 0.6416666666666667\n",
            "Matriz de Confusão:\n",
            " [[  0   1   1   1   0   0]\n",
            " [  0   3   9   4   0   0]\n",
            " [  0   3 151  46   4   0]\n",
            " [  0   1  49 127  15   0]\n",
            " [  0   0   1  31  26   2]\n",
            " [  0   0   0   2   2   1]]\n",
            "Relatório de Classificação:\n",
            "               precision    recall  f1-score   support\n",
            "\n",
            "           3       0.00      0.00      0.00         3\n",
            "           4       0.38      0.19      0.25        16\n",
            "           5       0.72      0.74      0.73       204\n",
            "           6       0.60      0.66      0.63       192\n",
            "           7       0.55      0.43      0.49        60\n",
            "           8       0.33      0.20      0.25         5\n",
            "\n",
            "    accuracy                           0.64       480\n",
            "   macro avg       0.43      0.37      0.39       480\n",
            "weighted avg       0.63      0.64      0.63       480\n",
            "\n"
          ]
        },
        {
          "output_type": "stream",
          "name": "stderr",
          "text": [
            "/usr/local/lib/python3.12/dist-packages/sklearn/metrics/_classification.py:1565: UndefinedMetricWarning:\n",
            "\n",
            "Precision is ill-defined and being set to 0.0 in labels with no predicted samples. Use `zero_division` parameter to control this behavior.\n",
            "\n",
            "/usr/local/lib/python3.12/dist-packages/sklearn/metrics/_classification.py:1565: UndefinedMetricWarning:\n",
            "\n",
            "Precision is ill-defined and being set to 0.0 in labels with no predicted samples. Use `zero_division` parameter to control this behavior.\n",
            "\n",
            "/usr/local/lib/python3.12/dist-packages/sklearn/metrics/_classification.py:1565: UndefinedMetricWarning:\n",
            "\n",
            "Precision is ill-defined and being set to 0.0 in labels with no predicted samples. Use `zero_division` parameter to control this behavior.\n",
            "\n"
          ]
        }
      ]
    },
    {
      "cell_type": "markdown",
      "source": [
        "Melhores Hiperparametros: {'n_estimators': 300, 'min_samples_split': 2, 'min_samples_leaf': 2, 'max_features': 'sqrt', 'max_depth': None}"
      ],
      "metadata": {
        "id": "Dx8bZUKjWRXs"
      }
    },
    {
      "cell_type": "markdown",
      "source": [
        "**Insigths:**\n",
        "\n",
        "O quê melhorou:\n",
        "\n",
        "- Acurácia e F1 das classes centrais (5 e 6) melhoraram.\n",
        "\n",
        "- Classes minoritárias médias (7) tiveram aumento de F1 (0.41 → 0.49).\n",
        "\n",
        "Pontos fracos:\n",
        "\n",
        "- Classes extremas (3, 4, 8) continuam com F1 muito baixo.\n",
        "\n",
        "- O desbalanceamento ainda limita a capacidade do modelo de aprender essas classes.\n"
      ],
      "metadata": {
        "id": "bgb0pxJIW6yh"
      }
    },
    {
      "cell_type": "markdown",
      "source": [
        "**Solução para otimizar:**\n",
        "\n",
        "O Random Search ajustou hiperparâmetros que ajudaram a melhorar um pouco a generalização.\n",
        "\n",
        "Para melhorar o desempenho em classes minoritárias extremas, ainda seria interessante aplicar oversampling (SMOTE/ADASYN) ou coletar mais dados."
      ],
      "metadata": {
        "id": "sh_K1ImUXF0u"
      }
    },
    {
      "cell_type": "markdown",
      "source": [
        "Para melhorar as previsões, acho que poderia ser feito:\n",
        "\n",
        "- Balanceamento com SMOTE\n",
        "\n",
        "- Ajuste fino de hiperparâmetros com foco nas métricas F1-score macro e recall para classes minoritárias (São nossas metricas de maior interesse).\n",
        "\n",
        "- Usar RandomizedSearchCV primeiro, depois Grid Search ao redor dos melhores valores.\n",
        "\n",
        "- Criar ou Buscar novas variáveis, variáveis de maior qualidade para o nosso modelo, de forma a reduzir ruídos indesejaveis.\n",
        "\n"
      ],
      "metadata": {
        "id": "FaSjoyvOXfQD"
      }
    }
  ],
  "metadata": {
    "colab": {
      "provenance": []
    },
    "kernelspec": {
      "display_name": "Python 3 (ipykernel)",
      "language": "python",
      "name": "python3"
    },
    "language_info": {
      "codemirror_mode": {
        "name": "ipython",
        "version": 3
      },
      "file_extension": ".py",
      "mimetype": "text/x-python",
      "name": "python",
      "nbconvert_exporter": "python",
      "pygments_lexer": "ipython3",
      "version": "3.11.7"
    }
  },
  "nbformat": 4,
  "nbformat_minor": 0
}